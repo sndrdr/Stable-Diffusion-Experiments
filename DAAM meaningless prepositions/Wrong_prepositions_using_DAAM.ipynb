{
  "cells": [
    {
      "cell_type": "markdown",
      "metadata": {
        "id": "gpanTw_n_y1m"
      },
      "source": [
        "Based on the code from the original paper on DAAM (Tang et al., 2022).\n",
        "\n",
        "[Github repository](https://github.com/castorini/daam/tree/main?tab=readme-ov-file)"
      ]
    },
    {
      "cell_type": "markdown",
      "metadata": {
        "id": "zv8OgMBt7yq4"
      },
      "source": [
        "#Setup"
      ]
    },
    {
      "cell_type": "code",
      "source": [
        "from google.colab import drive\n",
        "drive.mount('/content/drive')"
      ],
      "metadata": {
        "colab": {
          "base_uri": "https://localhost:8080/"
        },
        "id": "SYS5uxdROIZV",
        "outputId": "4eea2232-84d0-4ed4-91e4-21e46c04c18c"
      },
      "execution_count": 1,
      "outputs": [
        {
          "output_type": "stream",
          "name": "stdout",
          "text": [
            "Mounted at /content/drive\n"
          ]
        }
      ]
    },
    {
      "cell_type": "code",
      "source": [
        "import os\n",
        "\n",
        "# Go to the DAAM folder in Google Drive\n",
        "folder_path = '/content/drive/My Drive/Colab Notebooks/Stable diffusion/DAAM Wrong'\n",
        "os.chdir(folder_path)\n",
        "print(\"Current working directory: \", os.getcwd())"
      ],
      "metadata": {
        "colab": {
          "base_uri": "https://localhost:8080/"
        },
        "id": "boMP-pOdViUB",
        "outputId": "e9b8c308-281e-45d8-8a18-6bae0cf61928"
      },
      "execution_count": 2,
      "outputs": [
        {
          "output_type": "stream",
          "name": "stdout",
          "text": [
            "Current working directory:  /content/drive/My Drive/Colab Notebooks/Stable diffusion/DAAM Wrong\n"
          ]
        }
      ]
    },
    {
      "cell_type": "code",
      "source": [
        "!pip install -r requirements.txt"
      ],
      "metadata": {
        "id": "3UO5P0b_WCWP",
        "collapsed": true
      },
      "execution_count": null,
      "outputs": []
    },
    {
      "cell_type": "code",
      "source": [
        "import torch\n",
        "\n",
        "torch.cuda.amp.autocast().__enter__()\n",
        "torch.set_grad_enabled(False);"
      ],
      "metadata": {
        "id": "rtSmmG-HXQD-"
      },
      "execution_count": null,
      "outputs": []
    },
    {
      "cell_type": "code",
      "execution_count": null,
      "metadata": {
        "id": "mxuCNoFZ5EWr"
      },
      "outputs": [],
      "source": [
        "import daam"
      ]
    },
    {
      "cell_type": "code",
      "execution_count": null,
      "metadata": {
        "id": "pHoHbZWe76EE"
      },
      "outputs": [],
      "source": [
        "from diffusers import StableDiffusionPipeline"
      ]
    },
    {
      "cell_type": "code",
      "source": [
        "from daam import set_seed, trace\n",
        "pipe = StableDiffusionPipeline.from_pretrained('stabilityai/stable-diffusion-2-1-base')\n",
        "pipe.to('cuda:0');"
      ],
      "metadata": {
        "id": "oyU_NeS7XhSB",
        "collapsed": true
      },
      "execution_count": null,
      "outputs": []
    },
    {
      "cell_type": "code",
      "source": [
        "import pandas as pd\n",
        "df = pd.read_csv('final_coco_dataframe.csv')"
      ],
      "metadata": {
        "id": "ti0y41kHWW5F"
      },
      "execution_count": 5,
      "outputs": []
    },
    {
      "cell_type": "code",
      "source": [
        "# Drop the columns \"preposition\" and \"caption\"\n",
        "df = df.drop(columns=['preposition', 'caption'])\n",
        "\n",
        "# Rename the columns \"wrong_preposition\" to \"preposition\" and \"wrong_caption\" to \"caption\"\n",
        "df = df.rename(columns={'wrong_preposition': 'preposition', 'wrong_caption': 'caption'})\n",
        "\n",
        "# Take only the first 450 rows of the DataFrame\n",
        "df = df.head(450)\n",
        "\n",
        "print(df.head())"
      ],
      "metadata": {
        "colab": {
          "base_uri": "https://localhost:8080/"
        },
        "id": "9-5iR_e5E9-y",
        "outputId": "055ac9fb-2f13-4285-ded8-0a64b466ec44"
      },
      "execution_count": 6,
      "outputs": [
        {
          "output_type": "stream",
          "name": "stdout",
          "text": [
            "   image_id      id       subject          object     verb preposition  \\\n",
            "0    321333  770625     A picture  two young kids   posing       above   \n",
            "1    366611  765550           dog     soccer ball   laying      out of   \n",
            "2    490171  370135  a surf board       the water   riding      within   \n",
            "3    491757  694991         A cat       blue eyes  sitting     outside   \n",
            "4    247806  768641       A clock    a bell tower      NaN     towards   \n",
            "\n",
            "                                             caption  \n",
            "0  A picture above two young kids posing or a pic...  \n",
            "1      a dog laying out of a soccer ball on a field.  \n",
            "2  A man and a dog riding a surf board within the...  \n",
            "3     A cat outside blue eyes sitting on a pink bed.  \n",
            "4     A clock towards a bell tower of an old church.  \n"
          ]
        }
      ]
    },
    {
      "cell_type": "markdown",
      "source": [
        "#Generate DAAM Maps"
      ],
      "metadata": {
        "id": "UXjc2wjAXxxn"
      }
    },
    {
      "cell_type": "code",
      "source": [
        "torch.cuda.empty_cache()"
      ],
      "metadata": {
        "id": "9_gcoqOQHSbm"
      },
      "execution_count": null,
      "outputs": []
    },
    {
      "cell_type": "code",
      "source": [
        "import torch\n",
        "from tqdm import tqdm\n",
        "from pathlib import Path\n",
        "\n",
        "def generate_images(df, start_idx=0, batch_size=2):\n",
        "    total_batches = (len(df) - start_idx) // batch_size + ((len(df) - start_idx) % batch_size > 0)\n",
        "    output_folder = Path('experiments')\n",
        "    output_folder.mkdir(exist_ok=True)\n",
        "\n",
        "    for batch_num in range(total_batches):\n",
        "        start = start_idx + batch_num * batch_size\n",
        "        end = min(start + batch_size, len(df))\n",
        "        batch_df = df.iloc[start:end]\n",
        "\n",
        "        for _, row in tqdm(batch_df.iterrows(), total=len(batch_df), desc=f'Batch {batch_num+1}/{total_batches}'):\n",
        "            id, caption = row['id'], row['caption']\n",
        "            try:\n",
        "                gen = set_seed(id)\n",
        "                with torch.no_grad():\n",
        "                    with trace(pipe) as tc:\n",
        "                        out = pipe(caption, num_inference_steps=20, generator=gen)\n",
        "                        exp = tc.to_experiment(output_folder, id=str(id), seed=id)\n",
        "                        exp.save(output_folder, heat_maps=False)\n",
        "                torch.cuda.empty_cache()\n",
        "            except Exception as e:\n",
        "                print(f\"Error processing id {id}: {e}\")\n",
        "\n",
        "        # Save progress after each batch\n",
        "        with open('progress.txt', 'w') as f:\n",
        "            f.write(str(end))\n",
        "\n",
        "# Check for existing progress and resume\n",
        "try:\n",
        "    with open('progress.txt', 'r') as f:\n",
        "        start_index = int(f.read().strip())\n",
        "except FileNotFoundError:\n",
        "    start_index = 0\n",
        "\n",
        "generate_images(df, start_idx=start_index)"
      ],
      "metadata": {
        "id": "z2EcdLpkHZXT",
        "collapsed": true
      },
      "execution_count": null,
      "outputs": []
    },
    {
      "cell_type": "code",
      "source": [
        "# Set the path to the 'experiments' directory\n",
        "experiment_path = Path('experiments')\n",
        "\n",
        "# Use a generator expression to count directories\n",
        "folder_count = sum(1 for entry in experiment_path.iterdir() if entry.is_dir())\n",
        "\n",
        "print(f\"There are {folder_count} folders in {experiment_path}\")"
      ],
      "metadata": {
        "colab": {
          "base_uri": "https://localhost:8080/"
        },
        "id": "g0GHC138dO4a",
        "outputId": "69869f5d-e430-4b46-c2de-38da2f85de2b"
      },
      "execution_count": null,
      "outputs": [
        {
          "output_type": "stream",
          "name": "stdout",
          "text": [
            "There are 450 folders in experiments\n"
          ]
        }
      ]
    },
    {
      "cell_type": "markdown",
      "source": [
        "# Parse and analyse"
      ],
      "metadata": {
        "id": "KlSguNgSYJEr"
      }
    },
    {
      "cell_type": "code",
      "source": [
        "from matplotlib import pyplot as plt\n",
        "from daam import GenerationExperiment"
      ],
      "metadata": {
        "id": "LG1NJysSYMQN"
      },
      "execution_count": null,
      "outputs": []
    },
    {
      "cell_type": "code",
      "source": [
        "def iou(a, b, t: float = 0.1) -> float:\n",
        "    intersection = (a > t) & (b > t)\n",
        "    union = (a > t) | (b > t)\n",
        "\n",
        "    i = intersection.float().sum()\n",
        "    u = union.float().sum()\n",
        "\n",
        "    if u < 1e-6:\n",
        "        return 0.0\n",
        "    else:\n",
        "        return (i / u).item()"
      ],
      "metadata": {
        "id": "cHHFQyyRbpV6"
      },
      "execution_count": null,
      "outputs": []
    },
    {
      "cell_type": "code",
      "source": [
        "import pandas as pd\n",
        "import gc\n",
        "from pathlib import Path\n",
        "from tqdm import tqdm\n",
        "from daam import GenerationExperiment\n",
        "\n",
        "print(\"DataFrame loaded with {} rows.\".format(len(df)))\n",
        "\n",
        "stats = []\n",
        "\n",
        "# Use itertuples for more efficient row iteration\n",
        "for row in tqdm(df.itertuples(index=True), total=len(df)):\n",
        "    experiment_path = Path('experiments') / str(row.id)\n",
        "    if experiment_path.exists():\n",
        "        print(f\"Loading experiment from: {experiment_path}\")\n",
        "        exp = GenerationExperiment.load(experiment_path)\n",
        "    else:\n",
        "        print(f\"Experiment path does not exist: {experiment_path}\")\n",
        "        continue\n",
        "\n",
        "    try:\n",
        "        heat_map = exp.heat_map()\n",
        "        word_maps = {}\n",
        "        words_of_interest = ['preposition', 'subject', 'object', 'verb']\n",
        "\n",
        "        for word_type in words_of_interest:\n",
        "            word = getattr(row, word_type)\n",
        "            if pd.notna(word):\n",
        "                try:\n",
        "                    word_maps[word_type] = heat_map.compute_word_heat_map(word).value.cuda()\n",
        "                except ValueError as ve:\n",
        "                    print(f\"Could not compute heat map for {word_type}: {word}, Error: {ve}\")\n",
        "\n",
        "        pairs_of_interest = [('preposition', 'subject'), ('preposition', 'object'), ('preposition', 'verb')]\n",
        "        for head_type, dep_type in pairs_of_interest:\n",
        "            if head_type in word_maps and dep_type in word_maps:\n",
        "                iou_value = iou(word_maps[head_type], word_maps[dep_type])\n",
        "                stats.append({\n",
        "                    'pair': f\"{head_type}-{dep_type}\",\n",
        "                    'preposition': getattr(row, 'preposition'),\n",
        "                    'iou': iou_value,\n",
        "                    'experiment_path': str(experiment_path)\n",
        "                })\n",
        "\n",
        "    except Exception as e:\n",
        "        print(f\"Error processing {str(experiment_path)}: {str(e)}\")\n",
        "\n",
        "    # Clear memory after each row is processed\n",
        "    del exp\n",
        "    gc.collect()\n",
        "\n",
        "stats_df = pd.DataFrame(stats)\n",
        "print(\"Statistics collected:\")\n",
        "print(stats_df)"
      ],
      "metadata": {
        "id": "ZkdPKNy4buRJ",
        "collapsed": true
      },
      "execution_count": null,
      "outputs": []
    },
    {
      "cell_type": "code",
      "source": [
        "stats_df['preposition'] = stats_df['preposition'].str.lower()"
      ],
      "metadata": {
        "id": "OHS96mJt_xp2"
      },
      "execution_count": null,
      "outputs": []
    },
    {
      "cell_type": "code",
      "source": [
        "stats_df.to_csv('stats_output.csv', index=False)"
      ],
      "metadata": {
        "id": "Ol6-vRsa5GVz"
      },
      "execution_count": null,
      "outputs": []
    },
    {
      "cell_type": "markdown",
      "source": [
        "#Aggregate statistics"
      ],
      "metadata": {
        "id": "zHHPobmy16wh"
      }
    },
    {
      "cell_type": "code",
      "source": [
        "# Calculate the number of prepositions in the original DataFrame\n",
        "\n",
        "df['preposition'] = df['preposition'].str.lower()\n",
        "preposition_counts = df['preposition'].value_counts()\n",
        "\n",
        "preposition_counts_df = preposition_counts.reset_index()\n",
        "preposition_counts_df.columns = ['preposition', 'count']\n",
        "\n",
        "print(preposition_counts_df)"
      ],
      "metadata": {
        "colab": {
          "base_uri": "https://localhost:8080/"
        },
        "id": "RINkclI66ZMo",
        "outputId": "832d1238-b85b-4895-ff58-c198d69820ca"
      },
      "execution_count": 7,
      "outputs": [
        {
          "output_type": "stream",
          "name": "stdout",
          "text": [
            "   preposition  count\n",
            "0        above     14\n",
            "1           at     13\n",
            "2      against     13\n",
            "3      outside     12\n",
            "4           of     12\n",
            "..         ...    ...\n",
            "56          up      4\n",
            "57      behind      4\n",
            "58          to      3\n",
            "59     next to      3\n",
            "60     through      3\n",
            "\n",
            "[61 rows x 2 columns]\n"
          ]
        }
      ]
    },
    {
      "cell_type": "code",
      "source": [
        "overall_std = preposition_counts_df['count'].std()\n",
        "print(f\"Overall standard deviation: {overall_std:.2f}\")"
      ],
      "metadata": {
        "colab": {
          "base_uri": "https://localhost:8080/"
        },
        "id": "yqa3KeaaWmky",
        "outputId": "221f57e8-e01c-48aa-f414-f178e0e4289c"
      },
      "execution_count": 8,
      "outputs": [
        {
          "output_type": "stream",
          "name": "stdout",
          "text": [
            "Overall standard deviation: 2.63\n"
          ]
        }
      ]
    },
    {
      "cell_type": "code",
      "source": [
        "# Load the statistics DataFrame\n",
        "stats_df = pd.read_csv('stats_output.csv')"
      ],
      "metadata": {
        "id": "BnEj5d7WlMeY"
      },
      "execution_count": null,
      "outputs": []
    },
    {
      "cell_type": "code",
      "source": [
        "# Calculate the mean IoU across all pairs, ignoring prepositions\n",
        "mean_iou_all = stats_df['iou'].mean()\n",
        "rounded_mean_iou_percentage = round(mean_iou_all * 100, 4)\n",
        "print(\"Mean IoU across all pairs:\", rounded_mean_iou_percentage, \"%\")"
      ],
      "metadata": {
        "colab": {
          "base_uri": "https://localhost:8080/"
        },
        "id": "S6rHmYh9-ncT",
        "outputId": "21d3499b-0c1f-4dea-af54-52342982c807"
      },
      "execution_count": null,
      "outputs": [
        {
          "output_type": "stream",
          "name": "stdout",
          "text": [
            "Mean IoU across all pairs: 3.9373 %\n"
          ]
        }
      ]
    },
    {
      "cell_type": "code",
      "source": [
        "# Calculate the mean IoU for each type of pair, ignoring prepositions\n",
        "mean_iou_by_pair = stats_df.groupby('pair').agg(mean_iou=('iou', 'mean'))\n",
        "\n",
        "# Convert to percentage\n",
        "mean_iou_by_pair['mean_iou'] = (mean_iou_by_pair['mean_iou'] * 100).round(4)\n",
        "\n",
        "# Sort from largest to smallest\n",
        "mean_iou_by_pair = mean_iou_by_pair.sort_values('mean_iou', ascending=False)\n",
        "\n",
        "# Print the DataFrame\n",
        "print(\"Mean IoU by Pair (in %):\")\n",
        "print(mean_iou_by_pair)"
      ],
      "metadata": {
        "colab": {
          "base_uri": "https://localhost:8080/"
        },
        "id": "Yn_9Cs6f-qga",
        "outputId": "80a89870-d2f0-449d-b23f-afa7e099d985"
      },
      "execution_count": null,
      "outputs": [
        {
          "output_type": "stream",
          "name": "stdout",
          "text": [
            "Mean IoU by Pair (in %):\n",
            "                     mean_iou\n",
            "pair                         \n",
            "preposition-subject    6.4334\n",
            "preposition-verb       2.8330\n",
            "preposition-object     2.2512\n"
          ]
        }
      ]
    },
    {
      "cell_type": "code",
      "source": [
        "# Adjust display settings to show full DataFrame without truncation\n",
        "pd.set_option('display.max_rows', None)\n",
        "pd.set_option('display.max_columns', None)\n",
        "pd.set_option('display.width', None)\n",
        "pd.set_option('display.max_colwidth', None)\n",
        "\n",
        "# Calculate the mean IoU for each preposition\n",
        "mean_iou_by_preposition = stats_df.groupby('preposition').agg(\n",
        "    mean_iou=('iou', 'mean')\n",
        ")\n",
        "\n",
        "# Convert mean IoU to percentage\n",
        "mean_iou_by_preposition['mean_iou'] = (mean_iou_by_preposition['mean_iou'] * 100).round(4)\n",
        "\n",
        "# Merge with preposition_counts_df to include the count\n",
        "mean_iou_by_preposition = mean_iou_by_preposition.merge(preposition_counts_df, on='preposition')\n",
        "\n",
        "# Sort from largest to smallest\n",
        "mean_iou_by_preposition = mean_iou_by_preposition.sort_values('mean_iou', ascending=False)\n",
        "\n",
        "# Display the first 30 entries\n",
        "mean_iou_by_preposition = mean_iou_by_preposition.head(30)\n",
        "\n",
        "# Print the DataFrame\n",
        "print(\"Mean IoU by Preposition (in %), including counts:\")\n",
        "print(mean_iou_by_preposition)"
      ],
      "metadata": {
        "colab": {
          "base_uri": "https://localhost:8080/"
        },
        "id": "6F0bOZb_BPXU",
        "outputId": "32695f09-1fde-4dd2-a46e-25c38c29fe08"
      },
      "execution_count": null,
      "outputs": [
        {
          "output_type": "stream",
          "name": "stdout",
          "text": [
            "Mean IoU by Preposition (in %), including counts:\n",
            "   preposition  mean_iou  count\n",
            "6       around   17.3033      6\n",
            "49     towards   14.6391      7\n",
            "2       across   14.4956      9\n",
            "21      during   12.7049      7\n",
            "19        down   11.7368      6\n",
            "59        with   10.4236      8\n",
            "14     between   10.3090      8\n",
            "51  underneath    9.7202      4\n",
            "45        over    9.0317      7\n",
            "8           at    8.0500     13\n",
            "38          on    6.9435     10\n",
            "11      behind    6.5046      4\n",
            "3      against    6.3417     13\n",
            "32        into    6.2519      8\n",
            "43     outside    5.7913     12\n",
            "5        among    5.5326      9\n",
            "29       in to    5.1457      8\n",
            "20   down into    5.0200      5\n",
            "26          in    4.7577      9\n",
            "50       under    4.6821      9\n",
            "0        about    4.4161      6\n",
            "12      beside    4.3361      7\n",
            "37         off    3.7499     11\n",
            "27  in and out    3.5403      7\n",
            "15      beyond    3.0795      4\n",
            "7           as    2.7614      6\n",
            "58       while    2.7308      8\n",
            "40        onto    2.7251      8\n",
            "34        near    2.6538      7\n",
            "18     covered    2.5551      7\n"
          ]
        }
      ]
    },
    {
      "cell_type": "code",
      "source": [
        "# Adjust display settings to show full DataFrame without truncation\n",
        "pd.set_option('display.max_rows', None)\n",
        "pd.set_option('display.max_columns', None)\n",
        "pd.set_option('display.width', None)\n",
        "pd.set_option('display.max_colwidth', None)\n",
        "\n",
        "# Calculate the mean IoU for each type of pair and each preposition\n",
        "mean_iou_by_pair_and_preposition = stats_df.groupby(['pair', 'preposition']).agg(\n",
        "    mean_iou=('iou', 'mean')\n",
        ").reset_index()\n",
        "\n",
        "# Convert mean IoU to percentage\n",
        "mean_iou_by_pair_and_preposition['mean_iou'] = (mean_iou_by_pair_and_preposition['mean_iou'] * 100).round(4)\n",
        "\n",
        "# Merge with preposition_counts_df to include the count\n",
        "mean_iou_by_pair_and_preposition = mean_iou_by_pair_and_preposition.merge(preposition_counts_df, on='preposition')\n",
        "\n",
        "# Sort within each 'pair' group from largest to smallest by mean IoU\n",
        "mean_iou_by_pair_and_preposition = mean_iou_by_pair_and_preposition.sort_values(['pair', 'mean_iou'], ascending=[True, False])\n",
        "\n",
        "# Use groupby on 'pair' and apply a lambda to take the top 10 prepositions for each pair\n",
        "# Reset the index to keep the 'pair' and 'preposition' columns\n",
        "top_10_per_pair = mean_iou_by_pair_and_preposition.groupby('pair', group_keys=False).apply(lambda x: x.head(10)).reset_index(drop=True)\n",
        "\n",
        "# Print the DataFrame\n",
        "print(\"Mean IoU by Pair and Preposition (in %), including preposition counts:\")\n",
        "print(top_10_per_pair)"
      ],
      "metadata": {
        "colab": {
          "base_uri": "https://localhost:8080/"
        },
        "id": "MOouWGVeB-wA",
        "outputId": "4339b914-d5b7-4d63-e48b-31cd22ad7943"
      },
      "execution_count": null,
      "outputs": [
        {
          "output_type": "stream",
          "name": "stdout",
          "text": [
            "Mean IoU by Pair and Preposition (in %), including preposition counts:\n",
            "                   pair preposition  mean_iou  count\n",
            "0    preposition-object     towards   17.2047      7\n",
            "1    preposition-object        down   11.2391      6\n",
            "2    preposition-object     against    8.6810     13\n",
            "3    preposition-object       while    7.0220      8\n",
            "4    preposition-object      around    6.2255      6\n",
            "5    preposition-object         off    5.7830     11\n",
            "6    preposition-object        into    5.4331      8\n",
            "7    preposition-object      during    5.3276      7\n",
            "8    preposition-object       under    4.6199      9\n",
            "9    preposition-object      across    4.5877      9\n",
            "10  preposition-subject        with   27.2618      8\n",
            "11  preposition-subject      during   26.4347      7\n",
            "12  preposition-subject        down   23.4674      6\n",
            "13  preposition-subject      around   21.3427      6\n",
            "14  preposition-subject  underneath   20.7593      4\n",
            "15  preposition-subject      across   17.2964      9\n",
            "16  preposition-subject          at   16.4229     13\n",
            "17  preposition-subject       among   15.6210      9\n",
            "18  preposition-subject     between   15.2728      8\n",
            "19  preposition-subject      behind   14.5970      4\n",
            "20     preposition-verb      across   30.4865      9\n",
            "21     preposition-verb     towards   27.3148      7\n",
            "22     preposition-verb      around   24.3416      6\n",
            "23     preposition-verb        over   18.1849      7\n",
            "24     preposition-verb     between   11.9232      8\n",
            "25     preposition-verb       in to   10.5165      8\n",
            "26     preposition-verb   down into    8.2447      5\n",
            "27     preposition-verb          on    7.8723     10\n",
            "28     preposition-verb        atop    6.8036      9\n",
            "29     preposition-verb          at    5.6426     13\n"
          ]
        }
      ]
    }
  ],
  "metadata": {
    "accelerator": "GPU",
    "colab": {
      "gpuType": "T4",
      "provenance": [],
      "collapsed_sections": [
        "xqnhnUc3e2LP"
      ]
    },
    "kernelspec": {
      "display_name": "Python 3",
      "name": "python3"
    },
    "language_info": {
      "codemirror_mode": {
        "name": "ipython",
        "version": 3
      },
      "file_extension": ".py",
      "mimetype": "text/x-python",
      "name": "python",
      "nbconvert_exporter": "python",
      "pygments_lexer": "ipython3",
      "version": "3.8.17"
    }
  },
  "nbformat": 4,
  "nbformat_minor": 0
}