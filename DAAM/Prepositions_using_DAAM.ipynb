{
  "cells": [
    {
      "cell_type": "markdown",
      "metadata": {
        "id": "gpanTw_n_y1m"
      },
      "source": [
        "Parts of the code taken from the original paper on DAAM. Source: https://github.com/castorini/daam/blob/main/notebooks/1-visuosyntactic-analyses.ipynb"
      ]
    },
    {
      "cell_type": "markdown",
      "metadata": {
        "id": "zv8OgMBt7yq4"
      },
      "source": [
        "#Setup"
      ]
    },
    {
      "cell_type": "code",
      "source": [
        "from google.colab import drive\n",
        "drive.mount('/content/drive')"
      ],
      "metadata": {
        "colab": {
          "base_uri": "https://localhost:8080/"
        },
        "id": "SYS5uxdROIZV",
        "outputId": "ecd8c2bb-2b6a-4ad0-a3f8-bd47776aee95"
      },
      "execution_count": null,
      "outputs": [
        {
          "output_type": "stream",
          "name": "stdout",
          "text": [
            "Mounted at /content/drive\n"
          ]
        }
      ]
    },
    {
      "cell_type": "code",
      "source": [
        "import os\n",
        "\n",
        "# Go to the DAAM folder in Google Drive\n",
        "folder_path = '/content/drive/My Drive/Colab Notebooks/Stable diffusion/DAAM'\n",
        "os.chdir(folder_path)\n",
        "\n",
        "# Verify the current working directory\n",
        "print(\"Current Working Directory: \", os.getcwd())"
      ],
      "metadata": {
        "colab": {
          "base_uri": "https://localhost:8080/"
        },
        "id": "boMP-pOdViUB",
        "outputId": "f09dc5ca-d901-486d-8b35-ed59b043a753"
      },
      "execution_count": null,
      "outputs": [
        {
          "output_type": "stream",
          "name": "stdout",
          "text": [
            "Current Working Directory:  /content/drive/My Drive/Colab Notebooks/Stable diffusion/DAAM\n"
          ]
        }
      ]
    },
    {
      "cell_type": "code",
      "source": [
        "!pip install -r requirements.txt"
      ],
      "metadata": {
        "colab": {
          "base_uri": "https://localhost:8080/"
        },
        "id": "3UO5P0b_WCWP",
        "outputId": "fbfa6097-b904-4835-cf19-c6f6de1bf3d8",
        "collapsed": true
      },
      "execution_count": null,
      "outputs": [
        {
          "output_type": "stream",
          "name": "stdout",
          "text": [
            "Collecting daam (from -r requirements.txt (line 1))\n",
            "  Downloading daam-0.2.0.tar.gz (21 kB)\n",
            "  Preparing metadata (setup.py) ... \u001b[?25l\u001b[?25hdone\n",
            "Collecting diffusers==0.21.2 (from -r requirements.txt (line 2))\n",
            "  Downloading diffusers-0.21.2.tar.gz (1.1 MB)\n",
            "\u001b[2K     \u001b[90m━━━━━━━━━━━━━━━━━━━━━━━━━━━━━━━━━━━━━━━━\u001b[0m \u001b[32m1.1/1.1 MB\u001b[0m \u001b[31m22.7 MB/s\u001b[0m eta \u001b[36m0:00:00\u001b[0m\n",
            "\u001b[?25h  Installing build dependencies ... \u001b[?25l\u001b[?25hdone\n",
            "  Getting requirements to build wheel ... \u001b[?25l\u001b[?25hdone\n",
            "  Preparing metadata (pyproject.toml) ... \u001b[?25l\u001b[?25hdone\n",
            "Collecting transformers==4.30.2 (from -r requirements.txt (line 3))\n",
            "  Downloading transformers-4.30.2-py3-none-any.whl (7.2 MB)\n",
            "\u001b[2K     \u001b[90m━━━━━━━━━━━━━━━━━━━━━━━━━━━━━━━━━━━━━━━━\u001b[0m \u001b[32m7.2/7.2 MB\u001b[0m \u001b[31m101.1 MB/s\u001b[0m eta \u001b[36m0:00:00\u001b[0m\n",
            "\u001b[?25hCollecting accelerate==0.23.0 (from -r requirements.txt (line 4))\n",
            "  Downloading accelerate-0.23.0-py3-none-any.whl (258 kB)\n",
            "\u001b[2K     \u001b[90m━━━━━━━━━━━━━━━━━━━━━━━━━━━━━━━━━━━━━━━━\u001b[0m \u001b[32m258.1/258.1 kB\u001b[0m \u001b[31m35.7 MB/s\u001b[0m eta \u001b[36m0:00:00\u001b[0m\n",
            "\u001b[?25hCollecting jax==0.4.23 (from -r requirements.txt (line 5))\n",
            "  Downloading jax-0.4.23-py3-none-any.whl (1.7 MB)\n",
            "\u001b[2K     \u001b[90m━━━━━━━━━━━━━━━━━━━━━━━━━━━━━━━━━━━━━━━━\u001b[0m \u001b[32m1.7/1.7 MB\u001b[0m \u001b[31m92.5 MB/s\u001b[0m eta \u001b[36m0:00:00\u001b[0m\n",
            "\u001b[?25hCollecting jaxlib==0.4.23 (from -r requirements.txt (line 6))\n",
            "  Downloading jaxlib-0.4.23-cp310-cp310-manylinux2014_x86_64.whl (77.2 MB)\n",
            "\u001b[2K     \u001b[90m━━━━━━━━━━━━━━━━━━━━━━━━━━━━━━━━━━━━━━━━\u001b[0m \u001b[32m77.2/77.2 MB\u001b[0m \u001b[31m9.7 MB/s\u001b[0m eta \u001b[36m0:00:00\u001b[0m\n",
            "\u001b[?25hRequirement already satisfied: pathlib in /usr/local/lib/python3.10/dist-packages (from -r requirements.txt (line 7)) (1.0.1)\n",
            "Requirement already satisfied: pandas in /usr/local/lib/python3.10/dist-packages (from -r requirements.txt (line 8)) (2.0.3)\n",
            "Requirement already satisfied: numba in /usr/local/lib/python3.10/dist-packages (from -r requirements.txt (line 9)) (0.58.1)\n",
            "Requirement already satisfied: nltk in /usr/local/lib/python3.10/dist-packages (from -r requirements.txt (line 10)) (3.8.1)\n",
            "Requirement already satisfied: inflect in /usr/local/lib/python3.10/dist-packages (from -r requirements.txt (line 11)) (7.0.0)\n",
            "Requirement already satisfied: joblib in /usr/local/lib/python3.10/dist-packages (from -r requirements.txt (line 12)) (1.4.2)\n",
            "Requirement already satisfied: spacy in /usr/local/lib/python3.10/dist-packages (from -r requirements.txt (line 13)) (3.7.4)\n",
            "Collecting gradio (from -r requirements.txt (line 14))\n",
            "  Downloading gradio-4.31.0-py3-none-any.whl (12.3 MB)\n",
            "\u001b[2K     \u001b[90m━━━━━━━━━━━━━━━━━━━━━━━━━━━━━━━━━━━━━━━━\u001b[0m \u001b[32m12.3/12.3 MB\u001b[0m \u001b[31m100.2 MB/s\u001b[0m eta \u001b[36m0:00:00\u001b[0m\n",
            "\u001b[?25hCollecting ftfy (from -r requirements.txt (line 15))\n",
            "  Downloading ftfy-6.2.0-py3-none-any.whl (54 kB)\n",
            "\u001b[2K     \u001b[90m━━━━━━━━━━━━━━━━━━━━━━━━━━━━━━━━━━━━━━━━\u001b[0m \u001b[32m54.4/54.4 kB\u001b[0m \u001b[31m9.0 MB/s\u001b[0m eta \u001b[36m0:00:00\u001b[0m\n",
            "\u001b[?25hRequirement already satisfied: scikit-image in /usr/local/lib/python3.10/dist-packages (from -r requirements.txt (line 16)) (0.19.3)\n",
            "Requirement already satisfied: importlib-metadata in /usr/local/lib/python3.10/dist-packages (from diffusers==0.21.2->-r requirements.txt (line 2)) (7.1.0)\n",
            "Requirement already satisfied: filelock in /usr/local/lib/python3.10/dist-packages (from diffusers==0.21.2->-r requirements.txt (line 2)) (3.14.0)\n",
            "Requirement already satisfied: huggingface-hub>=0.13.2 in /usr/local/lib/python3.10/dist-packages (from diffusers==0.21.2->-r requirements.txt (line 2)) (0.20.3)\n",
            "Requirement already satisfied: numpy in /usr/local/lib/python3.10/dist-packages (from diffusers==0.21.2->-r requirements.txt (line 2)) (1.25.2)\n",
            "Requirement already satisfied: regex!=2019.12.17 in /usr/local/lib/python3.10/dist-packages (from diffusers==0.21.2->-r requirements.txt (line 2)) (2023.12.25)\n",
            "Requirement already satisfied: requests in /usr/local/lib/python3.10/dist-packages (from diffusers==0.21.2->-r requirements.txt (line 2)) (2.31.0)\n",
            "Requirement already satisfied: safetensors>=0.3.1 in /usr/local/lib/python3.10/dist-packages (from diffusers==0.21.2->-r requirements.txt (line 2)) (0.4.3)\n",
            "Requirement already satisfied: Pillow in /usr/local/lib/python3.10/dist-packages (from diffusers==0.21.2->-r requirements.txt (line 2)) (9.4.0)\n",
            "Requirement already satisfied: packaging>=20.0 in /usr/local/lib/python3.10/dist-packages (from transformers==4.30.2->-r requirements.txt (line 3)) (24.0)\n",
            "Requirement already satisfied: pyyaml>=5.1 in /usr/local/lib/python3.10/dist-packages (from transformers==4.30.2->-r requirements.txt (line 3)) (6.0.1)\n",
            "Collecting tokenizers!=0.11.3,<0.14,>=0.11.1 (from transformers==4.30.2->-r requirements.txt (line 3))\n",
            "  Downloading tokenizers-0.13.3-cp310-cp310-manylinux_2_17_x86_64.manylinux2014_x86_64.whl (7.8 MB)\n",
            "\u001b[2K     \u001b[90m━━━━━━━━━━━━━━━━━━━━━━━━━━━━━━━━━━━━━━━━\u001b[0m \u001b[32m7.8/7.8 MB\u001b[0m \u001b[31m99.2 MB/s\u001b[0m eta \u001b[36m0:00:00\u001b[0m\n",
            "\u001b[?25hRequirement already satisfied: tqdm>=4.27 in /usr/local/lib/python3.10/dist-packages (from transformers==4.30.2->-r requirements.txt (line 3)) (4.66.4)\n",
            "Requirement already satisfied: psutil in /usr/local/lib/python3.10/dist-packages (from accelerate==0.23.0->-r requirements.txt (line 4)) (5.9.5)\n",
            "Requirement already satisfied: torch>=1.10.0 in /usr/local/lib/python3.10/dist-packages (from accelerate==0.23.0->-r requirements.txt (line 4)) (2.2.1+cu121)\n",
            "Requirement already satisfied: ml-dtypes>=0.2.0 in /usr/local/lib/python3.10/dist-packages (from jax==0.4.23->-r requirements.txt (line 5)) (0.2.0)\n",
            "Requirement already satisfied: opt-einsum in /usr/local/lib/python3.10/dist-packages (from jax==0.4.23->-r requirements.txt (line 5)) (3.3.0)\n",
            "Requirement already satisfied: scipy>=1.9 in /usr/local/lib/python3.10/dist-packages (from jax==0.4.23->-r requirements.txt (line 5)) (1.11.4)\n",
            "Requirement already satisfied: python-dateutil>=2.8.2 in /usr/local/lib/python3.10/dist-packages (from pandas->-r requirements.txt (line 8)) (2.8.2)\n",
            "Requirement already satisfied: pytz>=2020.1 in /usr/local/lib/python3.10/dist-packages (from pandas->-r requirements.txt (line 8)) (2023.4)\n",
            "Requirement already satisfied: tzdata>=2022.1 in /usr/local/lib/python3.10/dist-packages (from pandas->-r requirements.txt (line 8)) (2024.1)\n",
            "Requirement already satisfied: llvmlite<0.42,>=0.41.0dev0 in /usr/local/lib/python3.10/dist-packages (from numba->-r requirements.txt (line 9)) (0.41.1)\n",
            "Requirement already satisfied: click in /usr/local/lib/python3.10/dist-packages (from nltk->-r requirements.txt (line 10)) (8.1.7)\n",
            "Requirement already satisfied: pydantic>=1.9.1 in /usr/local/lib/python3.10/dist-packages (from inflect->-r requirements.txt (line 11)) (2.7.1)\n",
            "Requirement already satisfied: typing-extensions in /usr/local/lib/python3.10/dist-packages (from inflect->-r requirements.txt (line 11)) (4.11.0)\n",
            "Requirement already satisfied: spacy-legacy<3.1.0,>=3.0.11 in /usr/local/lib/python3.10/dist-packages (from spacy->-r requirements.txt (line 13)) (3.0.12)\n",
            "Requirement already satisfied: spacy-loggers<2.0.0,>=1.0.0 in /usr/local/lib/python3.10/dist-packages (from spacy->-r requirements.txt (line 13)) (1.0.5)\n",
            "Requirement already satisfied: murmurhash<1.1.0,>=0.28.0 in /usr/local/lib/python3.10/dist-packages (from spacy->-r requirements.txt (line 13)) (1.0.10)\n",
            "Requirement already satisfied: cymem<2.1.0,>=2.0.2 in /usr/local/lib/python3.10/dist-packages (from spacy->-r requirements.txt (line 13)) (2.0.8)\n",
            "Requirement already satisfied: preshed<3.1.0,>=3.0.2 in /usr/local/lib/python3.10/dist-packages (from spacy->-r requirements.txt (line 13)) (3.0.9)\n",
            "Requirement already satisfied: thinc<8.3.0,>=8.2.2 in /usr/local/lib/python3.10/dist-packages (from spacy->-r requirements.txt (line 13)) (8.2.3)\n",
            "Requirement already satisfied: wasabi<1.2.0,>=0.9.1 in /usr/local/lib/python3.10/dist-packages (from spacy->-r requirements.txt (line 13)) (1.1.2)\n",
            "Requirement already satisfied: srsly<3.0.0,>=2.4.3 in /usr/local/lib/python3.10/dist-packages (from spacy->-r requirements.txt (line 13)) (2.4.8)\n",
            "Requirement already satisfied: catalogue<2.1.0,>=2.0.6 in /usr/local/lib/python3.10/dist-packages (from spacy->-r requirements.txt (line 13)) (2.0.10)\n",
            "Requirement already satisfied: weasel<0.4.0,>=0.1.0 in /usr/local/lib/python3.10/dist-packages (from spacy->-r requirements.txt (line 13)) (0.3.4)\n",
            "Requirement already satisfied: typer<0.10.0,>=0.3.0 in /usr/local/lib/python3.10/dist-packages (from spacy->-r requirements.txt (line 13)) (0.9.4)\n",
            "Requirement already satisfied: smart-open<7.0.0,>=5.2.1 in /usr/local/lib/python3.10/dist-packages (from spacy->-r requirements.txt (line 13)) (6.4.0)\n",
            "Requirement already satisfied: jinja2 in /usr/local/lib/python3.10/dist-packages (from spacy->-r requirements.txt (line 13)) (3.1.4)\n",
            "Requirement already satisfied: setuptools in /usr/local/lib/python3.10/dist-packages (from spacy->-r requirements.txt (line 13)) (67.7.2)\n",
            "Requirement already satisfied: langcodes<4.0.0,>=3.2.0 in /usr/local/lib/python3.10/dist-packages (from spacy->-r requirements.txt (line 13)) (3.4.0)\n",
            "Collecting aiofiles<24.0,>=22.0 (from gradio->-r requirements.txt (line 14))\n",
            "  Downloading aiofiles-23.2.1-py3-none-any.whl (15 kB)\n",
            "Requirement already satisfied: altair<6.0,>=4.2.0 in /usr/local/lib/python3.10/dist-packages (from gradio->-r requirements.txt (line 14)) (4.2.2)\n",
            "Collecting fastapi (from gradio->-r requirements.txt (line 14))\n",
            "  Downloading fastapi-0.111.0-py3-none-any.whl (91 kB)\n",
            "\u001b[2K     \u001b[90m━━━━━━━━━━━━━━━━━━━━━━━━━━━━━━━━━━━━━━━━\u001b[0m \u001b[32m92.0/92.0 kB\u001b[0m \u001b[31m13.7 MB/s\u001b[0m eta \u001b[36m0:00:00\u001b[0m\n",
            "\u001b[?25hCollecting ffmpy (from gradio->-r requirements.txt (line 14))\n",
            "  Downloading ffmpy-0.3.2.tar.gz (5.5 kB)\n",
            "  Preparing metadata (setup.py) ... \u001b[?25l\u001b[?25hdone\n",
            "Collecting gradio-client==0.16.2 (from gradio->-r requirements.txt (line 14))\n",
            "  Downloading gradio_client-0.16.2-py3-none-any.whl (315 kB)\n",
            "\u001b[2K     \u001b[90m━━━━━━━━━━━━━━━━━━━━━━━━━━━━━━━━━━━━━━━━\u001b[0m \u001b[32m315.5/315.5 kB\u001b[0m \u001b[31m33.9 MB/s\u001b[0m eta \u001b[36m0:00:00\u001b[0m\n",
            "\u001b[?25hCollecting httpx>=0.24.1 (from gradio->-r requirements.txt (line 14))\n",
            "  Downloading httpx-0.27.0-py3-none-any.whl (75 kB)\n",
            "\u001b[2K     \u001b[90m━━━━━━━━━━━━━━━━━━━━━━━━━━━━━━━━━━━━━━━━\u001b[0m \u001b[32m75.6/75.6 kB\u001b[0m \u001b[31m10.5 MB/s\u001b[0m eta \u001b[36m0:00:00\u001b[0m\n",
            "\u001b[?25hRequirement already satisfied: importlib-resources<7.0,>=1.3 in /usr/local/lib/python3.10/dist-packages (from gradio->-r requirements.txt (line 14)) (6.4.0)\n",
            "Requirement already satisfied: markupsafe~=2.0 in /usr/local/lib/python3.10/dist-packages (from gradio->-r requirements.txt (line 14)) (2.1.5)\n",
            "Requirement already satisfied: matplotlib~=3.0 in /usr/local/lib/python3.10/dist-packages (from gradio->-r requirements.txt (line 14)) (3.7.1)\n",
            "Collecting orjson~=3.0 (from gradio->-r requirements.txt (line 14))\n",
            "  Downloading orjson-3.10.3-cp310-cp310-manylinux_2_17_x86_64.manylinux2014_x86_64.whl (142 kB)\n",
            "\u001b[2K     \u001b[90m━━━━━━━━━━━━━━━━━━━━━━━━━━━━━━━━━━━━━━━━\u001b[0m \u001b[32m142.5/142.5 kB\u001b[0m \u001b[31m19.2 MB/s\u001b[0m eta \u001b[36m0:00:00\u001b[0m\n",
            "\u001b[?25hCollecting pydub (from gradio->-r requirements.txt (line 14))\n",
            "  Downloading pydub-0.25.1-py2.py3-none-any.whl (32 kB)\n",
            "Collecting python-multipart>=0.0.9 (from gradio->-r requirements.txt (line 14))\n",
            "  Downloading python_multipart-0.0.9-py3-none-any.whl (22 kB)\n",
            "Collecting ruff>=0.2.2 (from gradio->-r requirements.txt (line 14))\n",
            "  Downloading ruff-0.4.4-py3-none-manylinux_2_17_x86_64.manylinux2014_x86_64.whl (8.7 MB)\n",
            "\u001b[2K     \u001b[90m━━━━━━━━━━━━━━━━━━━━━━━━━━━━━━━━━━━━━━━━\u001b[0m \u001b[32m8.7/8.7 MB\u001b[0m \u001b[31m81.8 MB/s\u001b[0m eta \u001b[36m0:00:00\u001b[0m\n",
            "\u001b[?25hCollecting semantic-version~=2.0 (from gradio->-r requirements.txt (line 14))\n",
            "  Downloading semantic_version-2.10.0-py2.py3-none-any.whl (15 kB)\n",
            "Collecting tomlkit==0.12.0 (from gradio->-r requirements.txt (line 14))\n",
            "  Downloading tomlkit-0.12.0-py3-none-any.whl (37 kB)\n",
            "INFO: pip is looking at multiple versions of gradio to determine which version is compatible with other requirements. This could take a while.\n",
            "Collecting gradio (from -r requirements.txt (line 14))\n",
            "  Downloading gradio-4.29.0-py3-none-any.whl (12.3 MB)\n",
            "\u001b[2K     \u001b[90m━━━━━━━━━━━━━━━━━━━━━━━━━━━━━━━━━━━━━━━━\u001b[0m \u001b[32m12.3/12.3 MB\u001b[0m \u001b[31m72.0 MB/s\u001b[0m eta \u001b[36m0:00:00\u001b[0m\n",
            "\u001b[?25hCollecting gradio-client==0.16.1 (from gradio->-r requirements.txt (line 14))\n",
            "  Downloading gradio_client-0.16.1-py3-none-any.whl (314 kB)\n",
            "\u001b[2K     \u001b[90m━━━━━━━━━━━━━━━━━━━━━━━━━━━━━━━━━━━━━━━━\u001b[0m \u001b[32m314.6/314.6 kB\u001b[0m \u001b[31m33.4 MB/s\u001b[0m eta \u001b[36m0:00:00\u001b[0m\n",
            "\u001b[?25hCollecting gradio (from -r requirements.txt (line 14))\n",
            "  Downloading gradio-4.28.3-py3-none-any.whl (12.2 MB)\n",
            "\u001b[2K     \u001b[90m━━━━━━━━━━━━━━━━━━━━━━━━━━━━━━━━━━━━━━━━\u001b[0m \u001b[32m12.2/12.2 MB\u001b[0m \u001b[31m73.2 MB/s\u001b[0m eta \u001b[36m0:00:00\u001b[0m\n",
            "\u001b[?25hCollecting gradio-client==0.16.0 (from gradio->-r requirements.txt (line 14))\n",
            "  Downloading gradio_client-0.16.0-py3-none-any.whl (314 kB)\n",
            "\u001b[2K     \u001b[90m━━━━━━━━━━━━━━━━━━━━━━━━━━━━━━━━━━━━━━━━\u001b[0m \u001b[32m314.4/314.4 kB\u001b[0m \u001b[31m35.4 MB/s\u001b[0m eta \u001b[36m0:00:00\u001b[0m\n",
            "\u001b[?25hCollecting gradio (from -r requirements.txt (line 14))\n",
            "  Downloading gradio-4.28.2-py3-none-any.whl (12.2 MB)\n",
            "\u001b[2K     \u001b[90m━━━━━━━━━━━━━━━━━━━━━━━━━━━━━━━━━━━━━━━━\u001b[0m \u001b[32m12.2/12.2 MB\u001b[0m \u001b[31m67.7 MB/s\u001b[0m eta \u001b[36m0:00:00\u001b[0m\n",
            "\u001b[?25h  Downloading gradio-4.28.1-py3-none-any.whl (12.2 MB)\n",
            "\u001b[2K     \u001b[90m━━━━━━━━━━━━━━━━━━━━━━━━━━━━━━━━━━━━━━━━\u001b[0m \u001b[32m12.2/12.2 MB\u001b[0m \u001b[31m52.8 MB/s\u001b[0m eta \u001b[36m0:00:00\u001b[0m\n",
            "\u001b[?25h  Downloading gradio-4.28.0-py3-none-any.whl (12.2 MB)\n",
            "\u001b[2K     \u001b[90m━━━━━━━━━━━━━━━━━━━━━━━━━━━━━━━━━━━━━━━━\u001b[0m \u001b[32m12.2/12.2 MB\u001b[0m \u001b[31m24.7 MB/s\u001b[0m eta \u001b[36m0:00:00\u001b[0m\n",
            "\u001b[?25h  Downloading gradio-4.27.0-py3-none-any.whl (17.1 MB)\n",
            "\u001b[2K     \u001b[90m━━━━━━━━━━━━━━━━━━━━━━━━━━━━━━━━━━━━━━━━\u001b[0m \u001b[32m17.1/17.1 MB\u001b[0m \u001b[31m54.2 MB/s\u001b[0m eta \u001b[36m0:00:00\u001b[0m\n",
            "\u001b[?25hCollecting gradio-client==0.15.1 (from gradio->-r requirements.txt (line 14))\n",
            "  Downloading gradio_client-0.15.1-py3-none-any.whl (313 kB)\n",
            "\u001b[2K     \u001b[90m━━━━━━━━━━━━━━━━━━━━━━━━━━━━━━━━━━━━━━━━\u001b[0m \u001b[32m313.6/313.6 kB\u001b[0m \u001b[31m34.6 MB/s\u001b[0m eta \u001b[36m0:00:00\u001b[0m\n",
            "\u001b[?25hCollecting gradio (from -r requirements.txt (line 14))\n",
            "  Downloading gradio-4.26.0-py3-none-any.whl (17.1 MB)\n",
            "\u001b[2K     \u001b[90m━━━━━━━━━━━━━━━━━━━━━━━━━━━━━━━━━━━━━━━━\u001b[0m \u001b[32m17.1/17.1 MB\u001b[0m \u001b[31m60.3 MB/s\u001b[0m eta \u001b[36m0:00:00\u001b[0m\n",
            "\u001b[?25hCollecting uvicorn>=0.14.0 (from gradio->-r requirements.txt (line 14))\n",
            "  Downloading uvicorn-0.29.0-py3-none-any.whl (60 kB)\n",
            "\u001b[2K     \u001b[90m━━━━━━━━━━━━━━━━━━━━━━━━━━━━━━━━━━━━━━━━\u001b[0m \u001b[32m60.8/60.8 kB\u001b[0m \u001b[31m9.2 MB/s\u001b[0m eta \u001b[36m0:00:00\u001b[0m\n",
            "\u001b[?25hRequirement already satisfied: fsspec in /usr/local/lib/python3.10/dist-packages (from gradio-client==0.15.1->gradio->-r requirements.txt (line 14)) (2023.6.0)\n",
            "Collecting websockets<12.0,>=10.0 (from gradio-client==0.15.1->gradio->-r requirements.txt (line 14))\n",
            "  Downloading websockets-11.0.3-cp310-cp310-manylinux_2_5_x86_64.manylinux1_x86_64.manylinux_2_17_x86_64.manylinux2014_x86_64.whl (129 kB)\n",
            "\u001b[2K     \u001b[90m━━━━━━━━━━━━━━━━━━━━━━━━━━━━━━━━━━━━━━━━\u001b[0m \u001b[32m129.9/129.9 kB\u001b[0m \u001b[31m18.0 MB/s\u001b[0m eta \u001b[36m0:00:00\u001b[0m\n",
            "\u001b[?25hRequirement already satisfied: wcwidth<0.3.0,>=0.2.12 in /usr/local/lib/python3.10/dist-packages (from ftfy->-r requirements.txt (line 15)) (0.2.13)\n",
            "Requirement already satisfied: networkx>=2.2 in /usr/local/lib/python3.10/dist-packages (from scikit-image->-r requirements.txt (line 16)) (3.3)\n",
            "Requirement already satisfied: imageio>=2.4.1 in /usr/local/lib/python3.10/dist-packages (from scikit-image->-r requirements.txt (line 16)) (2.31.6)\n",
            "Requirement already satisfied: tifffile>=2019.7.26 in /usr/local/lib/python3.10/dist-packages (from scikit-image->-r requirements.txt (line 16)) (2024.5.3)\n",
            "Requirement already satisfied: PyWavelets>=1.1.1 in /usr/local/lib/python3.10/dist-packages (from scikit-image->-r requirements.txt (line 16)) (1.6.0)\n",
            "Requirement already satisfied: entrypoints in /usr/local/lib/python3.10/dist-packages (from altair<6.0,>=4.2.0->gradio->-r requirements.txt (line 14)) (0.4)\n",
            "Requirement already satisfied: jsonschema>=3.0 in /usr/local/lib/python3.10/dist-packages (from altair<6.0,>=4.2.0->gradio->-r requirements.txt (line 14)) (4.19.2)\n",
            "Requirement already satisfied: toolz in /usr/local/lib/python3.10/dist-packages (from altair<6.0,>=4.2.0->gradio->-r requirements.txt (line 14)) (0.12.1)\n",
            "Requirement already satisfied: anyio in /usr/local/lib/python3.10/dist-packages (from httpx>=0.24.1->gradio->-r requirements.txt (line 14)) (3.7.1)\n",
            "Requirement already satisfied: certifi in /usr/local/lib/python3.10/dist-packages (from httpx>=0.24.1->gradio->-r requirements.txt (line 14)) (2024.2.2)\n",
            "Collecting httpcore==1.* (from httpx>=0.24.1->gradio->-r requirements.txt (line 14))\n",
            "  Downloading httpcore-1.0.5-py3-none-any.whl (77 kB)\n",
            "\u001b[2K     \u001b[90m━━━━━━━━━━━━━━━━━━━━━━━━━━━━━━━━━━━━━━━━\u001b[0m \u001b[32m77.9/77.9 kB\u001b[0m \u001b[31m7.6 MB/s\u001b[0m eta \u001b[36m0:00:00\u001b[0m\n",
            "\u001b[?25hRequirement already satisfied: idna in /usr/local/lib/python3.10/dist-packages (from httpx>=0.24.1->gradio->-r requirements.txt (line 14)) (3.7)\n",
            "Requirement already satisfied: sniffio in /usr/local/lib/python3.10/dist-packages (from httpx>=0.24.1->gradio->-r requirements.txt (line 14)) (1.3.1)\n",
            "Collecting h11<0.15,>=0.13 (from httpcore==1.*->httpx>=0.24.1->gradio->-r requirements.txt (line 14))\n",
            "  Downloading h11-0.14.0-py3-none-any.whl (58 kB)\n",
            "\u001b[2K     \u001b[90m━━━━━━━━━━━━━━━━━━━━━━━━━━━━━━━━━━━━━━━━\u001b[0m \u001b[32m58.3/58.3 kB\u001b[0m \u001b[31m9.6 MB/s\u001b[0m eta \u001b[36m0:00:00\u001b[0m\n",
            "\u001b[?25hRequirement already satisfied: language-data>=1.2 in /usr/local/lib/python3.10/dist-packages (from langcodes<4.0.0,>=3.2.0->spacy->-r requirements.txt (line 13)) (1.2.0)\n",
            "Requirement already satisfied: contourpy>=1.0.1 in /usr/local/lib/python3.10/dist-packages (from matplotlib~=3.0->gradio->-r requirements.txt (line 14)) (1.2.1)\n",
            "Requirement already satisfied: cycler>=0.10 in /usr/local/lib/python3.10/dist-packages (from matplotlib~=3.0->gradio->-r requirements.txt (line 14)) (0.12.1)\n",
            "Requirement already satisfied: fonttools>=4.22.0 in /usr/local/lib/python3.10/dist-packages (from matplotlib~=3.0->gradio->-r requirements.txt (line 14)) (4.51.0)\n",
            "Requirement already satisfied: kiwisolver>=1.0.1 in /usr/local/lib/python3.10/dist-packages (from matplotlib~=3.0->gradio->-r requirements.txt (line 14)) (1.4.5)\n",
            "Requirement already satisfied: pyparsing>=2.3.1 in /usr/local/lib/python3.10/dist-packages (from matplotlib~=3.0->gradio->-r requirements.txt (line 14)) (3.1.2)\n",
            "Requirement already satisfied: annotated-types>=0.4.0 in /usr/local/lib/python3.10/dist-packages (from pydantic>=1.9.1->inflect->-r requirements.txt (line 11)) (0.6.0)\n",
            "Requirement already satisfied: pydantic-core==2.18.2 in /usr/local/lib/python3.10/dist-packages (from pydantic>=1.9.1->inflect->-r requirements.txt (line 11)) (2.18.2)\n",
            "Requirement already satisfied: six>=1.5 in /usr/local/lib/python3.10/dist-packages (from python-dateutil>=2.8.2->pandas->-r requirements.txt (line 8)) (1.16.0)\n",
            "Requirement already satisfied: charset-normalizer<4,>=2 in /usr/local/lib/python3.10/dist-packages (from requests->diffusers==0.21.2->-r requirements.txt (line 2)) (3.3.2)\n",
            "Requirement already satisfied: urllib3<3,>=1.21.1 in /usr/local/lib/python3.10/dist-packages (from requests->diffusers==0.21.2->-r requirements.txt (line 2)) (2.0.7)\n",
            "Requirement already satisfied: blis<0.8.0,>=0.7.8 in /usr/local/lib/python3.10/dist-packages (from thinc<8.3.0,>=8.2.2->spacy->-r requirements.txt (line 13)) (0.7.11)\n",
            "Requirement already satisfied: confection<1.0.0,>=0.0.1 in /usr/local/lib/python3.10/dist-packages (from thinc<8.3.0,>=8.2.2->spacy->-r requirements.txt (line 13)) (0.1.4)\n",
            "Requirement already satisfied: sympy in /usr/local/lib/python3.10/dist-packages (from torch>=1.10.0->accelerate==0.23.0->-r requirements.txt (line 4)) (1.12)\n",
            "Collecting nvidia-cuda-nvrtc-cu12==12.1.105 (from torch>=1.10.0->accelerate==0.23.0->-r requirements.txt (line 4))\n",
            "  Using cached nvidia_cuda_nvrtc_cu12-12.1.105-py3-none-manylinux1_x86_64.whl (23.7 MB)\n",
            "Collecting nvidia-cuda-runtime-cu12==12.1.105 (from torch>=1.10.0->accelerate==0.23.0->-r requirements.txt (line 4))\n",
            "  Using cached nvidia_cuda_runtime_cu12-12.1.105-py3-none-manylinux1_x86_64.whl (823 kB)\n",
            "Collecting nvidia-cuda-cupti-cu12==12.1.105 (from torch>=1.10.0->accelerate==0.23.0->-r requirements.txt (line 4))\n",
            "  Using cached nvidia_cuda_cupti_cu12-12.1.105-py3-none-manylinux1_x86_64.whl (14.1 MB)\n",
            "Collecting nvidia-cudnn-cu12==8.9.2.26 (from torch>=1.10.0->accelerate==0.23.0->-r requirements.txt (line 4))\n",
            "  Using cached nvidia_cudnn_cu12-8.9.2.26-py3-none-manylinux1_x86_64.whl (731.7 MB)\n",
            "Collecting nvidia-cublas-cu12==12.1.3.1 (from torch>=1.10.0->accelerate==0.23.0->-r requirements.txt (line 4))\n",
            "  Using cached nvidia_cublas_cu12-12.1.3.1-py3-none-manylinux1_x86_64.whl (410.6 MB)\n",
            "Collecting nvidia-cufft-cu12==11.0.2.54 (from torch>=1.10.0->accelerate==0.23.0->-r requirements.txt (line 4))\n",
            "  Using cached nvidia_cufft_cu12-11.0.2.54-py3-none-manylinux1_x86_64.whl (121.6 MB)\n",
            "Collecting nvidia-curand-cu12==10.3.2.106 (from torch>=1.10.0->accelerate==0.23.0->-r requirements.txt (line 4))\n",
            "  Using cached nvidia_curand_cu12-10.3.2.106-py3-none-manylinux1_x86_64.whl (56.5 MB)\n",
            "Collecting nvidia-cusolver-cu12==11.4.5.107 (from torch>=1.10.0->accelerate==0.23.0->-r requirements.txt (line 4))\n",
            "  Using cached nvidia_cusolver_cu12-11.4.5.107-py3-none-manylinux1_x86_64.whl (124.2 MB)\n",
            "Collecting nvidia-cusparse-cu12==12.1.0.106 (from torch>=1.10.0->accelerate==0.23.0->-r requirements.txt (line 4))\n",
            "  Using cached nvidia_cusparse_cu12-12.1.0.106-py3-none-manylinux1_x86_64.whl (196.0 MB)\n",
            "Collecting nvidia-nccl-cu12==2.19.3 (from torch>=1.10.0->accelerate==0.23.0->-r requirements.txt (line 4))\n",
            "  Using cached nvidia_nccl_cu12-2.19.3-py3-none-manylinux1_x86_64.whl (166.0 MB)\n",
            "Collecting nvidia-nvtx-cu12==12.1.105 (from torch>=1.10.0->accelerate==0.23.0->-r requirements.txt (line 4))\n",
            "  Using cached nvidia_nvtx_cu12-12.1.105-py3-none-manylinux1_x86_64.whl (99 kB)\n",
            "Requirement already satisfied: triton==2.2.0 in /usr/local/lib/python3.10/dist-packages (from torch>=1.10.0->accelerate==0.23.0->-r requirements.txt (line 4)) (2.2.0)\n",
            "Collecting nvidia-nvjitlink-cu12 (from nvidia-cusolver-cu12==11.4.5.107->torch>=1.10.0->accelerate==0.23.0->-r requirements.txt (line 4))\n",
            "  Using cached nvidia_nvjitlink_cu12-12.4.127-py3-none-manylinux2014_x86_64.whl (21.1 MB)\n",
            "Collecting colorama<0.5.0,>=0.4.3 (from typer<0.10.0,>=0.3.0->spacy->-r requirements.txt (line 13))\n",
            "  Downloading colorama-0.4.6-py2.py3-none-any.whl (25 kB)\n",
            "Collecting shellingham<2.0.0,>=1.3.0 (from typer<0.10.0,>=0.3.0->spacy->-r requirements.txt (line 13))\n",
            "  Downloading shellingham-1.5.4-py2.py3-none-any.whl (9.8 kB)\n",
            "Requirement already satisfied: rich<14.0.0,>=10.11.0 in /usr/local/lib/python3.10/dist-packages (from typer<0.10.0,>=0.3.0->spacy->-r requirements.txt (line 13)) (13.7.1)\n",
            "Requirement already satisfied: cloudpathlib<0.17.0,>=0.7.0 in /usr/local/lib/python3.10/dist-packages (from weasel<0.4.0,>=0.1.0->spacy->-r requirements.txt (line 13)) (0.16.0)\n",
            "Collecting starlette<0.38.0,>=0.37.2 (from fastapi->gradio->-r requirements.txt (line 14))\n",
            "  Downloading starlette-0.37.2-py3-none-any.whl (71 kB)\n",
            "\u001b[2K     \u001b[90m━━━━━━━━━━━━━━━━━━━━━━━━━━━━━━━━━━━━━━━━\u001b[0m \u001b[32m71.9/71.9 kB\u001b[0m \u001b[31m10.8 MB/s\u001b[0m eta \u001b[36m0:00:00\u001b[0m\n",
            "\u001b[?25hCollecting fastapi-cli>=0.0.2 (from fastapi->gradio->-r requirements.txt (line 14))\n",
            "  Downloading fastapi_cli-0.0.3-py3-none-any.whl (9.2 kB)\n",
            "Collecting ujson!=4.0.2,!=4.1.0,!=4.2.0,!=4.3.0,!=5.0.0,!=5.1.0,>=4.0.1 (from fastapi->gradio->-r requirements.txt (line 14))\n",
            "  Downloading ujson-5.9.0-cp310-cp310-manylinux_2_17_x86_64.manylinux2014_x86_64.whl (53 kB)\n",
            "\u001b[2K     \u001b[90m━━━━━━━━━━━━━━━━━━━━━━━━━━━━━━━━━━━━━━━━\u001b[0m \u001b[32m53.2/53.2 kB\u001b[0m \u001b[31m7.4 MB/s\u001b[0m eta \u001b[36m0:00:00\u001b[0m\n",
            "\u001b[?25hCollecting email_validator>=2.0.0 (from fastapi->gradio->-r requirements.txt (line 14))\n",
            "  Downloading email_validator-2.1.1-py3-none-any.whl (30 kB)\n",
            "Requirement already satisfied: zipp>=0.5 in /usr/local/lib/python3.10/dist-packages (from importlib-metadata->diffusers==0.21.2->-r requirements.txt (line 2)) (3.18.1)\n",
            "Collecting dnspython>=2.0.0 (from email_validator>=2.0.0->fastapi->gradio->-r requirements.txt (line 14))\n",
            "  Downloading dnspython-2.6.1-py3-none-any.whl (307 kB)\n",
            "\u001b[2K     \u001b[90m━━━━━━━━━━━━━━━━━━━━━━━━━━━━━━━━━━━━━━━━\u001b[0m \u001b[32m307.7/307.7 kB\u001b[0m \u001b[31m37.0 MB/s\u001b[0m eta \u001b[36m0:00:00\u001b[0m\n",
            "\u001b[?25hINFO: pip is looking at multiple versions of fastapi-cli to determine which version is compatible with other requirements. This could take a while.\n",
            "Collecting fastapi-cli>=0.0.2 (from fastapi->gradio->-r requirements.txt (line 14))\n",
            "  Downloading fastapi_cli-0.0.2-py3-none-any.whl (9.1 kB)\n",
            "Collecting fastapi (from gradio->-r requirements.txt (line 14))\n",
            "  Downloading fastapi-0.110.3-py3-none-any.whl (91 kB)\n",
            "\u001b[2K     \u001b[90m━━━━━━━━━━━━━━━━━━━━━━━━━━━━━━━━━━━━━━━━\u001b[0m \u001b[32m91.8/91.8 kB\u001b[0m \u001b[31m14.5 MB/s\u001b[0m eta \u001b[36m0:00:00\u001b[0m\n",
            "\u001b[?25hRequirement already satisfied: attrs>=22.2.0 in /usr/local/lib/python3.10/dist-packages (from jsonschema>=3.0->altair<6.0,>=4.2.0->gradio->-r requirements.txt (line 14)) (23.2.0)\n",
            "Requirement already satisfied: jsonschema-specifications>=2023.03.6 in /usr/local/lib/python3.10/dist-packages (from jsonschema>=3.0->altair<6.0,>=4.2.0->gradio->-r requirements.txt (line 14)) (2023.12.1)\n",
            "Requirement already satisfied: referencing>=0.28.4 in /usr/local/lib/python3.10/dist-packages (from jsonschema>=3.0->altair<6.0,>=4.2.0->gradio->-r requirements.txt (line 14)) (0.35.1)\n",
            "Requirement already satisfied: rpds-py>=0.7.1 in /usr/local/lib/python3.10/dist-packages (from jsonschema>=3.0->altair<6.0,>=4.2.0->gradio->-r requirements.txt (line 14)) (0.18.1)\n",
            "Requirement already satisfied: marisa-trie>=0.7.7 in /usr/local/lib/python3.10/dist-packages (from language-data>=1.2->langcodes<4.0.0,>=3.2.0->spacy->-r requirements.txt (line 13)) (1.1.1)\n",
            "Requirement already satisfied: markdown-it-py>=2.2.0 in /usr/local/lib/python3.10/dist-packages (from rich<14.0.0,>=10.11.0->typer<0.10.0,>=0.3.0->spacy->-r requirements.txt (line 13)) (3.0.0)\n",
            "Requirement already satisfied: pygments<3.0.0,>=2.13.0 in /usr/local/lib/python3.10/dist-packages (from rich<14.0.0,>=10.11.0->typer<0.10.0,>=0.3.0->spacy->-r requirements.txt (line 13)) (2.16.1)\n",
            "Requirement already satisfied: exceptiongroup in /usr/local/lib/python3.10/dist-packages (from anyio->httpx>=0.24.1->gradio->-r requirements.txt (line 14)) (1.2.1)\n",
            "Requirement already satisfied: mpmath>=0.19 in /usr/local/lib/python3.10/dist-packages (from sympy->torch>=1.10.0->accelerate==0.23.0->-r requirements.txt (line 4)) (1.3.0)\n",
            "Requirement already satisfied: mdurl~=0.1 in /usr/local/lib/python3.10/dist-packages (from markdown-it-py>=2.2.0->rich<14.0.0,>=10.11.0->typer<0.10.0,>=0.3.0->spacy->-r requirements.txt (line 13)) (0.1.2)\n",
            "Building wheels for collected packages: diffusers, daam, ffmpy\n",
            "  Building wheel for diffusers (pyproject.toml) ... \u001b[?25l\u001b[?25hdone\n",
            "  Created wheel for diffusers: filename=diffusers-0.21.2-py3-none-any.whl size=1489250 sha256=cb330c726af77c5e9b400e78b11f598ab1d575a663c40b48d3de35d267dfa8a7\n",
            "  Stored in directory: /root/.cache/pip/wheels/2e/09/32/11c9e42c397d3f3494226b28ba68c4ad4718a68a65dba14ea6\n",
            "  Building wheel for daam (setup.py) ... \u001b[?25l\u001b[?25hdone\n",
            "  Created wheel for daam: filename=daam-0.2.0-py3-none-any.whl size=23003 sha256=f5ea6d4c1a14c1444860dde9d06c7bf808ec769d79fb3f53ae29161083a760a9\n",
            "  Stored in directory: /root/.cache/pip/wheels/d4/2a/4c/7e9586fe9895d7d9f5c8dd58f1d20cc901dc936ed48651b7c2\n",
            "  Building wheel for ffmpy (setup.py) ... \u001b[?25l\u001b[?25hdone\n",
            "  Created wheel for ffmpy: filename=ffmpy-0.3.2-py3-none-any.whl size=5584 sha256=71f90a99e2102d6cdffba6077247252557745384dc1850be5b15730d46715394\n",
            "  Stored in directory: /root/.cache/pip/wheels/bd/65/9a/671fc6dcde07d4418df0c592f8df512b26d7a0029c2a23dd81\n",
            "Successfully built diffusers daam ffmpy\n",
            "Installing collected packages: tokenizers, pydub, ffmpy, websockets, tomlkit, shellingham, semantic-version, ruff, python-multipart, orjson, nvidia-nvtx-cu12, nvidia-nvjitlink-cu12, nvidia-nccl-cu12, nvidia-curand-cu12, nvidia-cufft-cu12, nvidia-cuda-runtime-cu12, nvidia-cuda-nvrtc-cu12, nvidia-cuda-cupti-cu12, nvidia-cublas-cu12, h11, ftfy, colorama, aiofiles, uvicorn, starlette, nvidia-cusparse-cu12, nvidia-cudnn-cu12, jaxlib, jax, httpcore, transformers, nvidia-cusolver-cu12, httpx, fastapi, diffusers, gradio-client, gradio, accelerate, daam\n",
            "  Attempting uninstall: tokenizers\n",
            "    Found existing installation: tokenizers 0.19.1\n",
            "    Uninstalling tokenizers-0.19.1:\n",
            "      Successfully uninstalled tokenizers-0.19.1\n",
            "  Attempting uninstall: jaxlib\n",
            "    Found existing installation: jaxlib 0.4.26+cuda12.cudnn89\n",
            "    Uninstalling jaxlib-0.4.26+cuda12.cudnn89:\n",
            "      Successfully uninstalled jaxlib-0.4.26+cuda12.cudnn89\n",
            "  Attempting uninstall: jax\n",
            "    Found existing installation: jax 0.4.26\n",
            "    Uninstalling jax-0.4.26:\n",
            "      Successfully uninstalled jax-0.4.26\n",
            "  Attempting uninstall: transformers\n",
            "    Found existing installation: transformers 4.40.2\n",
            "    Uninstalling transformers-4.40.2:\n",
            "      Successfully uninstalled transformers-4.40.2\n",
            "Successfully installed accelerate-0.23.0 aiofiles-23.2.1 colorama-0.4.6 daam-0.2.0 diffusers-0.21.2 fastapi-0.110.3 ffmpy-0.3.2 ftfy-6.2.0 gradio-4.26.0 gradio-client-0.15.1 h11-0.14.0 httpcore-1.0.5 httpx-0.27.0 jax-0.4.23 jaxlib-0.4.23 nvidia-cublas-cu12-12.1.3.1 nvidia-cuda-cupti-cu12-12.1.105 nvidia-cuda-nvrtc-cu12-12.1.105 nvidia-cuda-runtime-cu12-12.1.105 nvidia-cudnn-cu12-8.9.2.26 nvidia-cufft-cu12-11.0.2.54 nvidia-curand-cu12-10.3.2.106 nvidia-cusolver-cu12-11.4.5.107 nvidia-cusparse-cu12-12.1.0.106 nvidia-nccl-cu12-2.19.3 nvidia-nvjitlink-cu12-12.4.127 nvidia-nvtx-cu12-12.1.105 orjson-3.10.3 pydub-0.25.1 python-multipart-0.0.9 ruff-0.4.4 semantic-version-2.10.0 shellingham-1.5.4 starlette-0.37.2 tokenizers-0.13.3 tomlkit-0.12.0 transformers-4.30.2 uvicorn-0.29.0 websockets-11.0.3\n"
          ]
        }
      ]
    },
    {
      "cell_type": "code",
      "source": [
        "import torch\n",
        "\n",
        "torch.cuda.amp.autocast().__enter__()\n",
        "torch.set_grad_enabled(False);"
      ],
      "metadata": {
        "id": "rtSmmG-HXQD-"
      },
      "execution_count": null,
      "outputs": []
    },
    {
      "cell_type": "code",
      "execution_count": null,
      "metadata": {
        "id": "mxuCNoFZ5EWr"
      },
      "outputs": [],
      "source": [
        "import daam"
      ]
    },
    {
      "cell_type": "code",
      "execution_count": null,
      "metadata": {
        "id": "pHoHbZWe76EE"
      },
      "outputs": [],
      "source": [
        "from diffusers import StableDiffusionPipeline"
      ]
    },
    {
      "cell_type": "code",
      "source": [
        "from daam import set_seed, trace\n",
        "pipe = StableDiffusionPipeline.from_pretrained('stabilityai/stable-diffusion-2-1-base')\n",
        "pipe.to('cuda:0');"
      ],
      "metadata": {
        "colab": {
          "base_uri": "https://localhost:8080/",
          "referenced_widgets": [
            "54d24e06cdd3464587a908143576da1b",
            "58c18298b25047ce88a45b18eccacf45",
            "1cd3fd570c9d4316999c3a80f68f8e90",
            "576b3bb29aad40cd84577a03f9f3e862",
            "171050641c6647699afef90c75c7a0e9",
            "61dd51d23219481f99368c0af9d3a8ff",
            "c5986c762f0e47d893f7e9b999a196a9",
            "22a510fe6368469c9025a927d83a79b8",
            "4cbbf882ee844fe99277f47382767130",
            "ba7175922bdb4e0c85fa11ebe2d05c98",
            "1c6e3ae303fc4432b2e31ebbbd638213",
            "dad18bf28a5e4a0e8d0258f9010ffde8",
            "f305022b933244658a2d47acba3ab6bc",
            "82e849293ebc4049aab9909dfee1dc8d",
            "06a3f09d0c91409db82f77842f1eb125",
            "1e3b9acbaadb43309b6c49a6034542c9",
            "d0523e307a3e42b4bd2e73dc45af3fb9",
            "15926a9d09314557b465a6c3dddc7594",
            "f775b304248e4c7baffd2277470bd082",
            "74877a01e6ab45408b9c5f7183f82c98",
            "33fe87eb36c4438a932303e79b829c82",
            "204f469aa01b4f088769505a1b6fd2f9",
            "32a9bb7b639746acb58c37ae25b799a6",
            "a3c6227ca6e243a99182b2c225500b41",
            "3b6c15d0631543b9a54846c03b022d6e",
            "a83bc987bde44f4da8b20935f92dc485",
            "45da796ba2254c7a98c8569d8c08689f",
            "7ee44b9eb3444cab9e9d3ed4413a1ade",
            "8b2b14790f3041da9c663267dd58b070",
            "129e049c75b14c728bb275eb6ce7a441",
            "4301c7c5ce9a440198aefed3cbf16350",
            "f4048cdd5ce948a495023cb7a94b09a2",
            "c802d4cb060e47bc8a10143b257a96fb",
            "709ec58d94974dd58a2f1ed6e54b11b0",
            "084b6ca17ee84b3b8b512e1e1f71a1b4",
            "5fd4259e5da9421084d194a189f2d196",
            "5c531e444127454eb4af9f346c7a786f",
            "50741842e6d04b0387ef124de76528bd",
            "788ba92690c24be9905da6a3c1c2aa45",
            "c57f6a255c20479f83a997331473f852",
            "0d87da56c8364065b158f08e021d35ac",
            "062e7882e2de4b11b2dee0af28065783",
            "b1201154ff8c4074a94db99f6ae7468f",
            "31addc554ff845268f84569fb66f5bc3",
            "99200a04a31c4429ad53dee073d998f4",
            "2055e2bcfdc847bdaaa63c95e5775495",
            "04e4c93551644aac8123c8a972f9d1cf",
            "d4dc282bca0a49c3b2664afd26f0266e",
            "0d9e08b9443442e79075e49dfc4c164c",
            "3d64edaa370c4a4ab8226077508f7c24",
            "881ecfc28c2e467da5536b7a393f8b3e",
            "e6c32d17a4d34033b09c363522fddb3c",
            "611f89e29147473c9a75c1dbe395126a",
            "07c879598e544ccd887197a7bcef7974",
            "e0b55caf60fe470ba468e0a5e6a65ae2",
            "c1c3d57660164ffcbab46f10215bbd7c",
            "4398a7544bed414f84edf3221093860d",
            "85a5806e0c484be5a6ec492e57b17c9b",
            "66d17d167d1b4f5d8616e2968b3a7bb1",
            "6277ac593c7a405c8d23f4e1f1a32778",
            "4d88665651d04a0c894511c967dffb38",
            "536a196e9cd14198ada9c2fdc936688f",
            "350963daae324014816ce93d4e10f0b0",
            "70226e60c4f942e181d3254ba53e7ecc",
            "7be670d641d445b78309e63bae3df1af",
            "0b58300bb90a4fc9929b8d71dc7d3c7f",
            "ead8cc46a88d4441a184af6f1f21b2d5",
            "b85e850ccc584529a9e720a6dc183c10",
            "f2c137839b7f4ac88d491f8f341a071a",
            "c0371794f0a649418a9c26ae8540beb5",
            "c8880a25bb77401788199ade8de9521a",
            "b40eaab55e6b4631845dd0a3dd8b3ad6",
            "228cb96b7a60437a88d08f1bc6b0a5a2",
            "b4af8320f4b64199ab0618e889aea2b7",
            "c73654c81b604ce0bbb38854611d5927",
            "17ef7e713fe54bf7b57fc598ea62664f",
            "157cbe7470be483096dfb868db98850a",
            "a927217dd88b4723a159c5e101ce2ff6",
            "c9b0aace925d4ce5a90102af1a8dc0b4",
            "215d46fb27114e3f8bd548af8e16d78b",
            "b87bb73646d644cdbbfad50aa1e9a325",
            "135c66f1daf04cf99ff7ecc72e49d198",
            "22460b90655b4f4aa750bed3d17622b4",
            "c6616c951fa54b97b16d4198db5e4e41",
            "73e8efa6e2ae4f479d61fefb9e0a3a30",
            "0053bdb62841433b940ba728db6961a6",
            "92b30869e0164cd09613131df767adca",
            "9d1766e8f5724384bef861f75e4f26b7",
            "cee8e832856b4ee786bc9528a7bc5f13",
            "6ba6257cb8324a30835da2624a38ecf8",
            "517d350e2db74d68a4aa51ce5dae9d59",
            "74f990a6372a4108820242c91cdddc0a",
            "508ce1e63294478484b625405fcdc857",
            "05682c04a6e04d7baab5b2ef102c1507",
            "2b5c004855c341e595a9a1ae15884e4a",
            "19ac85597c38460bbb4531e070a50e0e",
            "8d7870012db244448ead46fb3efbe833",
            "6960501c8f4546d795d6c3e1d0639de9",
            "10708442984a465796e0d558286a418b",
            "89e3ffcc4d1a433ab51949d4b45e5e60",
            "15ea1f8b03444fb5857b3eb1520ede1c",
            "b8589d921f7d4dffb7b81a448534dbb7",
            "b421f1d840a94d85a1920b8f7082c314",
            "4f82eae95f32476f8d56c8d6c30cae4a",
            "8df51ba86976417aa53210484e0f07d9",
            "9abf9744ab6a4d33b5854bfbf0a87387",
            "8573c8656b4844bd83e5e6a09040ef81",
            "dc97f723215d4c2ea3e72b679ef2e9cd",
            "57945860ec154fe597b3801f7bc0c60e",
            "9507590b77ce4a22b40f046d71fa5671",
            "67e70626e28449cfb3d47512dec74e50",
            "6abadad6b6cd485ab8b0fea89c122360",
            "7efecf71fab843e8a217f5b222390958",
            "51fa36e221994cc38c4fd5928dd04ccc",
            "cb828f6489ce495db8c39af470670633",
            "3ffa9c64bdae42ccbb1d17cd10607bfd",
            "9977fe8be2c3406287f7b4485babcce4",
            "b17435a9e9ce4b57b413b60f4688ea78",
            "0e7faf26dcaa4a2ca360210bb1891346",
            "2e6390014c1e48c7bca40899783a59de",
            "859f7e848d054f73a2cd01eb1c0cc3c9",
            "f04baf3538234991ae5574db44f84377",
            "c4d9c97e6ed041c3aef7d087ce471583",
            "fb40c2ab8ebb481f94c30d073feea428",
            "81a7f6ed07934a2da7d22d93c761007c",
            "f5108109f6d7478888697060793a76b8",
            "5372608fd25b46c0acdba642b0dc4097",
            "e1984cf9392d471c8146d5fa405efeab",
            "818ae922c1274685a249f62bd83f1925",
            "a79bb4689c6a427a8001b04ba7e76db6",
            "a029bad5e16d44c1bfa3b87c4d7f3daa",
            "a3cdb84e3bea483d9f2f06523b10ecdd",
            "8bf187e3993e45c6b84824581c6ef3f5",
            "6067528319834cdbbf847e6d7ec53f6c",
            "687ecf6673044cc2a5ff83ee08469054",
            "5226cbd5b77e4d6b863c732577b02a87",
            "9a6215cb32084ac695e8bfc81cdef2bb",
            "8f13342217ba42d1a7c234fabdc93b27",
            "2400523b15c84939829a83a463a4dc81",
            "3da752e081204c8abfc2d31e4f9a7c59",
            "9f9780e6389c4395adf5f04a767c683c",
            "a30d1c67cc20417083d4b435ba5b8d6b",
            "2926a64e03574e3e9d2f5e1a98d403ed",
            "4d33f6ed41cd49ad928f0b63bcaf2170",
            "bd1259c648434191a395676500927b52",
            "f03ba00798604184a627d6c5ebeaa7ae",
            "1b071d913631449e90e6b235a63e62fe",
            "6604f832da0b4a5589d41d3d840ddf47",
            "15ca773dd1504cb6ade83e24b39895bb",
            "84e9948d45a546818c80fa13e475a204",
            "3880479582544cb4a914e9dcdcf896a9",
            "696a0deb5c5b4396bb54d52b8016efc5",
            "74b04dcf22744e7eab110b2d7a9bc930",
            "64d8f06431d647748d6569c3432b0098",
            "403b84b9dcfc426f9e9d0316acecf6da",
            "123faad28a414a8cb5034d6bb3544413",
            "729ed7c6f1e1419b986c09a643eecb5a",
            "24d11a58ab404eb3ae1d93e48727f5f4",
            "189bf32ae9ce4c38ac47a348dc90f869",
            "a1e600f5674d4328b1290a689abf106f",
            "62e2b815c37445cca3a5a6c8388a91d6",
            "4de4280cb5bd4a889588fbe2995261ef",
            "c5e0da96b815440a9dccfa786cff242d",
            "b71c174d548049b588379db6f8f1db7b",
            "7f903f5e09134feba23005ec5c739573"
          ]
        },
        "id": "oyU_NeS7XhSB",
        "outputId": "cd0c129a-cba5-483a-f6a3-9215dd384427",
        "collapsed": true
      },
      "execution_count": null,
      "outputs": [
        {
          "output_type": "stream",
          "name": "stderr",
          "text": [
            "/usr/local/lib/python3.10/dist-packages/huggingface_hub/utils/_token.py:88: UserWarning: \n",
            "The secret `HF_TOKEN` does not exist in your Colab secrets.\n",
            "To authenticate with the Hugging Face Hub, create a token in your settings tab (https://huggingface.co/settings/tokens), set it as secret in your Google Colab and restart your session.\n",
            "You will be able to reuse this secret in all of your notebooks.\n",
            "Please note that authentication is recommended but still optional to access public models or datasets.\n",
            "  warnings.warn(\n"
          ]
        },
        {
          "output_type": "display_data",
          "data": {
            "text/plain": [
              "model_index.json:   0%|          | 0.00/543 [00:00<?, ?B/s]"
            ],
            "application/vnd.jupyter.widget-view+json": {
              "version_major": 2,
              "version_minor": 0,
              "model_id": "54d24e06cdd3464587a908143576da1b"
            }
          },
          "metadata": {}
        },
        {
          "output_type": "display_data",
          "data": {
            "text/plain": [
              "Fetching 13 files:   0%|          | 0/13 [00:00<?, ?it/s]"
            ],
            "application/vnd.jupyter.widget-view+json": {
              "version_major": 2,
              "version_minor": 0,
              "model_id": "dad18bf28a5e4a0e8d0258f9010ffde8"
            }
          },
          "metadata": {}
        },
        {
          "output_type": "display_data",
          "data": {
            "text/plain": [
              "scheduler/scheduler_config.json:   0%|          | 0.00/346 [00:00<?, ?B/s]"
            ],
            "application/vnd.jupyter.widget-view+json": {
              "version_major": 2,
              "version_minor": 0,
              "model_id": "32a9bb7b639746acb58c37ae25b799a6"
            }
          },
          "metadata": {}
        },
        {
          "output_type": "display_data",
          "data": {
            "text/plain": [
              "text_encoder/config.json:   0%|          | 0.00/613 [00:00<?, ?B/s]"
            ],
            "application/vnd.jupyter.widget-view+json": {
              "version_major": 2,
              "version_minor": 0,
              "model_id": "709ec58d94974dd58a2f1ed6e54b11b0"
            }
          },
          "metadata": {}
        },
        {
          "output_type": "display_data",
          "data": {
            "text/plain": [
              "tokenizer/tokenizer_config.json:   0%|          | 0.00/807 [00:00<?, ?B/s]"
            ],
            "application/vnd.jupyter.widget-view+json": {
              "version_major": 2,
              "version_minor": 0,
              "model_id": "99200a04a31c4429ad53dee073d998f4"
            }
          },
          "metadata": {}
        },
        {
          "output_type": "display_data",
          "data": {
            "text/plain": [
              "tokenizer/merges.txt:   0%|          | 0.00/525k [00:00<?, ?B/s]"
            ],
            "application/vnd.jupyter.widget-view+json": {
              "version_major": 2,
              "version_minor": 0,
              "model_id": "c1c3d57660164ffcbab46f10215bbd7c"
            }
          },
          "metadata": {}
        },
        {
          "output_type": "display_data",
          "data": {
            "text/plain": [
              "tokenizer/vocab.json:   0%|          | 0.00/1.06M [00:00<?, ?B/s]"
            ],
            "application/vnd.jupyter.widget-view+json": {
              "version_major": 2,
              "version_minor": 0,
              "model_id": "ead8cc46a88d4441a184af6f1f21b2d5"
            }
          },
          "metadata": {}
        },
        {
          "output_type": "display_data",
          "data": {
            "text/plain": [
              "tokenizer/special_tokens_map.json:   0%|          | 0.00/460 [00:00<?, ?B/s]"
            ],
            "application/vnd.jupyter.widget-view+json": {
              "version_major": 2,
              "version_minor": 0,
              "model_id": "a927217dd88b4723a159c5e101ce2ff6"
            }
          },
          "metadata": {}
        },
        {
          "output_type": "display_data",
          "data": {
            "text/plain": [
              "(…)ature_extractor/preprocessor_config.json:   0%|          | 0.00/342 [00:00<?, ?B/s]"
            ],
            "application/vnd.jupyter.widget-view+json": {
              "version_major": 2,
              "version_minor": 0,
              "model_id": "cee8e832856b4ee786bc9528a7bc5f13"
            }
          },
          "metadata": {}
        },
        {
          "output_type": "display_data",
          "data": {
            "text/plain": [
              "unet/config.json:   0%|          | 0.00/911 [00:00<?, ?B/s]"
            ],
            "application/vnd.jupyter.widget-view+json": {
              "version_major": 2,
              "version_minor": 0,
              "model_id": "89e3ffcc4d1a433ab51949d4b45e5e60"
            }
          },
          "metadata": {}
        },
        {
          "output_type": "display_data",
          "data": {
            "text/plain": [
              "vae/config.json:   0%|          | 0.00/553 [00:00<?, ?B/s]"
            ],
            "application/vnd.jupyter.widget-view+json": {
              "version_major": 2,
              "version_minor": 0,
              "model_id": "67e70626e28449cfb3d47512dec74e50"
            }
          },
          "metadata": {}
        },
        {
          "output_type": "display_data",
          "data": {
            "text/plain": [
              "model.safetensors:   0%|          | 0.00/1.36G [00:00<?, ?B/s]"
            ],
            "application/vnd.jupyter.widget-view+json": {
              "version_major": 2,
              "version_minor": 0,
              "model_id": "f04baf3538234991ae5574db44f84377"
            }
          },
          "metadata": {}
        },
        {
          "output_type": "display_data",
          "data": {
            "text/plain": [
              "diffusion_pytorch_model.safetensors:   0%|          | 0.00/335M [00:00<?, ?B/s]"
            ],
            "application/vnd.jupyter.widget-view+json": {
              "version_major": 2,
              "version_minor": 0,
              "model_id": "8bf187e3993e45c6b84824581c6ef3f5"
            }
          },
          "metadata": {}
        },
        {
          "output_type": "display_data",
          "data": {
            "text/plain": [
              "diffusion_pytorch_model.safetensors:   0%|          | 0.00/3.46G [00:00<?, ?B/s]"
            ],
            "application/vnd.jupyter.widget-view+json": {
              "version_major": 2,
              "version_minor": 0,
              "model_id": "4d33f6ed41cd49ad928f0b63bcaf2170"
            }
          },
          "metadata": {}
        },
        {
          "output_type": "display_data",
          "data": {
            "text/plain": [
              "Loading pipeline components...:   0%|          | 0/6 [00:00<?, ?it/s]"
            ],
            "application/vnd.jupyter.widget-view+json": {
              "version_major": 2,
              "version_minor": 0,
              "model_id": "403b84b9dcfc426f9e9d0316acecf6da"
            }
          },
          "metadata": {}
        }
      ]
    },
    {
      "cell_type": "code",
      "source": [
        "import pandas as pd\n",
        "df = pd.read_csv('final_coco_dataframe.csv')"
      ],
      "metadata": {
        "id": "ti0y41kHWW5F"
      },
      "execution_count": null,
      "outputs": []
    },
    {
      "cell_type": "markdown",
      "source": [
        "#Generate DAAM Maps"
      ],
      "metadata": {
        "id": "UXjc2wjAXxxn"
      }
    },
    {
      "cell_type": "code",
      "source": [
        "torch.cuda.empty_cache()"
      ],
      "metadata": {
        "id": "9_gcoqOQHSbm"
      },
      "execution_count": null,
      "outputs": []
    },
    {
      "cell_type": "code",
      "source": [
        "import torch\n",
        "from tqdm import tqdm\n",
        "from pathlib import Path\n",
        "\n",
        "def generate_images(df, start_idx=0, batch_size=2):\n",
        "    total_batches = (len(df) - start_idx) // batch_size + ((len(df) - start_idx) % batch_size > 0)\n",
        "    output_folder = Path('experiments')\n",
        "    output_folder.mkdir(exist_ok=True)\n",
        "\n",
        "    for batch_num in range(total_batches):\n",
        "        start = start_idx + batch_num * batch_size\n",
        "        end = min(start + batch_size, len(df))\n",
        "        batch_df = df.iloc[start:end]\n",
        "\n",
        "        for _, row in tqdm(batch_df.iterrows(), total=len(batch_df), desc=f'Batch {batch_num+1}/{total_batches}'):\n",
        "            id, caption = row['id'], row['caption']\n",
        "            try:\n",
        "                gen = set_seed(id)\n",
        "                with torch.no_grad():\n",
        "                    with trace(pipe) as tc:\n",
        "                        out = pipe(caption, num_inference_steps=20, generator=gen)\n",
        "                        exp = tc.to_experiment(output_folder, id=str(id), seed=id)\n",
        "                        exp.save(output_folder, heat_maps=False)\n",
        "                torch.cuda.empty_cache()\n",
        "            except Exception as e:\n",
        "                print(f\"Error processing id {id}: {e}\")\n",
        "\n",
        "        # Save progress after each batch\n",
        "        with open('progress.txt', 'w') as f:\n",
        "            f.write(str(end))\n",
        "\n",
        "# Check for existing progress and resume\n",
        "try:\n",
        "    with open('progress.txt', 'r') as f:\n",
        "        start_index = int(f.read().strip())\n",
        "except FileNotFoundError:\n",
        "    start_index = 0\n",
        "\n",
        "generate_images(df, start_idx=start_index)"
      ],
      "metadata": {
        "id": "z2EcdLpkHZXT"
      },
      "execution_count": null,
      "outputs": []
    },
    {
      "cell_type": "code",
      "source": [
        "# Set the path to the 'experiments' directory\n",
        "experiment_path = Path('experiments')\n",
        "\n",
        "# Use a generator expression to count directories\n",
        "folder_count = sum(1 for entry in experiment_path.iterdir() if entry.is_dir())\n",
        "\n",
        "print(f\"There are {folder_count} folders in {experiment_path}\")"
      ],
      "metadata": {
        "colab": {
          "base_uri": "https://localhost:8080/"
        },
        "id": "g0GHC138dO4a",
        "outputId": "37cf1e16-c7ef-49a4-c2b7-e39b49516200"
      },
      "execution_count": null,
      "outputs": [
        {
          "output_type": "stream",
          "name": "stdout",
          "text": [
            "There are 870 folders in experiments\n"
          ]
        }
      ]
    },
    {
      "cell_type": "markdown",
      "source": [
        "# Parse and analyse"
      ],
      "metadata": {
        "id": "KlSguNgSYJEr"
      }
    },
    {
      "cell_type": "code",
      "source": [
        "from matplotlib import pyplot as plt\n",
        "from daam import GenerationExperiment"
      ],
      "metadata": {
        "id": "LG1NJysSYMQN"
      },
      "execution_count": null,
      "outputs": []
    },
    {
      "cell_type": "code",
      "source": [
        "def iou(a, b, t: float = 0.1) -> float:\n",
        "    intersection = (a > t) & (b > t)\n",
        "    union = (a > t) | (b > t)\n",
        "\n",
        "    i = intersection.float().sum()\n",
        "    u = union.float().sum()\n",
        "\n",
        "    if u < 1e-6:\n",
        "        return 0.0\n",
        "    else:\n",
        "        return (i / u).item()"
      ],
      "metadata": {
        "id": "cHHFQyyRbpV6"
      },
      "execution_count": null,
      "outputs": []
    },
    {
      "cell_type": "code",
      "source": [
        "import pandas as pd\n",
        "import gc\n",
        "from pathlib import Path\n",
        "from tqdm import tqdm\n",
        "from daam import GenerationExperiment\n",
        "\n",
        "print(\"DataFrame loaded with {} rows.\".format(len(df)))\n",
        "\n",
        "stats = []\n",
        "\n",
        "# Use itertuples for more efficient row iteration\n",
        "for row in tqdm(df.itertuples(index=True), total=len(df)):\n",
        "    experiment_path = Path('experiments') / str(row.id)\n",
        "    if experiment_path.exists():\n",
        "        print(f\"Loading experiment from: {experiment_path}\")\n",
        "        exp = GenerationExperiment.load(experiment_path)\n",
        "    else:\n",
        "        print(f\"Experiment path does not exist: {experiment_path}\")\n",
        "        continue\n",
        "\n",
        "    try:\n",
        "        heat_map = exp.heat_map()\n",
        "        word_maps = {}\n",
        "        words_of_interest = ['preposition', 'subject', 'object', 'verb']\n",
        "\n",
        "        for word_type in words_of_interest:\n",
        "            word = getattr(row, word_type)\n",
        "            if pd.notna(word):\n",
        "                try:\n",
        "                    word_maps[word_type] = heat_map.compute_word_heat_map(word).value.cuda()\n",
        "                except ValueError as ve:\n",
        "                    print(f\"Could not compute heat map for {word_type}: {word}, Error: {ve}\")\n",
        "\n",
        "        pairs_of_interest = [('preposition', 'subject'), ('preposition', 'object'), ('preposition', 'verb')]\n",
        "        for head_type, dep_type in pairs_of_interest:\n",
        "            if head_type in word_maps and dep_type in word_maps:\n",
        "                iou_value = iou(word_maps[head_type], word_maps[dep_type])\n",
        "                stats.append({\n",
        "                    'pair': f\"{head_type}-{dep_type}\",\n",
        "                    'preposition': getattr(row, 'preposition'),\n",
        "                    'iou': iou_value,\n",
        "                    'experiment_path': str(experiment_path)\n",
        "                })\n",
        "\n",
        "    except Exception as e:\n",
        "        print(f\"Error processing {str(experiment_path)}: {str(e)}\")\n",
        "\n",
        "    # Clear memory after each row is processed\n",
        "    del exp\n",
        "    gc.collect()\n",
        "\n",
        "stats_df = pd.DataFrame(stats)\n",
        "print(\"Statistics collected:\")\n",
        "print(stats_df)"
      ],
      "metadata": {
        "colab": {
          "base_uri": "https://localhost:8080/"
        },
        "id": "ZkdPKNy4buRJ",
        "outputId": "bd1593be-f26e-47a6-90ab-2ec6013f2899",
        "collapsed": true
      },
      "execution_count": null,
      "outputs": [
        {
          "output_type": "stream",
          "name": "stdout",
          "text": [
            "DataFrame loaded with 870 rows.\n"
          ]
        },
        {
          "output_type": "stream",
          "name": "stderr",
          "text": [
            "\r  0%|          | 0/870 [00:00<?, ?it/s]"
          ]
        },
        {
          "output_type": "stream",
          "name": "stdout",
          "text": [
            "Loading experiment from: experiments/770625\n"
          ]
        },
        {
          "output_type": "stream",
          "name": "stderr",
          "text": [
            "\r  0%|          | 1/870 [00:00<07:37,  1.90it/s]"
          ]
        },
        {
          "output_type": "stream",
          "name": "stdout",
          "text": [
            "Loading experiment from: experiments/765550\n"
          ]
        },
        {
          "output_type": "stream",
          "name": "stderr",
          "text": [
            "\r  0%|          | 2/870 [00:01<07:23,  1.96it/s]"
          ]
        },
        {
          "output_type": "stream",
          "name": "stdout",
          "text": [
            "Loading experiment from: experiments/370135\n"
          ]
        },
        {
          "output_type": "stream",
          "name": "stderr",
          "text": [
            "\r  0%|          | 3/870 [00:01<07:14,  1.99it/s]"
          ]
        },
        {
          "output_type": "stream",
          "name": "stdout",
          "text": [
            "Loading experiment from: experiments/694991\n"
          ]
        },
        {
          "output_type": "stream",
          "name": "stderr",
          "text": [
            "\r  0%|          | 4/870 [00:02<07:14,  1.99it/s]"
          ]
        },
        {
          "output_type": "stream",
          "name": "stdout",
          "text": [
            "Loading experiment from: experiments/768641\n"
          ]
        },
        {
          "output_type": "stream",
          "name": "stderr",
          "text": [
            "\r  1%|          | 5/870 [00:02<07:22,  1.96it/s]"
          ]
        },
        {
          "output_type": "stream",
          "name": "stdout",
          "text": [
            "Loading experiment from: experiments/734511\n"
          ]
        },
        {
          "output_type": "stream",
          "name": "stderr",
          "text": [
            "\r  1%|          | 6/870 [00:03<07:20,  1.96it/s]"
          ]
        },
        {
          "output_type": "stream",
          "name": "stdout",
          "text": [
            "Loading experiment from: experiments/566393\n"
          ]
        },
        {
          "output_type": "stream",
          "name": "stderr",
          "text": [
            "\r  1%|          | 7/870 [00:03<07:20,  1.96it/s]"
          ]
        },
        {
          "output_type": "stream",
          "name": "stdout",
          "text": [
            "Loading experiment from: experiments/51721\n"
          ]
        },
        {
          "output_type": "stream",
          "name": "stderr",
          "text": [
            "\r  1%|          | 8/870 [00:04<07:22,  1.95it/s]"
          ]
        },
        {
          "output_type": "stream",
          "name": "stdout",
          "text": [
            "Loading experiment from: experiments/492389\n"
          ]
        },
        {
          "output_type": "stream",
          "name": "stderr",
          "text": [
            "\r  1%|          | 9/870 [00:04<07:36,  1.89it/s]"
          ]
        },
        {
          "output_type": "stream",
          "name": "stdout",
          "text": [
            "Loading experiment from: experiments/15681\n"
          ]
        },
        {
          "output_type": "stream",
          "name": "stderr",
          "text": [
            "\r  1%|          | 10/870 [00:05<08:08,  1.76it/s]"
          ]
        },
        {
          "output_type": "stream",
          "name": "stdout",
          "text": [
            "Loading experiment from: experiments/734907\n"
          ]
        },
        {
          "output_type": "stream",
          "name": "stderr",
          "text": [
            "\r  1%|▏         | 11/870 [00:05<08:34,  1.67it/s]"
          ]
        },
        {
          "output_type": "stream",
          "name": "stdout",
          "text": [
            "Loading experiment from: experiments/460679\n"
          ]
        },
        {
          "output_type": "stream",
          "name": "stderr",
          "text": [
            "\r  1%|▏         | 12/870 [00:06<08:48,  1.62it/s]"
          ]
        },
        {
          "output_type": "stream",
          "name": "stdout",
          "text": [
            "Loading experiment from: experiments/628993\n"
          ]
        },
        {
          "output_type": "stream",
          "name": "stderr",
          "text": [
            "\r  1%|▏         | 13/870 [00:07<09:04,  1.57it/s]"
          ]
        },
        {
          "output_type": "stream",
          "name": "stdout",
          "text": [
            "Loading experiment from: experiments/711283\n"
          ]
        },
        {
          "output_type": "stream",
          "name": "stderr",
          "text": [
            "\r  2%|▏         | 14/870 [00:07<08:32,  1.67it/s]"
          ]
        },
        {
          "output_type": "stream",
          "name": "stdout",
          "text": [
            "Loading experiment from: experiments/124819\n"
          ]
        },
        {
          "output_type": "stream",
          "name": "stderr",
          "text": [
            "\r  2%|▏         | 15/870 [00:08<08:01,  1.77it/s]"
          ]
        },
        {
          "output_type": "stream",
          "name": "stdout",
          "text": [
            "Loading experiment from: experiments/622366\n"
          ]
        },
        {
          "output_type": "stream",
          "name": "stderr",
          "text": [
            "\r  2%|▏         | 16/870 [00:08<07:43,  1.84it/s]"
          ]
        },
        {
          "output_type": "stream",
          "name": "stdout",
          "text": [
            "Loading experiment from: experiments/770470\n"
          ]
        },
        {
          "output_type": "stream",
          "name": "stderr",
          "text": [
            "\r  2%|▏         | 17/870 [00:09<07:30,  1.89it/s]"
          ]
        },
        {
          "output_type": "stream",
          "name": "stdout",
          "text": [
            "Loading experiment from: experiments/750839\n"
          ]
        },
        {
          "output_type": "stream",
          "name": "stderr",
          "text": [
            "\r  2%|▏         | 18/870 [00:09<07:21,  1.93it/s]"
          ]
        },
        {
          "output_type": "stream",
          "name": "stdout",
          "text": [
            "Loading experiment from: experiments/144988\n"
          ]
        },
        {
          "output_type": "stream",
          "name": "stderr",
          "text": [
            "\r  2%|▏         | 19/870 [00:10<07:12,  1.97it/s]"
          ]
        },
        {
          "output_type": "stream",
          "name": "stdout",
          "text": [
            "Loading experiment from: experiments/128515\n"
          ]
        },
        {
          "output_type": "stream",
          "name": "stderr",
          "text": [
            "\r  2%|▏         | 20/870 [00:10<07:08,  1.98it/s]"
          ]
        },
        {
          "output_type": "stream",
          "name": "stdout",
          "text": [
            "Loading experiment from: experiments/93596\n"
          ]
        },
        {
          "output_type": "stream",
          "name": "stderr",
          "text": [
            "\r  2%|▏         | 21/870 [00:11<07:01,  2.01it/s]"
          ]
        },
        {
          "output_type": "stream",
          "name": "stdout",
          "text": [
            "Loading experiment from: experiments/584465\n"
          ]
        },
        {
          "output_type": "stream",
          "name": "stderr",
          "text": [
            "\r  3%|▎         | 22/870 [00:11<06:57,  2.03it/s]"
          ]
        },
        {
          "output_type": "stream",
          "name": "stdout",
          "text": [
            "Loading experiment from: experiments/206160\n"
          ]
        },
        {
          "output_type": "stream",
          "name": "stderr",
          "text": [
            "\r  3%|▎         | 23/870 [00:12<06:57,  2.03it/s]"
          ]
        },
        {
          "output_type": "stream",
          "name": "stdout",
          "text": [
            "Loading experiment from: experiments/762204\n"
          ]
        },
        {
          "output_type": "stream",
          "name": "stderr",
          "text": [
            "\r  3%|▎         | 24/870 [00:12<06:54,  2.04it/s]"
          ]
        },
        {
          "output_type": "stream",
          "name": "stdout",
          "text": [
            "Loading experiment from: experiments/690171\n"
          ]
        },
        {
          "output_type": "stream",
          "name": "stderr",
          "text": [
            "\r  3%|▎         | 25/870 [00:13<06:55,  2.03it/s]"
          ]
        },
        {
          "output_type": "stream",
          "name": "stdout",
          "text": [
            "Loading experiment from: experiments/189493\n"
          ]
        },
        {
          "output_type": "stream",
          "name": "stderr",
          "text": [
            "\r  3%|▎         | 26/870 [00:13<06:52,  2.04it/s]"
          ]
        },
        {
          "output_type": "stream",
          "name": "stdout",
          "text": [
            "Loading experiment from: experiments/275927\n"
          ]
        },
        {
          "output_type": "stream",
          "name": "stderr",
          "text": [
            "\r  3%|▎         | 27/870 [00:14<06:56,  2.02it/s]"
          ]
        },
        {
          "output_type": "stream",
          "name": "stdout",
          "text": [
            "Loading experiment from: experiments/35767\n"
          ]
        },
        {
          "output_type": "stream",
          "name": "stderr",
          "text": [
            "\r  3%|▎         | 28/870 [00:14<06:55,  2.03it/s]"
          ]
        },
        {
          "output_type": "stream",
          "name": "stdout",
          "text": [
            "Loading experiment from: experiments/283744\n"
          ]
        },
        {
          "output_type": "stream",
          "name": "stderr",
          "text": [
            "\r  3%|▎         | 29/870 [00:15<06:58,  2.01it/s]"
          ]
        },
        {
          "output_type": "stream",
          "name": "stdout",
          "text": [
            "Loading experiment from: experiments/687166\n"
          ]
        },
        {
          "output_type": "stream",
          "name": "stderr",
          "text": [
            "\r  3%|▎         | 30/870 [00:15<06:56,  2.02it/s]"
          ]
        },
        {
          "output_type": "stream",
          "name": "stdout",
          "text": [
            "Loading experiment from: experiments/614657\n"
          ]
        },
        {
          "output_type": "stream",
          "name": "stderr",
          "text": [
            "\r  4%|▎         | 31/870 [00:16<06:57,  2.01it/s]"
          ]
        },
        {
          "output_type": "stream",
          "name": "stdout",
          "text": [
            "Loading experiment from: experiments/215117\n"
          ]
        },
        {
          "output_type": "stream",
          "name": "stderr",
          "text": [
            "\r  4%|▎         | 32/870 [00:16<06:55,  2.02it/s]"
          ]
        },
        {
          "output_type": "stream",
          "name": "stdout",
          "text": [
            "Loading experiment from: experiments/171821\n"
          ]
        },
        {
          "output_type": "stream",
          "name": "stderr",
          "text": [
            "\r  4%|▍         | 33/870 [00:17<06:55,  2.01it/s]"
          ]
        },
        {
          "output_type": "stream",
          "name": "stdout",
          "text": [
            "Loading experiment from: experiments/292466\n"
          ]
        },
        {
          "output_type": "stream",
          "name": "stderr",
          "text": [
            "\r  4%|▍         | 34/870 [00:17<07:23,  1.89it/s]"
          ]
        },
        {
          "output_type": "stream",
          "name": "stdout",
          "text": [
            "Loading experiment from: experiments/99171\n"
          ]
        },
        {
          "output_type": "stream",
          "name": "stderr",
          "text": [
            "\r  4%|▍         | 35/870 [00:18<08:01,  1.73it/s]"
          ]
        },
        {
          "output_type": "stream",
          "name": "stdout",
          "text": [
            "Loading experiment from: experiments/85883\n",
            "Could not compute heat map for verb: being peddled, Error: Search word being peddled not found in prompt!\n"
          ]
        },
        {
          "output_type": "stream",
          "name": "stderr",
          "text": [
            "\r  4%|▍         | 36/870 [00:19<08:21,  1.66it/s]"
          ]
        },
        {
          "output_type": "stream",
          "name": "stdout",
          "text": [
            "Loading experiment from: experiments/84251\n"
          ]
        },
        {
          "output_type": "stream",
          "name": "stderr",
          "text": [
            "\r  4%|▍         | 37/870 [00:19<08:33,  1.62it/s]"
          ]
        },
        {
          "output_type": "stream",
          "name": "stdout",
          "text": [
            "Loading experiment from: experiments/808279\n"
          ]
        },
        {
          "output_type": "stream",
          "name": "stderr",
          "text": [
            "\r  4%|▍         | 38/870 [00:20<08:47,  1.58it/s]"
          ]
        },
        {
          "output_type": "stream",
          "name": "stdout",
          "text": [
            "Loading experiment from: experiments/365933\n"
          ]
        },
        {
          "output_type": "stream",
          "name": "stderr",
          "text": [
            "\r  4%|▍         | 39/870 [00:20<08:12,  1.69it/s]"
          ]
        },
        {
          "output_type": "stream",
          "name": "stdout",
          "text": [
            "Loading experiment from: experiments/488117\n"
          ]
        },
        {
          "output_type": "stream",
          "name": "stderr",
          "text": [
            "\r  5%|▍         | 40/870 [00:21<07:48,  1.77it/s]"
          ]
        },
        {
          "output_type": "stream",
          "name": "stdout",
          "text": [
            "Loading experiment from: experiments/426237\n"
          ]
        },
        {
          "output_type": "stream",
          "name": "stderr",
          "text": [
            "\r  5%|▍         | 41/870 [00:21<07:26,  1.86it/s]"
          ]
        },
        {
          "output_type": "stream",
          "name": "stdout",
          "text": [
            "Loading experiment from: experiments/104038\n"
          ]
        },
        {
          "output_type": "stream",
          "name": "stderr",
          "text": [
            "\r  5%|▍         | 42/870 [00:22<07:12,  1.92it/s]"
          ]
        },
        {
          "output_type": "stream",
          "name": "stdout",
          "text": [
            "Loading experiment from: experiments/414035\n"
          ]
        },
        {
          "output_type": "stream",
          "name": "stderr",
          "text": [
            "\r  5%|▍         | 43/870 [00:22<07:01,  1.96it/s]"
          ]
        },
        {
          "output_type": "stream",
          "name": "stdout",
          "text": [
            "Loading experiment from: experiments/255949\n"
          ]
        },
        {
          "output_type": "stream",
          "name": "stderr",
          "text": [
            "\r  5%|▌         | 44/870 [00:23<06:58,  1.97it/s]"
          ]
        },
        {
          "output_type": "stream",
          "name": "stdout",
          "text": [
            "Loading experiment from: experiments/36608\n"
          ]
        },
        {
          "output_type": "stream",
          "name": "stderr",
          "text": [
            "\r  5%|▌         | 45/870 [00:23<06:50,  2.01it/s]"
          ]
        },
        {
          "output_type": "stream",
          "name": "stdout",
          "text": [
            "Loading experiment from: experiments/41595\n"
          ]
        },
        {
          "output_type": "stream",
          "name": "stderr",
          "text": [
            "\r  5%|▌         | 46/870 [00:24<06:49,  2.01it/s]"
          ]
        },
        {
          "output_type": "stream",
          "name": "stdout",
          "text": [
            "Loading experiment from: experiments/285753\n"
          ]
        },
        {
          "output_type": "stream",
          "name": "stderr",
          "text": [
            "\r  5%|▌         | 47/870 [00:24<06:46,  2.02it/s]"
          ]
        },
        {
          "output_type": "stream",
          "name": "stdout",
          "text": [
            "Loading experiment from: experiments/787666\n"
          ]
        },
        {
          "output_type": "stream",
          "name": "stderr",
          "text": [
            "\r  6%|▌         | 48/870 [00:25<06:48,  2.01it/s]"
          ]
        },
        {
          "output_type": "stream",
          "name": "stdout",
          "text": [
            "Loading experiment from: experiments/430295\n"
          ]
        },
        {
          "output_type": "stream",
          "name": "stderr",
          "text": [
            "\r  6%|▌         | 49/870 [00:25<06:49,  2.00it/s]"
          ]
        },
        {
          "output_type": "stream",
          "name": "stdout",
          "text": [
            "Loading experiment from: experiments/569526\n"
          ]
        },
        {
          "output_type": "stream",
          "name": "stderr",
          "text": [
            "\r  6%|▌         | 50/870 [00:26<06:57,  1.96it/s]"
          ]
        },
        {
          "output_type": "stream",
          "name": "stdout",
          "text": [
            "Loading experiment from: experiments/768391\n"
          ]
        },
        {
          "output_type": "stream",
          "name": "stderr",
          "text": [
            "\r  6%|▌         | 51/870 [00:26<06:54,  1.97it/s]"
          ]
        },
        {
          "output_type": "stream",
          "name": "stdout",
          "text": [
            "Loading experiment from: experiments/74246\n"
          ]
        },
        {
          "output_type": "stream",
          "name": "stderr",
          "text": [
            "\r  6%|▌         | 52/870 [00:27<06:55,  1.97it/s]"
          ]
        },
        {
          "output_type": "stream",
          "name": "stdout",
          "text": [
            "Loading experiment from: experiments/27141\n"
          ]
        },
        {
          "output_type": "stream",
          "name": "stderr",
          "text": [
            "\r  6%|▌         | 53/870 [00:27<06:55,  1.97it/s]"
          ]
        },
        {
          "output_type": "stream",
          "name": "stdout",
          "text": [
            "Loading experiment from: experiments/325298\n"
          ]
        },
        {
          "output_type": "stream",
          "name": "stderr",
          "text": [
            "\r  6%|▌         | 54/870 [00:28<06:57,  1.96it/s]"
          ]
        },
        {
          "output_type": "stream",
          "name": "stdout",
          "text": [
            "Loading experiment from: experiments/217727\n"
          ]
        },
        {
          "output_type": "stream",
          "name": "stderr",
          "text": [
            "\r  6%|▋         | 55/870 [00:28<06:59,  1.94it/s]"
          ]
        },
        {
          "output_type": "stream",
          "name": "stdout",
          "text": [
            "Loading experiment from: experiments/654453\n"
          ]
        },
        {
          "output_type": "stream",
          "name": "stderr",
          "text": [
            "\r  6%|▋         | 56/870 [00:29<06:56,  1.95it/s]"
          ]
        },
        {
          "output_type": "stream",
          "name": "stdout",
          "text": [
            "Loading experiment from: experiments/172833\n"
          ]
        },
        {
          "output_type": "stream",
          "name": "stderr",
          "text": [
            "\r  7%|▋         | 57/870 [00:29<06:58,  1.94it/s]"
          ]
        },
        {
          "output_type": "stream",
          "name": "stdout",
          "text": [
            "Loading experiment from: experiments/490736\n"
          ]
        },
        {
          "output_type": "stream",
          "name": "stderr",
          "text": [
            "\r  7%|▋         | 58/870 [00:30<08:53,  1.52it/s]"
          ]
        },
        {
          "output_type": "stream",
          "name": "stdout",
          "text": [
            "Loading experiment from: experiments/827061\n"
          ]
        },
        {
          "output_type": "stream",
          "name": "stderr",
          "text": [
            "\r  7%|▋         | 59/870 [00:31<08:57,  1.51it/s]"
          ]
        },
        {
          "output_type": "stream",
          "name": "stdout",
          "text": [
            "Loading experiment from: experiments/791971\n"
          ]
        },
        {
          "output_type": "stream",
          "name": "stderr",
          "text": [
            "\r  7%|▋         | 60/870 [00:32<08:57,  1.51it/s]"
          ]
        },
        {
          "output_type": "stream",
          "name": "stdout",
          "text": [
            "Loading experiment from: experiments/425512\n"
          ]
        },
        {
          "output_type": "stream",
          "name": "stderr",
          "text": [
            "\r  7%|▋         | 61/870 [00:32<08:55,  1.51it/s]"
          ]
        },
        {
          "output_type": "stream",
          "name": "stdout",
          "text": [
            "Loading experiment from: experiments/194154\n"
          ]
        },
        {
          "output_type": "stream",
          "name": "stderr",
          "text": [
            "\r  7%|▋         | 62/870 [00:33<08:58,  1.50it/s]"
          ]
        },
        {
          "output_type": "stream",
          "name": "stdout",
          "text": [
            "Loading experiment from: experiments/317697\n"
          ]
        },
        {
          "output_type": "stream",
          "name": "stderr",
          "text": [
            "\r  7%|▋         | 63/870 [00:34<08:14,  1.63it/s]"
          ]
        },
        {
          "output_type": "stream",
          "name": "stdout",
          "text": [
            "Loading experiment from: experiments/8468\n"
          ]
        },
        {
          "output_type": "stream",
          "name": "stderr",
          "text": [
            "\r  7%|▋         | 64/870 [00:34<07:46,  1.73it/s]"
          ]
        },
        {
          "output_type": "stream",
          "name": "stdout",
          "text": [
            "Loading experiment from: experiments/94896\n"
          ]
        },
        {
          "output_type": "stream",
          "name": "stderr",
          "text": [
            "\r  7%|▋         | 65/870 [00:35<07:28,  1.80it/s]"
          ]
        },
        {
          "output_type": "stream",
          "name": "stdout",
          "text": [
            "Loading experiment from: experiments/714060\n"
          ]
        },
        {
          "output_type": "stream",
          "name": "stderr",
          "text": [
            "\r  8%|▊         | 66/870 [00:35<07:16,  1.84it/s]"
          ]
        },
        {
          "output_type": "stream",
          "name": "stdout",
          "text": [
            "Loading experiment from: experiments/239153\n"
          ]
        },
        {
          "output_type": "stream",
          "name": "stderr",
          "text": [
            "\r  8%|▊         | 67/870 [00:36<07:06,  1.88it/s]"
          ]
        },
        {
          "output_type": "stream",
          "name": "stdout",
          "text": [
            "Loading experiment from: experiments/466163\n"
          ]
        },
        {
          "output_type": "stream",
          "name": "stderr",
          "text": [
            "\r  8%|▊         | 68/870 [00:36<07:03,  1.89it/s]"
          ]
        },
        {
          "output_type": "stream",
          "name": "stdout",
          "text": [
            "Loading experiment from: experiments/545517\n"
          ]
        },
        {
          "output_type": "stream",
          "name": "stderr",
          "text": [
            "\r  8%|▊         | 69/870 [00:37<06:55,  1.93it/s]"
          ]
        },
        {
          "output_type": "stream",
          "name": "stdout",
          "text": [
            "Loading experiment from: experiments/759552\n"
          ]
        },
        {
          "output_type": "stream",
          "name": "stderr",
          "text": [
            "\r  8%|▊         | 70/870 [00:37<06:53,  1.93it/s]"
          ]
        },
        {
          "output_type": "stream",
          "name": "stdout",
          "text": [
            "Loading experiment from: experiments/797290\n"
          ]
        },
        {
          "output_type": "stream",
          "name": "stderr",
          "text": [
            "\r  8%|▊         | 71/870 [00:38<06:50,  1.95it/s]"
          ]
        },
        {
          "output_type": "stream",
          "name": "stdout",
          "text": [
            "Loading experiment from: experiments/827716\n"
          ]
        },
        {
          "output_type": "stream",
          "name": "stderr",
          "text": [
            "\r  8%|▊         | 72/870 [00:38<06:49,  1.95it/s]"
          ]
        },
        {
          "output_type": "stream",
          "name": "stdout",
          "text": [
            "Loading experiment from: experiments/212641\n"
          ]
        },
        {
          "output_type": "stream",
          "name": "stderr",
          "text": [
            "\r  8%|▊         | 73/870 [00:39<06:44,  1.97it/s]"
          ]
        },
        {
          "output_type": "stream",
          "name": "stdout",
          "text": [
            "Loading experiment from: experiments/13487\n"
          ]
        },
        {
          "output_type": "stream",
          "name": "stderr",
          "text": [
            "\r  9%|▊         | 74/870 [00:39<06:44,  1.97it/s]"
          ]
        },
        {
          "output_type": "stream",
          "name": "stdout",
          "text": [
            "Loading experiment from: experiments/323698\n"
          ]
        },
        {
          "output_type": "stream",
          "name": "stderr",
          "text": [
            "\r  9%|▊         | 75/870 [00:40<06:40,  1.99it/s]"
          ]
        },
        {
          "output_type": "stream",
          "name": "stdout",
          "text": [
            "Loading experiment from: experiments/316623\n"
          ]
        },
        {
          "output_type": "stream",
          "name": "stderr",
          "text": [
            "\r  9%|▊         | 76/870 [00:40<06:40,  1.98it/s]"
          ]
        },
        {
          "output_type": "stream",
          "name": "stdout",
          "text": [
            "Loading experiment from: experiments/475601\n"
          ]
        },
        {
          "output_type": "stream",
          "name": "stderr",
          "text": [
            "\r  9%|▉         | 77/870 [00:41<06:38,  1.99it/s]"
          ]
        },
        {
          "output_type": "stream",
          "name": "stdout",
          "text": [
            "Loading experiment from: experiments/623509\n"
          ]
        },
        {
          "output_type": "stream",
          "name": "stderr",
          "text": [
            "\r  9%|▉         | 78/870 [00:41<06:38,  1.99it/s]"
          ]
        },
        {
          "output_type": "stream",
          "name": "stdout",
          "text": [
            "Loading experiment from: experiments/733084\n"
          ]
        },
        {
          "output_type": "stream",
          "name": "stderr",
          "text": [
            "\r  9%|▉         | 79/870 [00:42<06:35,  2.00it/s]"
          ]
        },
        {
          "output_type": "stream",
          "name": "stdout",
          "text": [
            "Loading experiment from: experiments/786111\n"
          ]
        },
        {
          "output_type": "stream",
          "name": "stderr",
          "text": [
            "\r  9%|▉         | 80/870 [00:42<06:39,  1.98it/s]"
          ]
        },
        {
          "output_type": "stream",
          "name": "stdout",
          "text": [
            "Loading experiment from: experiments/355648\n"
          ]
        },
        {
          "output_type": "stream",
          "name": "stderr",
          "text": [
            "\r  9%|▉         | 81/870 [00:43<06:35,  2.00it/s]"
          ]
        },
        {
          "output_type": "stream",
          "name": "stdout",
          "text": [
            "Loading experiment from: experiments/418903\n"
          ]
        },
        {
          "output_type": "stream",
          "name": "stderr",
          "text": [
            "\r  9%|▉         | 82/870 [00:43<06:39,  1.97it/s]"
          ]
        },
        {
          "output_type": "stream",
          "name": "stdout",
          "text": [
            "Loading experiment from: experiments/144798\n"
          ]
        },
        {
          "output_type": "stream",
          "name": "stderr",
          "text": [
            "\r 10%|▉         | 83/870 [00:44<07:13,  1.81it/s]"
          ]
        },
        {
          "output_type": "stream",
          "name": "stdout",
          "text": [
            "Loading experiment from: experiments/250798\n"
          ]
        },
        {
          "output_type": "stream",
          "name": "stderr",
          "text": [
            "\r 10%|▉         | 84/870 [00:45<07:47,  1.68it/s]"
          ]
        },
        {
          "output_type": "stream",
          "name": "stdout",
          "text": [
            "Loading experiment from: experiments/787064\n"
          ]
        },
        {
          "output_type": "stream",
          "name": "stderr",
          "text": [
            "\r 10%|▉         | 85/870 [00:45<08:02,  1.63it/s]"
          ]
        },
        {
          "output_type": "stream",
          "name": "stdout",
          "text": [
            "Loading experiment from: experiments/565510\n"
          ]
        },
        {
          "output_type": "stream",
          "name": "stderr",
          "text": [
            "\r 10%|▉         | 86/870 [00:46<08:23,  1.56it/s]"
          ]
        },
        {
          "output_type": "stream",
          "name": "stdout",
          "text": [
            "Loading experiment from: experiments/738861\n"
          ]
        },
        {
          "output_type": "stream",
          "name": "stderr",
          "text": [
            "\r 10%|█         | 87/870 [00:47<08:11,  1.59it/s]"
          ]
        },
        {
          "output_type": "stream",
          "name": "stdout",
          "text": [
            "Loading experiment from: experiments/434364\n"
          ]
        },
        {
          "output_type": "stream",
          "name": "stderr",
          "text": [
            "\r 10%|█         | 88/870 [00:47<07:39,  1.70it/s]"
          ]
        },
        {
          "output_type": "stream",
          "name": "stdout",
          "text": [
            "Loading experiment from: experiments/153969\n"
          ]
        },
        {
          "output_type": "stream",
          "name": "stderr",
          "text": [
            "\r 10%|█         | 89/870 [00:48<07:22,  1.77it/s]"
          ]
        },
        {
          "output_type": "stream",
          "name": "stdout",
          "text": [
            "Loading experiment from: experiments/512756\n"
          ]
        },
        {
          "output_type": "stream",
          "name": "stderr",
          "text": [
            "\r 10%|█         | 90/870 [00:48<07:12,  1.80it/s]"
          ]
        },
        {
          "output_type": "stream",
          "name": "stdout",
          "text": [
            "Loading experiment from: experiments/79919\n"
          ]
        },
        {
          "output_type": "stream",
          "name": "stderr",
          "text": [
            "\r 10%|█         | 91/870 [00:49<07:01,  1.85it/s]"
          ]
        },
        {
          "output_type": "stream",
          "name": "stdout",
          "text": [
            "Loading experiment from: experiments/581672\n"
          ]
        },
        {
          "output_type": "stream",
          "name": "stderr",
          "text": [
            "\r 11%|█         | 92/870 [00:49<06:52,  1.88it/s]"
          ]
        },
        {
          "output_type": "stream",
          "name": "stdout",
          "text": [
            "Loading experiment from: experiments/136266\n"
          ]
        },
        {
          "output_type": "stream",
          "name": "stderr",
          "text": [
            "\r 11%|█         | 93/870 [00:50<06:50,  1.89it/s]"
          ]
        },
        {
          "output_type": "stream",
          "name": "stdout",
          "text": [
            "Loading experiment from: experiments/379035\n"
          ]
        },
        {
          "output_type": "stream",
          "name": "stderr",
          "text": [
            "\r 11%|█         | 94/870 [00:50<06:42,  1.93it/s]"
          ]
        },
        {
          "output_type": "stream",
          "name": "stdout",
          "text": [
            "Loading experiment from: experiments/669848\n"
          ]
        },
        {
          "output_type": "stream",
          "name": "stderr",
          "text": [
            "\r 11%|█         | 95/870 [00:51<06:40,  1.94it/s]"
          ]
        },
        {
          "output_type": "stream",
          "name": "stdout",
          "text": [
            "Loading experiment from: experiments/736865\n"
          ]
        },
        {
          "output_type": "stream",
          "name": "stderr",
          "text": [
            "\r 11%|█         | 96/870 [00:51<06:33,  1.96it/s]"
          ]
        },
        {
          "output_type": "stream",
          "name": "stdout",
          "text": [
            "Loading experiment from: experiments/19458\n"
          ]
        },
        {
          "output_type": "stream",
          "name": "stderr",
          "text": [
            "\r 11%|█         | 97/870 [00:52<06:34,  1.96it/s]"
          ]
        },
        {
          "output_type": "stream",
          "name": "stdout",
          "text": [
            "Loading experiment from: experiments/189276\n"
          ]
        },
        {
          "output_type": "stream",
          "name": "stderr",
          "text": [
            "\r 11%|█▏        | 98/870 [00:52<06:28,  1.99it/s]"
          ]
        },
        {
          "output_type": "stream",
          "name": "stdout",
          "text": [
            "Loading experiment from: experiments/476292\n"
          ]
        },
        {
          "output_type": "stream",
          "name": "stderr",
          "text": [
            "\r 11%|█▏        | 99/870 [00:53<06:28,  1.99it/s]"
          ]
        },
        {
          "output_type": "stream",
          "name": "stdout",
          "text": [
            "Loading experiment from: experiments/327981\n"
          ]
        },
        {
          "output_type": "stream",
          "name": "stderr",
          "text": [
            "\r 11%|█▏        | 100/870 [00:53<06:25,  2.00it/s]"
          ]
        },
        {
          "output_type": "stream",
          "name": "stdout",
          "text": [
            "Loading experiment from: experiments/216000\n"
          ]
        },
        {
          "output_type": "stream",
          "name": "stderr",
          "text": [
            "\r 12%|█▏        | 101/870 [00:54<06:25,  1.99it/s]"
          ]
        },
        {
          "output_type": "stream",
          "name": "stdout",
          "text": [
            "Loading experiment from: experiments/576963\n"
          ]
        },
        {
          "output_type": "stream",
          "name": "stderr",
          "text": [
            "\r 12%|█▏        | 102/870 [00:54<06:22,  2.01it/s]"
          ]
        },
        {
          "output_type": "stream",
          "name": "stdout",
          "text": [
            "Loading experiment from: experiments/222385\n"
          ]
        },
        {
          "output_type": "stream",
          "name": "stderr",
          "text": [
            "\r 12%|█▏        | 103/870 [00:55<06:21,  2.01it/s]"
          ]
        },
        {
          "output_type": "stream",
          "name": "stdout",
          "text": [
            "Loading experiment from: experiments/516324\n"
          ]
        },
        {
          "output_type": "stream",
          "name": "stderr",
          "text": [
            "\r 12%|█▏        | 104/870 [00:55<06:18,  2.02it/s]"
          ]
        },
        {
          "output_type": "stream",
          "name": "stdout",
          "text": [
            "Loading experiment from: experiments/19526\n"
          ]
        },
        {
          "output_type": "stream",
          "name": "stderr",
          "text": [
            "\r 12%|█▏        | 105/870 [00:56<06:18,  2.02it/s]"
          ]
        },
        {
          "output_type": "stream",
          "name": "stdout",
          "text": [
            "Loading experiment from: experiments/108154\n"
          ]
        },
        {
          "output_type": "stream",
          "name": "stderr",
          "text": [
            "\r 12%|█▏        | 106/870 [00:56<06:15,  2.03it/s]"
          ]
        },
        {
          "output_type": "stream",
          "name": "stdout",
          "text": [
            "Loading experiment from: experiments/519398\n"
          ]
        },
        {
          "output_type": "stream",
          "name": "stderr",
          "text": [
            "\r 12%|█▏        | 107/870 [00:57<06:40,  1.91it/s]"
          ]
        },
        {
          "output_type": "stream",
          "name": "stdout",
          "text": [
            "Loading experiment from: experiments/249316\n"
          ]
        },
        {
          "output_type": "stream",
          "name": "stderr",
          "text": [
            "\r 12%|█▏        | 108/870 [00:57<07:11,  1.77it/s]"
          ]
        },
        {
          "output_type": "stream",
          "name": "stdout",
          "text": [
            "Loading experiment from: experiments/382719\n"
          ]
        },
        {
          "output_type": "stream",
          "name": "stderr",
          "text": [
            "\r 13%|█▎        | 109/870 [00:58<07:37,  1.66it/s]"
          ]
        },
        {
          "output_type": "stream",
          "name": "stdout",
          "text": [
            "Loading experiment from: experiments/94669\n"
          ]
        },
        {
          "output_type": "stream",
          "name": "stderr",
          "text": [
            "\r 13%|█▎        | 110/870 [00:59<07:54,  1.60it/s]"
          ]
        },
        {
          "output_type": "stream",
          "name": "stdout",
          "text": [
            "Loading experiment from: experiments/443022\n"
          ]
        },
        {
          "output_type": "stream",
          "name": "stderr",
          "text": [
            "\r 13%|█▎        | 111/870 [00:59<08:07,  1.56it/s]"
          ]
        },
        {
          "output_type": "stream",
          "name": "stdout",
          "text": [
            "Loading experiment from: experiments/6942\n"
          ]
        },
        {
          "output_type": "stream",
          "name": "stderr",
          "text": [
            "\r 13%|█▎        | 112/870 [01:00<07:36,  1.66it/s]"
          ]
        },
        {
          "output_type": "stream",
          "name": "stdout",
          "text": [
            "Loading experiment from: experiments/64503\n"
          ]
        },
        {
          "output_type": "stream",
          "name": "stderr",
          "text": [
            "\r 13%|█▎        | 113/870 [01:00<07:11,  1.76it/s]"
          ]
        },
        {
          "output_type": "stream",
          "name": "stdout",
          "text": [
            "Loading experiment from: experiments/374563\n"
          ]
        },
        {
          "output_type": "stream",
          "name": "stderr",
          "text": [
            "\r 13%|█▎        | 114/870 [01:01<06:58,  1.80it/s]"
          ]
        },
        {
          "output_type": "stream",
          "name": "stdout",
          "text": [
            "Loading experiment from: experiments/104585\n"
          ]
        },
        {
          "output_type": "stream",
          "name": "stderr",
          "text": [
            "\r 13%|█▎        | 115/870 [01:01<06:44,  1.87it/s]"
          ]
        },
        {
          "output_type": "stream",
          "name": "stdout",
          "text": [
            "Loading experiment from: experiments/400153\n"
          ]
        },
        {
          "output_type": "stream",
          "name": "stderr",
          "text": [
            "\r 13%|█▎        | 116/870 [01:02<06:39,  1.89it/s]"
          ]
        },
        {
          "output_type": "stream",
          "name": "stdout",
          "text": [
            "Loading experiment from: experiments/89181\n"
          ]
        },
        {
          "output_type": "stream",
          "name": "stderr",
          "text": [
            "\r 13%|█▎        | 117/870 [01:02<06:36,  1.90it/s]"
          ]
        },
        {
          "output_type": "stream",
          "name": "stdout",
          "text": [
            "Loading experiment from: experiments/406005\n"
          ]
        },
        {
          "output_type": "stream",
          "name": "stderr",
          "text": [
            "\r 14%|█▎        | 118/870 [01:03<06:34,  1.91it/s]"
          ]
        },
        {
          "output_type": "stream",
          "name": "stdout",
          "text": [
            "Loading experiment from: experiments/474914\n"
          ]
        },
        {
          "output_type": "stream",
          "name": "stderr",
          "text": [
            "\r 14%|█▎        | 119/870 [01:03<06:32,  1.91it/s]"
          ]
        },
        {
          "output_type": "stream",
          "name": "stdout",
          "text": [
            "Loading experiment from: experiments/445648\n"
          ]
        },
        {
          "output_type": "stream",
          "name": "stderr",
          "text": [
            "\r 14%|█▍        | 120/870 [01:04<06:28,  1.93it/s]"
          ]
        },
        {
          "output_type": "stream",
          "name": "stdout",
          "text": [
            "Loading experiment from: experiments/539421\n"
          ]
        },
        {
          "output_type": "stream",
          "name": "stderr",
          "text": [
            "\r 14%|█▍        | 121/870 [01:04<06:22,  1.96it/s]"
          ]
        },
        {
          "output_type": "stream",
          "name": "stdout",
          "text": [
            "Loading experiment from: experiments/532615\n"
          ]
        },
        {
          "output_type": "stream",
          "name": "stderr",
          "text": [
            "\r 14%|█▍        | 122/870 [01:05<06:19,  1.97it/s]"
          ]
        },
        {
          "output_type": "stream",
          "name": "stdout",
          "text": [
            "Loading experiment from: experiments/234200\n"
          ]
        },
        {
          "output_type": "stream",
          "name": "stderr",
          "text": [
            "\r 14%|█▍        | 123/870 [01:05<06:19,  1.97it/s]"
          ]
        },
        {
          "output_type": "stream",
          "name": "stdout",
          "text": [
            "Loading experiment from: experiments/683896\n"
          ]
        },
        {
          "output_type": "stream",
          "name": "stderr",
          "text": [
            "\r 14%|█▍        | 124/870 [01:06<06:16,  1.98it/s]"
          ]
        },
        {
          "output_type": "stream",
          "name": "stdout",
          "text": [
            "Loading experiment from: experiments/767578\n"
          ]
        },
        {
          "output_type": "stream",
          "name": "stderr",
          "text": [
            "\r 14%|█▍        | 125/870 [01:06<06:15,  1.99it/s]"
          ]
        },
        {
          "output_type": "stream",
          "name": "stdout",
          "text": [
            "Loading experiment from: experiments/556566\n"
          ]
        },
        {
          "output_type": "stream",
          "name": "stderr",
          "text": [
            "\r 14%|█▍        | 126/870 [01:07<06:13,  1.99it/s]"
          ]
        },
        {
          "output_type": "stream",
          "name": "stdout",
          "text": [
            "Loading experiment from: experiments/288306\n"
          ]
        },
        {
          "output_type": "stream",
          "name": "stderr",
          "text": [
            "\r 15%|█▍        | 127/870 [01:07<06:10,  2.00it/s]"
          ]
        },
        {
          "output_type": "stream",
          "name": "stdout",
          "text": [
            "Loading experiment from: experiments/516848\n"
          ]
        },
        {
          "output_type": "stream",
          "name": "stderr",
          "text": [
            "\r 15%|█▍        | 128/870 [01:08<06:10,  2.00it/s]"
          ]
        },
        {
          "output_type": "stream",
          "name": "stdout",
          "text": [
            "Loading experiment from: experiments/766974\n"
          ]
        },
        {
          "output_type": "stream",
          "name": "stderr",
          "text": [
            "\r 15%|█▍        | 129/870 [01:08<06:11,  2.00it/s]"
          ]
        },
        {
          "output_type": "stream",
          "name": "stdout",
          "text": [
            "Loading experiment from: experiments/557521\n"
          ]
        },
        {
          "output_type": "stream",
          "name": "stderr",
          "text": [
            "\r 15%|█▍        | 130/870 [01:09<06:10,  2.00it/s]"
          ]
        },
        {
          "output_type": "stream",
          "name": "stdout",
          "text": [
            "Loading experiment from: experiments/120292\n"
          ]
        },
        {
          "output_type": "stream",
          "name": "stderr",
          "text": [
            "\r 15%|█▌        | 131/870 [01:10<06:20,  1.94it/s]"
          ]
        },
        {
          "output_type": "stream",
          "name": "stdout",
          "text": [
            "Loading experiment from: experiments/437511\n"
          ]
        },
        {
          "output_type": "stream",
          "name": "stderr",
          "text": [
            "\r 15%|█▌        | 132/870 [01:10<06:48,  1.81it/s]"
          ]
        },
        {
          "output_type": "stream",
          "name": "stdout",
          "text": [
            "Loading experiment from: experiments/728865\n"
          ]
        },
        {
          "output_type": "stream",
          "name": "stderr",
          "text": [
            "\r 15%|█▌        | 133/870 [01:11<07:14,  1.69it/s]"
          ]
        },
        {
          "output_type": "stream",
          "name": "stdout",
          "text": [
            "Loading experiment from: experiments/222017\n"
          ]
        },
        {
          "output_type": "stream",
          "name": "stderr",
          "text": [
            "\r 15%|█▌        | 134/870 [01:12<07:34,  1.62it/s]"
          ]
        },
        {
          "output_type": "stream",
          "name": "stdout",
          "text": [
            "Loading experiment from: experiments/28629\n"
          ]
        },
        {
          "output_type": "stream",
          "name": "stderr",
          "text": [
            "\r 16%|█▌        | 135/870 [01:12<07:53,  1.55it/s]"
          ]
        },
        {
          "output_type": "stream",
          "name": "stdout",
          "text": [
            "Loading experiment from: experiments/627885\n"
          ]
        },
        {
          "output_type": "stream",
          "name": "stderr",
          "text": [
            "\r 16%|█▌        | 136/870 [01:13<07:37,  1.60it/s]"
          ]
        },
        {
          "output_type": "stream",
          "name": "stdout",
          "text": [
            "Loading experiment from: experiments/103400\n"
          ]
        },
        {
          "output_type": "stream",
          "name": "stderr",
          "text": [
            "\r 16%|█▌        | 137/870 [01:13<07:09,  1.71it/s]"
          ]
        },
        {
          "output_type": "stream",
          "name": "stdout",
          "text": [
            "Loading experiment from: experiments/428289\n"
          ]
        },
        {
          "output_type": "stream",
          "name": "stderr",
          "text": [
            "\r 16%|█▌        | 138/870 [01:14<06:49,  1.79it/s]"
          ]
        },
        {
          "output_type": "stream",
          "name": "stdout",
          "text": [
            "Loading experiment from: experiments/622459\n"
          ]
        },
        {
          "output_type": "stream",
          "name": "stderr",
          "text": [
            "\r 16%|█▌        | 139/870 [01:14<06:36,  1.84it/s]"
          ]
        },
        {
          "output_type": "stream",
          "name": "stdout",
          "text": [
            "Loading experiment from: experiments/379917\n"
          ]
        },
        {
          "output_type": "stream",
          "name": "stderr",
          "text": [
            "\r 16%|█▌        | 140/870 [01:15<06:25,  1.89it/s]"
          ]
        },
        {
          "output_type": "stream",
          "name": "stdout",
          "text": [
            "Loading experiment from: experiments/256138\n"
          ]
        },
        {
          "output_type": "stream",
          "name": "stderr",
          "text": [
            "\r 16%|█▌        | 141/870 [01:15<06:16,  1.94it/s]"
          ]
        },
        {
          "output_type": "stream",
          "name": "stdout",
          "text": [
            "Loading experiment from: experiments/186764\n"
          ]
        },
        {
          "output_type": "stream",
          "name": "stderr",
          "text": [
            "\r 16%|█▋        | 142/870 [01:16<06:09,  1.97it/s]"
          ]
        },
        {
          "output_type": "stream",
          "name": "stdout",
          "text": [
            "Loading experiment from: experiments/823538\n"
          ]
        },
        {
          "output_type": "stream",
          "name": "stderr",
          "text": [
            "\r 16%|█▋        | 143/870 [01:16<06:09,  1.97it/s]"
          ]
        },
        {
          "output_type": "stream",
          "name": "stdout",
          "text": [
            "Loading experiment from: experiments/42201\n"
          ]
        },
        {
          "output_type": "stream",
          "name": "stderr",
          "text": [
            "\r 17%|█▋        | 144/870 [01:17<06:05,  1.99it/s]"
          ]
        },
        {
          "output_type": "stream",
          "name": "stdout",
          "text": [
            "Loading experiment from: experiments/355611\n"
          ]
        },
        {
          "output_type": "stream",
          "name": "stderr",
          "text": [
            "\r 17%|█▋        | 145/870 [01:17<06:02,  2.00it/s]"
          ]
        },
        {
          "output_type": "stream",
          "name": "stdout",
          "text": [
            "Loading experiment from: experiments/365178\n"
          ]
        },
        {
          "output_type": "stream",
          "name": "stderr",
          "text": [
            "\r 17%|█▋        | 146/870 [01:18<06:01,  2.00it/s]"
          ]
        },
        {
          "output_type": "stream",
          "name": "stdout",
          "text": [
            "Loading experiment from: experiments/720190\n"
          ]
        },
        {
          "output_type": "stream",
          "name": "stderr",
          "text": [
            "\r 17%|█▋        | 147/870 [01:18<06:05,  1.98it/s]"
          ]
        },
        {
          "output_type": "stream",
          "name": "stdout",
          "text": [
            "Loading experiment from: experiments/583529\n"
          ]
        },
        {
          "output_type": "stream",
          "name": "stderr",
          "text": [
            "\r 17%|█▋        | 148/870 [01:19<06:04,  1.98it/s]"
          ]
        },
        {
          "output_type": "stream",
          "name": "stdout",
          "text": [
            "Loading experiment from: experiments/782299\n"
          ]
        },
        {
          "output_type": "stream",
          "name": "stderr",
          "text": [
            "\r 17%|█▋        | 149/870 [01:19<06:02,  1.99it/s]"
          ]
        },
        {
          "output_type": "stream",
          "name": "stdout",
          "text": [
            "Loading experiment from: experiments/267879\n"
          ]
        },
        {
          "output_type": "stream",
          "name": "stderr",
          "text": [
            "\r 17%|█▋        | 150/870 [01:20<06:00,  2.00it/s]"
          ]
        },
        {
          "output_type": "stream",
          "name": "stdout",
          "text": [
            "Loading experiment from: experiments/313606\n"
          ]
        },
        {
          "output_type": "stream",
          "name": "stderr",
          "text": [
            "\r 17%|█▋        | 151/870 [01:20<05:56,  2.02it/s]"
          ]
        },
        {
          "output_type": "stream",
          "name": "stdout",
          "text": [
            "Loading experiment from: experiments/736388\n"
          ]
        },
        {
          "output_type": "stream",
          "name": "stderr",
          "text": [
            "\r 17%|█▋        | 152/870 [01:21<05:58,  2.01it/s]"
          ]
        },
        {
          "output_type": "stream",
          "name": "stdout",
          "text": [
            "Loading experiment from: experiments/410320\n"
          ]
        },
        {
          "output_type": "stream",
          "name": "stderr",
          "text": [
            "\r 18%|█▊        | 153/870 [01:21<05:59,  2.00it/s]"
          ]
        },
        {
          "output_type": "stream",
          "name": "stdout",
          "text": [
            "Loading experiment from: experiments/609863\n"
          ]
        },
        {
          "output_type": "stream",
          "name": "stderr",
          "text": [
            "\r 18%|█▊        | 154/870 [01:22<05:55,  2.02it/s]"
          ]
        },
        {
          "output_type": "stream",
          "name": "stdout",
          "text": [
            "Loading experiment from: experiments/305481\n"
          ]
        },
        {
          "output_type": "stream",
          "name": "stderr",
          "text": [
            "\r 18%|█▊        | 155/870 [01:22<05:53,  2.02it/s]"
          ]
        },
        {
          "output_type": "stream",
          "name": "stdout",
          "text": [
            "Loading experiment from: experiments/547444\n"
          ]
        },
        {
          "output_type": "stream",
          "name": "stderr",
          "text": [
            "\r 18%|█▊        | 156/870 [01:23<06:19,  1.88it/s]"
          ]
        },
        {
          "output_type": "stream",
          "name": "stdout",
          "text": [
            "Loading experiment from: experiments/608156\n"
          ]
        },
        {
          "output_type": "stream",
          "name": "stderr",
          "text": [
            "\r 18%|█▊        | 157/870 [01:24<06:51,  1.73it/s]"
          ]
        },
        {
          "output_type": "stream",
          "name": "stdout",
          "text": [
            "Loading experiment from: experiments/91825\n"
          ]
        },
        {
          "output_type": "stream",
          "name": "stderr",
          "text": [
            "\r 18%|█▊        | 158/870 [01:24<07:11,  1.65it/s]"
          ]
        },
        {
          "output_type": "stream",
          "name": "stdout",
          "text": [
            "Loading experiment from: experiments/173905\n"
          ]
        },
        {
          "output_type": "stream",
          "name": "stderr",
          "text": [
            "\r 18%|█▊        | 159/870 [01:25<07:25,  1.60it/s]"
          ]
        },
        {
          "output_type": "stream",
          "name": "stdout",
          "text": [
            "Loading experiment from: experiments/642925\n"
          ]
        },
        {
          "output_type": "stream",
          "name": "stderr",
          "text": [
            "\r 18%|█▊        | 160/870 [01:26<07:34,  1.56it/s]"
          ]
        },
        {
          "output_type": "stream",
          "name": "stdout",
          "text": [
            "Loading experiment from: experiments/124648\n"
          ]
        },
        {
          "output_type": "stream",
          "name": "stderr",
          "text": [
            "\r 19%|█▊        | 161/870 [01:26<07:01,  1.68it/s]"
          ]
        },
        {
          "output_type": "stream",
          "name": "stdout",
          "text": [
            "Loading experiment from: experiments/453451\n"
          ]
        },
        {
          "output_type": "stream",
          "name": "stderr",
          "text": [
            "\r 19%|█▊        | 162/870 [01:27<06:35,  1.79it/s]"
          ]
        },
        {
          "output_type": "stream",
          "name": "stdout",
          "text": [
            "Loading experiment from: experiments/657647\n"
          ]
        },
        {
          "output_type": "stream",
          "name": "stderr",
          "text": [
            "\r 19%|█▊        | 163/870 [01:27<06:20,  1.86it/s]"
          ]
        },
        {
          "output_type": "stream",
          "name": "stdout",
          "text": [
            "Loading experiment from: experiments/132631\n"
          ]
        },
        {
          "output_type": "stream",
          "name": "stderr",
          "text": [
            "\r 19%|█▉        | 164/870 [01:28<06:16,  1.87it/s]"
          ]
        },
        {
          "output_type": "stream",
          "name": "stdout",
          "text": [
            "Loading experiment from: experiments/19289\n"
          ]
        },
        {
          "output_type": "stream",
          "name": "stderr",
          "text": [
            "\r 19%|█▉        | 165/870 [01:28<06:11,  1.90it/s]"
          ]
        },
        {
          "output_type": "stream",
          "name": "stdout",
          "text": [
            "Loading experiment from: experiments/85356\n"
          ]
        },
        {
          "output_type": "stream",
          "name": "stderr",
          "text": [
            "\r 19%|█▉        | 166/870 [01:29<06:06,  1.92it/s]"
          ]
        },
        {
          "output_type": "stream",
          "name": "stdout",
          "text": [
            "Loading experiment from: experiments/294186\n"
          ]
        },
        {
          "output_type": "stream",
          "name": "stderr",
          "text": [
            "\r 19%|█▉        | 167/870 [01:29<06:01,  1.94it/s]"
          ]
        },
        {
          "output_type": "stream",
          "name": "stdout",
          "text": [
            "Loading experiment from: experiments/230342\n"
          ]
        },
        {
          "output_type": "stream",
          "name": "stderr",
          "text": [
            "\r 19%|█▉        | 168/870 [01:30<05:56,  1.97it/s]"
          ]
        },
        {
          "output_type": "stream",
          "name": "stdout",
          "text": [
            "Loading experiment from: experiments/113644\n"
          ]
        },
        {
          "output_type": "stream",
          "name": "stderr",
          "text": [
            "\r 19%|█▉        | 169/870 [01:30<05:51,  1.99it/s]"
          ]
        },
        {
          "output_type": "stream",
          "name": "stdout",
          "text": [
            "Loading experiment from: experiments/316402\n"
          ]
        },
        {
          "output_type": "stream",
          "name": "stderr",
          "text": [
            "\r 20%|█▉        | 170/870 [01:31<05:51,  1.99it/s]"
          ]
        },
        {
          "output_type": "stream",
          "name": "stdout",
          "text": [
            "Loading experiment from: experiments/205924\n"
          ]
        },
        {
          "output_type": "stream",
          "name": "stderr",
          "text": [
            "\r 20%|█▉        | 171/870 [01:31<05:48,  2.01it/s]"
          ]
        },
        {
          "output_type": "stream",
          "name": "stdout",
          "text": [
            "Loading experiment from: experiments/466752\n"
          ]
        },
        {
          "output_type": "stream",
          "name": "stderr",
          "text": [
            "\r 20%|█▉        | 172/870 [01:32<05:46,  2.01it/s]"
          ]
        },
        {
          "output_type": "stream",
          "name": "stdout",
          "text": [
            "Loading experiment from: experiments/115515\n"
          ]
        },
        {
          "output_type": "stream",
          "name": "stderr",
          "text": [
            "\r 20%|█▉        | 173/870 [01:32<05:47,  2.01it/s]"
          ]
        },
        {
          "output_type": "stream",
          "name": "stdout",
          "text": [
            "Loading experiment from: experiments/528472\n"
          ]
        },
        {
          "output_type": "stream",
          "name": "stderr",
          "text": [
            "\r 20%|██        | 174/870 [01:33<05:44,  2.02it/s]"
          ]
        },
        {
          "output_type": "stream",
          "name": "stdout",
          "text": [
            "Loading experiment from: experiments/596147\n"
          ]
        },
        {
          "output_type": "stream",
          "name": "stderr",
          "text": [
            "\r 20%|██        | 175/870 [01:33<05:45,  2.01it/s]"
          ]
        },
        {
          "output_type": "stream",
          "name": "stdout",
          "text": [
            "Loading experiment from: experiments/726087\n"
          ]
        },
        {
          "output_type": "stream",
          "name": "stderr",
          "text": [
            "\r 20%|██        | 176/870 [01:34<05:43,  2.02it/s]"
          ]
        },
        {
          "output_type": "stream",
          "name": "stdout",
          "text": [
            "Loading experiment from: experiments/662248\n"
          ]
        },
        {
          "output_type": "stream",
          "name": "stderr",
          "text": [
            "\r 20%|██        | 177/870 [01:34<05:44,  2.01it/s]"
          ]
        },
        {
          "output_type": "stream",
          "name": "stdout",
          "text": [
            "Loading experiment from: experiments/96730\n"
          ]
        },
        {
          "output_type": "stream",
          "name": "stderr",
          "text": [
            "\r 20%|██        | 178/870 [01:35<05:42,  2.02it/s]"
          ]
        },
        {
          "output_type": "stream",
          "name": "stdout",
          "text": [
            "Loading experiment from: experiments/372266\n"
          ]
        },
        {
          "output_type": "stream",
          "name": "stderr",
          "text": [
            "\r 21%|██        | 179/870 [01:35<05:45,  2.00it/s]"
          ]
        },
        {
          "output_type": "stream",
          "name": "stdout",
          "text": [
            "Loading experiment from: experiments/85517\n"
          ]
        },
        {
          "output_type": "stream",
          "name": "stderr",
          "text": [
            "\r 21%|██        | 180/870 [01:36<05:48,  1.98it/s]"
          ]
        },
        {
          "output_type": "stream",
          "name": "stdout",
          "text": [
            "Loading experiment from: experiments/629737\n"
          ]
        },
        {
          "output_type": "stream",
          "name": "stderr",
          "text": [
            "\r 21%|██        | 181/870 [01:36<06:18,  1.82it/s]"
          ]
        },
        {
          "output_type": "stream",
          "name": "stdout",
          "text": [
            "Loading experiment from: experiments/551900\n"
          ]
        },
        {
          "output_type": "stream",
          "name": "stderr",
          "text": [
            "\r 21%|██        | 182/870 [01:37<06:46,  1.69it/s]"
          ]
        },
        {
          "output_type": "stream",
          "name": "stdout",
          "text": [
            "Loading experiment from: experiments/502560\n"
          ]
        },
        {
          "output_type": "stream",
          "name": "stderr",
          "text": [
            "\r 21%|██        | 183/870 [01:38<07:00,  1.63it/s]"
          ]
        },
        {
          "output_type": "stream",
          "name": "stdout",
          "text": [
            "Loading experiment from: experiments/636144\n"
          ]
        },
        {
          "output_type": "stream",
          "name": "stderr",
          "text": [
            "\r 21%|██        | 184/870 [01:38<07:17,  1.57it/s]"
          ]
        },
        {
          "output_type": "stream",
          "name": "stdout",
          "text": [
            "Loading experiment from: experiments/128595\n"
          ]
        },
        {
          "output_type": "stream",
          "name": "stderr",
          "text": [
            "\r 21%|██▏       | 185/870 [01:39<07:12,  1.58it/s]"
          ]
        },
        {
          "output_type": "stream",
          "name": "stdout",
          "text": [
            "Loading experiment from: experiments/545440\n"
          ]
        },
        {
          "output_type": "stream",
          "name": "stderr",
          "text": [
            "\r 21%|██▏       | 186/870 [01:39<06:47,  1.68it/s]"
          ]
        },
        {
          "output_type": "stream",
          "name": "stdout",
          "text": [
            "Loading experiment from: experiments/381347\n"
          ]
        },
        {
          "output_type": "stream",
          "name": "stderr",
          "text": [
            "\r 21%|██▏       | 187/870 [01:40<06:27,  1.76it/s]"
          ]
        },
        {
          "output_type": "stream",
          "name": "stdout",
          "text": [
            "Loading experiment from: experiments/112506\n"
          ]
        },
        {
          "output_type": "stream",
          "name": "stderr",
          "text": [
            "\r 22%|██▏       | 188/870 [01:40<06:14,  1.82it/s]"
          ]
        },
        {
          "output_type": "stream",
          "name": "stdout",
          "text": [
            "Loading experiment from: experiments/678081\n"
          ]
        },
        {
          "output_type": "stream",
          "name": "stderr",
          "text": [
            "\r 22%|██▏       | 189/870 [01:41<06:04,  1.87it/s]"
          ]
        },
        {
          "output_type": "stream",
          "name": "stdout",
          "text": [
            "Loading experiment from: experiments/230147\n"
          ]
        },
        {
          "output_type": "stream",
          "name": "stderr",
          "text": [
            "\r 22%|██▏       | 190/870 [01:41<05:56,  1.91it/s]"
          ]
        },
        {
          "output_type": "stream",
          "name": "stdout",
          "text": [
            "Loading experiment from: experiments/641344\n"
          ]
        },
        {
          "output_type": "stream",
          "name": "stderr",
          "text": [
            "\r 22%|██▏       | 191/870 [01:42<05:49,  1.94it/s]"
          ]
        },
        {
          "output_type": "stream",
          "name": "stdout",
          "text": [
            "Loading experiment from: experiments/227167\n"
          ]
        },
        {
          "output_type": "stream",
          "name": "stderr",
          "text": [
            "\r 22%|██▏       | 192/870 [01:42<05:47,  1.95it/s]"
          ]
        },
        {
          "output_type": "stream",
          "name": "stdout",
          "text": [
            "Loading experiment from: experiments/416046\n"
          ]
        },
        {
          "output_type": "stream",
          "name": "stderr",
          "text": [
            "\r 22%|██▏       | 193/870 [01:43<05:47,  1.95it/s]"
          ]
        },
        {
          "output_type": "stream",
          "name": "stdout",
          "text": [
            "Loading experiment from: experiments/47166\n"
          ]
        },
        {
          "output_type": "stream",
          "name": "stderr",
          "text": [
            "\r 22%|██▏       | 194/870 [01:43<05:44,  1.96it/s]"
          ]
        },
        {
          "output_type": "stream",
          "name": "stdout",
          "text": [
            "Loading experiment from: experiments/807277\n"
          ]
        },
        {
          "output_type": "stream",
          "name": "stderr",
          "text": [
            "\r 22%|██▏       | 195/870 [01:44<05:42,  1.97it/s]"
          ]
        },
        {
          "output_type": "stream",
          "name": "stdout",
          "text": [
            "Loading experiment from: experiments/382961\n"
          ]
        },
        {
          "output_type": "stream",
          "name": "stderr",
          "text": [
            "\r 23%|██▎       | 196/870 [01:44<05:41,  1.97it/s]"
          ]
        },
        {
          "output_type": "stream",
          "name": "stdout",
          "text": [
            "Loading experiment from: experiments/410741\n"
          ]
        },
        {
          "output_type": "stream",
          "name": "stderr",
          "text": [
            "\r 23%|██▎       | 197/870 [01:45<05:39,  1.98it/s]"
          ]
        },
        {
          "output_type": "stream",
          "name": "stdout",
          "text": [
            "Loading experiment from: experiments/588235\n"
          ]
        },
        {
          "output_type": "stream",
          "name": "stderr",
          "text": [
            "\r 23%|██▎       | 198/870 [01:45<05:40,  1.97it/s]"
          ]
        },
        {
          "output_type": "stream",
          "name": "stdout",
          "text": [
            "Loading experiment from: experiments/397604\n"
          ]
        },
        {
          "output_type": "stream",
          "name": "stderr",
          "text": [
            "\r 23%|██▎       | 199/870 [01:46<05:42,  1.96it/s]"
          ]
        },
        {
          "output_type": "stream",
          "name": "stdout",
          "text": [
            "Loading experiment from: experiments/429854\n"
          ]
        },
        {
          "output_type": "stream",
          "name": "stderr",
          "text": [
            "\r 23%|██▎       | 200/870 [01:46<05:46,  1.93it/s]"
          ]
        },
        {
          "output_type": "stream",
          "name": "stdout",
          "text": [
            "Loading experiment from: experiments/329244\n"
          ]
        },
        {
          "output_type": "stream",
          "name": "stderr",
          "text": [
            "\r 23%|██▎       | 201/870 [01:47<05:48,  1.92it/s]"
          ]
        },
        {
          "output_type": "stream",
          "name": "stdout",
          "text": [
            "Loading experiment from: experiments/90076\n"
          ]
        },
        {
          "output_type": "stream",
          "name": "stderr",
          "text": [
            "\r 23%|██▎       | 202/870 [01:48<05:47,  1.92it/s]"
          ]
        },
        {
          "output_type": "stream",
          "name": "stdout",
          "text": [
            "Loading experiment from: experiments/28935\n"
          ]
        },
        {
          "output_type": "stream",
          "name": "stderr",
          "text": [
            "\r 23%|██▎       | 203/870 [01:48<05:48,  1.91it/s]"
          ]
        },
        {
          "output_type": "stream",
          "name": "stdout",
          "text": [
            "Loading experiment from: experiments/95365\n"
          ]
        },
        {
          "output_type": "stream",
          "name": "stderr",
          "text": [
            "\r 23%|██▎       | 204/870 [01:49<05:45,  1.93it/s]"
          ]
        },
        {
          "output_type": "stream",
          "name": "stdout",
          "text": [
            "Loading experiment from: experiments/342758\n"
          ]
        },
        {
          "output_type": "stream",
          "name": "stderr",
          "text": [
            "\r 24%|██▎       | 205/870 [01:49<06:19,  1.75it/s]"
          ]
        },
        {
          "output_type": "stream",
          "name": "stdout",
          "text": [
            "Loading experiment from: experiments/28968\n"
          ]
        },
        {
          "output_type": "stream",
          "name": "stderr",
          "text": [
            "\r 24%|██▎       | 206/870 [01:50<06:47,  1.63it/s]"
          ]
        },
        {
          "output_type": "stream",
          "name": "stdout",
          "text": [
            "Loading experiment from: experiments/16116\n"
          ]
        },
        {
          "output_type": "stream",
          "name": "stderr",
          "text": [
            "\r 24%|██▍       | 207/870 [01:51<06:59,  1.58it/s]"
          ]
        },
        {
          "output_type": "stream",
          "name": "stdout",
          "text": [
            "Loading experiment from: experiments/117489\n"
          ]
        },
        {
          "output_type": "stream",
          "name": "stderr",
          "text": [
            "\r 24%|██▍       | 208/870 [01:51<07:18,  1.51it/s]"
          ]
        },
        {
          "output_type": "stream",
          "name": "stdout",
          "text": [
            "Loading experiment from: experiments/89252\n"
          ]
        },
        {
          "output_type": "stream",
          "name": "stderr",
          "text": [
            "\r 24%|██▍       | 209/870 [01:52<07:06,  1.55it/s]"
          ]
        },
        {
          "output_type": "stream",
          "name": "stdout",
          "text": [
            "Loading experiment from: experiments/124198\n"
          ]
        },
        {
          "output_type": "stream",
          "name": "stderr",
          "text": [
            "\r 24%|██▍       | 210/870 [01:52<06:41,  1.64it/s]"
          ]
        },
        {
          "output_type": "stream",
          "name": "stdout",
          "text": [
            "Loading experiment from: experiments/35501\n"
          ]
        },
        {
          "output_type": "stream",
          "name": "stderr",
          "text": [
            "\r 24%|██▍       | 211/870 [01:53<06:24,  1.72it/s]"
          ]
        },
        {
          "output_type": "stream",
          "name": "stdout",
          "text": [
            "Loading experiment from: experiments/202154\n"
          ]
        },
        {
          "output_type": "stream",
          "name": "stderr",
          "text": [
            "\r 24%|██▍       | 212/870 [01:54<06:13,  1.76it/s]"
          ]
        },
        {
          "output_type": "stream",
          "name": "stdout",
          "text": [
            "Loading experiment from: experiments/788761\n"
          ]
        },
        {
          "output_type": "stream",
          "name": "stderr",
          "text": [
            "\r 24%|██▍       | 213/870 [01:54<06:03,  1.81it/s]"
          ]
        },
        {
          "output_type": "stream",
          "name": "stdout",
          "text": [
            "Loading experiment from: experiments/683741\n"
          ]
        },
        {
          "output_type": "stream",
          "name": "stderr",
          "text": [
            "\r 25%|██▍       | 214/870 [01:55<05:52,  1.86it/s]"
          ]
        },
        {
          "output_type": "stream",
          "name": "stdout",
          "text": [
            "Loading experiment from: experiments/405306\n"
          ]
        },
        {
          "output_type": "stream",
          "name": "stderr",
          "text": [
            "\r 25%|██▍       | 215/870 [01:55<05:46,  1.89it/s]"
          ]
        },
        {
          "output_type": "stream",
          "name": "stdout",
          "text": [
            "Loading experiment from: experiments/49858\n"
          ]
        },
        {
          "output_type": "stream",
          "name": "stderr",
          "text": [
            "\r 25%|██▍       | 216/870 [01:56<05:44,  1.90it/s]"
          ]
        },
        {
          "output_type": "stream",
          "name": "stdout",
          "text": [
            "Loading experiment from: experiments/444841\n"
          ]
        },
        {
          "output_type": "stream",
          "name": "stderr",
          "text": [
            "\r 25%|██▍       | 217/870 [01:56<05:41,  1.91it/s]"
          ]
        },
        {
          "output_type": "stream",
          "name": "stdout",
          "text": [
            "Loading experiment from: experiments/778772\n"
          ]
        },
        {
          "output_type": "stream",
          "name": "stderr",
          "text": [
            "\r 25%|██▌       | 218/870 [01:57<05:41,  1.91it/s]"
          ]
        },
        {
          "output_type": "stream",
          "name": "stdout",
          "text": [
            "Loading experiment from: experiments/116285\n"
          ]
        },
        {
          "output_type": "stream",
          "name": "stderr",
          "text": [
            "\r 25%|██▌       | 219/870 [01:57<05:40,  1.91it/s]"
          ]
        },
        {
          "output_type": "stream",
          "name": "stdout",
          "text": [
            "Loading experiment from: experiments/100955\n"
          ]
        },
        {
          "output_type": "stream",
          "name": "stderr",
          "text": [
            "\r 25%|██▌       | 220/870 [01:58<05:40,  1.91it/s]"
          ]
        },
        {
          "output_type": "stream",
          "name": "stdout",
          "text": [
            "Loading experiment from: experiments/417938\n"
          ]
        },
        {
          "output_type": "stream",
          "name": "stderr",
          "text": [
            "\r 25%|██▌       | 221/870 [01:58<05:41,  1.90it/s]"
          ]
        },
        {
          "output_type": "stream",
          "name": "stdout",
          "text": [
            "Loading experiment from: experiments/288399\n"
          ]
        },
        {
          "output_type": "stream",
          "name": "stderr",
          "text": [
            "\r 26%|██▌       | 222/870 [01:59<05:43,  1.89it/s]"
          ]
        },
        {
          "output_type": "stream",
          "name": "stdout",
          "text": [
            "Loading experiment from: experiments/372339\n"
          ]
        },
        {
          "output_type": "stream",
          "name": "stderr",
          "text": [
            "\r 26%|██▌       | 223/870 [01:59<05:40,  1.90it/s]"
          ]
        },
        {
          "output_type": "stream",
          "name": "stdout",
          "text": [
            "Loading experiment from: experiments/178720\n"
          ]
        },
        {
          "output_type": "stream",
          "name": "stderr",
          "text": [
            "\r 26%|██▌       | 224/870 [02:00<05:37,  1.92it/s]"
          ]
        },
        {
          "output_type": "stream",
          "name": "stdout",
          "text": [
            "Loading experiment from: experiments/558725\n"
          ]
        },
        {
          "output_type": "stream",
          "name": "stderr",
          "text": [
            "\r 26%|██▌       | 225/870 [02:00<05:34,  1.93it/s]"
          ]
        },
        {
          "output_type": "stream",
          "name": "stdout",
          "text": [
            "Loading experiment from: experiments/477038\n"
          ]
        },
        {
          "output_type": "stream",
          "name": "stderr",
          "text": [
            "\r 26%|██▌       | 226/870 [02:01<05:32,  1.93it/s]"
          ]
        },
        {
          "output_type": "stream",
          "name": "stdout",
          "text": [
            "Loading experiment from: experiments/120872\n"
          ]
        },
        {
          "output_type": "stream",
          "name": "stderr",
          "text": [
            "\r 26%|██▌       | 227/870 [02:01<05:31,  1.94it/s]"
          ]
        },
        {
          "output_type": "stream",
          "name": "stdout",
          "text": [
            "Loading experiment from: experiments/509219\n"
          ]
        },
        {
          "output_type": "stream",
          "name": "stderr",
          "text": [
            "\r 26%|██▌       | 228/870 [02:02<05:41,  1.88it/s]"
          ]
        },
        {
          "output_type": "stream",
          "name": "stdout",
          "text": [
            "Loading experiment from: experiments/29791\n"
          ]
        },
        {
          "output_type": "stream",
          "name": "stderr",
          "text": [
            "\r 26%|██▋       | 229/870 [02:03<06:12,  1.72it/s]"
          ]
        },
        {
          "output_type": "stream",
          "name": "stdout",
          "text": [
            "Loading experiment from: experiments/265185\n"
          ]
        },
        {
          "output_type": "stream",
          "name": "stderr",
          "text": [
            "\r 26%|██▋       | 230/870 [02:03<06:39,  1.60it/s]"
          ]
        },
        {
          "output_type": "stream",
          "name": "stdout",
          "text": [
            "Loading experiment from: experiments/337623\n"
          ]
        },
        {
          "output_type": "stream",
          "name": "stderr",
          "text": [
            "\r 27%|██▋       | 231/870 [02:04<06:47,  1.57it/s]"
          ]
        },
        {
          "output_type": "stream",
          "name": "stdout",
          "text": [
            "Loading experiment from: experiments/394398\n"
          ]
        },
        {
          "output_type": "stream",
          "name": "stderr",
          "text": [
            "\r 27%|██▋       | 232/870 [02:05<06:59,  1.52it/s]"
          ]
        },
        {
          "output_type": "stream",
          "name": "stdout",
          "text": [
            "Loading experiment from: experiments/665817\n"
          ]
        },
        {
          "output_type": "stream",
          "name": "stderr",
          "text": [
            "\r 27%|██▋       | 233/870 [02:05<06:32,  1.62it/s]"
          ]
        },
        {
          "output_type": "stream",
          "name": "stdout",
          "text": [
            "Loading experiment from: experiments/777486\n"
          ]
        },
        {
          "output_type": "stream",
          "name": "stderr",
          "text": [
            "\r 27%|██▋       | 234/870 [02:06<06:11,  1.71it/s]"
          ]
        },
        {
          "output_type": "stream",
          "name": "stdout",
          "text": [
            "Loading experiment from: experiments/239012\n"
          ]
        },
        {
          "output_type": "stream",
          "name": "stderr",
          "text": [
            "\r 27%|██▋       | 235/870 [02:06<05:57,  1.77it/s]"
          ]
        },
        {
          "output_type": "stream",
          "name": "stdout",
          "text": [
            "Loading experiment from: experiments/585034\n"
          ]
        },
        {
          "output_type": "stream",
          "name": "stderr",
          "text": [
            "\r 27%|██▋       | 236/870 [02:07<05:48,  1.82it/s]"
          ]
        },
        {
          "output_type": "stream",
          "name": "stdout",
          "text": [
            "Loading experiment from: experiments/693738\n"
          ]
        },
        {
          "output_type": "stream",
          "name": "stderr",
          "text": [
            "\r 27%|██▋       | 237/870 [02:07<05:45,  1.83it/s]"
          ]
        },
        {
          "output_type": "stream",
          "name": "stdout",
          "text": [
            "Loading experiment from: experiments/749538\n"
          ]
        },
        {
          "output_type": "stream",
          "name": "stderr",
          "text": [
            "\r 27%|██▋       | 238/870 [02:08<05:39,  1.86it/s]"
          ]
        },
        {
          "output_type": "stream",
          "name": "stdout",
          "text": [
            "Loading experiment from: experiments/309101\n"
          ]
        },
        {
          "output_type": "stream",
          "name": "stderr",
          "text": [
            "\r 27%|██▋       | 239/870 [02:08<05:35,  1.88it/s]"
          ]
        },
        {
          "output_type": "stream",
          "name": "stdout",
          "text": [
            "Loading experiment from: experiments/56421\n"
          ]
        },
        {
          "output_type": "stream",
          "name": "stderr",
          "text": [
            "\r 28%|██▊       | 240/870 [02:09<05:36,  1.87it/s]"
          ]
        },
        {
          "output_type": "stream",
          "name": "stdout",
          "text": [
            "Loading experiment from: experiments/45540\n"
          ]
        },
        {
          "output_type": "stream",
          "name": "stderr",
          "text": [
            "\r 28%|██▊       | 241/870 [02:09<05:34,  1.88it/s]"
          ]
        },
        {
          "output_type": "stream",
          "name": "stdout",
          "text": [
            "Loading experiment from: experiments/42590\n"
          ]
        },
        {
          "output_type": "stream",
          "name": "stderr",
          "text": [
            "\r 28%|██▊       | 242/870 [02:10<05:34,  1.88it/s]"
          ]
        },
        {
          "output_type": "stream",
          "name": "stdout",
          "text": [
            "Loading experiment from: experiments/284639\n"
          ]
        },
        {
          "output_type": "stream",
          "name": "stderr",
          "text": [
            "\r 28%|██▊       | 243/870 [02:10<05:32,  1.88it/s]"
          ]
        },
        {
          "output_type": "stream",
          "name": "stdout",
          "text": [
            "Loading experiment from: experiments/741043\n"
          ]
        },
        {
          "output_type": "stream",
          "name": "stderr",
          "text": [
            "\r 28%|██▊       | 244/870 [02:11<05:29,  1.90it/s]"
          ]
        },
        {
          "output_type": "stream",
          "name": "stdout",
          "text": [
            "Loading experiment from: experiments/625601\n"
          ]
        },
        {
          "output_type": "stream",
          "name": "stderr",
          "text": [
            "\r 28%|██▊       | 245/870 [02:11<05:27,  1.91it/s]"
          ]
        },
        {
          "output_type": "stream",
          "name": "stdout",
          "text": [
            "Loading experiment from: experiments/437962\n"
          ]
        },
        {
          "output_type": "stream",
          "name": "stderr",
          "text": [
            "\r 28%|██▊       | 246/870 [02:12<05:25,  1.91it/s]"
          ]
        },
        {
          "output_type": "stream",
          "name": "stdout",
          "text": [
            "Loading experiment from: experiments/415940\n"
          ]
        },
        {
          "output_type": "stream",
          "name": "stderr",
          "text": [
            "\r 28%|██▊       | 247/870 [02:13<05:24,  1.92it/s]"
          ]
        },
        {
          "output_type": "stream",
          "name": "stdout",
          "text": [
            "Loading experiment from: experiments/276146\n"
          ]
        },
        {
          "output_type": "stream",
          "name": "stderr",
          "text": [
            "\r 29%|██▊       | 248/870 [02:13<05:25,  1.91it/s]"
          ]
        },
        {
          "output_type": "stream",
          "name": "stdout",
          "text": [
            "Loading experiment from: experiments/713999\n"
          ]
        },
        {
          "output_type": "stream",
          "name": "stderr",
          "text": [
            "\r 29%|██▊       | 249/870 [02:14<05:24,  1.92it/s]"
          ]
        },
        {
          "output_type": "stream",
          "name": "stdout",
          "text": [
            "Loading experiment from: experiments/398202\n"
          ]
        },
        {
          "output_type": "stream",
          "name": "stderr",
          "text": [
            "\r 29%|██▊       | 250/870 [02:14<05:25,  1.91it/s]"
          ]
        },
        {
          "output_type": "stream",
          "name": "stdout",
          "text": [
            "Loading experiment from: experiments/695469\n"
          ]
        },
        {
          "output_type": "stream",
          "name": "stderr",
          "text": [
            "\r 29%|██▉       | 251/870 [02:15<05:22,  1.92it/s]"
          ]
        },
        {
          "output_type": "stream",
          "name": "stdout",
          "text": [
            "Loading experiment from: experiments/18752\n"
          ]
        },
        {
          "output_type": "stream",
          "name": "stderr",
          "text": [
            "\r 29%|██▉       | 252/870 [02:15<05:41,  1.81it/s]"
          ]
        },
        {
          "output_type": "stream",
          "name": "stdout",
          "text": [
            "Loading experiment from: experiments/748284\n"
          ]
        },
        {
          "output_type": "stream",
          "name": "stderr",
          "text": [
            "\r 29%|██▉       | 253/870 [02:16<06:07,  1.68it/s]"
          ]
        },
        {
          "output_type": "stream",
          "name": "stdout",
          "text": [
            "Loading experiment from: experiments/317596\n"
          ]
        },
        {
          "output_type": "stream",
          "name": "stderr",
          "text": [
            "\r 29%|██▉       | 254/870 [02:17<06:21,  1.61it/s]"
          ]
        },
        {
          "output_type": "stream",
          "name": "stdout",
          "text": [
            "Loading experiment from: experiments/292316\n"
          ]
        },
        {
          "output_type": "stream",
          "name": "stderr",
          "text": [
            "\r 29%|██▉       | 255/870 [02:17<06:35,  1.56it/s]"
          ]
        },
        {
          "output_type": "stream",
          "name": "stdout",
          "text": [
            "Loading experiment from: experiments/279284\n"
          ]
        },
        {
          "output_type": "stream",
          "name": "stderr",
          "text": [
            "\r 29%|██▉       | 256/870 [02:18<06:33,  1.56it/s]"
          ]
        },
        {
          "output_type": "stream",
          "name": "stdout",
          "text": [
            "Loading experiment from: experiments/634909\n"
          ]
        },
        {
          "output_type": "stream",
          "name": "stderr",
          "text": [
            "\r 30%|██▉       | 257/870 [02:18<06:13,  1.64it/s]"
          ]
        },
        {
          "output_type": "stream",
          "name": "stdout",
          "text": [
            "Loading experiment from: experiments/365451\n"
          ]
        },
        {
          "output_type": "stream",
          "name": "stderr",
          "text": [
            "\r 30%|██▉       | 258/870 [02:19<05:55,  1.72it/s]"
          ]
        },
        {
          "output_type": "stream",
          "name": "stdout",
          "text": [
            "Loading experiment from: experiments/298387\n"
          ]
        },
        {
          "output_type": "stream",
          "name": "stderr",
          "text": [
            "\r 30%|██▉       | 259/870 [02:20<05:43,  1.78it/s]"
          ]
        },
        {
          "output_type": "stream",
          "name": "stdout",
          "text": [
            "Loading experiment from: experiments/803576\n"
          ]
        },
        {
          "output_type": "stream",
          "name": "stderr",
          "text": [
            "\r 30%|██▉       | 260/870 [02:20<05:34,  1.82it/s]"
          ]
        },
        {
          "output_type": "stream",
          "name": "stdout",
          "text": [
            "Loading experiment from: experiments/352767\n"
          ]
        },
        {
          "output_type": "stream",
          "name": "stderr",
          "text": [
            "\r 30%|███       | 261/870 [02:21<05:29,  1.85it/s]"
          ]
        },
        {
          "output_type": "stream",
          "name": "stdout",
          "text": [
            "Loading experiment from: experiments/88998\n"
          ]
        },
        {
          "output_type": "stream",
          "name": "stderr",
          "text": [
            "\r 30%|███       | 262/870 [02:21<05:27,  1.86it/s]"
          ]
        },
        {
          "output_type": "stream",
          "name": "stdout",
          "text": [
            "Loading experiment from: experiments/140717\n"
          ]
        },
        {
          "output_type": "stream",
          "name": "stderr",
          "text": [
            "\r 30%|███       | 263/870 [02:22<05:29,  1.84it/s]"
          ]
        },
        {
          "output_type": "stream",
          "name": "stdout",
          "text": [
            "Loading experiment from: experiments/13501\n"
          ]
        },
        {
          "output_type": "stream",
          "name": "stderr",
          "text": [
            "\r 30%|███       | 264/870 [02:22<05:25,  1.86it/s]"
          ]
        },
        {
          "output_type": "stream",
          "name": "stdout",
          "text": [
            "Loading experiment from: experiments/682370\n"
          ]
        },
        {
          "output_type": "stream",
          "name": "stderr",
          "text": [
            "\r 30%|███       | 265/870 [02:23<05:20,  1.89it/s]"
          ]
        },
        {
          "output_type": "stream",
          "name": "stdout",
          "text": [
            "Loading experiment from: experiments/51030\n"
          ]
        },
        {
          "output_type": "stream",
          "name": "stderr",
          "text": [
            "\r 31%|███       | 266/870 [02:23<05:20,  1.88it/s]"
          ]
        },
        {
          "output_type": "stream",
          "name": "stdout",
          "text": [
            "Loading experiment from: experiments/731486\n"
          ]
        },
        {
          "output_type": "stream",
          "name": "stderr",
          "text": [
            "\r 31%|███       | 267/870 [02:24<05:18,  1.89it/s]"
          ]
        },
        {
          "output_type": "stream",
          "name": "stdout",
          "text": [
            "Loading experiment from: experiments/634677\n"
          ]
        },
        {
          "output_type": "stream",
          "name": "stderr",
          "text": [
            "\r 31%|███       | 268/870 [02:24<05:18,  1.89it/s]"
          ]
        },
        {
          "output_type": "stream",
          "name": "stdout",
          "text": [
            "Loading experiment from: experiments/432253\n"
          ]
        },
        {
          "output_type": "stream",
          "name": "stderr",
          "text": [
            "\r 31%|███       | 269/870 [02:25<05:25,  1.85it/s]"
          ]
        },
        {
          "output_type": "stream",
          "name": "stdout",
          "text": [
            "Loading experiment from: experiments/85466\n"
          ]
        },
        {
          "output_type": "stream",
          "name": "stderr",
          "text": [
            "\r 31%|███       | 270/870 [02:26<05:50,  1.71it/s]"
          ]
        },
        {
          "output_type": "stream",
          "name": "stdout",
          "text": [
            "Loading experiment from: experiments/325695\n"
          ]
        },
        {
          "output_type": "stream",
          "name": "stderr",
          "text": [
            "\r 31%|███       | 271/870 [02:26<06:10,  1.62it/s]"
          ]
        },
        {
          "output_type": "stream",
          "name": "stdout",
          "text": [
            "Loading experiment from: experiments/305658\n"
          ]
        },
        {
          "output_type": "stream",
          "name": "stderr",
          "text": [
            "\r 31%|███▏      | 272/870 [02:27<06:18,  1.58it/s]"
          ]
        },
        {
          "output_type": "stream",
          "name": "stdout",
          "text": [
            "Loading experiment from: experiments/752894\n"
          ]
        },
        {
          "output_type": "stream",
          "name": "stderr",
          "text": [
            "\r 31%|███▏      | 273/870 [02:28<06:36,  1.50it/s]"
          ]
        },
        {
          "output_type": "stream",
          "name": "stdout",
          "text": [
            "Loading experiment from: experiments/470426\n"
          ]
        },
        {
          "output_type": "stream",
          "name": "stderr",
          "text": [
            "\r 31%|███▏      | 274/870 [02:28<06:37,  1.50it/s]"
          ]
        },
        {
          "output_type": "stream",
          "name": "stdout",
          "text": [
            "Loading experiment from: experiments/459634\n"
          ]
        },
        {
          "output_type": "stream",
          "name": "stderr",
          "text": [
            "\r 32%|███▏      | 275/870 [02:29<06:44,  1.47it/s]"
          ]
        },
        {
          "output_type": "stream",
          "name": "stdout",
          "text": [
            "Loading experiment from: experiments/67819\n"
          ]
        },
        {
          "output_type": "stream",
          "name": "stderr",
          "text": [
            "\r 32%|███▏      | 276/870 [02:30<06:42,  1.47it/s]"
          ]
        },
        {
          "output_type": "stream",
          "name": "stdout",
          "text": [
            "Loading experiment from: experiments/162131\n"
          ]
        },
        {
          "output_type": "stream",
          "name": "stderr",
          "text": [
            "\r 32%|███▏      | 277/870 [02:30<06:43,  1.47it/s]"
          ]
        },
        {
          "output_type": "stream",
          "name": "stdout",
          "text": [
            "Loading experiment from: experiments/80454\n"
          ]
        },
        {
          "output_type": "stream",
          "name": "stderr",
          "text": [
            "\r 32%|███▏      | 278/870 [02:31<06:32,  1.51it/s]"
          ]
        },
        {
          "output_type": "stream",
          "name": "stdout",
          "text": [
            "Loading experiment from: experiments/99535\n"
          ]
        },
        {
          "output_type": "stream",
          "name": "stderr",
          "text": [
            "\r 32%|███▏      | 279/870 [02:31<06:04,  1.62it/s]"
          ]
        },
        {
          "output_type": "stream",
          "name": "stdout",
          "text": [
            "Loading experiment from: experiments/546939\n"
          ]
        },
        {
          "output_type": "stream",
          "name": "stderr",
          "text": [
            "\r 32%|███▏      | 280/870 [02:32<05:45,  1.71it/s]"
          ]
        },
        {
          "output_type": "stream",
          "name": "stdout",
          "text": [
            "Loading experiment from: experiments/541489\n"
          ]
        },
        {
          "output_type": "stream",
          "name": "stderr",
          "text": [
            "\r 32%|███▏      | 281/870 [02:33<05:32,  1.77it/s]"
          ]
        },
        {
          "output_type": "stream",
          "name": "stdout",
          "text": [
            "Loading experiment from: experiments/801498\n"
          ]
        },
        {
          "output_type": "stream",
          "name": "stderr",
          "text": [
            "\r 32%|███▏      | 282/870 [02:33<05:24,  1.81it/s]"
          ]
        },
        {
          "output_type": "stream",
          "name": "stdout",
          "text": [
            "Loading experiment from: experiments/799127\n"
          ]
        },
        {
          "output_type": "stream",
          "name": "stderr",
          "text": [
            "\r 33%|███▎      | 283/870 [02:34<05:18,  1.84it/s]"
          ]
        },
        {
          "output_type": "stream",
          "name": "stdout",
          "text": [
            "Loading experiment from: experiments/403531\n"
          ]
        },
        {
          "output_type": "stream",
          "name": "stderr",
          "text": [
            "\r 33%|███▎      | 284/870 [02:34<05:11,  1.88it/s]"
          ]
        },
        {
          "output_type": "stream",
          "name": "stdout",
          "text": [
            "Loading experiment from: experiments/185421\n"
          ]
        },
        {
          "output_type": "stream",
          "name": "stderr",
          "text": [
            "\r 33%|███▎      | 285/870 [02:35<05:09,  1.89it/s]"
          ]
        },
        {
          "output_type": "stream",
          "name": "stdout",
          "text": [
            "Loading experiment from: experiments/192480\n"
          ]
        },
        {
          "output_type": "stream",
          "name": "stderr",
          "text": [
            "\r 33%|███▎      | 286/870 [02:35<05:07,  1.90it/s]"
          ]
        },
        {
          "output_type": "stream",
          "name": "stdout",
          "text": [
            "Loading experiment from: experiments/805861\n"
          ]
        },
        {
          "output_type": "stream",
          "name": "stderr",
          "text": [
            "\r 33%|███▎      | 287/870 [02:36<05:05,  1.91it/s]"
          ]
        },
        {
          "output_type": "stream",
          "name": "stdout",
          "text": [
            "Loading experiment from: experiments/10005\n"
          ]
        },
        {
          "output_type": "stream",
          "name": "stderr",
          "text": [
            "\r 33%|███▎      | 288/870 [02:36<05:05,  1.91it/s]"
          ]
        },
        {
          "output_type": "stream",
          "name": "stdout",
          "text": [
            "Loading experiment from: experiments/488802\n"
          ]
        },
        {
          "output_type": "stream",
          "name": "stderr",
          "text": [
            "\r 33%|███▎      | 289/870 [02:37<05:03,  1.91it/s]"
          ]
        },
        {
          "output_type": "stream",
          "name": "stdout",
          "text": [
            "Loading experiment from: experiments/734572\n"
          ]
        },
        {
          "output_type": "stream",
          "name": "stderr",
          "text": [
            "\r 33%|███▎      | 290/870 [02:37<04:59,  1.94it/s]"
          ]
        },
        {
          "output_type": "stream",
          "name": "stdout",
          "text": [
            "Loading experiment from: experiments/286374\n"
          ]
        },
        {
          "output_type": "stream",
          "name": "stderr",
          "text": [
            "\r 33%|███▎      | 291/870 [02:38<05:00,  1.93it/s]"
          ]
        },
        {
          "output_type": "stream",
          "name": "stdout",
          "text": [
            "Loading experiment from: experiments/249426\n"
          ]
        },
        {
          "output_type": "stream",
          "name": "stderr",
          "text": [
            "\r 34%|███▎      | 292/870 [02:38<04:58,  1.94it/s]"
          ]
        },
        {
          "output_type": "stream",
          "name": "stdout",
          "text": [
            "Loading experiment from: experiments/108635\n"
          ]
        },
        {
          "output_type": "stream",
          "name": "stderr",
          "text": [
            "\r 34%|███▎      | 293/870 [02:39<04:57,  1.94it/s]"
          ]
        },
        {
          "output_type": "stream",
          "name": "stdout",
          "text": [
            "Loading experiment from: experiments/197951\n"
          ]
        },
        {
          "output_type": "stream",
          "name": "stderr",
          "text": [
            "\r 34%|███▍      | 294/870 [02:39<04:57,  1.94it/s]"
          ]
        },
        {
          "output_type": "stream",
          "name": "stdout",
          "text": [
            "Loading experiment from: experiments/161071\n"
          ]
        },
        {
          "output_type": "stream",
          "name": "stderr",
          "text": [
            "\r 34%|███▍      | 295/870 [02:40<04:59,  1.92it/s]"
          ]
        },
        {
          "output_type": "stream",
          "name": "stdout",
          "text": [
            "Loading experiment from: experiments/820227\n"
          ]
        },
        {
          "output_type": "stream",
          "name": "stderr",
          "text": [
            "\r 34%|███▍      | 296/870 [02:40<05:01,  1.91it/s]"
          ]
        },
        {
          "output_type": "stream",
          "name": "stdout",
          "text": [
            "Loading experiment from: experiments/395448\n"
          ]
        },
        {
          "output_type": "stream",
          "name": "stderr",
          "text": [
            "\r 34%|███▍      | 297/870 [02:41<05:04,  1.88it/s]"
          ]
        },
        {
          "output_type": "stream",
          "name": "stdout",
          "text": [
            "Loading experiment from: experiments/781957\n"
          ]
        },
        {
          "output_type": "stream",
          "name": "stderr",
          "text": [
            "\r 34%|███▍      | 298/870 [02:42<05:27,  1.75it/s]"
          ]
        },
        {
          "output_type": "stream",
          "name": "stdout",
          "text": [
            "Loading experiment from: experiments/514767\n"
          ]
        },
        {
          "output_type": "stream",
          "name": "stderr",
          "text": [
            "\r 34%|███▍      | 299/870 [02:42<05:49,  1.63it/s]"
          ]
        },
        {
          "output_type": "stream",
          "name": "stdout",
          "text": [
            "Loading experiment from: experiments/64120\n"
          ]
        },
        {
          "output_type": "stream",
          "name": "stderr",
          "text": [
            "\r 34%|███▍      | 300/870 [02:43<06:02,  1.57it/s]"
          ]
        },
        {
          "output_type": "stream",
          "name": "stdout",
          "text": [
            "Loading experiment from: experiments/99243\n"
          ]
        },
        {
          "output_type": "stream",
          "name": "stderr",
          "text": [
            "\r 35%|███▍      | 301/870 [02:44<06:19,  1.50it/s]"
          ]
        },
        {
          "output_type": "stream",
          "name": "stdout",
          "text": [
            "Loading experiment from: experiments/437504\n"
          ]
        },
        {
          "output_type": "stream",
          "name": "stderr",
          "text": [
            "\r 35%|███▍      | 302/870 [02:44<06:01,  1.57it/s]"
          ]
        },
        {
          "output_type": "stream",
          "name": "stdout",
          "text": [
            "Loading experiment from: experiments/750387\n"
          ]
        },
        {
          "output_type": "stream",
          "name": "stderr",
          "text": [
            "\r 35%|███▍      | 303/870 [02:45<05:41,  1.66it/s]"
          ]
        },
        {
          "output_type": "stream",
          "name": "stdout",
          "text": [
            "Loading experiment from: experiments/793665\n"
          ]
        },
        {
          "output_type": "stream",
          "name": "stderr",
          "text": [
            "\r 35%|███▍      | 304/870 [02:45<05:25,  1.74it/s]"
          ]
        },
        {
          "output_type": "stream",
          "name": "stdout",
          "text": [
            "Loading experiment from: experiments/390681\n"
          ]
        },
        {
          "output_type": "stream",
          "name": "stderr",
          "text": [
            "\r 35%|███▌      | 305/870 [02:46<05:12,  1.81it/s]"
          ]
        },
        {
          "output_type": "stream",
          "name": "stdout",
          "text": [
            "Loading experiment from: experiments/553339\n"
          ]
        },
        {
          "output_type": "stream",
          "name": "stderr",
          "text": [
            "\r 35%|███▌      | 306/870 [02:46<05:06,  1.84it/s]"
          ]
        },
        {
          "output_type": "stream",
          "name": "stdout",
          "text": [
            "Loading experiment from: experiments/15540\n"
          ]
        },
        {
          "output_type": "stream",
          "name": "stderr",
          "text": [
            "\r 35%|███▌      | 307/870 [02:47<05:03,  1.85it/s]"
          ]
        },
        {
          "output_type": "stream",
          "name": "stdout",
          "text": [
            "Loading experiment from: experiments/225142\n"
          ]
        },
        {
          "output_type": "stream",
          "name": "stderr",
          "text": [
            "\r 35%|███▌      | 308/870 [02:47<04:59,  1.88it/s]"
          ]
        },
        {
          "output_type": "stream",
          "name": "stdout",
          "text": [
            "Loading experiment from: experiments/740758\n"
          ]
        },
        {
          "output_type": "stream",
          "name": "stderr",
          "text": [
            "\r 36%|███▌      | 309/870 [02:48<04:54,  1.90it/s]"
          ]
        },
        {
          "output_type": "stream",
          "name": "stdout",
          "text": [
            "Loading experiment from: experiments/660325\n"
          ]
        },
        {
          "output_type": "stream",
          "name": "stderr",
          "text": [
            "\r 36%|███▌      | 310/870 [02:48<04:57,  1.88it/s]"
          ]
        },
        {
          "output_type": "stream",
          "name": "stdout",
          "text": [
            "Loading experiment from: experiments/582201\n"
          ]
        },
        {
          "output_type": "stream",
          "name": "stderr",
          "text": [
            "\r 36%|███▌      | 311/870 [02:49<04:59,  1.87it/s]"
          ]
        },
        {
          "output_type": "stream",
          "name": "stdout",
          "text": [
            "Loading experiment from: experiments/734512\n"
          ]
        },
        {
          "output_type": "stream",
          "name": "stderr",
          "text": [
            "\r 36%|███▌      | 312/870 [02:49<04:57,  1.87it/s]"
          ]
        },
        {
          "output_type": "stream",
          "name": "stdout",
          "text": [
            "Loading experiment from: experiments/5674\n"
          ]
        },
        {
          "output_type": "stream",
          "name": "stderr",
          "text": [
            "\r 36%|███▌      | 313/870 [02:50<04:53,  1.90it/s]"
          ]
        },
        {
          "output_type": "stream",
          "name": "stdout",
          "text": [
            "Loading experiment from: experiments/80962\n"
          ]
        },
        {
          "output_type": "stream",
          "name": "stderr",
          "text": [
            "\r 36%|███▌      | 314/870 [02:51<04:53,  1.89it/s]"
          ]
        },
        {
          "output_type": "stream",
          "name": "stdout",
          "text": [
            "Loading experiment from: experiments/649150\n"
          ]
        },
        {
          "output_type": "stream",
          "name": "stderr",
          "text": [
            "\r 36%|███▌      | 315/870 [02:51<04:52,  1.90it/s]"
          ]
        },
        {
          "output_type": "stream",
          "name": "stdout",
          "text": [
            "Loading experiment from: experiments/184586\n"
          ]
        },
        {
          "output_type": "stream",
          "name": "stderr",
          "text": [
            "\r 36%|███▋      | 316/870 [02:52<04:50,  1.90it/s]"
          ]
        },
        {
          "output_type": "stream",
          "name": "stdout",
          "text": [
            "Loading experiment from: experiments/663372\n"
          ]
        },
        {
          "output_type": "stream",
          "name": "stderr",
          "text": [
            "\r 36%|███▋      | 317/870 [02:52<04:54,  1.88it/s]"
          ]
        },
        {
          "output_type": "stream",
          "name": "stdout",
          "text": [
            "Loading experiment from: experiments/231024\n"
          ]
        },
        {
          "output_type": "stream",
          "name": "stderr",
          "text": [
            "\r 37%|███▋      | 318/870 [02:53<04:53,  1.88it/s]"
          ]
        },
        {
          "output_type": "stream",
          "name": "stdout",
          "text": [
            "Loading experiment from: experiments/546308\n"
          ]
        },
        {
          "output_type": "stream",
          "name": "stderr",
          "text": [
            "\r 37%|███▋      | 319/870 [02:53<04:52,  1.88it/s]"
          ]
        },
        {
          "output_type": "stream",
          "name": "stdout",
          "text": [
            "Loading experiment from: experiments/206616\n"
          ]
        },
        {
          "output_type": "stream",
          "name": "stderr",
          "text": [
            "\r 37%|███▋      | 320/870 [02:54<04:50,  1.89it/s]"
          ]
        },
        {
          "output_type": "stream",
          "name": "stdout",
          "text": [
            "Loading experiment from: experiments/415508\n"
          ]
        },
        {
          "output_type": "stream",
          "name": "stderr",
          "text": [
            "\r 37%|███▋      | 321/870 [02:54<05:06,  1.79it/s]"
          ]
        },
        {
          "output_type": "stream",
          "name": "stdout",
          "text": [
            "Loading experiment from: experiments/764204\n"
          ]
        },
        {
          "output_type": "stream",
          "name": "stderr",
          "text": [
            "\r 37%|███▋      | 322/870 [02:55<05:28,  1.67it/s]"
          ]
        },
        {
          "output_type": "stream",
          "name": "stdout",
          "text": [
            "Loading experiment from: experiments/781669\n"
          ]
        },
        {
          "output_type": "stream",
          "name": "stderr",
          "text": [
            "\r 37%|███▋      | 323/870 [02:56<05:45,  1.59it/s]"
          ]
        },
        {
          "output_type": "stream",
          "name": "stdout",
          "text": [
            "Loading experiment from: experiments/82115\n"
          ]
        },
        {
          "output_type": "stream",
          "name": "stderr",
          "text": [
            "\r 37%|███▋      | 324/870 [02:56<05:56,  1.53it/s]"
          ]
        },
        {
          "output_type": "stream",
          "name": "stdout",
          "text": [
            "Loading experiment from: experiments/450330\n"
          ]
        },
        {
          "output_type": "stream",
          "name": "stderr",
          "text": [
            "\r 37%|███▋      | 325/870 [02:57<05:54,  1.54it/s]"
          ]
        },
        {
          "output_type": "stream",
          "name": "stdout",
          "text": [
            "Loading experiment from: experiments/806682\n"
          ]
        },
        {
          "output_type": "stream",
          "name": "stderr",
          "text": [
            "\r 37%|███▋      | 326/870 [02:58<05:33,  1.63it/s]"
          ]
        },
        {
          "output_type": "stream",
          "name": "stdout",
          "text": [
            "Loading experiment from: experiments/815639\n"
          ]
        },
        {
          "output_type": "stream",
          "name": "stderr",
          "text": [
            "\r 38%|███▊      | 327/870 [02:58<05:16,  1.72it/s]"
          ]
        },
        {
          "output_type": "stream",
          "name": "stdout",
          "text": [
            "Loading experiment from: experiments/60919\n"
          ]
        },
        {
          "output_type": "stream",
          "name": "stderr",
          "text": [
            "\r 38%|███▊      | 328/870 [02:59<05:05,  1.78it/s]"
          ]
        },
        {
          "output_type": "stream",
          "name": "stdout",
          "text": [
            "Loading experiment from: experiments/83431\n"
          ]
        },
        {
          "output_type": "stream",
          "name": "stderr",
          "text": [
            "\r 38%|███▊      | 329/870 [02:59<04:59,  1.81it/s]"
          ]
        },
        {
          "output_type": "stream",
          "name": "stdout",
          "text": [
            "Loading experiment from: experiments/618295\n"
          ]
        },
        {
          "output_type": "stream",
          "name": "stderr",
          "text": [
            "\r 38%|███▊      | 330/870 [03:00<04:55,  1.83it/s]"
          ]
        },
        {
          "output_type": "stream",
          "name": "stdout",
          "text": [
            "Loading experiment from: experiments/615829\n"
          ]
        },
        {
          "output_type": "stream",
          "name": "stderr",
          "text": [
            "\r 38%|███▊      | 331/870 [03:00<04:51,  1.85it/s]"
          ]
        },
        {
          "output_type": "stream",
          "name": "stdout",
          "text": [
            "Loading experiment from: experiments/130665\n"
          ]
        },
        {
          "output_type": "stream",
          "name": "stderr",
          "text": [
            "\r 38%|███▊      | 332/870 [03:01<04:48,  1.87it/s]"
          ]
        },
        {
          "output_type": "stream",
          "name": "stdout",
          "text": [
            "Loading experiment from: experiments/692974\n"
          ]
        },
        {
          "output_type": "stream",
          "name": "stderr",
          "text": [
            "\r 38%|███▊      | 333/870 [03:01<04:45,  1.88it/s]"
          ]
        },
        {
          "output_type": "stream",
          "name": "stdout",
          "text": [
            "Loading experiment from: experiments/281190\n"
          ]
        },
        {
          "output_type": "stream",
          "name": "stderr",
          "text": [
            "\r 38%|███▊      | 334/870 [03:02<04:46,  1.87it/s]"
          ]
        },
        {
          "output_type": "stream",
          "name": "stdout",
          "text": [
            "Loading experiment from: experiments/608249\n"
          ]
        },
        {
          "output_type": "stream",
          "name": "stderr",
          "text": [
            "\r 39%|███▊      | 335/870 [03:02<04:45,  1.87it/s]"
          ]
        },
        {
          "output_type": "stream",
          "name": "stdout",
          "text": [
            "Loading experiment from: experiments/19206\n"
          ]
        },
        {
          "output_type": "stream",
          "name": "stderr",
          "text": [
            "\r 39%|███▊      | 336/870 [03:03<04:48,  1.85it/s]"
          ]
        },
        {
          "output_type": "stream",
          "name": "stdout",
          "text": [
            "Loading experiment from: experiments/496655\n"
          ]
        },
        {
          "output_type": "stream",
          "name": "stderr",
          "text": [
            "\r 39%|███▊      | 337/870 [03:03<04:46,  1.86it/s]"
          ]
        },
        {
          "output_type": "stream",
          "name": "stdout",
          "text": [
            "Loading experiment from: experiments/545480\n"
          ]
        },
        {
          "output_type": "stream",
          "name": "stderr",
          "text": [
            "\r 39%|███▉      | 338/870 [03:04<04:43,  1.87it/s]"
          ]
        },
        {
          "output_type": "stream",
          "name": "stdout",
          "text": [
            "Loading experiment from: experiments/727177\n"
          ]
        },
        {
          "output_type": "stream",
          "name": "stderr",
          "text": [
            "\r 39%|███▉      | 339/870 [03:04<04:43,  1.88it/s]"
          ]
        },
        {
          "output_type": "stream",
          "name": "stdout",
          "text": [
            "Loading experiment from: experiments/803862\n"
          ]
        },
        {
          "output_type": "stream",
          "name": "stderr",
          "text": [
            "\r 39%|███▉      | 340/870 [03:05<04:40,  1.89it/s]"
          ]
        },
        {
          "output_type": "stream",
          "name": "stdout",
          "text": [
            "Loading experiment from: experiments/537310\n"
          ]
        },
        {
          "output_type": "stream",
          "name": "stderr",
          "text": [
            "\r 39%|███▉      | 341/870 [03:05<04:38,  1.90it/s]"
          ]
        },
        {
          "output_type": "stream",
          "name": "stdout",
          "text": [
            "Loading experiment from: experiments/24613\n"
          ]
        },
        {
          "output_type": "stream",
          "name": "stderr",
          "text": [
            "\r 39%|███▉      | 342/870 [03:06<04:36,  1.91it/s]"
          ]
        },
        {
          "output_type": "stream",
          "name": "stdout",
          "text": [
            "Loading experiment from: experiments/439617\n"
          ]
        },
        {
          "output_type": "stream",
          "name": "stderr",
          "text": [
            "\r 39%|███▉      | 343/870 [03:07<04:36,  1.91it/s]"
          ]
        },
        {
          "output_type": "stream",
          "name": "stdout",
          "text": [
            "Loading experiment from: experiments/689812\n"
          ]
        },
        {
          "output_type": "stream",
          "name": "stderr",
          "text": [
            "\r 40%|███▉      | 344/870 [03:07<04:48,  1.82it/s]"
          ]
        },
        {
          "output_type": "stream",
          "name": "stdout",
          "text": [
            "Loading experiment from: experiments/365403\n"
          ]
        },
        {
          "output_type": "stream",
          "name": "stderr",
          "text": [
            "\r 40%|███▉      | 345/870 [03:08<05:12,  1.68it/s]"
          ]
        },
        {
          "output_type": "stream",
          "name": "stdout",
          "text": [
            "Loading experiment from: experiments/66816\n"
          ]
        },
        {
          "output_type": "stream",
          "name": "stderr",
          "text": [
            "\r 40%|███▉      | 346/870 [03:09<05:27,  1.60it/s]"
          ]
        },
        {
          "output_type": "stream",
          "name": "stdout",
          "text": [
            "Loading experiment from: experiments/701236\n"
          ]
        },
        {
          "output_type": "stream",
          "name": "stderr",
          "text": [
            "\r 40%|███▉      | 347/870 [03:09<05:39,  1.54it/s]"
          ]
        },
        {
          "output_type": "stream",
          "name": "stdout",
          "text": [
            "Loading experiment from: experiments/107862\n"
          ]
        },
        {
          "output_type": "stream",
          "name": "stderr",
          "text": [
            "\r 40%|████      | 348/870 [03:10<05:44,  1.52it/s]"
          ]
        },
        {
          "output_type": "stream",
          "name": "stdout",
          "text": [
            "Loading experiment from: experiments/800471\n"
          ]
        },
        {
          "output_type": "stream",
          "name": "stderr",
          "text": [
            "\r 40%|████      | 349/870 [03:10<05:23,  1.61it/s]"
          ]
        },
        {
          "output_type": "stream",
          "name": "stdout",
          "text": [
            "Loading experiment from: experiments/54217\n"
          ]
        },
        {
          "output_type": "stream",
          "name": "stderr",
          "text": [
            "\r 40%|████      | 350/870 [03:11<05:08,  1.68it/s]"
          ]
        },
        {
          "output_type": "stream",
          "name": "stdout",
          "text": [
            "Loading experiment from: experiments/254804\n"
          ]
        },
        {
          "output_type": "stream",
          "name": "stderr",
          "text": [
            "\r 40%|████      | 351/870 [03:12<04:55,  1.76it/s]"
          ]
        },
        {
          "output_type": "stream",
          "name": "stdout",
          "text": [
            "Loading experiment from: experiments/437658\n"
          ]
        },
        {
          "output_type": "stream",
          "name": "stderr",
          "text": [
            "\r 40%|████      | 352/870 [03:12<04:48,  1.79it/s]"
          ]
        },
        {
          "output_type": "stream",
          "name": "stdout",
          "text": [
            "Loading experiment from: experiments/311115\n"
          ]
        },
        {
          "output_type": "stream",
          "name": "stderr",
          "text": [
            "\r 41%|████      | 353/870 [03:13<04:41,  1.84it/s]"
          ]
        },
        {
          "output_type": "stream",
          "name": "stdout",
          "text": [
            "Loading experiment from: experiments/437279\n"
          ]
        },
        {
          "output_type": "stream",
          "name": "stderr",
          "text": [
            "\r 41%|████      | 354/870 [03:13<04:37,  1.86it/s]"
          ]
        },
        {
          "output_type": "stream",
          "name": "stdout",
          "text": [
            "Loading experiment from: experiments/27196\n"
          ]
        },
        {
          "output_type": "stream",
          "name": "stderr",
          "text": [
            "\r 41%|████      | 355/870 [03:14<04:33,  1.88it/s]"
          ]
        },
        {
          "output_type": "stream",
          "name": "stdout",
          "text": [
            "Loading experiment from: experiments/611788\n"
          ]
        },
        {
          "output_type": "stream",
          "name": "stderr",
          "text": [
            "\r 41%|████      | 356/870 [03:14<04:32,  1.89it/s]"
          ]
        },
        {
          "output_type": "stream",
          "name": "stdout",
          "text": [
            "Loading experiment from: experiments/508887\n"
          ]
        },
        {
          "output_type": "stream",
          "name": "stderr",
          "text": [
            "\r 41%|████      | 357/870 [03:15<04:29,  1.90it/s]"
          ]
        },
        {
          "output_type": "stream",
          "name": "stdout",
          "text": [
            "Loading experiment from: experiments/36258\n"
          ]
        },
        {
          "output_type": "stream",
          "name": "stderr",
          "text": [
            "\r 41%|████      | 358/870 [03:15<04:30,  1.90it/s]"
          ]
        },
        {
          "output_type": "stream",
          "name": "stdout",
          "text": [
            "Loading experiment from: experiments/590883\n"
          ]
        },
        {
          "output_type": "stream",
          "name": "stderr",
          "text": [
            "\r 41%|████▏     | 359/870 [03:16<04:28,  1.91it/s]"
          ]
        },
        {
          "output_type": "stream",
          "name": "stdout",
          "text": [
            "Loading experiment from: experiments/7322\n"
          ]
        },
        {
          "output_type": "stream",
          "name": "stderr",
          "text": [
            "\r 41%|████▏     | 360/870 [03:16<04:29,  1.89it/s]"
          ]
        },
        {
          "output_type": "stream",
          "name": "stdout",
          "text": [
            "Loading experiment from: experiments/689338\n"
          ]
        },
        {
          "output_type": "stream",
          "name": "stderr",
          "text": [
            "\r 41%|████▏     | 361/870 [03:17<04:29,  1.89it/s]"
          ]
        },
        {
          "output_type": "stream",
          "name": "stdout",
          "text": [
            "Loading experiment from: experiments/279064\n"
          ]
        },
        {
          "output_type": "stream",
          "name": "stderr",
          "text": [
            "\r 42%|████▏     | 362/870 [03:17<04:28,  1.90it/s]"
          ]
        },
        {
          "output_type": "stream",
          "name": "stdout",
          "text": [
            "Loading experiment from: experiments/325661\n"
          ]
        },
        {
          "output_type": "stream",
          "name": "stderr",
          "text": [
            "\r 42%|████▏     | 363/870 [03:18<04:27,  1.89it/s]"
          ]
        },
        {
          "output_type": "stream",
          "name": "stdout",
          "text": [
            "Loading experiment from: experiments/799695\n"
          ]
        },
        {
          "output_type": "stream",
          "name": "stderr",
          "text": [
            "\r 42%|████▏     | 364/870 [03:18<04:29,  1.88it/s]"
          ]
        },
        {
          "output_type": "stream",
          "name": "stdout",
          "text": [
            "Loading experiment from: experiments/19511\n"
          ]
        },
        {
          "output_type": "stream",
          "name": "stderr",
          "text": [
            "\r 42%|████▏     | 365/870 [03:19<04:29,  1.87it/s]"
          ]
        },
        {
          "output_type": "stream",
          "name": "stdout",
          "text": [
            "Loading experiment from: experiments/9067\n"
          ]
        },
        {
          "output_type": "stream",
          "name": "stderr",
          "text": [
            "\r 42%|████▏     | 366/870 [03:19<04:23,  1.91it/s]"
          ]
        },
        {
          "output_type": "stream",
          "name": "stdout",
          "text": [
            "Loading experiment from: experiments/263827\n"
          ]
        },
        {
          "output_type": "stream",
          "name": "stderr",
          "text": [
            "\r 42%|████▏     | 367/870 [03:20<04:29,  1.87it/s]"
          ]
        },
        {
          "output_type": "stream",
          "name": "stdout",
          "text": [
            "Loading experiment from: experiments/620109\n"
          ]
        },
        {
          "output_type": "stream",
          "name": "stderr",
          "text": [
            "\r 42%|████▏     | 368/870 [03:21<04:49,  1.74it/s]"
          ]
        },
        {
          "output_type": "stream",
          "name": "stdout",
          "text": [
            "Loading experiment from: experiments/582555\n"
          ]
        },
        {
          "output_type": "stream",
          "name": "stderr",
          "text": [
            "\r 42%|████▏     | 369/870 [03:21<05:06,  1.63it/s]"
          ]
        },
        {
          "output_type": "stream",
          "name": "stdout",
          "text": [
            "Loading experiment from: experiments/388446\n"
          ]
        },
        {
          "output_type": "stream",
          "name": "stderr",
          "text": [
            "\r 43%|████▎     | 370/870 [03:22<05:14,  1.59it/s]"
          ]
        },
        {
          "output_type": "stream",
          "name": "stdout",
          "text": [
            "Loading experiment from: experiments/354119\n"
          ]
        },
        {
          "output_type": "stream",
          "name": "stderr",
          "text": [
            "\r 43%|████▎     | 371/870 [03:23<05:32,  1.50it/s]"
          ]
        },
        {
          "output_type": "stream",
          "name": "stdout",
          "text": [
            "Loading experiment from: experiments/495052\n"
          ]
        },
        {
          "output_type": "stream",
          "name": "stderr",
          "text": [
            "\r 43%|████▎     | 372/870 [03:23<05:17,  1.57it/s]"
          ]
        },
        {
          "output_type": "stream",
          "name": "stdout",
          "text": [
            "Loading experiment from: experiments/476134\n"
          ]
        },
        {
          "output_type": "stream",
          "name": "stderr",
          "text": [
            "\r 43%|████▎     | 373/870 [03:24<04:58,  1.66it/s]"
          ]
        },
        {
          "output_type": "stream",
          "name": "stdout",
          "text": [
            "Loading experiment from: experiments/284494\n"
          ]
        },
        {
          "output_type": "stream",
          "name": "stderr",
          "text": [
            "\r 43%|████▎     | 374/870 [03:24<04:46,  1.73it/s]"
          ]
        },
        {
          "output_type": "stream",
          "name": "stdout",
          "text": [
            "Loading experiment from: experiments/592313\n"
          ]
        },
        {
          "output_type": "stream",
          "name": "stderr",
          "text": [
            "\r 43%|████▎     | 375/870 [03:25<04:35,  1.80it/s]"
          ]
        },
        {
          "output_type": "stream",
          "name": "stdout",
          "text": [
            "Loading experiment from: experiments/571741\n"
          ]
        },
        {
          "output_type": "stream",
          "name": "stderr",
          "text": [
            "\r 43%|████▎     | 376/870 [03:25<04:28,  1.84it/s]"
          ]
        },
        {
          "output_type": "stream",
          "name": "stdout",
          "text": [
            "Loading experiment from: experiments/132569\n"
          ]
        },
        {
          "output_type": "stream",
          "name": "stderr",
          "text": [
            "\r 43%|████▎     | 377/870 [03:26<04:23,  1.87it/s]"
          ]
        },
        {
          "output_type": "stream",
          "name": "stdout",
          "text": [
            "Loading experiment from: experiments/139974\n"
          ]
        },
        {
          "output_type": "stream",
          "name": "stderr",
          "text": [
            "\r 43%|████▎     | 378/870 [03:26<04:20,  1.89it/s]"
          ]
        },
        {
          "output_type": "stream",
          "name": "stdout",
          "text": [
            "Loading experiment from: experiments/199225\n"
          ]
        },
        {
          "output_type": "stream",
          "name": "stderr",
          "text": [
            "\r 44%|████▎     | 379/870 [03:27<04:21,  1.88it/s]"
          ]
        },
        {
          "output_type": "stream",
          "name": "stdout",
          "text": [
            "Loading experiment from: experiments/336796\n"
          ]
        },
        {
          "output_type": "stream",
          "name": "stderr",
          "text": [
            "\r 44%|████▎     | 380/870 [03:27<04:17,  1.90it/s]"
          ]
        },
        {
          "output_type": "stream",
          "name": "stdout",
          "text": [
            "Loading experiment from: experiments/621647\n"
          ]
        },
        {
          "output_type": "stream",
          "name": "stderr",
          "text": [
            "\r 44%|████▍     | 381/870 [03:28<04:17,  1.90it/s]"
          ]
        },
        {
          "output_type": "stream",
          "name": "stdout",
          "text": [
            "Loading experiment from: experiments/612871\n"
          ]
        },
        {
          "output_type": "stream",
          "name": "stderr",
          "text": [
            "\r 44%|████▍     | 382/870 [03:29<04:17,  1.90it/s]"
          ]
        },
        {
          "output_type": "stream",
          "name": "stdout",
          "text": [
            "Loading experiment from: experiments/217501\n"
          ]
        },
        {
          "output_type": "stream",
          "name": "stderr",
          "text": [
            "\r 44%|████▍     | 383/870 [03:29<04:16,  1.90it/s]"
          ]
        },
        {
          "output_type": "stream",
          "name": "stdout",
          "text": [
            "Loading experiment from: experiments/646821\n"
          ]
        },
        {
          "output_type": "stream",
          "name": "stderr",
          "text": [
            "\r 44%|████▍     | 384/870 [03:30<04:17,  1.89it/s]"
          ]
        },
        {
          "output_type": "stream",
          "name": "stdout",
          "text": [
            "Loading experiment from: experiments/364032\n"
          ]
        },
        {
          "output_type": "stream",
          "name": "stderr",
          "text": [
            "\r 44%|████▍     | 385/870 [03:30<04:18,  1.88it/s]"
          ]
        },
        {
          "output_type": "stream",
          "name": "stdout",
          "text": [
            "Loading experiment from: experiments/307729\n"
          ]
        },
        {
          "output_type": "stream",
          "name": "stderr",
          "text": [
            "\r 44%|████▍     | 386/870 [03:31<04:18,  1.87it/s]"
          ]
        },
        {
          "output_type": "stream",
          "name": "stdout",
          "text": [
            "Loading experiment from: experiments/188356\n"
          ]
        },
        {
          "output_type": "stream",
          "name": "stderr",
          "text": [
            "\r 44%|████▍     | 387/870 [03:31<04:16,  1.89it/s]"
          ]
        },
        {
          "output_type": "stream",
          "name": "stdout",
          "text": [
            "Loading experiment from: experiments/133732\n"
          ]
        },
        {
          "output_type": "stream",
          "name": "stderr",
          "text": [
            "\r 45%|████▍     | 388/870 [03:32<04:16,  1.88it/s]"
          ]
        },
        {
          "output_type": "stream",
          "name": "stdout",
          "text": [
            "Loading experiment from: experiments/463944\n"
          ]
        },
        {
          "output_type": "stream",
          "name": "stderr",
          "text": [
            "\r 45%|████▍     | 389/870 [03:32<04:12,  1.91it/s]"
          ]
        },
        {
          "output_type": "stream",
          "name": "stdout",
          "text": [
            "Loading experiment from: experiments/282935\n"
          ]
        },
        {
          "output_type": "stream",
          "name": "stderr",
          "text": [
            "\r 45%|████▍     | 390/870 [03:33<04:11,  1.91it/s]"
          ]
        },
        {
          "output_type": "stream",
          "name": "stdout",
          "text": [
            "Loading experiment from: experiments/270332\n"
          ]
        },
        {
          "output_type": "stream",
          "name": "stderr",
          "text": [
            "\r 45%|████▍     | 391/870 [03:33<04:25,  1.80it/s]"
          ]
        },
        {
          "output_type": "stream",
          "name": "stdout",
          "text": [
            "Loading experiment from: experiments/608927\n"
          ]
        },
        {
          "output_type": "stream",
          "name": "stderr",
          "text": [
            "\r 45%|████▌     | 392/870 [03:34<04:46,  1.67it/s]"
          ]
        },
        {
          "output_type": "stream",
          "name": "stdout",
          "text": [
            "Loading experiment from: experiments/769951\n"
          ]
        },
        {
          "output_type": "stream",
          "name": "stderr",
          "text": [
            "\r 45%|████▌     | 393/870 [03:35<04:56,  1.61it/s]"
          ]
        },
        {
          "output_type": "stream",
          "name": "stdout",
          "text": [
            "Loading experiment from: experiments/655278\n"
          ]
        },
        {
          "output_type": "stream",
          "name": "stderr",
          "text": [
            "\r 45%|████▌     | 394/870 [03:35<05:07,  1.55it/s]"
          ]
        },
        {
          "output_type": "stream",
          "name": "stdout",
          "text": [
            "Loading experiment from: experiments/382456\n"
          ]
        },
        {
          "output_type": "stream",
          "name": "stderr",
          "text": [
            "\r 45%|████▌     | 395/870 [03:36<05:09,  1.54it/s]"
          ]
        },
        {
          "output_type": "stream",
          "name": "stdout",
          "text": [
            "Loading experiment from: experiments/537248\n"
          ]
        },
        {
          "output_type": "stream",
          "name": "stderr",
          "text": [
            "\r 46%|████▌     | 396/870 [03:37<04:49,  1.64it/s]"
          ]
        },
        {
          "output_type": "stream",
          "name": "stdout",
          "text": [
            "Loading experiment from: experiments/172204\n"
          ]
        },
        {
          "output_type": "stream",
          "name": "stderr",
          "text": [
            "\r 46%|████▌     | 397/870 [03:37<04:36,  1.71it/s]"
          ]
        },
        {
          "output_type": "stream",
          "name": "stdout",
          "text": [
            "Loading experiment from: experiments/146221\n"
          ]
        },
        {
          "output_type": "stream",
          "name": "stderr",
          "text": [
            "\r 46%|████▌     | 398/870 [03:38<04:27,  1.76it/s]"
          ]
        },
        {
          "output_type": "stream",
          "name": "stdout",
          "text": [
            "Loading experiment from: experiments/645671\n"
          ]
        },
        {
          "output_type": "stream",
          "name": "stderr",
          "text": [
            "\r 46%|████▌     | 399/870 [03:38<04:19,  1.81it/s]"
          ]
        },
        {
          "output_type": "stream",
          "name": "stdout",
          "text": [
            "Loading experiment from: experiments/135679\n"
          ]
        },
        {
          "output_type": "stream",
          "name": "stderr",
          "text": [
            "\r 46%|████▌     | 400/870 [03:39<04:16,  1.83it/s]"
          ]
        },
        {
          "output_type": "stream",
          "name": "stdout",
          "text": [
            "Loading experiment from: experiments/17781\n"
          ]
        },
        {
          "output_type": "stream",
          "name": "stderr",
          "text": [
            "\r 46%|████▌     | 401/870 [03:39<04:15,  1.84it/s]"
          ]
        },
        {
          "output_type": "stream",
          "name": "stdout",
          "text": [
            "Loading experiment from: experiments/621004\n"
          ]
        },
        {
          "output_type": "stream",
          "name": "stderr",
          "text": [
            "\r 46%|████▌     | 402/870 [03:40<04:11,  1.86it/s]"
          ]
        },
        {
          "output_type": "stream",
          "name": "stdout",
          "text": [
            "Loading experiment from: experiments/127936\n"
          ]
        },
        {
          "output_type": "stream",
          "name": "stderr",
          "text": [
            "\r 46%|████▋     | 403/870 [03:40<04:09,  1.87it/s]"
          ]
        },
        {
          "output_type": "stream",
          "name": "stdout",
          "text": [
            "Loading experiment from: experiments/64555\n"
          ]
        },
        {
          "output_type": "stream",
          "name": "stderr",
          "text": [
            "\r 46%|████▋     | 404/870 [03:41<04:10,  1.86it/s]"
          ]
        },
        {
          "output_type": "stream",
          "name": "stdout",
          "text": [
            "Loading experiment from: experiments/649919\n"
          ]
        },
        {
          "output_type": "stream",
          "name": "stderr",
          "text": [
            "\r 47%|████▋     | 405/870 [03:41<04:07,  1.88it/s]"
          ]
        },
        {
          "output_type": "stream",
          "name": "stdout",
          "text": [
            "Loading experiment from: experiments/289053\n"
          ]
        },
        {
          "output_type": "stream",
          "name": "stderr",
          "text": [
            "\r 47%|████▋     | 406/870 [03:42<04:07,  1.87it/s]"
          ]
        },
        {
          "output_type": "stream",
          "name": "stdout",
          "text": [
            "Loading experiment from: experiments/258341\n"
          ]
        },
        {
          "output_type": "stream",
          "name": "stderr",
          "text": [
            "\r 47%|████▋     | 407/870 [03:42<04:05,  1.89it/s]"
          ]
        },
        {
          "output_type": "stream",
          "name": "stdout",
          "text": [
            "Loading experiment from: experiments/295528\n"
          ]
        },
        {
          "output_type": "stream",
          "name": "stderr",
          "text": [
            "\r 47%|████▋     | 408/870 [03:43<04:04,  1.89it/s]"
          ]
        },
        {
          "output_type": "stream",
          "name": "stdout",
          "text": [
            "Loading experiment from: experiments/171485\n"
          ]
        },
        {
          "output_type": "stream",
          "name": "stderr",
          "text": [
            "\r 47%|████▋     | 409/870 [03:43<04:01,  1.91it/s]"
          ]
        },
        {
          "output_type": "stream",
          "name": "stdout",
          "text": [
            "Loading experiment from: experiments/240960\n"
          ]
        },
        {
          "output_type": "stream",
          "name": "stderr",
          "text": [
            "\r 47%|████▋     | 410/870 [03:44<04:02,  1.90it/s]"
          ]
        },
        {
          "output_type": "stream",
          "name": "stdout",
          "text": [
            "Loading experiment from: experiments/12332\n"
          ]
        },
        {
          "output_type": "stream",
          "name": "stderr",
          "text": [
            "\r 47%|████▋     | 411/870 [03:45<03:58,  1.92it/s]"
          ]
        },
        {
          "output_type": "stream",
          "name": "stdout",
          "text": [
            "Loading experiment from: experiments/247623\n"
          ]
        },
        {
          "output_type": "stream",
          "name": "stderr",
          "text": [
            "\r 47%|████▋     | 412/870 [03:45<04:00,  1.91it/s]"
          ]
        },
        {
          "output_type": "stream",
          "name": "stdout",
          "text": [
            "Loading experiment from: experiments/808901\n"
          ]
        },
        {
          "output_type": "stream",
          "name": "stderr",
          "text": [
            "\r 47%|████▋     | 413/870 [03:46<03:58,  1.92it/s]"
          ]
        },
        {
          "output_type": "stream",
          "name": "stdout",
          "text": [
            "Loading experiment from: experiments/172017\n"
          ]
        },
        {
          "output_type": "stream",
          "name": "stderr",
          "text": [
            "\r 48%|████▊     | 414/870 [03:46<04:07,  1.84it/s]"
          ]
        },
        {
          "output_type": "stream",
          "name": "stdout",
          "text": [
            "Loading experiment from: experiments/220908\n"
          ]
        },
        {
          "output_type": "stream",
          "name": "stderr",
          "text": [
            "\r 48%|████▊     | 415/870 [03:47<04:29,  1.69it/s]"
          ]
        },
        {
          "output_type": "stream",
          "name": "stdout",
          "text": [
            "Loading experiment from: experiments/393304\n"
          ]
        },
        {
          "output_type": "stream",
          "name": "stderr",
          "text": [
            "\r 48%|████▊     | 416/870 [03:48<04:41,  1.61it/s]"
          ]
        },
        {
          "output_type": "stream",
          "name": "stdout",
          "text": [
            "Loading experiment from: experiments/529121\n"
          ]
        },
        {
          "output_type": "stream",
          "name": "stderr",
          "text": [
            "\r 48%|████▊     | 417/870 [03:48<04:46,  1.58it/s]"
          ]
        },
        {
          "output_type": "stream",
          "name": "stdout",
          "text": [
            "Loading experiment from: experiments/501774\n"
          ]
        },
        {
          "output_type": "stream",
          "name": "stderr",
          "text": [
            "\r 48%|████▊     | 418/870 [03:49<05:04,  1.49it/s]"
          ]
        },
        {
          "output_type": "stream",
          "name": "stdout",
          "text": [
            "Loading experiment from: experiments/610637\n"
          ]
        },
        {
          "output_type": "stream",
          "name": "stderr",
          "text": [
            "\r 48%|████▊     | 419/870 [03:49<04:42,  1.60it/s]"
          ]
        },
        {
          "output_type": "stream",
          "name": "stdout",
          "text": [
            "Loading experiment from: experiments/293778\n"
          ]
        },
        {
          "output_type": "stream",
          "name": "stderr",
          "text": [
            "\r 48%|████▊     | 420/870 [03:50<04:28,  1.67it/s]"
          ]
        },
        {
          "output_type": "stream",
          "name": "stdout",
          "text": [
            "Loading experiment from: experiments/213625\n"
          ]
        },
        {
          "output_type": "stream",
          "name": "stderr",
          "text": [
            "\r 48%|████▊     | 421/870 [03:51<04:17,  1.74it/s]"
          ]
        },
        {
          "output_type": "stream",
          "name": "stdout",
          "text": [
            "Loading experiment from: experiments/365267\n"
          ]
        },
        {
          "output_type": "stream",
          "name": "stderr",
          "text": [
            "\r 49%|████▊     | 422/870 [03:51<04:11,  1.78it/s]"
          ]
        },
        {
          "output_type": "stream",
          "name": "stdout",
          "text": [
            "Loading experiment from: experiments/819038\n"
          ]
        },
        {
          "output_type": "stream",
          "name": "stderr",
          "text": [
            "\r 49%|████▊     | 423/870 [03:52<04:05,  1.82it/s]"
          ]
        },
        {
          "output_type": "stream",
          "name": "stdout",
          "text": [
            "Loading experiment from: experiments/416688\n"
          ]
        },
        {
          "output_type": "stream",
          "name": "stderr",
          "text": [
            "\r 49%|████▊     | 424/870 [03:52<04:04,  1.82it/s]"
          ]
        },
        {
          "output_type": "stream",
          "name": "stdout",
          "text": [
            "Loading experiment from: experiments/10939\n"
          ]
        },
        {
          "output_type": "stream",
          "name": "stderr",
          "text": [
            "\r 49%|████▉     | 425/870 [03:53<04:04,  1.82it/s]"
          ]
        },
        {
          "output_type": "stream",
          "name": "stdout",
          "text": [
            "Loading experiment from: experiments/218551\n"
          ]
        },
        {
          "output_type": "stream",
          "name": "stderr",
          "text": [
            "\r 49%|████▉     | 426/870 [03:53<04:04,  1.82it/s]"
          ]
        },
        {
          "output_type": "stream",
          "name": "stdout",
          "text": [
            "Loading experiment from: experiments/443745\n"
          ]
        },
        {
          "output_type": "stream",
          "name": "stderr",
          "text": [
            "\r 49%|████▉     | 427/870 [03:54<04:00,  1.84it/s]"
          ]
        },
        {
          "output_type": "stream",
          "name": "stdout",
          "text": [
            "Loading experiment from: experiments/602995\n"
          ]
        },
        {
          "output_type": "stream",
          "name": "stderr",
          "text": [
            "\r 49%|████▉     | 428/870 [03:54<03:56,  1.87it/s]"
          ]
        },
        {
          "output_type": "stream",
          "name": "stdout",
          "text": [
            "Loading experiment from: experiments/364002\n"
          ]
        },
        {
          "output_type": "stream",
          "name": "stderr",
          "text": [
            "\r 49%|████▉     | 429/870 [03:55<03:53,  1.89it/s]"
          ]
        },
        {
          "output_type": "stream",
          "name": "stdout",
          "text": [
            "Loading experiment from: experiments/678615\n"
          ]
        },
        {
          "output_type": "stream",
          "name": "stderr",
          "text": [
            "\r 49%|████▉     | 430/870 [03:55<03:50,  1.90it/s]"
          ]
        },
        {
          "output_type": "stream",
          "name": "stdout",
          "text": [
            "Loading experiment from: experiments/144314\n"
          ]
        },
        {
          "output_type": "stream",
          "name": "stderr",
          "text": [
            "\r 50%|████▉     | 431/870 [03:56<03:50,  1.90it/s]"
          ]
        },
        {
          "output_type": "stream",
          "name": "stdout",
          "text": [
            "Loading experiment from: experiments/83356\n"
          ]
        },
        {
          "output_type": "stream",
          "name": "stderr",
          "text": [
            "\r 50%|████▉     | 432/870 [03:56<03:48,  1.92it/s]"
          ]
        },
        {
          "output_type": "stream",
          "name": "stdout",
          "text": [
            "Loading experiment from: experiments/711331\n"
          ]
        },
        {
          "output_type": "stream",
          "name": "stderr",
          "text": [
            "\r 50%|████▉     | 433/870 [03:57<03:48,  1.91it/s]"
          ]
        },
        {
          "output_type": "stream",
          "name": "stdout",
          "text": [
            "Loading experiment from: experiments/78248\n"
          ]
        },
        {
          "output_type": "stream",
          "name": "stderr",
          "text": [
            "\r 50%|████▉     | 434/870 [03:57<03:47,  1.92it/s]"
          ]
        },
        {
          "output_type": "stream",
          "name": "stdout",
          "text": [
            "Loading experiment from: experiments/566190\n"
          ]
        },
        {
          "output_type": "stream",
          "name": "stderr",
          "text": [
            "\r 50%|█████     | 435/870 [03:58<03:46,  1.92it/s]"
          ]
        },
        {
          "output_type": "stream",
          "name": "stdout",
          "text": [
            "Loading experiment from: experiments/575496\n"
          ]
        },
        {
          "output_type": "stream",
          "name": "stderr",
          "text": [
            "\r 50%|█████     | 436/870 [03:58<03:47,  1.91it/s]"
          ]
        },
        {
          "output_type": "stream",
          "name": "stdout",
          "text": [
            "Loading experiment from: experiments/320237\n"
          ]
        },
        {
          "output_type": "stream",
          "name": "stderr",
          "text": [
            "\r 50%|█████     | 437/870 [03:59<03:46,  1.91it/s]"
          ]
        },
        {
          "output_type": "stream",
          "name": "stdout",
          "text": [
            "Loading experiment from: experiments/589360\n"
          ]
        },
        {
          "output_type": "stream",
          "name": "stderr",
          "text": [
            "\r 50%|█████     | 438/870 [04:00<04:06,  1.75it/s]"
          ]
        },
        {
          "output_type": "stream",
          "name": "stdout",
          "text": [
            "Loading experiment from: experiments/598587\n"
          ]
        },
        {
          "output_type": "stream",
          "name": "stderr",
          "text": [
            "\r 50%|█████     | 439/870 [04:00<04:23,  1.63it/s]"
          ]
        },
        {
          "output_type": "stream",
          "name": "stdout",
          "text": [
            "Loading experiment from: experiments/791839\n"
          ]
        },
        {
          "output_type": "stream",
          "name": "stderr",
          "text": [
            "\r 51%|█████     | 440/870 [04:01<04:31,  1.58it/s]"
          ]
        },
        {
          "output_type": "stream",
          "name": "stdout",
          "text": [
            "Loading experiment from: experiments/362158\n"
          ]
        },
        {
          "output_type": "stream",
          "name": "stderr",
          "text": [
            "\r 51%|█████     | 441/870 [04:02<04:40,  1.53it/s]"
          ]
        },
        {
          "output_type": "stream",
          "name": "stdout",
          "text": [
            "Loading experiment from: experiments/824310\n"
          ]
        },
        {
          "output_type": "stream",
          "name": "stderr",
          "text": [
            "\r 51%|█████     | 442/870 [04:02<04:38,  1.54it/s]"
          ]
        },
        {
          "output_type": "stream",
          "name": "stdout",
          "text": [
            "Loading experiment from: experiments/23795\n"
          ]
        },
        {
          "output_type": "stream",
          "name": "stderr",
          "text": [
            "\r 51%|█████     | 443/870 [04:03<04:24,  1.61it/s]"
          ]
        },
        {
          "output_type": "stream",
          "name": "stdout",
          "text": [
            "Loading experiment from: experiments/142944\n"
          ]
        },
        {
          "output_type": "stream",
          "name": "stderr",
          "text": [
            "\r 51%|█████     | 444/870 [04:03<04:14,  1.68it/s]"
          ]
        },
        {
          "output_type": "stream",
          "name": "stdout",
          "text": [
            "Loading experiment from: experiments/201854\n"
          ]
        },
        {
          "output_type": "stream",
          "name": "stderr",
          "text": [
            "\r 51%|█████     | 445/870 [04:04<04:05,  1.73it/s]"
          ]
        },
        {
          "output_type": "stream",
          "name": "stdout",
          "text": [
            "Loading experiment from: experiments/545818\n"
          ]
        },
        {
          "output_type": "stream",
          "name": "stderr",
          "text": [
            "\r 51%|█████▏    | 446/870 [04:05<04:01,  1.76it/s]"
          ]
        },
        {
          "output_type": "stream",
          "name": "stdout",
          "text": [
            "Loading experiment from: experiments/306502\n"
          ]
        },
        {
          "output_type": "stream",
          "name": "stderr",
          "text": [
            "\r 51%|█████▏    | 447/870 [04:05<03:56,  1.79it/s]"
          ]
        },
        {
          "output_type": "stream",
          "name": "stdout",
          "text": [
            "Loading experiment from: experiments/788243\n"
          ]
        },
        {
          "output_type": "stream",
          "name": "stderr",
          "text": [
            "\r 51%|█████▏    | 448/870 [04:06<03:50,  1.83it/s]"
          ]
        },
        {
          "output_type": "stream",
          "name": "stdout",
          "text": [
            "Loading experiment from: experiments/576134\n"
          ]
        },
        {
          "output_type": "stream",
          "name": "stderr",
          "text": [
            "\r 52%|█████▏    | 449/870 [04:06<03:45,  1.86it/s]"
          ]
        },
        {
          "output_type": "stream",
          "name": "stdout",
          "text": [
            "Loading experiment from: experiments/151599\n"
          ]
        },
        {
          "output_type": "stream",
          "name": "stderr",
          "text": [
            "\r 52%|█████▏    | 450/870 [04:07<03:42,  1.89it/s]"
          ]
        },
        {
          "output_type": "stream",
          "name": "stdout",
          "text": [
            "Loading experiment from: experiments/361401\n"
          ]
        },
        {
          "output_type": "stream",
          "name": "stderr",
          "text": [
            "\r 52%|█████▏    | 451/870 [04:07<03:40,  1.90it/s]"
          ]
        },
        {
          "output_type": "stream",
          "name": "stdout",
          "text": [
            "Loading experiment from: experiments/791706\n"
          ]
        },
        {
          "output_type": "stream",
          "name": "stderr",
          "text": [
            "\r 52%|█████▏    | 452/870 [04:08<03:38,  1.91it/s]"
          ]
        },
        {
          "output_type": "stream",
          "name": "stdout",
          "text": [
            "Loading experiment from: experiments/513603\n"
          ]
        },
        {
          "output_type": "stream",
          "name": "stderr",
          "text": [
            "\r 52%|█████▏    | 453/870 [04:08<03:36,  1.93it/s]"
          ]
        },
        {
          "output_type": "stream",
          "name": "stdout",
          "text": [
            "Loading experiment from: experiments/229653\n"
          ]
        },
        {
          "output_type": "stream",
          "name": "stderr",
          "text": [
            "\r 52%|█████▏    | 454/870 [04:09<03:36,  1.93it/s]"
          ]
        },
        {
          "output_type": "stream",
          "name": "stdout",
          "text": [
            "Loading experiment from: experiments/218247\n"
          ]
        },
        {
          "output_type": "stream",
          "name": "stderr",
          "text": [
            "\r 52%|█████▏    | 455/870 [04:09<03:35,  1.93it/s]"
          ]
        },
        {
          "output_type": "stream",
          "name": "stdout",
          "text": [
            "Loading experiment from: experiments/164776\n"
          ]
        },
        {
          "output_type": "stream",
          "name": "stderr",
          "text": [
            "\r 52%|█████▏    | 456/870 [04:10<03:34,  1.93it/s]"
          ]
        },
        {
          "output_type": "stream",
          "name": "stdout",
          "text": [
            "Loading experiment from: experiments/596266\n"
          ]
        },
        {
          "output_type": "stream",
          "name": "stderr",
          "text": [
            "\r 53%|█████▎    | 457/870 [04:10<03:34,  1.92it/s]"
          ]
        },
        {
          "output_type": "stream",
          "name": "stdout",
          "text": [
            "Loading experiment from: experiments/717890\n"
          ]
        },
        {
          "output_type": "stream",
          "name": "stderr",
          "text": [
            "\r 53%|█████▎    | 458/870 [04:11<03:36,  1.90it/s]"
          ]
        },
        {
          "output_type": "stream",
          "name": "stdout",
          "text": [
            "Loading experiment from: experiments/82346\n"
          ]
        },
        {
          "output_type": "stream",
          "name": "stderr",
          "text": [
            "\r 53%|█████▎    | 459/870 [04:11<03:34,  1.92it/s]"
          ]
        },
        {
          "output_type": "stream",
          "name": "stdout",
          "text": [
            "Loading experiment from: experiments/509678\n"
          ]
        },
        {
          "output_type": "stream",
          "name": "stderr",
          "text": [
            "\r 53%|█████▎    | 460/870 [04:12<03:34,  1.91it/s]"
          ]
        },
        {
          "output_type": "stream",
          "name": "stdout",
          "text": [
            "Loading experiment from: experiments/267482\n"
          ]
        },
        {
          "output_type": "stream",
          "name": "stderr",
          "text": [
            "\r 53%|█████▎    | 461/870 [04:12<03:44,  1.82it/s]"
          ]
        },
        {
          "output_type": "stream",
          "name": "stdout",
          "text": [
            "Loading experiment from: experiments/402565\n"
          ]
        },
        {
          "output_type": "stream",
          "name": "stderr",
          "text": [
            "\r 53%|█████▎    | 462/870 [04:13<03:59,  1.70it/s]"
          ]
        },
        {
          "output_type": "stream",
          "name": "stdout",
          "text": [
            "Loading experiment from: experiments/696481\n"
          ]
        },
        {
          "output_type": "stream",
          "name": "stderr",
          "text": [
            "\r 53%|█████▎    | 463/870 [04:14<04:12,  1.61it/s]"
          ]
        },
        {
          "output_type": "stream",
          "name": "stdout",
          "text": [
            "Loading experiment from: experiments/470217\n"
          ]
        },
        {
          "output_type": "stream",
          "name": "stderr",
          "text": [
            "\r 53%|█████▎    | 464/870 [04:14<04:19,  1.56it/s]"
          ]
        },
        {
          "output_type": "stream",
          "name": "stdout",
          "text": [
            "Loading experiment from: experiments/755087\n"
          ]
        },
        {
          "output_type": "stream",
          "name": "stderr",
          "text": [
            "\r 53%|█████▎    | 465/870 [04:15<04:28,  1.51it/s]"
          ]
        },
        {
          "output_type": "stream",
          "name": "stdout",
          "text": [
            "Loading experiment from: experiments/43485\n"
          ]
        },
        {
          "output_type": "stream",
          "name": "stderr",
          "text": [
            "\r 54%|█████▎    | 466/870 [04:16<04:09,  1.62it/s]"
          ]
        },
        {
          "output_type": "stream",
          "name": "stdout",
          "text": [
            "Loading experiment from: experiments/287235\n"
          ]
        },
        {
          "output_type": "stream",
          "name": "stderr",
          "text": [
            "\r 54%|█████▎    | 467/870 [04:16<03:58,  1.69it/s]"
          ]
        },
        {
          "output_type": "stream",
          "name": "stdout",
          "text": [
            "Loading experiment from: experiments/632761\n"
          ]
        },
        {
          "output_type": "stream",
          "name": "stderr",
          "text": [
            "\r 54%|█████▍    | 468/870 [04:17<03:49,  1.76it/s]"
          ]
        },
        {
          "output_type": "stream",
          "name": "stdout",
          "text": [
            "Loading experiment from: experiments/393045\n"
          ]
        },
        {
          "output_type": "stream",
          "name": "stderr",
          "text": [
            "\r 54%|█████▍    | 469/870 [04:17<03:41,  1.81it/s]"
          ]
        },
        {
          "output_type": "stream",
          "name": "stdout",
          "text": [
            "Loading experiment from: experiments/539197\n"
          ]
        },
        {
          "output_type": "stream",
          "name": "stderr",
          "text": [
            "\r 54%|█████▍    | 470/870 [04:18<03:37,  1.84it/s]"
          ]
        },
        {
          "output_type": "stream",
          "name": "stdout",
          "text": [
            "Loading experiment from: experiments/402485\n"
          ]
        },
        {
          "output_type": "stream",
          "name": "stderr",
          "text": [
            "\r 54%|█████▍    | 471/870 [04:18<03:32,  1.88it/s]"
          ]
        },
        {
          "output_type": "stream",
          "name": "stdout",
          "text": [
            "Loading experiment from: experiments/782138\n"
          ]
        },
        {
          "output_type": "stream",
          "name": "stderr",
          "text": [
            "\r 54%|█████▍    | 472/870 [04:19<03:32,  1.87it/s]"
          ]
        },
        {
          "output_type": "stream",
          "name": "stdout",
          "text": [
            "Loading experiment from: experiments/483268\n"
          ]
        },
        {
          "output_type": "stream",
          "name": "stderr",
          "text": [
            "\r 54%|█████▍    | 473/870 [04:19<03:29,  1.90it/s]"
          ]
        },
        {
          "output_type": "stream",
          "name": "stdout",
          "text": [
            "Loading experiment from: experiments/140808\n"
          ]
        },
        {
          "output_type": "stream",
          "name": "stderr",
          "text": [
            "\r 54%|█████▍    | 474/870 [04:20<03:28,  1.90it/s]"
          ]
        },
        {
          "output_type": "stream",
          "name": "stdout",
          "text": [
            "Loading experiment from: experiments/564124\n"
          ]
        },
        {
          "output_type": "stream",
          "name": "stderr",
          "text": [
            "\r 55%|█████▍    | 475/870 [04:20<03:26,  1.91it/s]"
          ]
        },
        {
          "output_type": "stream",
          "name": "stdout",
          "text": [
            "Loading experiment from: experiments/1325\n"
          ]
        },
        {
          "output_type": "stream",
          "name": "stderr",
          "text": [
            "\r 55%|█████▍    | 476/870 [04:21<03:27,  1.90it/s]"
          ]
        },
        {
          "output_type": "stream",
          "name": "stdout",
          "text": [
            "Loading experiment from: experiments/300166\n"
          ]
        },
        {
          "output_type": "stream",
          "name": "stderr",
          "text": [
            "\r 55%|█████▍    | 477/870 [04:21<03:24,  1.92it/s]"
          ]
        },
        {
          "output_type": "stream",
          "name": "stdout",
          "text": [
            "Loading experiment from: experiments/694632\n"
          ]
        },
        {
          "output_type": "stream",
          "name": "stderr",
          "text": [
            "\r 55%|█████▍    | 478/870 [04:22<03:23,  1.93it/s]"
          ]
        },
        {
          "output_type": "stream",
          "name": "stdout",
          "text": [
            "Loading experiment from: experiments/574673\n"
          ]
        },
        {
          "output_type": "stream",
          "name": "stderr",
          "text": [
            "\r 55%|█████▌    | 479/870 [04:22<03:22,  1.94it/s]"
          ]
        },
        {
          "output_type": "stream",
          "name": "stdout",
          "text": [
            "Loading experiment from: experiments/94048\n"
          ]
        },
        {
          "output_type": "stream",
          "name": "stderr",
          "text": [
            "\r 55%|█████▌    | 480/870 [04:23<03:23,  1.92it/s]"
          ]
        },
        {
          "output_type": "stream",
          "name": "stdout",
          "text": [
            "Loading experiment from: experiments/581006\n"
          ]
        },
        {
          "output_type": "stream",
          "name": "stderr",
          "text": [
            "\r 55%|█████▌    | 481/870 [04:24<03:23,  1.92it/s]"
          ]
        },
        {
          "output_type": "stream",
          "name": "stdout",
          "text": [
            "Loading experiment from: experiments/580374\n"
          ]
        },
        {
          "output_type": "stream",
          "name": "stderr",
          "text": [
            "\r 55%|█████▌    | 482/870 [04:24<03:22,  1.92it/s]"
          ]
        },
        {
          "output_type": "stream",
          "name": "stdout",
          "text": [
            "Loading experiment from: experiments/253972\n"
          ]
        },
        {
          "output_type": "stream",
          "name": "stderr",
          "text": [
            "\r 56%|█████▌    | 483/870 [04:25<03:20,  1.93it/s]"
          ]
        },
        {
          "output_type": "stream",
          "name": "stdout",
          "text": [
            "Loading experiment from: experiments/645137\n"
          ]
        },
        {
          "output_type": "stream",
          "name": "stderr",
          "text": [
            "\r 56%|█████▌    | 484/870 [04:25<03:21,  1.92it/s]"
          ]
        },
        {
          "output_type": "stream",
          "name": "stdout",
          "text": [
            "Loading experiment from: experiments/689721\n"
          ]
        },
        {
          "output_type": "stream",
          "name": "stderr",
          "text": [
            "\r 56%|█████▌    | 485/870 [04:26<03:37,  1.77it/s]"
          ]
        },
        {
          "output_type": "stream",
          "name": "stdout",
          "text": [
            "Loading experiment from: experiments/539502\n"
          ]
        },
        {
          "output_type": "stream",
          "name": "stderr",
          "text": [
            "\r 56%|█████▌    | 486/870 [04:26<03:52,  1.65it/s]"
          ]
        },
        {
          "output_type": "stream",
          "name": "stdout",
          "text": [
            "Loading experiment from: experiments/27550\n"
          ]
        },
        {
          "output_type": "stream",
          "name": "stderr",
          "text": [
            "\r 56%|█████▌    | 487/870 [04:27<04:00,  1.59it/s]"
          ]
        },
        {
          "output_type": "stream",
          "name": "stdout",
          "text": [
            "Loading experiment from: experiments/116758\n"
          ]
        },
        {
          "output_type": "stream",
          "name": "stderr",
          "text": [
            "\r 56%|█████▌    | 488/870 [04:28<04:17,  1.48it/s]"
          ]
        },
        {
          "output_type": "stream",
          "name": "stdout",
          "text": [
            "Loading experiment from: experiments/450341\n"
          ]
        },
        {
          "output_type": "stream",
          "name": "stderr",
          "text": [
            "\r 56%|█████▌    | 489/870 [04:29<04:34,  1.39it/s]"
          ]
        },
        {
          "output_type": "stream",
          "name": "stdout",
          "text": [
            "Loading experiment from: experiments/308156\n",
            "Could not compute heat map for object: water skis, Error: Search word water skis not found in prompt!\n"
          ]
        },
        {
          "output_type": "stream",
          "name": "stderr",
          "text": [
            "\r 56%|█████▋    | 490/870 [04:29<04:28,  1.41it/s]"
          ]
        },
        {
          "output_type": "stream",
          "name": "stdout",
          "text": [
            "Loading experiment from: experiments/278736\n"
          ]
        },
        {
          "output_type": "stream",
          "name": "stderr",
          "text": [
            "\r 56%|█████▋    | 491/870 [04:30<04:08,  1.52it/s]"
          ]
        },
        {
          "output_type": "stream",
          "name": "stdout",
          "text": [
            "Loading experiment from: experiments/14367\n"
          ]
        },
        {
          "output_type": "stream",
          "name": "stderr",
          "text": [
            "\r 57%|█████▋    | 492/870 [04:31<03:55,  1.61it/s]"
          ]
        },
        {
          "output_type": "stream",
          "name": "stdout",
          "text": [
            "Loading experiment from: experiments/743185\n"
          ]
        },
        {
          "output_type": "stream",
          "name": "stderr",
          "text": [
            "\r 57%|█████▋    | 493/870 [04:31<03:44,  1.68it/s]"
          ]
        },
        {
          "output_type": "stream",
          "name": "stdout",
          "text": [
            "Loading experiment from: experiments/176014\n"
          ]
        },
        {
          "output_type": "stream",
          "name": "stderr",
          "text": [
            "\r 57%|█████▋    | 494/870 [04:32<03:35,  1.75it/s]"
          ]
        },
        {
          "output_type": "stream",
          "name": "stdout",
          "text": [
            "Loading experiment from: experiments/287034\n"
          ]
        },
        {
          "output_type": "stream",
          "name": "stderr",
          "text": [
            "\r 57%|█████▋    | 495/870 [04:32<03:28,  1.80it/s]"
          ]
        },
        {
          "output_type": "stream",
          "name": "stdout",
          "text": [
            "Loading experiment from: experiments/607811\n"
          ]
        },
        {
          "output_type": "stream",
          "name": "stderr",
          "text": [
            "\r 57%|█████▋    | 496/870 [04:33<03:24,  1.83it/s]"
          ]
        },
        {
          "output_type": "stream",
          "name": "stdout",
          "text": [
            "Loading experiment from: experiments/423073\n"
          ]
        },
        {
          "output_type": "stream",
          "name": "stderr",
          "text": [
            "\r 57%|█████▋    | 497/870 [04:33<03:20,  1.86it/s]"
          ]
        },
        {
          "output_type": "stream",
          "name": "stdout",
          "text": [
            "Loading experiment from: experiments/705508\n"
          ]
        },
        {
          "output_type": "stream",
          "name": "stderr",
          "text": [
            "\r 57%|█████▋    | 498/870 [04:34<03:17,  1.88it/s]"
          ]
        },
        {
          "output_type": "stream",
          "name": "stdout",
          "text": [
            "Loading experiment from: experiments/272978\n"
          ]
        },
        {
          "output_type": "stream",
          "name": "stderr",
          "text": [
            "\r 57%|█████▋    | 499/870 [04:34<03:15,  1.90it/s]"
          ]
        },
        {
          "output_type": "stream",
          "name": "stdout",
          "text": [
            "Loading experiment from: experiments/504873\n"
          ]
        },
        {
          "output_type": "stream",
          "name": "stderr",
          "text": [
            "\r 57%|█████▋    | 500/870 [04:35<03:14,  1.90it/s]"
          ]
        },
        {
          "output_type": "stream",
          "name": "stdout",
          "text": [
            "Loading experiment from: experiments/310705\n"
          ]
        },
        {
          "output_type": "stream",
          "name": "stderr",
          "text": [
            "\r 58%|█████▊    | 501/870 [04:35<03:13,  1.91it/s]"
          ]
        },
        {
          "output_type": "stream",
          "name": "stdout",
          "text": [
            "Loading experiment from: experiments/633196\n"
          ]
        },
        {
          "output_type": "stream",
          "name": "stderr",
          "text": [
            "\r 58%|█████▊    | 502/870 [04:36<03:12,  1.92it/s]"
          ]
        },
        {
          "output_type": "stream",
          "name": "stdout",
          "text": [
            "Loading experiment from: experiments/515298\n"
          ]
        },
        {
          "output_type": "stream",
          "name": "stderr",
          "text": [
            "\r 58%|█████▊    | 503/870 [04:36<03:10,  1.93it/s]"
          ]
        },
        {
          "output_type": "stream",
          "name": "stdout",
          "text": [
            "Loading experiment from: experiments/466579\n"
          ]
        },
        {
          "output_type": "stream",
          "name": "stderr",
          "text": [
            "\r 58%|█████▊    | 504/870 [04:37<03:09,  1.93it/s]"
          ]
        },
        {
          "output_type": "stream",
          "name": "stdout",
          "text": [
            "Loading experiment from: experiments/555277\n"
          ]
        },
        {
          "output_type": "stream",
          "name": "stderr",
          "text": [
            "\r 58%|█████▊    | 505/870 [04:37<03:08,  1.94it/s]"
          ]
        },
        {
          "output_type": "stream",
          "name": "stdout",
          "text": [
            "Loading experiment from: experiments/41273\n"
          ]
        },
        {
          "output_type": "stream",
          "name": "stderr",
          "text": [
            "\r 58%|█████▊    | 506/870 [04:38<03:07,  1.94it/s]"
          ]
        },
        {
          "output_type": "stream",
          "name": "stdout",
          "text": [
            "Loading experiment from: experiments/531963\n"
          ]
        },
        {
          "output_type": "stream",
          "name": "stderr",
          "text": [
            "\r 58%|█████▊    | 507/870 [04:38<03:09,  1.92it/s]"
          ]
        },
        {
          "output_type": "stream",
          "name": "stdout",
          "text": [
            "Loading experiment from: experiments/544394\n"
          ]
        },
        {
          "output_type": "stream",
          "name": "stderr",
          "text": [
            "\r 58%|█████▊    | 508/870 [04:39<03:11,  1.89it/s]"
          ]
        },
        {
          "output_type": "stream",
          "name": "stdout",
          "text": [
            "Loading experiment from: experiments/59063\n"
          ]
        },
        {
          "output_type": "stream",
          "name": "stderr",
          "text": [
            "\r 59%|█████▊    | 509/870 [04:40<03:29,  1.72it/s]"
          ]
        },
        {
          "output_type": "stream",
          "name": "stdout",
          "text": [
            "Loading experiment from: experiments/608865\n"
          ]
        },
        {
          "output_type": "stream",
          "name": "stderr",
          "text": [
            "\r 59%|█████▊    | 510/870 [04:40<03:41,  1.62it/s]"
          ]
        },
        {
          "output_type": "stream",
          "name": "stdout",
          "text": [
            "Loading experiment from: experiments/95355\n"
          ]
        },
        {
          "output_type": "stream",
          "name": "stderr",
          "text": [
            "\r 59%|█████▊    | 511/870 [04:41<03:46,  1.58it/s]"
          ]
        },
        {
          "output_type": "stream",
          "name": "stdout",
          "text": [
            "Loading experiment from: experiments/661916\n"
          ]
        },
        {
          "output_type": "stream",
          "name": "stderr",
          "text": [
            "\r 59%|█████▉    | 512/870 [04:42<03:54,  1.53it/s]"
          ]
        },
        {
          "output_type": "stream",
          "name": "stdout",
          "text": [
            "Loading experiment from: experiments/466173\n"
          ]
        },
        {
          "output_type": "stream",
          "name": "stderr",
          "text": [
            "\r 59%|█████▉    | 513/870 [04:42<03:49,  1.55it/s]"
          ]
        },
        {
          "output_type": "stream",
          "name": "stdout",
          "text": [
            "Loading experiment from: experiments/775122\n"
          ]
        },
        {
          "output_type": "stream",
          "name": "stderr",
          "text": [
            "\r 59%|█████▉    | 514/870 [04:43<03:38,  1.63it/s]"
          ]
        },
        {
          "output_type": "stream",
          "name": "stdout",
          "text": [
            "Loading experiment from: experiments/327795\n"
          ]
        },
        {
          "output_type": "stream",
          "name": "stderr",
          "text": [
            "\r 59%|█████▉    | 515/870 [04:43<03:26,  1.72it/s]"
          ]
        },
        {
          "output_type": "stream",
          "name": "stdout",
          "text": [
            "Loading experiment from: experiments/298797\n"
          ]
        },
        {
          "output_type": "stream",
          "name": "stderr",
          "text": [
            "\r 59%|█████▉    | 516/870 [04:44<03:18,  1.78it/s]"
          ]
        },
        {
          "output_type": "stream",
          "name": "stdout",
          "text": [
            "Loading experiment from: experiments/815339\n"
          ]
        },
        {
          "output_type": "stream",
          "name": "stderr",
          "text": [
            "\r 59%|█████▉    | 517/870 [04:44<03:13,  1.83it/s]"
          ]
        },
        {
          "output_type": "stream",
          "name": "stdout",
          "text": [
            "Loading experiment from: experiments/311491\n"
          ]
        },
        {
          "output_type": "stream",
          "name": "stderr",
          "text": [
            "\r 60%|█████▉    | 518/870 [04:45<03:10,  1.84it/s]"
          ]
        },
        {
          "output_type": "stream",
          "name": "stdout",
          "text": [
            "Loading experiment from: experiments/160532\n"
          ]
        },
        {
          "output_type": "stream",
          "name": "stderr",
          "text": [
            "\r 60%|█████▉    | 519/870 [04:45<03:06,  1.88it/s]"
          ]
        },
        {
          "output_type": "stream",
          "name": "stdout",
          "text": [
            "Loading experiment from: experiments/326549\n"
          ]
        },
        {
          "output_type": "stream",
          "name": "stderr",
          "text": [
            "\r 60%|█████▉    | 520/870 [04:46<03:05,  1.88it/s]"
          ]
        },
        {
          "output_type": "stream",
          "name": "stdout",
          "text": [
            "Loading experiment from: experiments/816701\n"
          ]
        },
        {
          "output_type": "stream",
          "name": "stderr",
          "text": [
            "\r 60%|█████▉    | 521/870 [04:46<03:02,  1.91it/s]"
          ]
        },
        {
          "output_type": "stream",
          "name": "stdout",
          "text": [
            "Loading experiment from: experiments/799262\n"
          ]
        },
        {
          "output_type": "stream",
          "name": "stderr",
          "text": [
            "\r 60%|██████    | 522/870 [04:47<03:02,  1.91it/s]"
          ]
        },
        {
          "output_type": "stream",
          "name": "stdout",
          "text": [
            "Loading experiment from: experiments/740941\n"
          ]
        },
        {
          "output_type": "stream",
          "name": "stderr",
          "text": [
            "\r 60%|██████    | 523/870 [04:47<03:00,  1.92it/s]"
          ]
        },
        {
          "output_type": "stream",
          "name": "stdout",
          "text": [
            "Loading experiment from: experiments/86285\n"
          ]
        },
        {
          "output_type": "stream",
          "name": "stderr",
          "text": [
            "\r 60%|██████    | 524/870 [04:48<02:59,  1.93it/s]"
          ]
        },
        {
          "output_type": "stream",
          "name": "stdout",
          "text": [
            "Loading experiment from: experiments/644252\n"
          ]
        },
        {
          "output_type": "stream",
          "name": "stderr",
          "text": [
            "\r 60%|██████    | 525/870 [04:48<02:58,  1.93it/s]"
          ]
        },
        {
          "output_type": "stream",
          "name": "stdout",
          "text": [
            "Loading experiment from: experiments/752139\n"
          ]
        },
        {
          "output_type": "stream",
          "name": "stderr",
          "text": [
            "\r 60%|██████    | 526/870 [04:49<03:05,  1.86it/s]"
          ]
        },
        {
          "output_type": "stream",
          "name": "stdout",
          "text": [
            "Loading experiment from: experiments/662529\n"
          ]
        },
        {
          "output_type": "stream",
          "name": "stderr",
          "text": [
            "\r 61%|██████    | 527/870 [04:50<03:03,  1.87it/s]"
          ]
        },
        {
          "output_type": "stream",
          "name": "stdout",
          "text": [
            "Loading experiment from: experiments/257350\n"
          ]
        },
        {
          "output_type": "stream",
          "name": "stderr",
          "text": [
            "\r 61%|██████    | 528/870 [04:50<03:03,  1.87it/s]"
          ]
        },
        {
          "output_type": "stream",
          "name": "stdout",
          "text": [
            "Loading experiment from: experiments/34506\n"
          ]
        },
        {
          "output_type": "stream",
          "name": "stderr",
          "text": [
            "\r 61%|██████    | 529/870 [04:51<03:02,  1.87it/s]"
          ]
        },
        {
          "output_type": "stream",
          "name": "stdout",
          "text": [
            "Loading experiment from: experiments/535791\n"
          ]
        },
        {
          "output_type": "stream",
          "name": "stderr",
          "text": [
            "\r 61%|██████    | 530/870 [04:51<03:01,  1.88it/s]"
          ]
        },
        {
          "output_type": "stream",
          "name": "stdout",
          "text": [
            "Loading experiment from: experiments/187614\n"
          ]
        },
        {
          "output_type": "stream",
          "name": "stderr",
          "text": [
            "\r 61%|██████    | 531/870 [04:52<02:58,  1.90it/s]"
          ]
        },
        {
          "output_type": "stream",
          "name": "stdout",
          "text": [
            "Loading experiment from: experiments/282314\n"
          ]
        },
        {
          "output_type": "stream",
          "name": "stderr",
          "text": [
            "\r 61%|██████    | 532/870 [04:52<03:05,  1.82it/s]"
          ]
        },
        {
          "output_type": "stream",
          "name": "stdout",
          "text": [
            "Loading experiment from: experiments/39963\n"
          ]
        },
        {
          "output_type": "stream",
          "name": "stderr",
          "text": [
            "\r 61%|██████▏   | 533/870 [04:53<03:22,  1.66it/s]"
          ]
        },
        {
          "output_type": "stream",
          "name": "stdout",
          "text": [
            "Loading experiment from: experiments/289076\n"
          ]
        },
        {
          "output_type": "stream",
          "name": "stderr",
          "text": [
            "\r 61%|██████▏   | 534/870 [04:54<03:28,  1.61it/s]"
          ]
        },
        {
          "output_type": "stream",
          "name": "stdout",
          "text": [
            "Loading experiment from: experiments/296788\n"
          ]
        },
        {
          "output_type": "stream",
          "name": "stderr",
          "text": [
            "\r 61%|██████▏   | 535/870 [04:54<03:34,  1.56it/s]"
          ]
        },
        {
          "output_type": "stream",
          "name": "stdout",
          "text": [
            "Loading experiment from: experiments/709076\n"
          ]
        },
        {
          "output_type": "stream",
          "name": "stderr",
          "text": [
            "\r 62%|██████▏   | 536/870 [04:55<03:40,  1.51it/s]"
          ]
        },
        {
          "output_type": "stream",
          "name": "stdout",
          "text": [
            "Loading experiment from: experiments/43237\n"
          ]
        },
        {
          "output_type": "stream",
          "name": "stderr",
          "text": [
            "\r 62%|██████▏   | 537/870 [04:56<03:24,  1.63it/s]"
          ]
        },
        {
          "output_type": "stream",
          "name": "stdout",
          "text": [
            "Loading experiment from: experiments/665330\n"
          ]
        },
        {
          "output_type": "stream",
          "name": "stderr",
          "text": [
            "\r 62%|██████▏   | 538/870 [04:56<03:14,  1.71it/s]"
          ]
        },
        {
          "output_type": "stream",
          "name": "stdout",
          "text": [
            "Loading experiment from: experiments/719016\n"
          ]
        },
        {
          "output_type": "stream",
          "name": "stderr",
          "text": [
            "\r 62%|██████▏   | 539/870 [04:57<03:06,  1.77it/s]"
          ]
        },
        {
          "output_type": "stream",
          "name": "stdout",
          "text": [
            "Loading experiment from: experiments/787777\n"
          ]
        },
        {
          "output_type": "stream",
          "name": "stderr",
          "text": [
            "\r 62%|██████▏   | 540/870 [04:57<03:02,  1.81it/s]"
          ]
        },
        {
          "output_type": "stream",
          "name": "stdout",
          "text": [
            "Loading experiment from: experiments/603981\n"
          ]
        },
        {
          "output_type": "stream",
          "name": "stderr",
          "text": [
            "\r 62%|██████▏   | 541/870 [04:58<02:58,  1.85it/s]"
          ]
        },
        {
          "output_type": "stream",
          "name": "stdout",
          "text": [
            "Loading experiment from: experiments/52927\n"
          ]
        },
        {
          "output_type": "stream",
          "name": "stderr",
          "text": [
            "\r 62%|██████▏   | 542/870 [04:58<02:56,  1.86it/s]"
          ]
        },
        {
          "output_type": "stream",
          "name": "stdout",
          "text": [
            "Loading experiment from: experiments/573568\n"
          ]
        },
        {
          "output_type": "stream",
          "name": "stderr",
          "text": [
            "\r 62%|██████▏   | 543/870 [04:59<02:54,  1.88it/s]"
          ]
        },
        {
          "output_type": "stream",
          "name": "stdout",
          "text": [
            "Loading experiment from: experiments/788548\n"
          ]
        },
        {
          "output_type": "stream",
          "name": "stderr",
          "text": [
            "\r 63%|██████▎   | 544/870 [04:59<02:52,  1.89it/s]"
          ]
        },
        {
          "output_type": "stream",
          "name": "stdout",
          "text": [
            "Loading experiment from: experiments/725274\n"
          ]
        },
        {
          "output_type": "stream",
          "name": "stderr",
          "text": [
            "\r 63%|██████▎   | 545/870 [05:00<02:50,  1.91it/s]"
          ]
        },
        {
          "output_type": "stream",
          "name": "stdout",
          "text": [
            "Loading experiment from: experiments/17147\n"
          ]
        },
        {
          "output_type": "stream",
          "name": "stderr",
          "text": [
            "\r 63%|██████▎   | 546/870 [05:00<02:50,  1.90it/s]"
          ]
        },
        {
          "output_type": "stream",
          "name": "stdout",
          "text": [
            "Loading experiment from: experiments/36020\n"
          ]
        },
        {
          "output_type": "stream",
          "name": "stderr",
          "text": [
            "\r 63%|██████▎   | 547/870 [05:01<02:49,  1.91it/s]"
          ]
        },
        {
          "output_type": "stream",
          "name": "stdout",
          "text": [
            "Loading experiment from: experiments/656016\n"
          ]
        },
        {
          "output_type": "stream",
          "name": "stderr",
          "text": [
            "\r 63%|██████▎   | 548/870 [05:01<02:49,  1.90it/s]"
          ]
        },
        {
          "output_type": "stream",
          "name": "stdout",
          "text": [
            "Loading experiment from: experiments/645206\n"
          ]
        },
        {
          "output_type": "stream",
          "name": "stderr",
          "text": [
            "\r 63%|██████▎   | 549/870 [05:02<02:51,  1.88it/s]"
          ]
        },
        {
          "output_type": "stream",
          "name": "stdout",
          "text": [
            "Loading experiment from: experiments/124333\n"
          ]
        },
        {
          "output_type": "stream",
          "name": "stderr",
          "text": [
            "\r 63%|██████▎   | 550/870 [05:02<02:51,  1.86it/s]"
          ]
        },
        {
          "output_type": "stream",
          "name": "stdout",
          "text": [
            "Loading experiment from: experiments/389458\n"
          ]
        },
        {
          "output_type": "stream",
          "name": "stderr",
          "text": [
            "\r 63%|██████▎   | 551/870 [05:03<02:51,  1.86it/s]"
          ]
        },
        {
          "output_type": "stream",
          "name": "stdout",
          "text": [
            "Loading experiment from: experiments/73459\n"
          ]
        },
        {
          "output_type": "stream",
          "name": "stderr",
          "text": [
            "\r 63%|██████▎   | 552/870 [05:04<02:52,  1.84it/s]"
          ]
        },
        {
          "output_type": "stream",
          "name": "stdout",
          "text": [
            "Loading experiment from: experiments/753713\n"
          ]
        },
        {
          "output_type": "stream",
          "name": "stderr",
          "text": [
            "\r 64%|██████▎   | 553/870 [05:04<02:49,  1.87it/s]"
          ]
        },
        {
          "output_type": "stream",
          "name": "stdout",
          "text": [
            "Loading experiment from: experiments/255371\n"
          ]
        },
        {
          "output_type": "stream",
          "name": "stderr",
          "text": [
            "\r 64%|██████▎   | 554/870 [05:05<02:47,  1.88it/s]"
          ]
        },
        {
          "output_type": "stream",
          "name": "stdout",
          "text": [
            "Loading experiment from: experiments/428116\n"
          ]
        },
        {
          "output_type": "stream",
          "name": "stderr",
          "text": [
            "\r 64%|██████▍   | 555/870 [05:05<02:48,  1.87it/s]"
          ]
        },
        {
          "output_type": "stream",
          "name": "stdout",
          "text": [
            "Loading experiment from: experiments/234555\n"
          ]
        },
        {
          "output_type": "stream",
          "name": "stderr",
          "text": [
            "\r 64%|██████▍   | 556/870 [05:06<03:00,  1.74it/s]"
          ]
        },
        {
          "output_type": "stream",
          "name": "stdout",
          "text": [
            "Loading experiment from: experiments/384810\n"
          ]
        },
        {
          "output_type": "stream",
          "name": "stderr",
          "text": [
            "\r 64%|██████▍   | 557/870 [05:06<03:12,  1.63it/s]"
          ]
        },
        {
          "output_type": "stream",
          "name": "stdout",
          "text": [
            "Loading experiment from: experiments/213978\n"
          ]
        },
        {
          "output_type": "stream",
          "name": "stderr",
          "text": [
            "\r 64%|██████▍   | 558/870 [05:07<03:15,  1.60it/s]"
          ]
        },
        {
          "output_type": "stream",
          "name": "stdout",
          "text": [
            "Loading experiment from: experiments/107446\n"
          ]
        },
        {
          "output_type": "stream",
          "name": "stderr",
          "text": [
            "\r 64%|██████▍   | 559/870 [05:08<03:22,  1.53it/s]"
          ]
        },
        {
          "output_type": "stream",
          "name": "stdout",
          "text": [
            "Loading experiment from: experiments/192564\n"
          ]
        },
        {
          "output_type": "stream",
          "name": "stderr",
          "text": [
            "\r 64%|██████▍   | 560/870 [05:08<03:19,  1.56it/s]"
          ]
        },
        {
          "output_type": "stream",
          "name": "stdout",
          "text": [
            "Loading experiment from: experiments/377135\n"
          ]
        },
        {
          "output_type": "stream",
          "name": "stderr",
          "text": [
            "\r 64%|██████▍   | 561/870 [05:09<03:07,  1.65it/s]"
          ]
        },
        {
          "output_type": "stream",
          "name": "stdout",
          "text": [
            "Loading experiment from: experiments/595468\n"
          ]
        },
        {
          "output_type": "stream",
          "name": "stderr",
          "text": [
            "\r 65%|██████▍   | 562/870 [05:09<03:00,  1.71it/s]"
          ]
        },
        {
          "output_type": "stream",
          "name": "stdout",
          "text": [
            "Loading experiment from: experiments/209760\n"
          ]
        },
        {
          "output_type": "stream",
          "name": "stderr",
          "text": [
            "\r 65%|██████▍   | 563/870 [05:10<02:53,  1.77it/s]"
          ]
        },
        {
          "output_type": "stream",
          "name": "stdout",
          "text": [
            "Loading experiment from: experiments/349476\n"
          ]
        },
        {
          "output_type": "stream",
          "name": "stderr",
          "text": [
            "\r 65%|██████▍   | 564/870 [05:11<02:48,  1.82it/s]"
          ]
        },
        {
          "output_type": "stream",
          "name": "stdout",
          "text": [
            "Loading experiment from: experiments/482599\n"
          ]
        },
        {
          "output_type": "stream",
          "name": "stderr",
          "text": [
            "\r 65%|██████▍   | 565/870 [05:11<02:44,  1.86it/s]"
          ]
        },
        {
          "output_type": "stream",
          "name": "stdout",
          "text": [
            "Loading experiment from: experiments/454968\n"
          ]
        },
        {
          "output_type": "stream",
          "name": "stderr",
          "text": [
            "\r 65%|██████▌   | 566/870 [05:12<02:41,  1.88it/s]"
          ]
        },
        {
          "output_type": "stream",
          "name": "stdout",
          "text": [
            "Loading experiment from: experiments/100624\n"
          ]
        },
        {
          "output_type": "stream",
          "name": "stderr",
          "text": [
            "\r 65%|██████▌   | 567/870 [05:12<02:40,  1.89it/s]"
          ]
        },
        {
          "output_type": "stream",
          "name": "stdout",
          "text": [
            "Loading experiment from: experiments/373588\n"
          ]
        },
        {
          "output_type": "stream",
          "name": "stderr",
          "text": [
            "\r 65%|██████▌   | 568/870 [05:13<02:41,  1.87it/s]"
          ]
        },
        {
          "output_type": "stream",
          "name": "stdout",
          "text": [
            "Loading experiment from: experiments/620312\n"
          ]
        },
        {
          "output_type": "stream",
          "name": "stderr",
          "text": [
            "\r 65%|██████▌   | 569/870 [05:13<02:39,  1.89it/s]"
          ]
        },
        {
          "output_type": "stream",
          "name": "stdout",
          "text": [
            "Loading experiment from: experiments/797135\n"
          ]
        },
        {
          "output_type": "stream",
          "name": "stderr",
          "text": [
            "\r 66%|██████▌   | 570/870 [05:14<02:38,  1.89it/s]"
          ]
        },
        {
          "output_type": "stream",
          "name": "stdout",
          "text": [
            "Loading experiment from: experiments/498313\n"
          ]
        },
        {
          "output_type": "stream",
          "name": "stderr",
          "text": [
            "\r 66%|██████▌   | 571/870 [05:14<02:37,  1.90it/s]"
          ]
        },
        {
          "output_type": "stream",
          "name": "stdout",
          "text": [
            "Loading experiment from: experiments/659583\n"
          ]
        },
        {
          "output_type": "stream",
          "name": "stderr",
          "text": [
            "\r 66%|██████▌   | 572/870 [05:15<02:35,  1.92it/s]"
          ]
        },
        {
          "output_type": "stream",
          "name": "stdout",
          "text": [
            "Loading experiment from: experiments/492074\n"
          ]
        },
        {
          "output_type": "stream",
          "name": "stderr",
          "text": [
            "\r 66%|██████▌   | 573/870 [05:15<02:34,  1.92it/s]"
          ]
        },
        {
          "output_type": "stream",
          "name": "stdout",
          "text": [
            "Loading experiment from: experiments/290348\n"
          ]
        },
        {
          "output_type": "stream",
          "name": "stderr",
          "text": [
            "\r 66%|██████▌   | 574/870 [05:16<02:33,  1.93it/s]"
          ]
        },
        {
          "output_type": "stream",
          "name": "stdout",
          "text": [
            "Loading experiment from: experiments/739339\n"
          ]
        },
        {
          "output_type": "stream",
          "name": "stderr",
          "text": [
            "\r 66%|██████▌   | 575/870 [05:16<02:32,  1.94it/s]"
          ]
        },
        {
          "output_type": "stream",
          "name": "stdout",
          "text": [
            "Loading experiment from: experiments/511408\n"
          ]
        },
        {
          "output_type": "stream",
          "name": "stderr",
          "text": [
            "\r 66%|██████▌   | 576/870 [05:17<02:31,  1.94it/s]"
          ]
        },
        {
          "output_type": "stream",
          "name": "stdout",
          "text": [
            "Loading experiment from: experiments/610344\n"
          ]
        },
        {
          "output_type": "stream",
          "name": "stderr",
          "text": [
            "\r 66%|██████▋   | 577/870 [05:17<02:31,  1.94it/s]"
          ]
        },
        {
          "output_type": "stream",
          "name": "stdout",
          "text": [
            "Loading experiment from: experiments/305425\n"
          ]
        },
        {
          "output_type": "stream",
          "name": "stderr",
          "text": [
            "\r 66%|██████▋   | 578/870 [05:18<02:30,  1.94it/s]"
          ]
        },
        {
          "output_type": "stream",
          "name": "stdout",
          "text": [
            "Loading experiment from: experiments/686694\n"
          ]
        },
        {
          "output_type": "stream",
          "name": "stderr",
          "text": [
            "\r 67%|██████▋   | 579/870 [05:18<02:36,  1.86it/s]"
          ]
        },
        {
          "output_type": "stream",
          "name": "stdout",
          "text": [
            "Loading experiment from: experiments/395335\n"
          ]
        },
        {
          "output_type": "stream",
          "name": "stderr",
          "text": [
            "\r 67%|██████▋   | 580/870 [05:19<02:48,  1.72it/s]"
          ]
        },
        {
          "output_type": "stream",
          "name": "stdout",
          "text": [
            "Loading experiment from: experiments/719257\n"
          ]
        },
        {
          "output_type": "stream",
          "name": "stderr",
          "text": [
            "\r 67%|██████▋   | 581/870 [05:20<02:59,  1.61it/s]"
          ]
        },
        {
          "output_type": "stream",
          "name": "stdout",
          "text": [
            "Loading experiment from: experiments/419421\n"
          ]
        },
        {
          "output_type": "stream",
          "name": "stderr",
          "text": [
            "\r 67%|██████▋   | 582/870 [05:20<03:04,  1.56it/s]"
          ]
        },
        {
          "output_type": "stream",
          "name": "stdout",
          "text": [
            "Loading experiment from: experiments/378089\n"
          ]
        },
        {
          "output_type": "stream",
          "name": "stderr",
          "text": [
            "\r 67%|██████▋   | 583/870 [05:21<03:10,  1.50it/s]"
          ]
        },
        {
          "output_type": "stream",
          "name": "stdout",
          "text": [
            "Loading experiment from: experiments/8549\n"
          ]
        },
        {
          "output_type": "stream",
          "name": "stderr",
          "text": [
            "\r 67%|██████▋   | 584/870 [05:22<02:57,  1.61it/s]"
          ]
        },
        {
          "output_type": "stream",
          "name": "stdout",
          "text": [
            "Loading experiment from: experiments/38\n"
          ]
        },
        {
          "output_type": "stream",
          "name": "stderr",
          "text": [
            "\r 67%|██████▋   | 585/870 [05:22<02:47,  1.70it/s]"
          ]
        },
        {
          "output_type": "stream",
          "name": "stdout",
          "text": [
            "Loading experiment from: experiments/13237\n"
          ]
        },
        {
          "output_type": "stream",
          "name": "stderr",
          "text": [
            "\r 67%|██████▋   | 586/870 [05:23<02:41,  1.76it/s]"
          ]
        },
        {
          "output_type": "stream",
          "name": "stdout",
          "text": [
            "Loading experiment from: experiments/176678\n"
          ]
        },
        {
          "output_type": "stream",
          "name": "stderr",
          "text": [
            "\r 67%|██████▋   | 587/870 [05:23<02:38,  1.79it/s]"
          ]
        },
        {
          "output_type": "stream",
          "name": "stdout",
          "text": [
            "Loading experiment from: experiments/626099\n"
          ]
        },
        {
          "output_type": "stream",
          "name": "stderr",
          "text": [
            "\r 68%|██████▊   | 588/870 [05:24<02:35,  1.82it/s]"
          ]
        },
        {
          "output_type": "stream",
          "name": "stdout",
          "text": [
            "Loading experiment from: experiments/352188\n"
          ]
        },
        {
          "output_type": "stream",
          "name": "stderr",
          "text": [
            "\r 68%|██████▊   | 589/870 [05:24<02:31,  1.85it/s]"
          ]
        },
        {
          "output_type": "stream",
          "name": "stdout",
          "text": [
            "Loading experiment from: experiments/332399\n"
          ]
        },
        {
          "output_type": "stream",
          "name": "stderr",
          "text": [
            "\r 68%|██████▊   | 590/870 [05:25<02:31,  1.85it/s]"
          ]
        },
        {
          "output_type": "stream",
          "name": "stdout",
          "text": [
            "Loading experiment from: experiments/440173\n"
          ]
        },
        {
          "output_type": "stream",
          "name": "stderr",
          "text": [
            "\r 68%|██████▊   | 591/870 [05:25<02:29,  1.86it/s]"
          ]
        },
        {
          "output_type": "stream",
          "name": "stdout",
          "text": [
            "Loading experiment from: experiments/414476\n"
          ]
        },
        {
          "output_type": "stream",
          "name": "stderr",
          "text": [
            "\r 68%|██████▊   | 592/870 [05:26<02:27,  1.88it/s]"
          ]
        },
        {
          "output_type": "stream",
          "name": "stdout",
          "text": [
            "Loading experiment from: experiments/145510\n"
          ]
        },
        {
          "output_type": "stream",
          "name": "stderr",
          "text": [
            "\r 68%|██████▊   | 593/870 [05:26<02:26,  1.89it/s]"
          ]
        },
        {
          "output_type": "stream",
          "name": "stdout",
          "text": [
            "Loading experiment from: experiments/394870\n"
          ]
        },
        {
          "output_type": "stream",
          "name": "stderr",
          "text": [
            "\r 68%|██████▊   | 594/870 [05:27<02:25,  1.90it/s]"
          ]
        },
        {
          "output_type": "stream",
          "name": "stdout",
          "text": [
            "Loading experiment from: experiments/255823\n"
          ]
        },
        {
          "output_type": "stream",
          "name": "stderr",
          "text": [
            "\r 68%|██████▊   | 595/870 [05:27<02:24,  1.90it/s]"
          ]
        },
        {
          "output_type": "stream",
          "name": "stdout",
          "text": [
            "Loading experiment from: experiments/692651\n"
          ]
        },
        {
          "output_type": "stream",
          "name": "stderr",
          "text": [
            "\r 69%|██████▊   | 596/870 [05:28<02:24,  1.89it/s]"
          ]
        },
        {
          "output_type": "stream",
          "name": "stdout",
          "text": [
            "Loading experiment from: experiments/407554\n"
          ]
        },
        {
          "output_type": "stream",
          "name": "stderr",
          "text": [
            "\r 69%|██████▊   | 597/870 [05:29<02:23,  1.91it/s]"
          ]
        },
        {
          "output_type": "stream",
          "name": "stdout",
          "text": [
            "Loading experiment from: experiments/304719\n",
            "Could not compute heat map for object: its mouth, Error: Search word its mouth not found in prompt!\n"
          ]
        },
        {
          "output_type": "stream",
          "name": "stderr",
          "text": [
            "\r 69%|██████▊   | 598/870 [05:29<02:22,  1.91it/s]"
          ]
        },
        {
          "output_type": "stream",
          "name": "stdout",
          "text": [
            "Loading experiment from: experiments/803162\n"
          ]
        },
        {
          "output_type": "stream",
          "name": "stderr",
          "text": [
            "\r 69%|██████▉   | 599/870 [05:30<02:21,  1.91it/s]"
          ]
        },
        {
          "output_type": "stream",
          "name": "stdout",
          "text": [
            "Loading experiment from: experiments/407968\n"
          ]
        },
        {
          "output_type": "stream",
          "name": "stderr",
          "text": [
            "\r 69%|██████▉   | 600/870 [05:30<02:21,  1.91it/s]"
          ]
        },
        {
          "output_type": "stream",
          "name": "stdout",
          "text": [
            "Loading experiment from: experiments/715892\n"
          ]
        },
        {
          "output_type": "stream",
          "name": "stderr",
          "text": [
            "\r 69%|██████▉   | 601/870 [05:31<02:21,  1.91it/s]"
          ]
        },
        {
          "output_type": "stream",
          "name": "stdout",
          "text": [
            "Loading experiment from: experiments/611423\n"
          ]
        },
        {
          "output_type": "stream",
          "name": "stderr",
          "text": [
            "\r 69%|██████▉   | 602/870 [05:31<02:21,  1.89it/s]"
          ]
        },
        {
          "output_type": "stream",
          "name": "stdout",
          "text": [
            "Loading experiment from: experiments/211164\n"
          ]
        },
        {
          "output_type": "stream",
          "name": "stderr",
          "text": [
            "\r 69%|██████▉   | 603/870 [05:32<02:33,  1.74it/s]"
          ]
        },
        {
          "output_type": "stream",
          "name": "stdout",
          "text": [
            "Loading experiment from: experiments/778557\n"
          ]
        },
        {
          "output_type": "stream",
          "name": "stderr",
          "text": [
            "\r 69%|██████▉   | 604/870 [05:33<02:44,  1.61it/s]"
          ]
        },
        {
          "output_type": "stream",
          "name": "stdout",
          "text": [
            "Loading experiment from: experiments/37280\n"
          ]
        },
        {
          "output_type": "stream",
          "name": "stderr",
          "text": [
            "\r 70%|██████▉   | 605/870 [05:33<02:48,  1.57it/s]"
          ]
        },
        {
          "output_type": "stream",
          "name": "stdout",
          "text": [
            "Loading experiment from: experiments/242575\n"
          ]
        },
        {
          "output_type": "stream",
          "name": "stderr",
          "text": [
            "\r 70%|██████▉   | 606/870 [05:34<02:54,  1.51it/s]"
          ]
        },
        {
          "output_type": "stream",
          "name": "stdout",
          "text": [
            "Loading experiment from: experiments/523940\n"
          ]
        },
        {
          "output_type": "stream",
          "name": "stderr",
          "text": [
            "\r 70%|██████▉   | 607/870 [05:35<02:50,  1.54it/s]"
          ]
        },
        {
          "output_type": "stream",
          "name": "stdout",
          "text": [
            "Loading experiment from: experiments/155431\n"
          ]
        },
        {
          "output_type": "stream",
          "name": "stderr",
          "text": [
            "\r 70%|██████▉   | 608/870 [05:35<02:41,  1.62it/s]"
          ]
        },
        {
          "output_type": "stream",
          "name": "stdout",
          "text": [
            "Loading experiment from: experiments/768418\n"
          ]
        },
        {
          "output_type": "stream",
          "name": "stderr",
          "text": [
            "\r 70%|███████   | 609/870 [05:36<02:45,  1.58it/s]"
          ]
        },
        {
          "output_type": "stream",
          "name": "stdout",
          "text": [
            "Loading experiment from: experiments/542240\n"
          ]
        },
        {
          "output_type": "stream",
          "name": "stderr",
          "text": [
            "\r 70%|███████   | 610/870 [05:37<02:51,  1.51it/s]"
          ]
        },
        {
          "output_type": "stream",
          "name": "stdout",
          "text": [
            "Loading experiment from: experiments/349421\n"
          ]
        },
        {
          "output_type": "stream",
          "name": "stderr",
          "text": [
            "\r 70%|███████   | 611/870 [05:37<02:52,  1.50it/s]"
          ]
        },
        {
          "output_type": "stream",
          "name": "stdout",
          "text": [
            "Loading experiment from: experiments/714871\n"
          ]
        },
        {
          "output_type": "stream",
          "name": "stderr",
          "text": [
            "\r 70%|███████   | 612/870 [05:38<02:53,  1.49it/s]"
          ]
        },
        {
          "output_type": "stream",
          "name": "stdout",
          "text": [
            "Loading experiment from: experiments/503042\n"
          ]
        },
        {
          "output_type": "stream",
          "name": "stderr",
          "text": [
            "\r 70%|███████   | 613/870 [05:39<02:50,  1.51it/s]"
          ]
        },
        {
          "output_type": "stream",
          "name": "stdout",
          "text": [
            "Loading experiment from: experiments/801288\n"
          ]
        },
        {
          "output_type": "stream",
          "name": "stderr",
          "text": [
            "\r 71%|███████   | 614/870 [05:39<02:38,  1.62it/s]"
          ]
        },
        {
          "output_type": "stream",
          "name": "stdout",
          "text": [
            "Loading experiment from: experiments/543524\n"
          ]
        },
        {
          "output_type": "stream",
          "name": "stderr",
          "text": [
            "\r 71%|███████   | 615/870 [05:40<02:31,  1.69it/s]"
          ]
        },
        {
          "output_type": "stream",
          "name": "stdout",
          "text": [
            "Loading experiment from: experiments/827279\n"
          ]
        },
        {
          "output_type": "stream",
          "name": "stderr",
          "text": [
            "\r 71%|███████   | 616/870 [05:40<02:25,  1.74it/s]"
          ]
        },
        {
          "output_type": "stream",
          "name": "stdout",
          "text": [
            "Loading experiment from: experiments/227854\n"
          ]
        },
        {
          "output_type": "stream",
          "name": "stderr",
          "text": [
            "\r 71%|███████   | 617/870 [05:41<02:22,  1.78it/s]"
          ]
        },
        {
          "output_type": "stream",
          "name": "stdout",
          "text": [
            "Loading experiment from: experiments/223038\n"
          ]
        },
        {
          "output_type": "stream",
          "name": "stderr",
          "text": [
            "\r 71%|███████   | 618/870 [05:41<02:18,  1.82it/s]"
          ]
        },
        {
          "output_type": "stream",
          "name": "stdout",
          "text": [
            "Loading experiment from: experiments/598468\n"
          ]
        },
        {
          "output_type": "stream",
          "name": "stderr",
          "text": [
            "\r 71%|███████   | 619/870 [05:42<02:16,  1.84it/s]"
          ]
        },
        {
          "output_type": "stream",
          "name": "stdout",
          "text": [
            "Loading experiment from: experiments/39766\n"
          ]
        },
        {
          "output_type": "stream",
          "name": "stderr",
          "text": [
            "\r 71%|███████▏  | 620/870 [05:42<02:14,  1.86it/s]"
          ]
        },
        {
          "output_type": "stream",
          "name": "stdout",
          "text": [
            "Loading experiment from: experiments/60175\n"
          ]
        },
        {
          "output_type": "stream",
          "name": "stderr",
          "text": [
            "\r 71%|███████▏  | 621/870 [05:43<02:13,  1.86it/s]"
          ]
        },
        {
          "output_type": "stream",
          "name": "stdout",
          "text": [
            "Loading experiment from: experiments/136225\n"
          ]
        },
        {
          "output_type": "stream",
          "name": "stderr",
          "text": [
            "\r 71%|███████▏  | 622/870 [05:43<02:11,  1.88it/s]"
          ]
        },
        {
          "output_type": "stream",
          "name": "stdout",
          "text": [
            "Loading experiment from: experiments/323730\n"
          ]
        },
        {
          "output_type": "stream",
          "name": "stderr",
          "text": [
            "\r 72%|███████▏  | 623/870 [05:44<02:10,  1.89it/s]"
          ]
        },
        {
          "output_type": "stream",
          "name": "stdout",
          "text": [
            "Loading experiment from: experiments/577931\n"
          ]
        },
        {
          "output_type": "stream",
          "name": "stderr",
          "text": [
            "\r 72%|███████▏  | 624/870 [05:44<02:10,  1.89it/s]"
          ]
        },
        {
          "output_type": "stream",
          "name": "stdout",
          "text": [
            "Loading experiment from: experiments/20004\n"
          ]
        },
        {
          "output_type": "stream",
          "name": "stderr",
          "text": [
            "\r 72%|███████▏  | 625/870 [05:45<02:20,  1.75it/s]"
          ]
        },
        {
          "output_type": "stream",
          "name": "stdout",
          "text": [
            "Loading experiment from: experiments/528643\n"
          ]
        },
        {
          "output_type": "stream",
          "name": "stderr",
          "text": [
            "\r 72%|███████▏  | 626/870 [05:46<02:28,  1.64it/s]"
          ]
        },
        {
          "output_type": "stream",
          "name": "stdout",
          "text": [
            "Loading experiment from: experiments/725201\n"
          ]
        },
        {
          "output_type": "stream",
          "name": "stderr",
          "text": [
            "\r 72%|███████▏  | 627/870 [05:46<02:33,  1.59it/s]"
          ]
        },
        {
          "output_type": "stream",
          "name": "stdout",
          "text": [
            "Loading experiment from: experiments/227630\n"
          ]
        },
        {
          "output_type": "stream",
          "name": "stderr",
          "text": [
            "\r 72%|███████▏  | 628/870 [05:47<02:41,  1.50it/s]"
          ]
        },
        {
          "output_type": "stream",
          "name": "stdout",
          "text": [
            "Loading experiment from: experiments/735358\n"
          ]
        },
        {
          "output_type": "stream",
          "name": "stderr",
          "text": [
            "\r 72%|███████▏  | 629/870 [05:48<02:35,  1.55it/s]"
          ]
        },
        {
          "output_type": "stream",
          "name": "stdout",
          "text": [
            "Loading experiment from: experiments/429802\n"
          ]
        },
        {
          "output_type": "stream",
          "name": "stderr",
          "text": [
            "\r 72%|███████▏  | 630/870 [05:48<02:26,  1.64it/s]"
          ]
        },
        {
          "output_type": "stream",
          "name": "stdout",
          "text": [
            "Loading experiment from: experiments/173930\n"
          ]
        },
        {
          "output_type": "stream",
          "name": "stderr",
          "text": [
            "\r 73%|███████▎  | 631/870 [05:49<02:22,  1.68it/s]"
          ]
        },
        {
          "output_type": "stream",
          "name": "stdout",
          "text": [
            "Loading experiment from: experiments/818010\n"
          ]
        },
        {
          "output_type": "stream",
          "name": "stderr",
          "text": [
            "\r 73%|███████▎  | 632/870 [05:49<02:16,  1.74it/s]"
          ]
        },
        {
          "output_type": "stream",
          "name": "stdout",
          "text": [
            "Loading experiment from: experiments/450172\n"
          ]
        },
        {
          "output_type": "stream",
          "name": "stderr",
          "text": [
            "\r 73%|███████▎  | 633/870 [05:50<02:12,  1.79it/s]"
          ]
        },
        {
          "output_type": "stream",
          "name": "stdout",
          "text": [
            "Loading experiment from: experiments/573455\n"
          ]
        },
        {
          "output_type": "stream",
          "name": "stderr",
          "text": [
            "\r 73%|███████▎  | 634/870 [05:50<02:08,  1.83it/s]"
          ]
        },
        {
          "output_type": "stream",
          "name": "stdout",
          "text": [
            "Loading experiment from: experiments/667345\n"
          ]
        },
        {
          "output_type": "stream",
          "name": "stderr",
          "text": [
            "\r 73%|███████▎  | 635/870 [05:51<02:06,  1.85it/s]"
          ]
        },
        {
          "output_type": "stream",
          "name": "stdout",
          "text": [
            "Loading experiment from: experiments/531182\n"
          ]
        },
        {
          "output_type": "stream",
          "name": "stderr",
          "text": [
            "\r 73%|███████▎  | 636/870 [05:51<02:05,  1.86it/s]"
          ]
        },
        {
          "output_type": "stream",
          "name": "stdout",
          "text": [
            "Loading experiment from: experiments/722949\n"
          ]
        },
        {
          "output_type": "stream",
          "name": "stderr",
          "text": [
            "\r 73%|███████▎  | 637/870 [05:52<02:04,  1.88it/s]"
          ]
        },
        {
          "output_type": "stream",
          "name": "stdout",
          "text": [
            "Loading experiment from: experiments/453825\n"
          ]
        },
        {
          "output_type": "stream",
          "name": "stderr",
          "text": [
            "\r 73%|███████▎  | 638/870 [05:52<02:02,  1.89it/s]"
          ]
        },
        {
          "output_type": "stream",
          "name": "stdout",
          "text": [
            "Loading experiment from: experiments/699847\n",
            "Could not compute heat map for object: a chained fence, Error: Search word a chained fence not found in prompt!\n"
          ]
        },
        {
          "output_type": "stream",
          "name": "stderr",
          "text": [
            "\r 73%|███████▎  | 639/870 [05:53<02:03,  1.88it/s]"
          ]
        },
        {
          "output_type": "stream",
          "name": "stdout",
          "text": [
            "Loading experiment from: experiments/169084\n"
          ]
        },
        {
          "output_type": "stream",
          "name": "stderr",
          "text": [
            "\r 74%|███████▎  | 640/870 [05:54<02:02,  1.87it/s]"
          ]
        },
        {
          "output_type": "stream",
          "name": "stdout",
          "text": [
            "Loading experiment from: experiments/188562\n"
          ]
        },
        {
          "output_type": "stream",
          "name": "stderr",
          "text": [
            "\r 74%|███████▎  | 641/870 [05:54<02:02,  1.86it/s]"
          ]
        },
        {
          "output_type": "stream",
          "name": "stdout",
          "text": [
            "Loading experiment from: experiments/247965\n"
          ]
        },
        {
          "output_type": "stream",
          "name": "stderr",
          "text": [
            "\r 74%|███████▍  | 642/870 [05:55<02:00,  1.89it/s]"
          ]
        },
        {
          "output_type": "stream",
          "name": "stdout",
          "text": [
            "Loading experiment from: experiments/633589\n"
          ]
        },
        {
          "output_type": "stream",
          "name": "stderr",
          "text": [
            "\r 74%|███████▍  | 643/870 [05:55<01:59,  1.90it/s]"
          ]
        },
        {
          "output_type": "stream",
          "name": "stdout",
          "text": [
            "Loading experiment from: experiments/131154\n"
          ]
        },
        {
          "output_type": "stream",
          "name": "stderr",
          "text": [
            "\r 74%|███████▍  | 644/870 [05:56<01:58,  1.91it/s]"
          ]
        },
        {
          "output_type": "stream",
          "name": "stdout",
          "text": [
            "Loading experiment from: experiments/130600\n"
          ]
        },
        {
          "output_type": "stream",
          "name": "stderr",
          "text": [
            "\r 74%|███████▍  | 645/870 [05:56<01:57,  1.91it/s]"
          ]
        },
        {
          "output_type": "stream",
          "name": "stdout",
          "text": [
            "Loading experiment from: experiments/798155\n"
          ]
        },
        {
          "output_type": "stream",
          "name": "stderr",
          "text": [
            "\r 74%|███████▍  | 646/870 [05:57<01:58,  1.89it/s]"
          ]
        },
        {
          "output_type": "stream",
          "name": "stdout",
          "text": [
            "Loading experiment from: experiments/570051\n"
          ]
        },
        {
          "output_type": "stream",
          "name": "stderr",
          "text": [
            "\r 74%|███████▍  | 647/870 [05:57<01:56,  1.91it/s]"
          ]
        },
        {
          "output_type": "stream",
          "name": "stdout",
          "text": [
            "Loading experiment from: experiments/350417\n"
          ]
        },
        {
          "output_type": "stream",
          "name": "stderr",
          "text": [
            "\r 74%|███████▍  | 648/870 [05:58<02:04,  1.79it/s]"
          ]
        },
        {
          "output_type": "stream",
          "name": "stdout",
          "text": [
            "Loading experiment from: experiments/709415\n"
          ]
        },
        {
          "output_type": "stream",
          "name": "stderr",
          "text": [
            "\r 75%|███████▍  | 649/870 [05:59<02:13,  1.65it/s]"
          ]
        },
        {
          "output_type": "stream",
          "name": "stdout",
          "text": [
            "Loading experiment from: experiments/729764\n"
          ]
        },
        {
          "output_type": "stream",
          "name": "stderr",
          "text": [
            "\r 75%|███████▍  | 650/870 [05:59<02:18,  1.59it/s]"
          ]
        },
        {
          "output_type": "stream",
          "name": "stdout",
          "text": [
            "Loading experiment from: experiments/224926\n"
          ]
        },
        {
          "output_type": "stream",
          "name": "stderr",
          "text": [
            "\r 75%|███████▍  | 651/870 [06:00<02:22,  1.54it/s]"
          ]
        },
        {
          "output_type": "stream",
          "name": "stdout",
          "text": [
            "Loading experiment from: experiments/557845\n"
          ]
        },
        {
          "output_type": "stream",
          "name": "stderr",
          "text": [
            "\r 75%|███████▍  | 652/870 [06:01<02:23,  1.52it/s]"
          ]
        },
        {
          "output_type": "stream",
          "name": "stdout",
          "text": [
            "Loading experiment from: experiments/426665\n"
          ]
        },
        {
          "output_type": "stream",
          "name": "stderr",
          "text": [
            "\r 75%|███████▌  | 653/870 [06:01<02:14,  1.62it/s]"
          ]
        },
        {
          "output_type": "stream",
          "name": "stdout",
          "text": [
            "Loading experiment from: experiments/206262\n"
          ]
        },
        {
          "output_type": "stream",
          "name": "stderr",
          "text": [
            "\r 75%|███████▌  | 654/870 [06:02<02:06,  1.70it/s]"
          ]
        },
        {
          "output_type": "stream",
          "name": "stdout",
          "text": [
            "Loading experiment from: experiments/132897\n"
          ]
        },
        {
          "output_type": "stream",
          "name": "stderr",
          "text": [
            "\r 75%|███████▌  | 655/870 [06:02<02:03,  1.74it/s]"
          ]
        },
        {
          "output_type": "stream",
          "name": "stdout",
          "text": [
            "Loading experiment from: experiments/148629\n"
          ]
        },
        {
          "output_type": "stream",
          "name": "stderr",
          "text": [
            "\r 75%|███████▌  | 656/870 [06:03<02:01,  1.76it/s]"
          ]
        },
        {
          "output_type": "stream",
          "name": "stdout",
          "text": [
            "Loading experiment from: experiments/715682\n"
          ]
        },
        {
          "output_type": "stream",
          "name": "stderr",
          "text": [
            "\r 76%|███████▌  | 657/870 [06:03<01:58,  1.79it/s]"
          ]
        },
        {
          "output_type": "stream",
          "name": "stdout",
          "text": [
            "Loading experiment from: experiments/791053\n"
          ]
        },
        {
          "output_type": "stream",
          "name": "stderr",
          "text": [
            "\r 76%|███████▌  | 658/870 [06:04<01:55,  1.83it/s]"
          ]
        },
        {
          "output_type": "stream",
          "name": "stdout",
          "text": [
            "Loading experiment from: experiments/398299\n"
          ]
        },
        {
          "output_type": "stream",
          "name": "stderr",
          "text": [
            "\r 76%|███████▌  | 659/870 [06:04<01:54,  1.85it/s]"
          ]
        },
        {
          "output_type": "stream",
          "name": "stdout",
          "text": [
            "Loading experiment from: experiments/500286\n"
          ]
        },
        {
          "output_type": "stream",
          "name": "stderr",
          "text": [
            "\r 76%|███████▌  | 660/870 [06:05<01:52,  1.87it/s]"
          ]
        },
        {
          "output_type": "stream",
          "name": "stdout",
          "text": [
            "Loading experiment from: experiments/494244\n"
          ]
        },
        {
          "output_type": "stream",
          "name": "stderr",
          "text": [
            "\r 76%|███████▌  | 661/870 [06:05<01:51,  1.87it/s]"
          ]
        },
        {
          "output_type": "stream",
          "name": "stdout",
          "text": [
            "Loading experiment from: experiments/616431\n"
          ]
        },
        {
          "output_type": "stream",
          "name": "stderr",
          "text": [
            "\r 76%|███████▌  | 662/870 [06:06<01:49,  1.89it/s]"
          ]
        },
        {
          "output_type": "stream",
          "name": "stdout",
          "text": [
            "Loading experiment from: experiments/665224\n"
          ]
        },
        {
          "output_type": "stream",
          "name": "stderr",
          "text": [
            "\r 76%|███████▌  | 663/870 [06:06<01:49,  1.90it/s]"
          ]
        },
        {
          "output_type": "stream",
          "name": "stdout",
          "text": [
            "Loading experiment from: experiments/513486\n"
          ]
        },
        {
          "output_type": "stream",
          "name": "stderr",
          "text": [
            "\r 76%|███████▋  | 664/870 [06:07<01:48,  1.90it/s]"
          ]
        },
        {
          "output_type": "stream",
          "name": "stdout",
          "text": [
            "Loading experiment from: experiments/294385\n"
          ]
        },
        {
          "output_type": "stream",
          "name": "stderr",
          "text": [
            "\r 76%|███████▋  | 665/870 [06:07<01:47,  1.91it/s]"
          ]
        },
        {
          "output_type": "stream",
          "name": "stdout",
          "text": [
            "Loading experiment from: experiments/249901\n"
          ]
        },
        {
          "output_type": "stream",
          "name": "stderr",
          "text": [
            "\r 77%|███████▋  | 666/870 [06:08<01:46,  1.91it/s]"
          ]
        },
        {
          "output_type": "stream",
          "name": "stdout",
          "text": [
            "Loading experiment from: experiments/98634\n"
          ]
        },
        {
          "output_type": "stream",
          "name": "stderr",
          "text": [
            "\r 77%|███████▋  | 667/870 [06:09<01:45,  1.92it/s]"
          ]
        },
        {
          "output_type": "stream",
          "name": "stdout",
          "text": [
            "Loading experiment from: experiments/767190\n"
          ]
        },
        {
          "output_type": "stream",
          "name": "stderr",
          "text": [
            "\r 77%|███████▋  | 668/870 [06:09<01:45,  1.92it/s]"
          ]
        },
        {
          "output_type": "stream",
          "name": "stdout",
          "text": [
            "Loading experiment from: experiments/193068\n"
          ]
        },
        {
          "output_type": "stream",
          "name": "stderr",
          "text": [
            "\r 77%|███████▋  | 669/870 [06:10<01:44,  1.92it/s]"
          ]
        },
        {
          "output_type": "stream",
          "name": "stdout",
          "text": [
            "Loading experiment from: experiments/723727\n"
          ]
        },
        {
          "output_type": "stream",
          "name": "stderr",
          "text": [
            "\r 77%|███████▋  | 670/870 [06:10<01:45,  1.90it/s]"
          ]
        },
        {
          "output_type": "stream",
          "name": "stdout",
          "text": [
            "Loading experiment from: experiments/563439\n"
          ]
        },
        {
          "output_type": "stream",
          "name": "stderr",
          "text": [
            "\r 77%|███████▋  | 671/870 [06:11<01:46,  1.87it/s]"
          ]
        },
        {
          "output_type": "stream",
          "name": "stdout",
          "text": [
            "Loading experiment from: experiments/190401\n"
          ]
        },
        {
          "output_type": "stream",
          "name": "stderr",
          "text": [
            "\r 77%|███████▋  | 672/870 [06:11<01:54,  1.72it/s]"
          ]
        },
        {
          "output_type": "stream",
          "name": "stdout",
          "text": [
            "Loading experiment from: experiments/259502\n"
          ]
        },
        {
          "output_type": "stream",
          "name": "stderr",
          "text": [
            "\r 77%|███████▋  | 673/870 [06:12<02:00,  1.63it/s]"
          ]
        },
        {
          "output_type": "stream",
          "name": "stdout",
          "text": [
            "Loading experiment from: experiments/485029\n"
          ]
        },
        {
          "output_type": "stream",
          "name": "stderr",
          "text": [
            "\r 77%|███████▋  | 674/870 [06:13<02:03,  1.58it/s]"
          ]
        },
        {
          "output_type": "stream",
          "name": "stdout",
          "text": [
            "Loading experiment from: experiments/660255\n"
          ]
        },
        {
          "output_type": "stream",
          "name": "stderr",
          "text": [
            "\r 78%|███████▊  | 675/870 [06:13<02:10,  1.49it/s]"
          ]
        },
        {
          "output_type": "stream",
          "name": "stdout",
          "text": [
            "Loading experiment from: experiments/340269\n"
          ]
        },
        {
          "output_type": "stream",
          "name": "stderr",
          "text": [
            "\r 78%|███████▊  | 676/870 [06:14<02:00,  1.60it/s]"
          ]
        },
        {
          "output_type": "stream",
          "name": "stdout",
          "text": [
            "Loading experiment from: experiments/326498\n"
          ]
        },
        {
          "output_type": "stream",
          "name": "stderr",
          "text": [
            "\r 78%|███████▊  | 677/870 [06:15<01:54,  1.68it/s]"
          ]
        },
        {
          "output_type": "stream",
          "name": "stdout",
          "text": [
            "Loading experiment from: experiments/639155\n"
          ]
        },
        {
          "output_type": "stream",
          "name": "stderr",
          "text": [
            "\r 78%|███████▊  | 678/870 [06:15<01:49,  1.75it/s]"
          ]
        },
        {
          "output_type": "stream",
          "name": "stdout",
          "text": [
            "Loading experiment from: experiments/38778\n"
          ]
        },
        {
          "output_type": "stream",
          "name": "stderr",
          "text": [
            "\r 78%|███████▊  | 679/870 [06:16<01:46,  1.79it/s]"
          ]
        },
        {
          "output_type": "stream",
          "name": "stdout",
          "text": [
            "Loading experiment from: experiments/425856\n"
          ]
        },
        {
          "output_type": "stream",
          "name": "stderr",
          "text": [
            "\r 78%|███████▊  | 680/870 [06:16<01:43,  1.83it/s]"
          ]
        },
        {
          "output_type": "stream",
          "name": "stdout",
          "text": [
            "Loading experiment from: experiments/652126\n"
          ]
        },
        {
          "output_type": "stream",
          "name": "stderr",
          "text": [
            "\r 78%|███████▊  | 681/870 [06:17<01:41,  1.85it/s]"
          ]
        },
        {
          "output_type": "stream",
          "name": "stdout",
          "text": [
            "Loading experiment from: experiments/547055\n"
          ]
        },
        {
          "output_type": "stream",
          "name": "stderr",
          "text": [
            "\r 78%|███████▊  | 682/870 [06:17<01:40,  1.87it/s]"
          ]
        },
        {
          "output_type": "stream",
          "name": "stdout",
          "text": [
            "Loading experiment from: experiments/234715\n"
          ]
        },
        {
          "output_type": "stream",
          "name": "stderr",
          "text": [
            "\r 79%|███████▊  | 683/870 [06:18<01:39,  1.89it/s]"
          ]
        },
        {
          "output_type": "stream",
          "name": "stdout",
          "text": [
            "Loading experiment from: experiments/156949\n"
          ]
        },
        {
          "output_type": "stream",
          "name": "stderr",
          "text": [
            "\r 79%|███████▊  | 684/870 [06:18<01:38,  1.88it/s]"
          ]
        },
        {
          "output_type": "stream",
          "name": "stdout",
          "text": [
            "Loading experiment from: experiments/611936\n"
          ]
        },
        {
          "output_type": "stream",
          "name": "stderr",
          "text": [
            "\r 79%|███████▊  | 685/870 [06:19<01:37,  1.89it/s]"
          ]
        },
        {
          "output_type": "stream",
          "name": "stdout",
          "text": [
            "Loading experiment from: experiments/392934\n"
          ]
        },
        {
          "output_type": "stream",
          "name": "stderr",
          "text": [
            "\r 79%|███████▉  | 686/870 [06:19<01:37,  1.89it/s]"
          ]
        },
        {
          "output_type": "stream",
          "name": "stdout",
          "text": [
            "Loading experiment from: experiments/407939\n"
          ]
        },
        {
          "output_type": "stream",
          "name": "stderr",
          "text": [
            "\r 79%|███████▉  | 687/870 [06:20<01:36,  1.90it/s]"
          ]
        },
        {
          "output_type": "stream",
          "name": "stdout",
          "text": [
            "Loading experiment from: experiments/417710\n"
          ]
        },
        {
          "output_type": "stream",
          "name": "stderr",
          "text": [
            "\r 79%|███████▉  | 688/870 [06:20<01:35,  1.90it/s]"
          ]
        },
        {
          "output_type": "stream",
          "name": "stdout",
          "text": [
            "Loading experiment from: experiments/688278\n"
          ]
        },
        {
          "output_type": "stream",
          "name": "stderr",
          "text": [
            "\r 79%|███████▉  | 689/870 [06:21<01:35,  1.90it/s]"
          ]
        },
        {
          "output_type": "stream",
          "name": "stdout",
          "text": [
            "Loading experiment from: experiments/734398\n"
          ]
        },
        {
          "output_type": "stream",
          "name": "stderr",
          "text": [
            "\r 79%|███████▉  | 690/870 [06:21<01:35,  1.89it/s]"
          ]
        },
        {
          "output_type": "stream",
          "name": "stdout",
          "text": [
            "Loading experiment from: experiments/478392\n"
          ]
        },
        {
          "output_type": "stream",
          "name": "stderr",
          "text": [
            "\r 79%|███████▉  | 691/870 [06:22<01:36,  1.86it/s]"
          ]
        },
        {
          "output_type": "stream",
          "name": "stdout",
          "text": [
            "Loading experiment from: experiments/243158\n"
          ]
        },
        {
          "output_type": "stream",
          "name": "stderr",
          "text": [
            "\r 80%|███████▉  | 692/870 [06:22<01:35,  1.86it/s]"
          ]
        },
        {
          "output_type": "stream",
          "name": "stdout",
          "text": [
            "Loading experiment from: experiments/747548\n"
          ]
        },
        {
          "output_type": "stream",
          "name": "stderr",
          "text": [
            "\r 80%|███████▉  | 693/870 [06:23<01:34,  1.87it/s]"
          ]
        },
        {
          "output_type": "stream",
          "name": "stdout",
          "text": [
            "Loading experiment from: experiments/161493\n"
          ]
        },
        {
          "output_type": "stream",
          "name": "stderr",
          "text": [
            "\r 80%|███████▉  | 694/870 [06:24<01:34,  1.86it/s]"
          ]
        },
        {
          "output_type": "stream",
          "name": "stdout",
          "text": [
            "Loading experiment from: experiments/524956\n"
          ]
        },
        {
          "output_type": "stream",
          "name": "stderr",
          "text": [
            "\r 80%|███████▉  | 695/870 [06:24<01:42,  1.71it/s]"
          ]
        },
        {
          "output_type": "stream",
          "name": "stdout",
          "text": [
            "Loading experiment from: experiments/359268\n"
          ]
        },
        {
          "output_type": "stream",
          "name": "stderr",
          "text": [
            "\r 80%|████████  | 696/870 [06:25<01:48,  1.61it/s]"
          ]
        },
        {
          "output_type": "stream",
          "name": "stdout",
          "text": [
            "Loading experiment from: experiments/38420\n"
          ]
        },
        {
          "output_type": "stream",
          "name": "stderr",
          "text": [
            "\r 80%|████████  | 697/870 [06:26<01:49,  1.57it/s]"
          ]
        },
        {
          "output_type": "stream",
          "name": "stdout",
          "text": [
            "Loading experiment from: experiments/702110\n"
          ]
        },
        {
          "output_type": "stream",
          "name": "stderr",
          "text": [
            "\r 80%|████████  | 698/870 [06:26<01:53,  1.52it/s]"
          ]
        },
        {
          "output_type": "stream",
          "name": "stdout",
          "text": [
            "Loading experiment from: experiments/189316\n"
          ]
        },
        {
          "output_type": "stream",
          "name": "stderr",
          "text": [
            "\r 80%|████████  | 699/870 [06:27<01:51,  1.54it/s]"
          ]
        },
        {
          "output_type": "stream",
          "name": "stdout",
          "text": [
            "Loading experiment from: experiments/60836\n"
          ]
        },
        {
          "output_type": "stream",
          "name": "stderr",
          "text": [
            "\r 80%|████████  | 700/870 [06:27<01:43,  1.64it/s]"
          ]
        },
        {
          "output_type": "stream",
          "name": "stdout",
          "text": [
            "Loading experiment from: experiments/93954\n"
          ]
        },
        {
          "output_type": "stream",
          "name": "stderr",
          "text": [
            "\r 81%|████████  | 701/870 [06:28<01:38,  1.72it/s]"
          ]
        },
        {
          "output_type": "stream",
          "name": "stdout",
          "text": [
            "Loading experiment from: experiments/234641\n"
          ]
        },
        {
          "output_type": "stream",
          "name": "stderr",
          "text": [
            "\r 81%|████████  | 702/870 [06:29<01:35,  1.76it/s]"
          ]
        },
        {
          "output_type": "stream",
          "name": "stdout",
          "text": [
            "Loading experiment from: experiments/228566\n"
          ]
        },
        {
          "output_type": "stream",
          "name": "stderr",
          "text": [
            "\r 81%|████████  | 703/870 [06:29<01:32,  1.80it/s]"
          ]
        },
        {
          "output_type": "stream",
          "name": "stdout",
          "text": [
            "Loading experiment from: experiments/183788\n"
          ]
        },
        {
          "output_type": "stream",
          "name": "stderr",
          "text": [
            "\r 81%|████████  | 704/870 [06:30<01:30,  1.84it/s]"
          ]
        },
        {
          "output_type": "stream",
          "name": "stdout",
          "text": [
            "Loading experiment from: experiments/401427\n"
          ]
        },
        {
          "output_type": "stream",
          "name": "stderr",
          "text": [
            "\r 81%|████████  | 705/870 [06:30<01:28,  1.86it/s]"
          ]
        },
        {
          "output_type": "stream",
          "name": "stdout",
          "text": [
            "Loading experiment from: experiments/471463\n"
          ]
        },
        {
          "output_type": "stream",
          "name": "stderr",
          "text": [
            "\r 81%|████████  | 706/870 [06:31<01:27,  1.88it/s]"
          ]
        },
        {
          "output_type": "stream",
          "name": "stdout",
          "text": [
            "Loading experiment from: experiments/567762\n"
          ]
        },
        {
          "output_type": "stream",
          "name": "stderr",
          "text": [
            "\r 81%|████████▏ | 707/870 [06:31<01:26,  1.88it/s]"
          ]
        },
        {
          "output_type": "stream",
          "name": "stdout",
          "text": [
            "Loading experiment from: experiments/535457\n"
          ]
        },
        {
          "output_type": "stream",
          "name": "stderr",
          "text": [
            "\r 81%|████████▏ | 708/870 [06:32<01:25,  1.89it/s]"
          ]
        },
        {
          "output_type": "stream",
          "name": "stdout",
          "text": [
            "Loading experiment from: experiments/824085\n"
          ]
        },
        {
          "output_type": "stream",
          "name": "stderr",
          "text": [
            "\r 81%|████████▏ | 709/870 [06:32<01:25,  1.89it/s]"
          ]
        },
        {
          "output_type": "stream",
          "name": "stdout",
          "text": [
            "Loading experiment from: experiments/720600\n"
          ]
        },
        {
          "output_type": "stream",
          "name": "stderr",
          "text": [
            "\r 82%|████████▏ | 710/870 [06:33<01:23,  1.91it/s]"
          ]
        },
        {
          "output_type": "stream",
          "name": "stdout",
          "text": [
            "Loading experiment from: experiments/50852\n"
          ]
        },
        {
          "output_type": "stream",
          "name": "stderr",
          "text": [
            "\r 82%|████████▏ | 711/870 [06:33<01:23,  1.90it/s]"
          ]
        },
        {
          "output_type": "stream",
          "name": "stdout",
          "text": [
            "Loading experiment from: experiments/747311\n"
          ]
        },
        {
          "output_type": "stream",
          "name": "stderr",
          "text": [
            "\r 82%|████████▏ | 712/870 [06:34<01:22,  1.91it/s]"
          ]
        },
        {
          "output_type": "stream",
          "name": "stdout",
          "text": [
            "Loading experiment from: experiments/324242\n"
          ]
        },
        {
          "output_type": "stream",
          "name": "stderr",
          "text": [
            "\r 82%|████████▏ | 713/870 [06:34<01:23,  1.89it/s]"
          ]
        },
        {
          "output_type": "stream",
          "name": "stdout",
          "text": [
            "Loading experiment from: experiments/814499\n"
          ]
        },
        {
          "output_type": "stream",
          "name": "stderr",
          "text": [
            "\r 82%|████████▏ | 714/870 [06:35<01:22,  1.89it/s]"
          ]
        },
        {
          "output_type": "stream",
          "name": "stdout",
          "text": [
            "Loading experiment from: experiments/188588\n"
          ]
        },
        {
          "output_type": "stream",
          "name": "stderr",
          "text": [
            "\r 82%|████████▏ | 715/870 [06:35<01:21,  1.90it/s]"
          ]
        },
        {
          "output_type": "stream",
          "name": "stdout",
          "text": [
            "Loading experiment from: experiments/770011\n"
          ]
        },
        {
          "output_type": "stream",
          "name": "stderr",
          "text": [
            "\r 82%|████████▏ | 716/870 [06:36<01:20,  1.92it/s]"
          ]
        },
        {
          "output_type": "stream",
          "name": "stdout",
          "text": [
            "Loading experiment from: experiments/115364\n"
          ]
        },
        {
          "output_type": "stream",
          "name": "stderr",
          "text": [
            "\r 82%|████████▏ | 717/870 [06:36<01:19,  1.92it/s]"
          ]
        },
        {
          "output_type": "stream",
          "name": "stdout",
          "text": [
            "Loading experiment from: experiments/478001\n"
          ]
        },
        {
          "output_type": "stream",
          "name": "stderr",
          "text": [
            "\r 83%|████████▎ | 718/870 [06:37<01:22,  1.85it/s]"
          ]
        },
        {
          "output_type": "stream",
          "name": "stdout",
          "text": [
            "Loading experiment from: experiments/251576\n"
          ]
        },
        {
          "output_type": "stream",
          "name": "stderr",
          "text": [
            "\r 83%|████████▎ | 719/870 [06:38<01:29,  1.69it/s]"
          ]
        },
        {
          "output_type": "stream",
          "name": "stdout",
          "text": [
            "Loading experiment from: experiments/261966\n"
          ]
        },
        {
          "output_type": "stream",
          "name": "stderr",
          "text": [
            "\r 83%|████████▎ | 720/870 [06:38<01:32,  1.63it/s]"
          ]
        },
        {
          "output_type": "stream",
          "name": "stdout",
          "text": [
            "Loading experiment from: experiments/95123\n"
          ]
        },
        {
          "output_type": "stream",
          "name": "stderr",
          "text": [
            "\r 83%|████████▎ | 721/870 [06:39<01:35,  1.56it/s]"
          ]
        },
        {
          "output_type": "stream",
          "name": "stdout",
          "text": [
            "Loading experiment from: experiments/242598\n"
          ]
        },
        {
          "output_type": "stream",
          "name": "stderr",
          "text": [
            "\r 83%|████████▎ | 722/870 [06:40<01:38,  1.50it/s]"
          ]
        },
        {
          "output_type": "stream",
          "name": "stdout",
          "text": [
            "Loading experiment from: experiments/409612\n"
          ]
        },
        {
          "output_type": "stream",
          "name": "stderr",
          "text": [
            "\r 83%|████████▎ | 723/870 [06:40<01:31,  1.61it/s]"
          ]
        },
        {
          "output_type": "stream",
          "name": "stdout",
          "text": [
            "Loading experiment from: experiments/789491\n"
          ]
        },
        {
          "output_type": "stream",
          "name": "stderr",
          "text": [
            "\r 83%|████████▎ | 724/870 [06:41<01:26,  1.69it/s]"
          ]
        },
        {
          "output_type": "stream",
          "name": "stdout",
          "text": [
            "Loading experiment from: experiments/563453\n"
          ]
        },
        {
          "output_type": "stream",
          "name": "stderr",
          "text": [
            "\r 83%|████████▎ | 725/870 [06:41<01:22,  1.76it/s]"
          ]
        },
        {
          "output_type": "stream",
          "name": "stdout",
          "text": [
            "Loading experiment from: experiments/215555\n"
          ]
        },
        {
          "output_type": "stream",
          "name": "stderr",
          "text": [
            "\r 83%|████████▎ | 726/870 [06:42<01:19,  1.81it/s]"
          ]
        },
        {
          "output_type": "stream",
          "name": "stdout",
          "text": [
            "Loading experiment from: experiments/602679\n"
          ]
        },
        {
          "output_type": "stream",
          "name": "stderr",
          "text": [
            "\r 84%|████████▎ | 727/870 [06:42<01:17,  1.84it/s]"
          ]
        },
        {
          "output_type": "stream",
          "name": "stdout",
          "text": [
            "Loading experiment from: experiments/579003\n"
          ]
        },
        {
          "output_type": "stream",
          "name": "stderr",
          "text": [
            "\r 84%|████████▎ | 728/870 [06:43<01:16,  1.86it/s]"
          ]
        },
        {
          "output_type": "stream",
          "name": "stdout",
          "text": [
            "Loading experiment from: experiments/267014\n"
          ]
        },
        {
          "output_type": "stream",
          "name": "stderr",
          "text": [
            "\r 84%|████████▍ | 729/870 [06:43<01:15,  1.87it/s]"
          ]
        },
        {
          "output_type": "stream",
          "name": "stdout",
          "text": [
            "Loading experiment from: experiments/552311\n"
          ]
        },
        {
          "output_type": "stream",
          "name": "stderr",
          "text": [
            "\r 84%|████████▍ | 730/870 [06:44<01:13,  1.90it/s]"
          ]
        },
        {
          "output_type": "stream",
          "name": "stdout",
          "text": [
            "Loading experiment from: experiments/212178\n"
          ]
        },
        {
          "output_type": "stream",
          "name": "stderr",
          "text": [
            "\r 84%|████████▍ | 731/870 [06:44<01:13,  1.89it/s]"
          ]
        },
        {
          "output_type": "stream",
          "name": "stdout",
          "text": [
            "Loading experiment from: experiments/32880\n"
          ]
        },
        {
          "output_type": "stream",
          "name": "stderr",
          "text": [
            "\r 84%|████████▍ | 732/870 [06:45<01:12,  1.90it/s]"
          ]
        },
        {
          "output_type": "stream",
          "name": "stdout",
          "text": [
            "Loading experiment from: experiments/339568\n"
          ]
        },
        {
          "output_type": "stream",
          "name": "stderr",
          "text": [
            "\r 84%|████████▍ | 733/870 [06:45<01:12,  1.90it/s]"
          ]
        },
        {
          "output_type": "stream",
          "name": "stdout",
          "text": [
            "Loading experiment from: experiments/250476\n"
          ]
        },
        {
          "output_type": "stream",
          "name": "stderr",
          "text": [
            "\r 84%|████████▍ | 734/870 [06:46<01:10,  1.92it/s]"
          ]
        },
        {
          "output_type": "stream",
          "name": "stdout",
          "text": [
            "Loading experiment from: experiments/342799\n"
          ]
        },
        {
          "output_type": "stream",
          "name": "stderr",
          "text": [
            "\r 84%|████████▍ | 735/870 [06:46<01:10,  1.93it/s]"
          ]
        },
        {
          "output_type": "stream",
          "name": "stdout",
          "text": [
            "Loading experiment from: experiments/206712\n"
          ]
        },
        {
          "output_type": "stream",
          "name": "stderr",
          "text": [
            "\r 85%|████████▍ | 736/870 [06:47<01:09,  1.93it/s]"
          ]
        },
        {
          "output_type": "stream",
          "name": "stdout",
          "text": [
            "Loading experiment from: experiments/245799\n"
          ]
        },
        {
          "output_type": "stream",
          "name": "stderr",
          "text": [
            "\r 85%|████████▍ | 737/870 [06:48<01:08,  1.94it/s]"
          ]
        },
        {
          "output_type": "stream",
          "name": "stdout",
          "text": [
            "Loading experiment from: experiments/591640\n"
          ]
        },
        {
          "output_type": "stream",
          "name": "stderr",
          "text": [
            "\r 85%|████████▍ | 738/870 [06:48<01:08,  1.94it/s]"
          ]
        },
        {
          "output_type": "stream",
          "name": "stdout",
          "text": [
            "Loading experiment from: experiments/494322\n"
          ]
        },
        {
          "output_type": "stream",
          "name": "stderr",
          "text": [
            "\r 85%|████████▍ | 739/870 [06:49<01:07,  1.93it/s]"
          ]
        },
        {
          "output_type": "stream",
          "name": "stdout",
          "text": [
            "Loading experiment from: experiments/222702\n"
          ]
        },
        {
          "output_type": "stream",
          "name": "stderr",
          "text": [
            "\r 85%|████████▌ | 740/870 [06:49<01:08,  1.90it/s]"
          ]
        },
        {
          "output_type": "stream",
          "name": "stdout",
          "text": [
            "Loading experiment from: experiments/287516\n"
          ]
        },
        {
          "output_type": "stream",
          "name": "stderr",
          "text": [
            "\r 85%|████████▌ | 741/870 [06:50<01:07,  1.91it/s]"
          ]
        },
        {
          "output_type": "stream",
          "name": "stdout",
          "text": [
            "Loading experiment from: experiments/429293\n"
          ]
        },
        {
          "output_type": "stream",
          "name": "stderr",
          "text": [
            "\r 85%|████████▌ | 742/870 [06:50<01:11,  1.78it/s]"
          ]
        },
        {
          "output_type": "stream",
          "name": "stdout",
          "text": [
            "Loading experiment from: experiments/678661\n"
          ]
        },
        {
          "output_type": "stream",
          "name": "stderr",
          "text": [
            "\r 85%|████████▌ | 743/870 [06:51<01:16,  1.66it/s]"
          ]
        },
        {
          "output_type": "stream",
          "name": "stdout",
          "text": [
            "Loading experiment from: experiments/339136\n"
          ]
        },
        {
          "output_type": "stream",
          "name": "stderr",
          "text": [
            "\r 86%|████████▌ | 744/870 [06:52<01:18,  1.60it/s]"
          ]
        },
        {
          "output_type": "stream",
          "name": "stdout",
          "text": [
            "Loading experiment from: experiments/798679\n"
          ]
        },
        {
          "output_type": "stream",
          "name": "stderr",
          "text": [
            "\r 86%|████████▌ | 745/870 [06:52<01:20,  1.55it/s]"
          ]
        },
        {
          "output_type": "stream",
          "name": "stdout",
          "text": [
            "Loading experiment from: experiments/279207\n"
          ]
        },
        {
          "output_type": "stream",
          "name": "stderr",
          "text": [
            "\r 86%|████████▌ | 746/870 [06:53<01:19,  1.55it/s]"
          ]
        },
        {
          "output_type": "stream",
          "name": "stdout",
          "text": [
            "Loading experiment from: experiments/509591\n"
          ]
        },
        {
          "output_type": "stream",
          "name": "stderr",
          "text": [
            "\r 86%|████████▌ | 747/870 [06:54<01:14,  1.65it/s]"
          ]
        },
        {
          "output_type": "stream",
          "name": "stdout",
          "text": [
            "Loading experiment from: experiments/293642\n"
          ]
        },
        {
          "output_type": "stream",
          "name": "stderr",
          "text": [
            "\r 86%|████████▌ | 748/870 [06:54<01:11,  1.70it/s]"
          ]
        },
        {
          "output_type": "stream",
          "name": "stdout",
          "text": [
            "Loading experiment from: experiments/23904\n"
          ]
        },
        {
          "output_type": "stream",
          "name": "stderr",
          "text": [
            "\r 86%|████████▌ | 749/870 [06:55<01:09,  1.75it/s]"
          ]
        },
        {
          "output_type": "stream",
          "name": "stdout",
          "text": [
            "Loading experiment from: experiments/38283\n"
          ]
        },
        {
          "output_type": "stream",
          "name": "stderr",
          "text": [
            "\r 86%|████████▌ | 750/870 [06:55<01:06,  1.81it/s]"
          ]
        },
        {
          "output_type": "stream",
          "name": "stdout",
          "text": [
            "Loading experiment from: experiments/639852\n"
          ]
        },
        {
          "output_type": "stream",
          "name": "stderr",
          "text": [
            "\r 86%|████████▋ | 751/870 [06:56<01:04,  1.84it/s]"
          ]
        },
        {
          "output_type": "stream",
          "name": "stdout",
          "text": [
            "Loading experiment from: experiments/194112\n"
          ]
        },
        {
          "output_type": "stream",
          "name": "stderr",
          "text": [
            "\r 86%|████████▋ | 752/870 [06:56<01:03,  1.85it/s]"
          ]
        },
        {
          "output_type": "stream",
          "name": "stdout",
          "text": [
            "Loading experiment from: experiments/314069\n"
          ]
        },
        {
          "output_type": "stream",
          "name": "stderr",
          "text": [
            "\r 87%|████████▋ | 753/870 [06:57<01:03,  1.85it/s]"
          ]
        },
        {
          "output_type": "stream",
          "name": "stdout",
          "text": [
            "Loading experiment from: experiments/231620\n"
          ]
        },
        {
          "output_type": "stream",
          "name": "stderr",
          "text": [
            "\r 87%|████████▋ | 754/870 [06:57<01:02,  1.86it/s]"
          ]
        },
        {
          "output_type": "stream",
          "name": "stdout",
          "text": [
            "Loading experiment from: experiments/420180\n"
          ]
        },
        {
          "output_type": "stream",
          "name": "stderr",
          "text": [
            "\r 87%|████████▋ | 755/870 [06:58<01:01,  1.87it/s]"
          ]
        },
        {
          "output_type": "stream",
          "name": "stdout",
          "text": [
            "Loading experiment from: experiments/33583\n"
          ]
        },
        {
          "output_type": "stream",
          "name": "stderr",
          "text": [
            "\r 87%|████████▋ | 756/870 [06:58<01:00,  1.89it/s]"
          ]
        },
        {
          "output_type": "stream",
          "name": "stdout",
          "text": [
            "Loading experiment from: experiments/87908\n"
          ]
        },
        {
          "output_type": "stream",
          "name": "stderr",
          "text": [
            "\r 87%|████████▋ | 757/870 [06:59<00:59,  1.89it/s]"
          ]
        },
        {
          "output_type": "stream",
          "name": "stdout",
          "text": [
            "Loading experiment from: experiments/227538\n"
          ]
        },
        {
          "output_type": "stream",
          "name": "stderr",
          "text": [
            "\r 87%|████████▋ | 758/870 [06:59<00:58,  1.90it/s]"
          ]
        },
        {
          "output_type": "stream",
          "name": "stdout",
          "text": [
            "Loading experiment from: experiments/568856\n"
          ]
        },
        {
          "output_type": "stream",
          "name": "stderr",
          "text": [
            "\r 87%|████████▋ | 759/870 [07:00<00:58,  1.88it/s]"
          ]
        },
        {
          "output_type": "stream",
          "name": "stdout",
          "text": [
            "Loading experiment from: experiments/649953\n"
          ]
        },
        {
          "output_type": "stream",
          "name": "stderr",
          "text": [
            "\r 87%|████████▋ | 760/870 [07:00<00:57,  1.91it/s]"
          ]
        },
        {
          "output_type": "stream",
          "name": "stdout",
          "text": [
            "Loading experiment from: experiments/312278\n"
          ]
        },
        {
          "output_type": "stream",
          "name": "stderr",
          "text": [
            "\r 87%|████████▋ | 761/870 [07:01<00:57,  1.90it/s]"
          ]
        },
        {
          "output_type": "stream",
          "name": "stdout",
          "text": [
            "Loading experiment from: experiments/750576\n"
          ]
        },
        {
          "output_type": "stream",
          "name": "stderr",
          "text": [
            "\r 88%|████████▊ | 762/870 [07:01<00:57,  1.89it/s]"
          ]
        },
        {
          "output_type": "stream",
          "name": "stdout",
          "text": [
            "Loading experiment from: experiments/391852\n"
          ]
        },
        {
          "output_type": "stream",
          "name": "stderr",
          "text": [
            "\r 88%|████████▊ | 763/870 [07:02<00:57,  1.88it/s]"
          ]
        },
        {
          "output_type": "stream",
          "name": "stdout",
          "text": [
            "Loading experiment from: experiments/397842\n"
          ]
        },
        {
          "output_type": "stream",
          "name": "stderr",
          "text": [
            "\r 88%|████████▊ | 764/870 [07:02<00:56,  1.88it/s]"
          ]
        },
        {
          "output_type": "stream",
          "name": "stdout",
          "text": [
            "Loading experiment from: experiments/246250\n"
          ]
        },
        {
          "output_type": "stream",
          "name": "stderr",
          "text": [
            "\r 88%|████████▊ | 765/870 [07:03<00:58,  1.80it/s]"
          ]
        },
        {
          "output_type": "stream",
          "name": "stdout",
          "text": [
            "Loading experiment from: experiments/23541\n"
          ]
        },
        {
          "output_type": "stream",
          "name": "stderr",
          "text": [
            "\r 88%|████████▊ | 766/870 [07:04<01:02,  1.67it/s]"
          ]
        },
        {
          "output_type": "stream",
          "name": "stdout",
          "text": [
            "Loading experiment from: experiments/550039\n"
          ]
        },
        {
          "output_type": "stream",
          "name": "stderr",
          "text": [
            "\r 88%|████████▊ | 767/870 [07:04<01:03,  1.61it/s]"
          ]
        },
        {
          "output_type": "stream",
          "name": "stdout",
          "text": [
            "Loading experiment from: experiments/552994\n"
          ]
        },
        {
          "output_type": "stream",
          "name": "stderr",
          "text": [
            "\r 88%|████████▊ | 768/870 [07:05<01:05,  1.56it/s]"
          ]
        },
        {
          "output_type": "stream",
          "name": "stdout",
          "text": [
            "Loading experiment from: experiments/810053\n"
          ]
        },
        {
          "output_type": "stream",
          "name": "stderr",
          "text": [
            "\r 88%|████████▊ | 769/870 [07:06<01:07,  1.51it/s]"
          ]
        },
        {
          "output_type": "stream",
          "name": "stdout",
          "text": [
            "Loading experiment from: experiments/272448\n"
          ]
        },
        {
          "output_type": "stream",
          "name": "stderr",
          "text": [
            "\r 89%|████████▊ | 770/870 [07:06<01:01,  1.63it/s]"
          ]
        },
        {
          "output_type": "stream",
          "name": "stdout",
          "text": [
            "Loading experiment from: experiments/501698\n"
          ]
        },
        {
          "output_type": "stream",
          "name": "stderr",
          "text": [
            "\r 89%|████████▊ | 771/870 [07:07<00:58,  1.70it/s]"
          ]
        },
        {
          "output_type": "stream",
          "name": "stdout",
          "text": [
            "Loading experiment from: experiments/323140\n"
          ]
        },
        {
          "output_type": "stream",
          "name": "stderr",
          "text": [
            "\r 89%|████████▊ | 772/870 [07:07<00:55,  1.75it/s]"
          ]
        },
        {
          "output_type": "stream",
          "name": "stdout",
          "text": [
            "Loading experiment from: experiments/636156\n"
          ]
        },
        {
          "output_type": "stream",
          "name": "stderr",
          "text": [
            "\r 89%|████████▉ | 773/870 [07:08<00:53,  1.80it/s]"
          ]
        },
        {
          "output_type": "stream",
          "name": "stdout",
          "text": [
            "Loading experiment from: experiments/263254\n"
          ]
        },
        {
          "output_type": "stream",
          "name": "stderr",
          "text": [
            "\r 89%|████████▉ | 774/870 [07:08<00:52,  1.82it/s]"
          ]
        },
        {
          "output_type": "stream",
          "name": "stdout",
          "text": [
            "Loading experiment from: experiments/436501\n"
          ]
        },
        {
          "output_type": "stream",
          "name": "stderr",
          "text": [
            "\r 89%|████████▉ | 775/870 [07:09<00:51,  1.84it/s]"
          ]
        },
        {
          "output_type": "stream",
          "name": "stdout",
          "text": [
            "Loading experiment from: experiments/525539\n"
          ]
        },
        {
          "output_type": "stream",
          "name": "stderr",
          "text": [
            "\r 89%|████████▉ | 776/870 [07:10<00:50,  1.87it/s]"
          ]
        },
        {
          "output_type": "stream",
          "name": "stdout",
          "text": [
            "Loading experiment from: experiments/738417\n"
          ]
        },
        {
          "output_type": "stream",
          "name": "stderr",
          "text": [
            "\r 89%|████████▉ | 777/870 [07:10<00:50,  1.85it/s]"
          ]
        },
        {
          "output_type": "stream",
          "name": "stdout",
          "text": [
            "Loading experiment from: experiments/411511\n"
          ]
        },
        {
          "output_type": "stream",
          "name": "stderr",
          "text": [
            "\r 89%|████████▉ | 778/870 [07:11<00:49,  1.86it/s]"
          ]
        },
        {
          "output_type": "stream",
          "name": "stdout",
          "text": [
            "Loading experiment from: experiments/167746\n"
          ]
        },
        {
          "output_type": "stream",
          "name": "stderr",
          "text": [
            "\r 90%|████████▉ | 779/870 [07:11<00:48,  1.87it/s]"
          ]
        },
        {
          "output_type": "stream",
          "name": "stdout",
          "text": [
            "Loading experiment from: experiments/272660\n"
          ]
        },
        {
          "output_type": "stream",
          "name": "stderr",
          "text": [
            "\r 90%|████████▉ | 780/870 [07:12<00:47,  1.88it/s]"
          ]
        },
        {
          "output_type": "stream",
          "name": "stdout",
          "text": [
            "Loading experiment from: experiments/516656\n"
          ]
        },
        {
          "output_type": "stream",
          "name": "stderr",
          "text": [
            "\r 90%|████████▉ | 781/870 [07:12<00:47,  1.88it/s]"
          ]
        },
        {
          "output_type": "stream",
          "name": "stdout",
          "text": [
            "Loading experiment from: experiments/658601\n"
          ]
        },
        {
          "output_type": "stream",
          "name": "stderr",
          "text": [
            "\r 90%|████████▉ | 782/870 [07:13<00:46,  1.90it/s]"
          ]
        },
        {
          "output_type": "stream",
          "name": "stdout",
          "text": [
            "Loading experiment from: experiments/769749\n"
          ]
        },
        {
          "output_type": "stream",
          "name": "stderr",
          "text": [
            "\r 90%|█████████ | 783/870 [07:13<00:45,  1.90it/s]"
          ]
        },
        {
          "output_type": "stream",
          "name": "stdout",
          "text": [
            "Loading experiment from: experiments/233105\n"
          ]
        },
        {
          "output_type": "stream",
          "name": "stderr",
          "text": [
            "\r 90%|█████████ | 784/870 [07:14<00:45,  1.90it/s]"
          ]
        },
        {
          "output_type": "stream",
          "name": "stdout",
          "text": [
            "Loading experiment from: experiments/297873\n"
          ]
        },
        {
          "output_type": "stream",
          "name": "stderr",
          "text": [
            "\r 90%|█████████ | 785/870 [07:14<00:44,  1.90it/s]"
          ]
        },
        {
          "output_type": "stream",
          "name": "stdout",
          "text": [
            "Loading experiment from: experiments/801527\n"
          ]
        },
        {
          "output_type": "stream",
          "name": "stderr",
          "text": [
            "\r 90%|█████████ | 786/870 [07:15<00:43,  1.91it/s]"
          ]
        },
        {
          "output_type": "stream",
          "name": "stdout",
          "text": [
            "Loading experiment from: experiments/374829\n"
          ]
        },
        {
          "output_type": "stream",
          "name": "stderr",
          "text": [
            "\r 90%|█████████ | 787/870 [07:15<00:43,  1.93it/s]"
          ]
        },
        {
          "output_type": "stream",
          "name": "stdout",
          "text": [
            "Loading experiment from: experiments/405704\n"
          ]
        },
        {
          "output_type": "stream",
          "name": "stderr",
          "text": [
            "\r 91%|█████████ | 788/870 [07:16<00:42,  1.92it/s]"
          ]
        },
        {
          "output_type": "stream",
          "name": "stdout",
          "text": [
            "Loading experiment from: experiments/564737\n"
          ]
        },
        {
          "output_type": "stream",
          "name": "stderr",
          "text": [
            "\r 91%|█████████ | 789/870 [07:17<00:46,  1.75it/s]"
          ]
        },
        {
          "output_type": "stream",
          "name": "stdout",
          "text": [
            "Loading experiment from: experiments/159840\n"
          ]
        },
        {
          "output_type": "stream",
          "name": "stderr",
          "text": [
            "\r 91%|█████████ | 790/870 [07:17<00:48,  1.64it/s]"
          ]
        },
        {
          "output_type": "stream",
          "name": "stdout",
          "text": [
            "Loading experiment from: experiments/765614\n"
          ]
        },
        {
          "output_type": "stream",
          "name": "stderr",
          "text": [
            "\r 91%|█████████ | 791/870 [07:18<00:49,  1.60it/s]"
          ]
        },
        {
          "output_type": "stream",
          "name": "stdout",
          "text": [
            "Loading experiment from: experiments/490106\n"
          ]
        },
        {
          "output_type": "stream",
          "name": "stderr",
          "text": [
            "\r 91%|█████████ | 792/870 [07:19<00:50,  1.54it/s]"
          ]
        },
        {
          "output_type": "stream",
          "name": "stdout",
          "text": [
            "Loading experiment from: experiments/676750\n"
          ]
        },
        {
          "output_type": "stream",
          "name": "stderr",
          "text": [
            "\r 91%|█████████ | 793/870 [07:19<00:49,  1.55it/s]"
          ]
        },
        {
          "output_type": "stream",
          "name": "stdout",
          "text": [
            "Loading experiment from: experiments/785752\n"
          ]
        },
        {
          "output_type": "stream",
          "name": "stderr",
          "text": [
            "\r 91%|█████████▏| 794/870 [07:20<00:46,  1.64it/s]"
          ]
        },
        {
          "output_type": "stream",
          "name": "stdout",
          "text": [
            "Loading experiment from: experiments/46459\n"
          ]
        },
        {
          "output_type": "stream",
          "name": "stderr",
          "text": [
            "\r 91%|█████████▏| 795/870 [07:20<00:44,  1.69it/s]"
          ]
        },
        {
          "output_type": "stream",
          "name": "stdout",
          "text": [
            "Loading experiment from: experiments/430504\n"
          ]
        },
        {
          "output_type": "stream",
          "name": "stderr",
          "text": [
            "\r 91%|█████████▏| 796/870 [07:21<00:42,  1.74it/s]"
          ]
        },
        {
          "output_type": "stream",
          "name": "stdout",
          "text": [
            "Loading experiment from: experiments/802973\n"
          ]
        },
        {
          "output_type": "stream",
          "name": "stderr",
          "text": [
            "\r 92%|█████████▏| 797/870 [07:21<00:40,  1.79it/s]"
          ]
        },
        {
          "output_type": "stream",
          "name": "stdout",
          "text": [
            "Loading experiment from: experiments/206637\n"
          ]
        },
        {
          "output_type": "stream",
          "name": "stderr",
          "text": [
            "\r 92%|█████████▏| 798/870 [07:22<00:39,  1.83it/s]"
          ]
        },
        {
          "output_type": "stream",
          "name": "stdout",
          "text": [
            "Loading experiment from: experiments/328872\n"
          ]
        },
        {
          "output_type": "stream",
          "name": "stderr",
          "text": [
            "\r 92%|█████████▏| 799/870 [07:22<00:38,  1.86it/s]"
          ]
        },
        {
          "output_type": "stream",
          "name": "stdout",
          "text": [
            "Loading experiment from: experiments/411352\n"
          ]
        },
        {
          "output_type": "stream",
          "name": "stderr",
          "text": [
            "\r 92%|█████████▏| 800/870 [07:23<00:37,  1.89it/s]"
          ]
        },
        {
          "output_type": "stream",
          "name": "stdout",
          "text": [
            "Loading experiment from: experiments/94105\n"
          ]
        },
        {
          "output_type": "stream",
          "name": "stderr",
          "text": [
            "\r 92%|█████████▏| 801/870 [07:23<00:36,  1.89it/s]"
          ]
        },
        {
          "output_type": "stream",
          "name": "stdout",
          "text": [
            "Loading experiment from: experiments/29607\n"
          ]
        },
        {
          "output_type": "stream",
          "name": "stderr",
          "text": [
            "\r 92%|█████████▏| 802/870 [07:24<00:35,  1.91it/s]"
          ]
        },
        {
          "output_type": "stream",
          "name": "stdout",
          "text": [
            "Loading experiment from: experiments/117355\n"
          ]
        },
        {
          "output_type": "stream",
          "name": "stderr",
          "text": [
            "\r 92%|█████████▏| 803/870 [07:25<00:35,  1.88it/s]"
          ]
        },
        {
          "output_type": "stream",
          "name": "stdout",
          "text": [
            "Loading experiment from: experiments/211288\n"
          ]
        },
        {
          "output_type": "stream",
          "name": "stderr",
          "text": [
            "\r 92%|█████████▏| 804/870 [07:25<00:34,  1.89it/s]"
          ]
        },
        {
          "output_type": "stream",
          "name": "stdout",
          "text": [
            "Loading experiment from: experiments/605802\n"
          ]
        },
        {
          "output_type": "stream",
          "name": "stderr",
          "text": [
            "\r 93%|█████████▎| 805/870 [07:26<00:34,  1.89it/s]"
          ]
        },
        {
          "output_type": "stream",
          "name": "stdout",
          "text": [
            "Loading experiment from: experiments/170164\n"
          ]
        },
        {
          "output_type": "stream",
          "name": "stderr",
          "text": [
            "\r 93%|█████████▎| 806/870 [07:26<00:33,  1.91it/s]"
          ]
        },
        {
          "output_type": "stream",
          "name": "stdout",
          "text": [
            "Loading experiment from: experiments/138575\n"
          ]
        },
        {
          "output_type": "stream",
          "name": "stderr",
          "text": [
            "\r 93%|█████████▎| 807/870 [07:27<00:32,  1.91it/s]"
          ]
        },
        {
          "output_type": "stream",
          "name": "stdout",
          "text": [
            "Loading experiment from: experiments/564699\n"
          ]
        },
        {
          "output_type": "stream",
          "name": "stderr",
          "text": [
            "\r 93%|█████████▎| 808/870 [07:27<00:32,  1.93it/s]"
          ]
        },
        {
          "output_type": "stream",
          "name": "stdout",
          "text": [
            "Loading experiment from: experiments/628203\n"
          ]
        },
        {
          "output_type": "stream",
          "name": "stderr",
          "text": [
            "\r 93%|█████████▎| 809/870 [07:28<00:31,  1.92it/s]"
          ]
        },
        {
          "output_type": "stream",
          "name": "stdout",
          "text": [
            "Loading experiment from: experiments/360287\n"
          ]
        },
        {
          "output_type": "stream",
          "name": "stderr",
          "text": [
            "\r 93%|█████████▎| 810/870 [07:28<00:31,  1.93it/s]"
          ]
        },
        {
          "output_type": "stream",
          "name": "stdout",
          "text": [
            "Loading experiment from: experiments/35576\n"
          ]
        },
        {
          "output_type": "stream",
          "name": "stderr",
          "text": [
            "\r 93%|█████████▎| 811/870 [07:29<00:30,  1.93it/s]"
          ]
        },
        {
          "output_type": "stream",
          "name": "stdout",
          "text": [
            "Loading experiment from: experiments/219684\n"
          ]
        },
        {
          "output_type": "stream",
          "name": "stderr",
          "text": [
            "\r 93%|█████████▎| 812/870 [07:29<00:31,  1.85it/s]"
          ]
        },
        {
          "output_type": "stream",
          "name": "stdout",
          "text": [
            "Loading experiment from: experiments/61129\n"
          ]
        },
        {
          "output_type": "stream",
          "name": "stderr",
          "text": [
            "\r 93%|█████████▎| 813/870 [07:30<00:33,  1.70it/s]"
          ]
        },
        {
          "output_type": "stream",
          "name": "stdout",
          "text": [
            "Loading experiment from: experiments/266609\n"
          ]
        },
        {
          "output_type": "stream",
          "name": "stderr",
          "text": [
            "\r 94%|█████████▎| 814/870 [07:31<00:35,  1.58it/s]"
          ]
        },
        {
          "output_type": "stream",
          "name": "stdout",
          "text": [
            "Loading experiment from: experiments/322778\n"
          ]
        },
        {
          "output_type": "stream",
          "name": "stderr",
          "text": [
            "\r 94%|█████████▎| 815/870 [07:31<00:36,  1.51it/s]"
          ]
        },
        {
          "output_type": "stream",
          "name": "stdout",
          "text": [
            "Loading experiment from: experiments/820217\n"
          ]
        },
        {
          "output_type": "stream",
          "name": "stderr",
          "text": [
            "\r 94%|█████████▍| 816/870 [07:32<00:36,  1.49it/s]"
          ]
        },
        {
          "output_type": "stream",
          "name": "stdout",
          "text": [
            "Loading experiment from: experiments/140676\n"
          ]
        },
        {
          "output_type": "stream",
          "name": "stderr",
          "text": [
            "\r 94%|█████████▍| 817/870 [07:33<00:33,  1.58it/s]"
          ]
        },
        {
          "output_type": "stream",
          "name": "stdout",
          "text": [
            "Loading experiment from: experiments/228193\n"
          ]
        },
        {
          "output_type": "stream",
          "name": "stderr",
          "text": [
            "\r 94%|█████████▍| 818/870 [07:33<00:31,  1.67it/s]"
          ]
        },
        {
          "output_type": "stream",
          "name": "stdout",
          "text": [
            "Loading experiment from: experiments/488807\n"
          ]
        },
        {
          "output_type": "stream",
          "name": "stderr",
          "text": [
            "\r 94%|█████████▍| 819/870 [07:34<00:29,  1.74it/s]"
          ]
        },
        {
          "output_type": "stream",
          "name": "stdout",
          "text": [
            "Loading experiment from: experiments/118988\n"
          ]
        },
        {
          "output_type": "stream",
          "name": "stderr",
          "text": [
            "\r 94%|█████████▍| 820/870 [07:34<00:27,  1.79it/s]"
          ]
        },
        {
          "output_type": "stream",
          "name": "stdout",
          "text": [
            "Loading experiment from: experiments/654347\n"
          ]
        },
        {
          "output_type": "stream",
          "name": "stderr",
          "text": [
            "\r 94%|█████████▍| 821/870 [07:35<00:26,  1.83it/s]"
          ]
        },
        {
          "output_type": "stream",
          "name": "stdout",
          "text": [
            "Loading experiment from: experiments/828277\n"
          ]
        },
        {
          "output_type": "stream",
          "name": "stderr",
          "text": [
            "\r 94%|█████████▍| 822/870 [07:35<00:25,  1.86it/s]"
          ]
        },
        {
          "output_type": "stream",
          "name": "stdout",
          "text": [
            "Loading experiment from: experiments/675402\n"
          ]
        },
        {
          "output_type": "stream",
          "name": "stderr",
          "text": [
            "\r 95%|█████████▍| 823/870 [07:36<00:25,  1.88it/s]"
          ]
        },
        {
          "output_type": "stream",
          "name": "stdout",
          "text": [
            "Loading experiment from: experiments/651863\n"
          ]
        },
        {
          "output_type": "stream",
          "name": "stderr",
          "text": [
            "\r 95%|█████████▍| 824/870 [07:36<00:24,  1.89it/s]"
          ]
        },
        {
          "output_type": "stream",
          "name": "stdout",
          "text": [
            "Loading experiment from: experiments/283119\n"
          ]
        },
        {
          "output_type": "stream",
          "name": "stderr",
          "text": [
            "\r 95%|█████████▍| 825/870 [07:37<00:23,  1.89it/s]"
          ]
        },
        {
          "output_type": "stream",
          "name": "stdout",
          "text": [
            "Loading experiment from: experiments/265970\n"
          ]
        },
        {
          "output_type": "stream",
          "name": "stderr",
          "text": [
            "\r 95%|█████████▍| 826/870 [07:37<00:23,  1.90it/s]"
          ]
        },
        {
          "output_type": "stream",
          "name": "stdout",
          "text": [
            "Loading experiment from: experiments/195057\n"
          ]
        },
        {
          "output_type": "stream",
          "name": "stderr",
          "text": [
            "\r 95%|█████████▌| 827/870 [07:38<00:22,  1.90it/s]"
          ]
        },
        {
          "output_type": "stream",
          "name": "stdout",
          "text": [
            "Loading experiment from: experiments/542340\n"
          ]
        },
        {
          "output_type": "stream",
          "name": "stderr",
          "text": [
            "\r 95%|█████████▌| 828/870 [07:38<00:21,  1.91it/s]"
          ]
        },
        {
          "output_type": "stream",
          "name": "stdout",
          "text": [
            "Loading experiment from: experiments/665564\n"
          ]
        },
        {
          "output_type": "stream",
          "name": "stderr",
          "text": [
            "\r 95%|█████████▌| 829/870 [07:39<00:21,  1.92it/s]"
          ]
        },
        {
          "output_type": "stream",
          "name": "stdout",
          "text": [
            "Loading experiment from: experiments/494423\n"
          ]
        },
        {
          "output_type": "stream",
          "name": "stderr",
          "text": [
            "\r 95%|█████████▌| 830/870 [07:39<00:20,  1.91it/s]"
          ]
        },
        {
          "output_type": "stream",
          "name": "stdout",
          "text": [
            "Loading experiment from: experiments/225113\n"
          ]
        },
        {
          "output_type": "stream",
          "name": "stderr",
          "text": [
            "\r 96%|█████████▌| 831/870 [07:40<00:20,  1.89it/s]"
          ]
        },
        {
          "output_type": "stream",
          "name": "stdout",
          "text": [
            "Loading experiment from: experiments/513031\n"
          ]
        },
        {
          "output_type": "stream",
          "name": "stderr",
          "text": [
            "\r 96%|█████████▌| 832/870 [07:40<00:19,  1.90it/s]"
          ]
        },
        {
          "output_type": "stream",
          "name": "stdout",
          "text": [
            "Loading experiment from: experiments/540733\n"
          ]
        },
        {
          "output_type": "stream",
          "name": "stderr",
          "text": [
            "\r 96%|█████████▌| 833/870 [07:41<00:19,  1.88it/s]"
          ]
        },
        {
          "output_type": "stream",
          "name": "stdout",
          "text": [
            "Loading experiment from: experiments/767906\n"
          ]
        },
        {
          "output_type": "stream",
          "name": "stderr",
          "text": [
            "\r 96%|█████████▌| 834/870 [07:42<00:18,  1.90it/s]"
          ]
        },
        {
          "output_type": "stream",
          "name": "stdout",
          "text": [
            "Loading experiment from: experiments/520854\n"
          ]
        },
        {
          "output_type": "stream",
          "name": "stderr",
          "text": [
            "\r 96%|█████████▌| 835/870 [07:42<00:18,  1.85it/s]"
          ]
        },
        {
          "output_type": "stream",
          "name": "stdout",
          "text": [
            "Loading experiment from: experiments/719216\n"
          ]
        },
        {
          "output_type": "stream",
          "name": "stderr",
          "text": [
            "\r 96%|█████████▌| 836/870 [07:43<00:19,  1.72it/s]"
          ]
        },
        {
          "output_type": "stream",
          "name": "stdout",
          "text": [
            "Loading experiment from: experiments/496936\n"
          ]
        },
        {
          "output_type": "stream",
          "name": "stderr",
          "text": [
            "\r 96%|█████████▌| 837/870 [07:44<00:20,  1.62it/s]"
          ]
        },
        {
          "output_type": "stream",
          "name": "stdout",
          "text": [
            "Loading experiment from: experiments/752693\n"
          ]
        },
        {
          "output_type": "stream",
          "name": "stderr",
          "text": [
            "\r 96%|█████████▋| 838/870 [07:44<00:20,  1.58it/s]"
          ]
        },
        {
          "output_type": "stream",
          "name": "stdout",
          "text": [
            "Loading experiment from: experiments/759437\n"
          ]
        },
        {
          "output_type": "stream",
          "name": "stderr",
          "text": [
            "\r 96%|█████████▋| 839/870 [07:45<00:20,  1.52it/s]"
          ]
        },
        {
          "output_type": "stream",
          "name": "stdout",
          "text": [
            "Loading experiment from: experiments/203464\n"
          ]
        },
        {
          "output_type": "stream",
          "name": "stderr",
          "text": [
            "\r 97%|█████████▋| 840/870 [07:45<00:18,  1.60it/s]"
          ]
        },
        {
          "output_type": "stream",
          "name": "stdout",
          "text": [
            "Loading experiment from: experiments/487760\n"
          ]
        },
        {
          "output_type": "stream",
          "name": "stderr",
          "text": [
            "\r 97%|█████████▋| 841/870 [07:46<00:17,  1.69it/s]"
          ]
        },
        {
          "output_type": "stream",
          "name": "stdout",
          "text": [
            "Loading experiment from: experiments/382774\n"
          ]
        },
        {
          "output_type": "stream",
          "name": "stderr",
          "text": [
            "\r 97%|█████████▋| 842/870 [07:46<00:15,  1.75it/s]"
          ]
        },
        {
          "output_type": "stream",
          "name": "stdout",
          "text": [
            "Loading experiment from: experiments/806273\n"
          ]
        },
        {
          "output_type": "stream",
          "name": "stderr",
          "text": [
            "\r 97%|█████████▋| 843/870 [07:47<00:15,  1.80it/s]"
          ]
        },
        {
          "output_type": "stream",
          "name": "stdout",
          "text": [
            "Loading experiment from: experiments/720723\n"
          ]
        },
        {
          "output_type": "stream",
          "name": "stderr",
          "text": [
            "\r 97%|█████████▋| 844/870 [07:48<00:14,  1.83it/s]"
          ]
        },
        {
          "output_type": "stream",
          "name": "stdout",
          "text": [
            "Loading experiment from: experiments/626581\n"
          ]
        },
        {
          "output_type": "stream",
          "name": "stderr",
          "text": [
            "\r 97%|█████████▋| 845/870 [07:48<00:13,  1.87it/s]"
          ]
        },
        {
          "output_type": "stream",
          "name": "stdout",
          "text": [
            "Loading experiment from: experiments/247735\n"
          ]
        },
        {
          "output_type": "stream",
          "name": "stderr",
          "text": [
            "\r 97%|█████████▋| 846/870 [07:49<00:12,  1.88it/s]"
          ]
        },
        {
          "output_type": "stream",
          "name": "stdout",
          "text": [
            "Loading experiment from: experiments/462931\n"
          ]
        },
        {
          "output_type": "stream",
          "name": "stderr",
          "text": [
            "\r 97%|█████████▋| 847/870 [07:49<00:12,  1.90it/s]"
          ]
        },
        {
          "output_type": "stream",
          "name": "stdout",
          "text": [
            "Loading experiment from: experiments/587270\n"
          ]
        },
        {
          "output_type": "stream",
          "name": "stderr",
          "text": [
            "\r 97%|█████████▋| 848/870 [07:50<00:11,  1.89it/s]"
          ]
        },
        {
          "output_type": "stream",
          "name": "stdout",
          "text": [
            "Loading experiment from: experiments/228284\n"
          ]
        },
        {
          "output_type": "stream",
          "name": "stderr",
          "text": [
            "\r 98%|█████████▊| 849/870 [07:50<00:11,  1.89it/s]"
          ]
        },
        {
          "output_type": "stream",
          "name": "stdout",
          "text": [
            "Loading experiment from: experiments/482284\n"
          ]
        },
        {
          "output_type": "stream",
          "name": "stderr",
          "text": [
            "\r 98%|█████████▊| 850/870 [07:51<00:10,  1.90it/s]"
          ]
        },
        {
          "output_type": "stream",
          "name": "stdout",
          "text": [
            "Loading experiment from: experiments/650804\n"
          ]
        },
        {
          "output_type": "stream",
          "name": "stderr",
          "text": [
            "\r 98%|█████████▊| 851/870 [07:51<00:10,  1.89it/s]"
          ]
        },
        {
          "output_type": "stream",
          "name": "stdout",
          "text": [
            "Loading experiment from: experiments/734640\n"
          ]
        },
        {
          "output_type": "stream",
          "name": "stderr",
          "text": [
            "\r 98%|█████████▊| 852/870 [07:52<00:09,  1.89it/s]"
          ]
        },
        {
          "output_type": "stream",
          "name": "stdout",
          "text": [
            "Loading experiment from: experiments/806757\n"
          ]
        },
        {
          "output_type": "stream",
          "name": "stderr",
          "text": [
            "\r 98%|█████████▊| 853/870 [07:52<00:08,  1.90it/s]"
          ]
        },
        {
          "output_type": "stream",
          "name": "stdout",
          "text": [
            "Loading experiment from: experiments/574262\n"
          ]
        },
        {
          "output_type": "stream",
          "name": "stderr",
          "text": [
            "\r 98%|█████████▊| 854/870 [07:53<00:08,  1.91it/s]"
          ]
        },
        {
          "output_type": "stream",
          "name": "stdout",
          "text": [
            "Loading experiment from: experiments/133650\n"
          ]
        },
        {
          "output_type": "stream",
          "name": "stderr",
          "text": [
            "\r 98%|█████████▊| 855/870 [07:53<00:07,  1.91it/s]"
          ]
        },
        {
          "output_type": "stream",
          "name": "stdout",
          "text": [
            "Loading experiment from: experiments/272486\n"
          ]
        },
        {
          "output_type": "stream",
          "name": "stderr",
          "text": [
            "\r 98%|█████████▊| 856/870 [07:54<00:07,  1.91it/s]"
          ]
        },
        {
          "output_type": "stream",
          "name": "stdout",
          "text": [
            "Loading experiment from: experiments/453753\n"
          ]
        },
        {
          "output_type": "stream",
          "name": "stderr",
          "text": [
            "\r 99%|█████████▊| 857/870 [07:54<00:06,  1.91it/s]"
          ]
        },
        {
          "output_type": "stream",
          "name": "stdout",
          "text": [
            "Loading experiment from: experiments/369699\n"
          ]
        },
        {
          "output_type": "stream",
          "name": "stderr",
          "text": [
            "\r 99%|█████████▊| 858/870 [07:55<00:06,  1.89it/s]"
          ]
        },
        {
          "output_type": "stream",
          "name": "stdout",
          "text": [
            "Loading experiment from: experiments/384800\n"
          ]
        },
        {
          "output_type": "stream",
          "name": "stderr",
          "text": [
            "\r 99%|█████████▊| 859/870 [07:55<00:06,  1.79it/s]"
          ]
        },
        {
          "output_type": "stream",
          "name": "stdout",
          "text": [
            "Loading experiment from: experiments/313029\n"
          ]
        },
        {
          "output_type": "stream",
          "name": "stderr",
          "text": [
            "\r 99%|█████████▉| 860/870 [07:56<00:06,  1.66it/s]"
          ]
        },
        {
          "output_type": "stream",
          "name": "stdout",
          "text": [
            "Loading experiment from: experiments/821135\n"
          ]
        },
        {
          "output_type": "stream",
          "name": "stderr",
          "text": [
            "\r 99%|█████████▉| 861/870 [07:57<00:05,  1.58it/s]"
          ]
        },
        {
          "output_type": "stream",
          "name": "stdout",
          "text": [
            "Loading experiment from: experiments/36184\n"
          ]
        },
        {
          "output_type": "stream",
          "name": "stderr",
          "text": [
            "\r 99%|█████████▉| 862/870 [07:58<00:05,  1.54it/s]"
          ]
        },
        {
          "output_type": "stream",
          "name": "stdout",
          "text": [
            "Loading experiment from: experiments/123415\n"
          ]
        },
        {
          "output_type": "stream",
          "name": "stderr",
          "text": [
            "\r 99%|█████████▉| 863/870 [07:58<00:04,  1.53it/s]"
          ]
        },
        {
          "output_type": "stream",
          "name": "stdout",
          "text": [
            "Loading experiment from: experiments/591054\n"
          ]
        },
        {
          "output_type": "stream",
          "name": "stderr",
          "text": [
            "\r 99%|█████████▉| 864/870 [07:59<00:03,  1.62it/s]"
          ]
        },
        {
          "output_type": "stream",
          "name": "stdout",
          "text": [
            "Loading experiment from: experiments/648155\n"
          ]
        },
        {
          "output_type": "stream",
          "name": "stderr",
          "text": [
            "\r 99%|█████████▉| 865/870 [07:59<00:02,  1.70it/s]"
          ]
        },
        {
          "output_type": "stream",
          "name": "stdout",
          "text": [
            "Loading experiment from: experiments/675990\n"
          ]
        },
        {
          "output_type": "stream",
          "name": "stderr",
          "text": [
            "\r100%|█████████▉| 866/870 [08:00<00:02,  1.76it/s]"
          ]
        },
        {
          "output_type": "stream",
          "name": "stdout",
          "text": [
            "Loading experiment from: experiments/333395\n"
          ]
        },
        {
          "output_type": "stream",
          "name": "stderr",
          "text": [
            "\r100%|█████████▉| 867/870 [08:00<00:01,  1.80it/s]"
          ]
        },
        {
          "output_type": "stream",
          "name": "stdout",
          "text": [
            "Loading experiment from: experiments/416931\n"
          ]
        },
        {
          "output_type": "stream",
          "name": "stderr",
          "text": [
            "\r100%|█████████▉| 868/870 [08:01<00:01,  1.84it/s]"
          ]
        },
        {
          "output_type": "stream",
          "name": "stdout",
          "text": [
            "Loading experiment from: experiments/752060\n"
          ]
        },
        {
          "output_type": "stream",
          "name": "stderr",
          "text": [
            "\r100%|█████████▉| 869/870 [08:01<00:00,  1.86it/s]"
          ]
        },
        {
          "output_type": "stream",
          "name": "stdout",
          "text": [
            "Loading experiment from: experiments/615698\n",
            "Could not compute heat map for verb: is (implied), Error: Search word is (implied) not found in prompt!\n"
          ]
        },
        {
          "output_type": "stream",
          "name": "stderr",
          "text": [
            "100%|██████████| 870/870 [08:02<00:00,  1.80it/s]"
          ]
        },
        {
          "output_type": "stream",
          "name": "stdout",
          "text": [
            "Statistics collected:\n",
            "                     pair   preposition       iou     experiment_path\n",
            "0     preposition-subject            of  0.000000  experiments/770625\n",
            "1      preposition-object            of  0.063679  experiments/770625\n",
            "2        preposition-verb            of  0.006559  experiments/770625\n",
            "3     preposition-subject            on  0.061387  experiments/765550\n",
            "4      preposition-object            on  0.024420  experiments/765550\n",
            "5        preposition-verb            on  0.000000  experiments/765550\n",
            "6     preposition-subject            in  0.211654  experiments/370135\n",
            "7      preposition-object            in  0.000000  experiments/370135\n",
            "8        preposition-verb            in  0.119685  experiments/370135\n",
            "9     preposition-subject          with  0.310943  experiments/694991\n",
            "10     preposition-object          with  0.329656  experiments/694991\n",
            "11       preposition-verb          with  0.000000  experiments/694991\n",
            "12    preposition-subject            on  0.069840  experiments/768641\n",
            "13     preposition-object            on  0.122134  experiments/768641\n",
            "14    preposition-subject            of  0.000000  experiments/734511\n",
            "15     preposition-object            of  0.000000  experiments/734511\n",
            "16       preposition-verb            of  0.000000  experiments/734511\n",
            "17    preposition-subject            at  0.000000  experiments/566393\n",
            "18     preposition-object            at  0.000000  experiments/566393\n",
            "19       preposition-verb            at  0.000000  experiments/566393\n",
            "20    preposition-subject         up of  0.000000   experiments/51721\n",
            "21     preposition-object         up of  0.000000   experiments/51721\n",
            "22       preposition-verb         up of  0.000000   experiments/51721\n",
            "23    preposition-subject          with  0.732874  experiments/492389\n",
            "24     preposition-object          with  0.273942  experiments/492389\n",
            "25       preposition-verb          with  0.000000  experiments/492389\n",
            "26    preposition-subject         about  0.000000   experiments/15681\n",
            "27     preposition-object         about  0.000000   experiments/15681\n",
            "28    preposition-subject            on  0.547244  experiments/734907\n",
            "29     preposition-object            on  0.000000  experiments/734907\n",
            "30    preposition-subject            on  0.000000  experiments/460679\n",
            "31     preposition-object            on  0.000000  experiments/460679\n",
            "32       preposition-verb            on  0.000000  experiments/460679\n",
            "33    preposition-subject            of  0.427419  experiments/628993\n",
            "34     preposition-object            of  0.310403  experiments/628993\n",
            "35    preposition-subject       next to  0.000000  experiments/711283\n",
            "36     preposition-object       next to  0.000000  experiments/711283\n",
            "37       preposition-verb       next to  0.000000  experiments/711283\n",
            "38    preposition-subject            by  0.000000  experiments/124819\n",
            "39     preposition-object            by  0.000000  experiments/124819\n",
            "40       preposition-verb            by  0.000000  experiments/124819\n",
            "41    preposition-subject    underneath  0.000000  experiments/622366\n",
            "42     preposition-object    underneath  0.001776  experiments/622366\n",
            "43       preposition-verb    underneath  0.059041  experiments/622366\n",
            "44    preposition-subject     on top of  0.000000  experiments/770470\n",
            "45     preposition-object     on top of  0.000000  experiments/770470\n",
            "46       preposition-verb     on top of  0.000000  experiments/770470\n",
            "47    preposition-subject          down  0.255764  experiments/750839\n",
            "48     preposition-object          down  0.000000  experiments/750839\n",
            "49       preposition-verb          down  0.186352  experiments/750839\n",
            "50    preposition-subject            on  0.000826  experiments/144988\n",
            "51     preposition-object            on  0.000362  experiments/144988\n",
            "52       preposition-verb            on  0.000000  experiments/144988\n",
            "53    preposition-subject            in  0.000000  experiments/128515\n",
            "54     preposition-object            in  0.000000  experiments/128515\n",
            "55       preposition-verb            in  0.000000  experiments/128515\n",
            "56    preposition-subject         up to  0.181154   experiments/93596\n",
            "57     preposition-object         up to  0.057062   experiments/93596\n",
            "58       preposition-verb         up to  0.057563   experiments/93596\n",
            "59    preposition-subject            in  0.000000  experiments/584465\n",
            "60     preposition-object            in  0.000000  experiments/584465\n",
            "61    preposition-subject       next to  0.000000  experiments/206160\n",
            "62     preposition-object       next to  0.000000  experiments/206160\n",
            "63       preposition-verb       next to  0.000000  experiments/206160\n",
            "64    preposition-subject            in  0.000962  experiments/762204\n",
            "65     preposition-object            in  0.000000  experiments/762204\n",
            "66       preposition-verb            in  0.000000  experiments/762204\n",
            "67    preposition-subject            at  0.000000  experiments/690171\n",
            "68     preposition-object            at  0.000000  experiments/690171\n",
            "69       preposition-verb            at  0.000000  experiments/690171\n",
            "70    preposition-subject            on  0.191228  experiments/189493\n",
            "71     preposition-object            on  0.000000  experiments/189493\n",
            "72       preposition-verb            on  0.162791  experiments/189493\n",
            "73    preposition-subject            in  0.458462  experiments/275927\n",
            "74     preposition-object            in  0.000000  experiments/275927\n",
            "75       preposition-verb            in  0.283981  experiments/275927\n",
            "76    preposition-subject            of  0.000000   experiments/35767\n",
            "77     preposition-object            of  0.843238   experiments/35767\n",
            "78    preposition-subject            in  0.010440  experiments/283744\n",
            "79     preposition-object            in  0.054893  experiments/283744\n",
            "80    preposition-subject          into  0.000000  experiments/687166\n",
            "81     preposition-object          into  0.000000  experiments/687166\n",
            "82       preposition-verb          into  0.000000  experiments/687166\n",
            "83    preposition-subject            at  0.000000  experiments/614657\n",
            "84     preposition-object            at  0.000000  experiments/614657\n",
            "85       preposition-verb            at  0.000000  experiments/614657\n",
            "86    preposition-subject            in  0.000000  experiments/215117\n",
            "87     preposition-object            in  0.000000  experiments/215117\n",
            "88       preposition-verb            in  0.000000  experiments/215117\n",
            "89    preposition-subject       next to  0.000000  experiments/171821\n",
            "90     preposition-object       next to  0.000000  experiments/171821\n",
            "91       preposition-verb       next to  0.000000  experiments/171821\n",
            "92    preposition-subject            in  0.000000  experiments/292466\n",
            "93     preposition-object            in  0.000000  experiments/292466\n",
            "94       preposition-verb            in  0.000000  experiments/292466\n",
            "95    preposition-subject          with  0.162037   experiments/99171\n",
            "96     preposition-object          with  0.002427   experiments/99171\n",
            "97       preposition-verb          with  0.000000   experiments/99171\n",
            "98    preposition-subject          with  0.000000   experiments/85883\n",
            "99     preposition-object          with  0.000000   experiments/85883\n",
            "100   preposition-subject          onto  0.000000   experiments/84251\n",
            "101    preposition-object          onto  0.000000   experiments/84251\n",
            "102      preposition-verb          onto  0.000000   experiments/84251\n",
            "103   preposition-subject            of  0.293769  experiments/808279\n",
            "104    preposition-object            of  0.357689  experiments/808279\n",
            "105      preposition-verb            of  0.002096  experiments/808279\n",
            "106   preposition-subject            in  0.000000  experiments/365933\n",
            "107    preposition-object            in  0.000000  experiments/365933\n",
            "108      preposition-verb            in  0.000000  experiments/365933\n",
            "109   preposition-subject            on  0.000747  experiments/488117\n",
            "110    preposition-object            on  0.380939  experiments/488117\n",
            "111      preposition-verb            on  0.000000  experiments/488117\n",
            "112   preposition-subject         up of  0.000000  experiments/426237\n",
            "113    preposition-object         up of  0.000000  experiments/426237\n",
            "114   preposition-subject            in  0.706605  experiments/104038\n",
            "115    preposition-object            in  0.020672  experiments/104038\n",
            "116      preposition-verb            in  0.736842  experiments/104038\n",
            "117   preposition-subject       wearing  0.356890  experiments/414035\n",
            "118    preposition-object       wearing  0.120175  experiments/414035\n",
            "119      preposition-verb       wearing  0.000000  experiments/414035\n",
            "120   preposition-subject            in  0.059406  experiments/255949\n",
            "121    preposition-object            in  0.000000  experiments/255949\n",
            "122      preposition-verb            in  0.077121  experiments/255949\n",
            "123   preposition-subject          with  0.184780   experiments/36608\n",
            "124    preposition-object          with  0.007013   experiments/36608\n",
            "125   preposition-subject            on  0.000000   experiments/41595\n",
            "126    preposition-object            on  0.000000   experiments/41595\n",
            "127      preposition-verb            on  0.000000   experiments/41595\n",
            "128   preposition-subject            in  0.328238  experiments/285753\n",
            "129    preposition-object            in  0.304762  experiments/285753\n",
            "130      preposition-verb            in  0.472258  experiments/285753\n",
            "131   preposition-subject            in  0.821922  experiments/787666\n",
            "132    preposition-object            in  0.021739  experiments/787666\n",
            "133      preposition-verb            in  0.000000  experiments/787666\n",
            "134   preposition-subject            of  0.000000  experiments/430295\n",
            "135    preposition-object            of  0.000000  experiments/430295\n",
            "136      preposition-verb            of  0.000000  experiments/430295\n",
            "137   preposition-subject            on  0.000000  experiments/569526\n",
            "138    preposition-object            on  0.000000  experiments/569526\n",
            "139      preposition-verb            on  0.000000  experiments/569526\n",
            "140   preposition-subject            of  0.000000  experiments/768391\n",
            "141    preposition-object            of  0.000000  experiments/768391\n",
            "142      preposition-verb            of  0.000000  experiments/768391\n",
            "143   preposition-subject       through  0.298328   experiments/74246\n",
            "144    preposition-object       through  0.253086   experiments/74246\n",
            "145      preposition-verb       through  0.000000   experiments/74246\n",
            "146   preposition-subject            up  0.000000   experiments/27141\n",
            "147    preposition-object            up  0.014215   experiments/27141\n",
            "148      preposition-verb            up  0.033167   experiments/27141\n",
            "149   preposition-subject            on  0.076471  experiments/325298\n",
            "150    preposition-object            on  0.000000  experiments/325298\n",
            "151      preposition-verb            on  0.000000  experiments/325298\n",
            "152   preposition-subject          with  0.038695  experiments/217727\n",
            "153    preposition-object          with  0.000000  experiments/217727\n",
            "154      preposition-verb          with  0.442378  experiments/217727\n",
            "155   preposition-subject         among  0.000000  experiments/654453\n",
            "156    preposition-object         among  0.000000  experiments/654453\n",
            "157   preposition-subject            of  0.672469  experiments/172833\n",
            "158    preposition-object            of  0.196631  experiments/172833\n",
            "159   preposition-subject            of  0.000000  experiments/490736\n",
            "160    preposition-object            of  0.000000  experiments/490736\n",
            "161   preposition-subject            of  0.000000  experiments/827061\n",
            "162    preposition-object            of  0.000000  experiments/827061\n",
            "163   preposition-subject        behind  0.000000  experiments/791971\n",
            "164    preposition-object        behind  0.000000  experiments/791971\n",
            "165      preposition-verb        behind  0.000000  experiments/791971\n",
            "166   preposition-subject          with  0.000000  experiments/425512\n",
            "167    preposition-object          with  0.000000  experiments/425512\n",
            "168   preposition-subject     on top of  0.000000  experiments/194154\n",
            "169    preposition-object     on top of  0.000000  experiments/194154\n",
            "170      preposition-verb     on top of  0.000000  experiments/194154\n",
            "171   preposition-subject            on  0.050346  experiments/317697\n",
            "172    preposition-object            on  0.000000  experiments/317697\n",
            "173      preposition-verb            on  0.000000  experiments/317697\n",
            "174   preposition-subject         above  0.563373    experiments/8468\n",
            "175    preposition-object         above  0.167004    experiments/8468\n",
            "176      preposition-verb         above  0.000000    experiments/8468\n",
            "177   preposition-subject            by  0.004762   experiments/94896\n",
            "178    preposition-object            by  0.000000   experiments/94896\n",
            "179      preposition-verb            by  0.000000   experiments/94896\n",
            "180   preposition-subject            OF  0.000000  experiments/714060\n",
            "181    preposition-object            OF  0.000000  experiments/714060\n",
            "182      preposition-verb            OF  0.000000  experiments/714060\n",
            "183   preposition-subject          with  0.000000  experiments/239153\n",
            "184    preposition-object          with  0.000000  experiments/239153\n",
            "185   preposition-subject            at  0.000000  experiments/466163\n",
            "186    preposition-object            at  0.000000  experiments/466163\n",
            "187      preposition-verb            at  0.000000  experiments/466163\n",
            "188   preposition-subject        around  0.010352  experiments/545517\n",
            "189    preposition-object        around  0.000000  experiments/545517\n",
            "190      preposition-verb        around  0.000000  experiments/545517\n",
            "191   preposition-subject            on  0.004667  experiments/759552\n",
            "192    preposition-object            on  0.000000  experiments/759552\n",
            "193   preposition-subject          with  0.000244  experiments/797290\n",
            "194    preposition-object          with  0.000787  experiments/797290\n",
            "195   preposition-subject       wearing  0.015728  experiments/827716\n",
            "196    preposition-object       wearing  0.025478  experiments/827716\n",
            "197   preposition-subject          with  0.474421  experiments/212641\n",
            "198    preposition-object          with  0.722067  experiments/212641\n",
            "199      preposition-verb          with  0.042504  experiments/212641\n",
            "200   preposition-subject            by  0.081543   experiments/13487\n",
            "201    preposition-object            by  0.081758   experiments/13487\n",
            "202      preposition-verb            by  0.000000   experiments/13487\n",
            "203   preposition-subject          with  0.000000  experiments/323698\n",
            "204    preposition-object          with  0.000000  experiments/323698\n",
            "205   preposition-subject            of  0.000000  experiments/316623\n",
            "206    preposition-object            of  0.000000  experiments/316623\n",
            "207      preposition-verb            of  0.000000  experiments/316623\n",
            "208   preposition-subject            in  0.000000  experiments/475601\n",
            "209    preposition-object            in  0.000000  experiments/475601\n",
            "210      preposition-verb            in  0.000000  experiments/475601\n",
            "211   preposition-subject          with  0.045349  experiments/623509\n",
            "212    preposition-object          with  0.000000  experiments/623509\n",
            "213      preposition-verb          with  0.000000  experiments/623509\n",
            "214   preposition-subject   in front of  0.000000  experiments/733084\n",
            "215    preposition-object   in front of  0.000000  experiments/733084\n",
            "216   preposition-subject    in and out  0.000000  experiments/786111\n",
            "217    preposition-object    in and out  0.000000  experiments/786111\n",
            "218      preposition-verb    in and out  0.000000  experiments/786111\n",
            "219   preposition-subject            in  0.081433  experiments/355648\n",
            "220    preposition-object            in  0.000000  experiments/355648\n",
            "221      preposition-verb            in  0.000000  experiments/355648\n",
            "222   preposition-subject            on  0.163043  experiments/418903\n",
            "223    preposition-object            on  0.000000  experiments/418903\n",
            "224   preposition-subject            of  0.000000  experiments/144798\n",
            "225    preposition-object            of  0.308911  experiments/144798\n",
            "226   preposition-subject            in  0.000000  experiments/250798\n",
            "227    preposition-object            in  0.000000  experiments/250798\n",
            "228      preposition-verb            in  0.000000  experiments/250798\n",
            "229   preposition-subject            on  0.000000  experiments/787064\n",
            "230    preposition-object            on  0.000000  experiments/787064\n",
            "231      preposition-verb            on  0.000000  experiments/787064\n",
            "232   preposition-subject            on  0.000000  experiments/565510\n",
            "233    preposition-object            on  0.000000  experiments/565510\n",
            "234      preposition-verb            on  0.000000  experiments/565510\n",
            "235   preposition-subject            at  0.000000  experiments/738861\n",
            "236    preposition-object            at  0.000000  experiments/738861\n",
            "237      preposition-verb            at  0.000000  experiments/738861\n",
            "238   preposition-subject            on  0.000000  experiments/434364\n",
            "239    preposition-object            on  0.000000  experiments/434364\n",
            "240      preposition-verb            on  0.000000  experiments/434364\n",
            "241   preposition-subject            of  0.000000  experiments/153969\n",
            "242    preposition-object            of  0.000000  experiments/153969\n",
            "243      preposition-verb            of  0.000000  experiments/153969\n",
            "244   preposition-subject          with  0.000000  experiments/512756\n",
            "245    preposition-object          with  0.000000  experiments/512756\n",
            "246      preposition-verb          with  0.000000  experiments/512756\n",
            "247   preposition-subject            to  0.000000   experiments/79919\n",
            "248    preposition-object            to  0.000000   experiments/79919\n",
            "249      preposition-verb            to  0.000000   experiments/79919\n",
            "250   preposition-subject            on  0.000000  experiments/581672\n",
            "251    preposition-object            on  0.000000  experiments/581672\n",
            "252      preposition-verb            on  0.000000  experiments/581672\n",
            "253   preposition-subject           off  0.000000  experiments/136266\n",
            "254    preposition-object           off  0.000000  experiments/136266\n",
            "255      preposition-verb           off  0.000000  experiments/136266\n",
            "256   preposition-subject  side by side  0.000000  experiments/379035\n",
            "257      preposition-verb  side by side  0.000000  experiments/379035\n",
            "258   preposition-subject            on  0.000000  experiments/669848\n",
            "259    preposition-object            on  0.000000  experiments/669848\n",
            "260      preposition-verb            on  0.000000  experiments/669848\n",
            "261   preposition-subject            on  0.701935  experiments/736865\n",
            "262    preposition-object            on  0.089522  experiments/736865\n",
            "263      preposition-verb            on  0.026235  experiments/736865\n",
            "264   preposition-subject          with  0.095890   experiments/19458\n",
            "265    preposition-object          with  0.047244   experiments/19458\n",
            "266   preposition-subject          with  0.753417  experiments/189276\n",
            "267    preposition-object          with  0.696907  experiments/189276\n",
            "268      preposition-verb          with  0.000000  experiments/189276\n",
            "269   preposition-subject          with  0.182129  experiments/476292\n",
            "270    preposition-object          with  0.203422  experiments/476292\n",
            "271   preposition-subject            of  0.011102  experiments/327981\n",
            "272    preposition-object            of  0.005518  experiments/327981\n",
            "273   preposition-subject            in  0.000000  experiments/216000\n",
            "274    preposition-object            in  0.000000  experiments/216000\n",
            "275      preposition-verb            in  0.000000  experiments/216000\n",
            "276   preposition-subject         up at  0.000000  experiments/576963\n",
            "277    preposition-object         up at  0.000000  experiments/576963\n",
            "278      preposition-verb         up at  0.000000  experiments/576963\n",
            "279   preposition-subject        around  0.428955  experiments/222385\n",
            "280    preposition-object        around  0.059666  experiments/222385\n",
            "281      preposition-verb        around  0.024474  experiments/222385\n",
            "282   preposition-subject            of  0.000000  experiments/516324\n",
            "283    preposition-object            of  0.000000  experiments/516324\n",
            "284      preposition-verb            of  0.000000  experiments/516324\n",
            "285   preposition-subject            of  0.000000   experiments/19526\n",
            "286    preposition-object            of  0.000000   experiments/19526\n",
            "287   preposition-subject            in  0.047653  experiments/108154\n",
            "288    preposition-object            in  0.000000  experiments/108154\n",
            "289   preposition-subject            on  0.000000  experiments/519398\n",
            "290    preposition-object            on  0.000000  experiments/519398\n",
            "291      preposition-verb            on  0.000000  experiments/519398\n",
            "292   preposition-subject       next to  0.000000  experiments/249316\n",
            "293    preposition-object       next to  0.000000  experiments/249316\n",
            "294      preposition-verb       next to  0.000000  experiments/249316\n",
            "295   preposition-subject            on  0.000285  experiments/382719\n",
            "296    preposition-object            on  0.001464  experiments/382719\n",
            "297   preposition-subject            at  0.000000   experiments/94669\n",
            "298    preposition-object            at  0.000000   experiments/94669\n",
            "299      preposition-verb            at  0.000000   experiments/94669\n",
            "300   preposition-subject            of  0.000000  experiments/443022\n",
            "301    preposition-object            of  0.000000  experiments/443022\n",
            "302      preposition-verb            of  0.000000  experiments/443022\n",
            "303   preposition-subject          like  0.000000    experiments/6942\n",
            "304      preposition-verb          like  0.000000    experiments/6942\n",
            "305   preposition-subject            on  0.000732   experiments/64503\n",
            "306    preposition-object            on  0.001067   experiments/64503\n",
            "307      preposition-verb            on  0.000000   experiments/64503\n",
            "308   preposition-subject            on  0.000000  experiments/374563\n",
            "309    preposition-object            on  0.000000  experiments/374563\n",
            "310      preposition-verb            on  0.000000  experiments/374563\n",
            "311   preposition-subject       next to  0.003030  experiments/104585\n",
            "312    preposition-object       next to  0.000000  experiments/104585\n",
            "313      preposition-verb       next to  0.000000  experiments/104585\n",
            "314   preposition-subject            on  0.000000  experiments/400153\n",
            "315    preposition-object            on  0.000000  experiments/400153\n",
            "316      preposition-verb            on  0.000000  experiments/400153\n",
            "317   preposition-subject       through  0.046115   experiments/89181\n",
            "318    preposition-object       through  0.058673   experiments/89181\n",
            "319      preposition-verb       through  0.407407   experiments/89181\n",
            "320   preposition-subject            in  0.126050  experiments/406005\n",
            "321    preposition-object            in  0.000000  experiments/406005\n",
            "322   preposition-subject            on  0.000000  experiments/474914\n",
            "323    preposition-object            on  0.000000  experiments/474914\n",
            "324      preposition-verb            on  0.000000  experiments/474914\n",
            "325   preposition-subject            of  0.000489  experiments/445648\n",
            "326    preposition-object            of  0.000000  experiments/445648\n",
            "327      preposition-verb            of  0.000000  experiments/445648\n",
            "328   preposition-subject            of  0.050633  experiments/539421\n",
            "329    preposition-object            of  0.000000  experiments/539421\n",
            "330   preposition-subject          with  0.000000  experiments/532615\n",
            "331    preposition-object          with  0.000000  experiments/532615\n",
            "332   preposition-subject            in  0.000000  experiments/234200\n",
            "333    preposition-object            in  0.000000  experiments/234200\n",
            "334   preposition-subject          near  0.009429  experiments/683896\n",
            "335    preposition-object          near  0.000000  experiments/683896\n",
            "336      preposition-verb          near  0.100000  experiments/683896\n",
            "337   preposition-subject           off  0.000000  experiments/767578\n",
            "338    preposition-object           off  0.000000  experiments/767578\n",
            "339      preposition-verb           off  0.000000  experiments/767578\n",
            "340   preposition-subject            on  0.000000  experiments/556566\n",
            "341    preposition-object            on  0.000000  experiments/556566\n",
            "342      preposition-verb            on  0.000000  experiments/556566\n",
            "343   preposition-subject          with  0.024026  experiments/288306\n",
            "344    preposition-object          with  0.030023  experiments/288306\n",
            "345      preposition-verb          with  0.000000  experiments/288306\n",
            "346   preposition-subject            on  0.000000  experiments/516848\n",
            "347    preposition-object            on  0.000000  experiments/516848\n",
            "348      preposition-verb            on  0.000000  experiments/516848\n",
            "349   preposition-subject       next to  0.000000  experiments/766974\n",
            "350    preposition-object       next to  0.000000  experiments/766974\n",
            "351      preposition-verb       next to  0.000000  experiments/766974\n",
            "352   preposition-subject          with  0.038339  experiments/557521\n",
            "353    preposition-object          with  0.088198  experiments/557521\n",
            "354   preposition-subject          with  0.167480  experiments/120292\n",
            "355    preposition-object          with  0.002275  experiments/120292\n",
            "356      preposition-verb          with  0.000000  experiments/120292\n",
            "357   preposition-subject            at  0.000000  experiments/437511\n",
            "358    preposition-object            at  0.000000  experiments/437511\n",
            "359      preposition-verb            at  0.000000  experiments/437511\n",
            "360   preposition-subject            of  0.000000  experiments/728865\n",
            "361    preposition-object            of  0.000000  experiments/728865\n",
            "362      preposition-verb            of  0.000000  experiments/728865\n",
            "363   preposition-subject           for  0.000000  experiments/222017\n",
            "364    preposition-object           for  0.000000  experiments/222017\n",
            "365      preposition-verb           for  0.000000  experiments/222017\n",
            "366   preposition-subject            of  0.000000   experiments/28629\n",
            "367    preposition-object            of  0.000000   experiments/28629\n",
            "368      preposition-verb            of  0.000000   experiments/28629\n",
            "369   preposition-subject            on  0.069074  experiments/627885\n",
            "370    preposition-object            on  0.005774  experiments/627885\n",
            "371      preposition-verb            on  0.000000  experiments/627885\n",
            "372   preposition-subject       next to  0.000000  experiments/103400\n",
            "373    preposition-object       next to  0.000000  experiments/103400\n",
            "374      preposition-verb       next to  0.000000  experiments/103400\n",
            "375   preposition-subject          with  0.000000  experiments/428289\n",
            "376    preposition-object          with  0.000000  experiments/428289\n",
            "377   preposition-subject       wearing  0.152231  experiments/622459\n",
            "378    preposition-object       wearing  0.030574  experiments/622459\n",
            "379   preposition-subject            in  0.000000  experiments/379917\n",
            "380    preposition-object            in  0.000000  experiments/379917\n",
            "381      preposition-verb            in  0.000000  experiments/379917\n",
            "382   preposition-subject            on  0.000000  experiments/256138\n",
            "383    preposition-object            on  0.000000  experiments/256138\n",
            "384   preposition-subject            of  0.023316  experiments/186764\n",
            "385    preposition-object            of  0.000000  experiments/186764\n",
            "386      preposition-verb            of  0.052288  experiments/186764\n",
            "387   preposition-subject            at  0.000000  experiments/823538\n",
            "388    preposition-object            at  0.000000  experiments/823538\n",
            "389      preposition-verb            at  0.000000  experiments/823538\n",
            "390   preposition-subject       holding  0.027523   experiments/42201\n",
            "391    preposition-object       holding  0.112240   experiments/42201\n",
            "392   preposition-subject            of  0.000000  experiments/355611\n",
            "393    preposition-object            of  0.000000  experiments/355611\n",
            "394      preposition-verb            of  0.000000  experiments/355611\n",
            "395   preposition-subject            by  0.051919  experiments/365178\n",
            "396    preposition-object            by  0.000000  experiments/365178\n",
            "397      preposition-verb            by  0.085106  experiments/365178\n",
            "398   preposition-subject            in  0.001400  experiments/720190\n",
            "399    preposition-object            in  0.249290  experiments/720190\n",
            "400      preposition-verb            in  0.030791  experiments/720190\n",
            "401   preposition-subject   in front of  0.000000  experiments/583529\n",
            "402    preposition-object   in front of  0.000000  experiments/583529\n",
            "403      preposition-verb   in front of  0.000000  experiments/583529\n",
            "404   preposition-subject            of  0.198976  experiments/782299\n",
            "405    preposition-object            of  0.152798  experiments/782299\n",
            "406      preposition-verb            of  0.000000  experiments/782299\n",
            "407   preposition-subject            in  0.582659  experiments/267879\n",
            "408    preposition-object            in  0.000000  experiments/267879\n",
            "409      preposition-verb            in  0.000000  experiments/267879\n",
            "410   preposition-subject            at  0.187148  experiments/313606\n",
            "411    preposition-object            at  0.130682  experiments/313606\n",
            "412      preposition-verb            at  0.293152  experiments/313606\n",
            "413   preposition-subject          with  0.002441  experiments/736388\n",
            "414    preposition-object          with  0.000571  experiments/736388\n",
            "415   preposition-subject            in  0.000000  experiments/410320\n",
            "416    preposition-object            in  0.000000  experiments/410320\n",
            "417   preposition-subject          down  0.092557  experiments/609863\n",
            "418    preposition-object          down  0.000000  experiments/609863\n",
            "419      preposition-verb          down  0.000000  experiments/609863\n",
            "420   preposition-subject            at  0.519670  experiments/305481\n",
            "421    preposition-object            at  0.232300  experiments/305481\n",
            "422      preposition-verb            at  0.000000  experiments/305481\n",
            "423   preposition-subject          near  0.096484  experiments/547444\n",
            "424    preposition-object          near  0.040616  experiments/547444\n",
            "425      preposition-verb          near  0.000000  experiments/547444\n",
            "426   preposition-subject          down  0.000000  experiments/608156\n",
            "427    preposition-object          down  0.000000  experiments/608156\n",
            "428      preposition-verb          down  0.000000  experiments/608156\n",
            "429   preposition-subject            on  0.001224   experiments/91825\n",
            "430    preposition-object            on  0.004598   experiments/91825\n",
            "431      preposition-verb            on  0.026042   experiments/91825\n",
            "432   preposition-subject          with  0.101208  experiments/173905\n",
            "433    preposition-object          with  0.476010  experiments/173905\n",
            "434      preposition-verb          with  0.000000  experiments/173905\n",
            "435   preposition-subject            on  0.538544  experiments/642925\n",
            "436    preposition-object            on  0.174050  experiments/642925\n",
            "437      preposition-verb            on  0.000000  experiments/642925\n",
            "438   preposition-subject            ON  0.000000  experiments/124648\n",
            "439    preposition-object            ON  0.000000  experiments/124648\n",
            "440      preposition-verb            ON  0.000000  experiments/124648\n",
            "441   preposition-subject          with  0.000000  experiments/453451\n",
            "442    preposition-object          with  0.000000  experiments/453451\n",
            "443   preposition-subject            in  0.000000  experiments/657647\n",
            "444    preposition-object            in  0.000000  experiments/657647\n",
            "445      preposition-verb            in  0.000000  experiments/657647\n",
            "446   preposition-subject         while  0.009058  experiments/132631\n",
            "447      preposition-verb         while  0.000000  experiments/132631\n",
            "448   preposition-subject            on  0.000000   experiments/19289\n",
            "449    preposition-object            on  0.000000   experiments/19289\n",
            "450      preposition-verb            on  0.000000   experiments/19289\n",
            "451   preposition-subject          with  0.159457   experiments/85356\n",
            "452    preposition-object          with  0.209825   experiments/85356\n",
            "453   preposition-subject          with  0.897016  experiments/294186\n",
            "454    preposition-object          with  0.001909  experiments/294186\n",
            "455   preposition-subject        behind  0.000000  experiments/230342\n",
            "456    preposition-object        behind  0.000000  experiments/230342\n",
            "457   preposition-subject            on  0.000000  experiments/113644\n",
            "458    preposition-object            on  0.000000  experiments/113644\n",
            "459      preposition-verb            on  0.000000  experiments/113644\n",
            "460   preposition-subject            in  0.000000  experiments/316402\n",
            "461    preposition-object            in  0.000000  experiments/316402\n",
            "462      preposition-verb            in  0.000000  experiments/316402\n",
            "463   preposition-subject            on  0.000000  experiments/205924\n",
            "464    preposition-object            on  0.000000  experiments/205924\n",
            "465      preposition-verb            on  0.000000  experiments/205924\n",
            "466   preposition-subject     on top of  0.000000  experiments/466752\n",
            "467    preposition-object     on top of  0.000000  experiments/466752\n",
            "468      preposition-verb     on top of  0.000000  experiments/466752\n",
            "469   preposition-subject            of  0.000000  experiments/115515\n",
            "470    preposition-object            of  0.147109  experiments/115515\n",
            "471   preposition-subject          with  0.730321  experiments/528472\n",
            "472    preposition-object          with  0.027615  experiments/528472\n",
            "473   preposition-subject            of  0.000000  experiments/596147\n",
            "474    preposition-object            of  0.000000  experiments/596147\n",
            "475   preposition-subject            of  0.000000  experiments/726087\n",
            "476    preposition-object            of  0.000000  experiments/726087\n",
            "477   preposition-subject            in  0.238095  experiments/662248\n",
            "478    preposition-object            in  0.008333  experiments/662248\n",
            "479      preposition-verb            in  0.030864  experiments/662248\n",
            "480   preposition-subject            on  0.000000   experiments/96730\n",
            "481    preposition-object            on  0.000000   experiments/96730\n",
            "482      preposition-verb            on  0.000000   experiments/96730\n",
            "483   preposition-subject         along  0.009804  experiments/372266\n",
            "484    preposition-object         along  0.000000  experiments/372266\n",
            "485      preposition-verb         along  0.039604  experiments/372266\n",
            "486   preposition-subject            on  0.000000   experiments/85517\n",
            "487    preposition-object            on  0.000000   experiments/85517\n",
            "488      preposition-verb            on  0.000000   experiments/85517\n",
            "489   preposition-subject            in  0.000000  experiments/629737\n",
            "490    preposition-object            in  0.000000  experiments/629737\n",
            "491      preposition-verb            in  0.756775  experiments/629737\n",
            "492   preposition-subject          with  0.000000  experiments/551900\n",
            "493    preposition-object          with  0.000000  experiments/551900\n",
            "494      preposition-verb          with  0.000000  experiments/551900\n",
            "495   preposition-subject            of  0.000000  experiments/502560\n",
            "496    preposition-object            of  0.000000  experiments/502560\n",
            "497      preposition-verb            of  0.000000  experiments/502560\n",
            "498   preposition-subject            in  0.000000  experiments/636144\n",
            "499    preposition-object            in  0.000000  experiments/636144\n",
            "500      preposition-verb            in  0.000000  experiments/636144\n",
            "501   preposition-subject         above  0.130811  experiments/128595\n",
            "502    preposition-object         above  0.000000  experiments/128595\n",
            "503      preposition-verb         above  0.649383  experiments/128595\n",
            "504   preposition-subject       next to  0.000000  experiments/545440\n",
            "505    preposition-object       next to  0.000000  experiments/545440\n",
            "506      preposition-verb       next to  0.000000  experiments/545440\n",
            "507   preposition-subject            in  0.000000  experiments/381347\n",
            "508    preposition-object            in  0.000000  experiments/381347\n",
            "509      preposition-verb            in  0.000000  experiments/381347\n",
            "510   preposition-subject        during  0.024457  experiments/112506\n",
            "511    preposition-object        during  0.308208  experiments/112506\n",
            "512      preposition-verb        during  0.395664  experiments/112506\n",
            "513   preposition-subject            on  0.000000  experiments/678081\n",
            "514    preposition-object            on  0.000000  experiments/678081\n",
            "515      preposition-verb            on  0.000000  experiments/678081\n",
            "516   preposition-subject            in  0.000000  experiments/230147\n",
            "517    preposition-object            in  0.000000  experiments/230147\n",
            "518      preposition-verb            in  0.000000  experiments/230147\n",
            "519   preposition-subject            on  0.041167  experiments/641344\n",
            "520    preposition-object            on  0.000377  experiments/641344\n",
            "521      preposition-verb            on  0.000000  experiments/641344\n",
            "522   preposition-subject          with  0.026005  experiments/227167\n",
            "523    preposition-object          with  0.000000  experiments/227167\n",
            "524   preposition-subject            on  0.000000  experiments/416046\n",
            "525    preposition-object            on  0.000000  experiments/416046\n",
            "526      preposition-verb            on  0.000000  experiments/416046\n",
            "527   preposition-subject            in  0.086039   experiments/47166\n",
            "528    preposition-object            in  0.000000   experiments/47166\n",
            "529   preposition-subject            in  0.000000  experiments/807277\n",
            "530    preposition-object            in  0.000000  experiments/807277\n",
            "531   preposition-subject            of  0.000000  experiments/382961\n",
            "532    preposition-object            of  0.181818  experiments/382961\n",
            "533   preposition-subject          down  0.000000  experiments/410741\n",
            "534    preposition-object          down  0.000000  experiments/410741\n",
            "535      preposition-verb          down  0.000000  experiments/410741\n",
            "536   preposition-subject        inside  0.043919  experiments/588235\n",
            "537    preposition-object        inside  0.008327  experiments/588235\n",
            "538      preposition-verb        inside  0.000000  experiments/588235\n",
            "539   preposition-subject          near  0.000000  experiments/397604\n",
            "540    preposition-object          near  0.000000  experiments/397604\n",
            "541      preposition-verb          near  0.000000  experiments/397604\n",
            "542   preposition-subject         under  0.667394  experiments/429854\n",
            "543    preposition-object         under  0.158372  experiments/429854\n",
            "544      preposition-verb         under  0.227079  experiments/429854\n",
            "545   preposition-subject            on  0.000000  experiments/329244\n",
            "546    preposition-object            on  0.000000  experiments/329244\n",
            "547      preposition-verb            on  0.000000  experiments/329244\n",
            "548   preposition-subject          with  0.000000   experiments/90076\n",
            "549    preposition-object          with  0.000000   experiments/90076\n",
            "550      preposition-verb          with  0.000000   experiments/90076\n",
            "551   preposition-subject            of  0.000000   experiments/28935\n",
            "552    preposition-object            of  0.000000   experiments/28935\n",
            "553      preposition-verb            of  0.000000   experiments/28935\n",
            "554   preposition-subject            at  0.000000   experiments/95365\n",
            "555    preposition-object            at  0.000000   experiments/95365\n",
            "556      preposition-verb            at  0.000000   experiments/95365\n",
            "557   preposition-subject          from  0.000000  experiments/342758\n",
            "558    preposition-object          from  0.000000  experiments/342758\n",
            "559   preposition-subject          with  0.000978   experiments/28968\n",
            "560    preposition-object          with  0.001493   experiments/28968\n",
            "561   preposition-subject            on  0.000000   experiments/16116\n",
            "562    preposition-object            on  0.000000   experiments/16116\n",
            "563   preposition-subject            of  0.000000  experiments/117489\n",
            "564    preposition-object            of  0.000000  experiments/117489\n",
            "565      preposition-verb            of  0.000000  experiments/117489\n",
            "566   preposition-subject   in front of  0.000000   experiments/89252\n",
            "567    preposition-object   in front of  0.000000   experiments/89252\n",
            "568      preposition-verb   in front of  0.000000   experiments/89252\n",
            "569   preposition-subject            of  0.000000  experiments/124198\n",
            "570    preposition-object            of  0.000000  experiments/124198\n",
            "571      preposition-verb            of  0.000000  experiments/124198\n",
            "572   preposition-subject            on  0.217959   experiments/35501\n",
            "573    preposition-object            on  0.171291   experiments/35501\n",
            "574      preposition-verb            on  0.000000   experiments/35501\n",
            "575   preposition-subject       next to  0.000000  experiments/202154\n",
            "576    preposition-object       next to  0.000000  experiments/202154\n",
            "577      preposition-verb       next to  0.000000  experiments/202154\n",
            "578   preposition-subject            in  0.000000  experiments/788761\n",
            "579    preposition-object            in  0.000000  experiments/788761\n",
            "580      preposition-verb            in  0.000000  experiments/788761\n",
            "581   preposition-subject            at  0.000000  experiments/683741\n",
            "582    preposition-object            at  0.000000  experiments/683741\n",
            "583      preposition-verb            at  0.000000  experiments/683741\n",
            "584   preposition-subject            of  0.071429  experiments/405306\n",
            "585    preposition-object            of  0.044828  experiments/405306\n",
            "586      preposition-verb            of  0.000000  experiments/405306\n",
            "587   preposition-subject            on  0.636179   experiments/49858\n",
            "588    preposition-object            on  0.030609   experiments/49858\n",
            "589      preposition-verb            on  0.000000   experiments/49858\n",
            "590   preposition-subject          down  0.024613  experiments/444841\n",
            "591    preposition-object          down  0.000000  experiments/444841\n",
            "592      preposition-verb          down  0.000000  experiments/444841\n",
            "593   preposition-subject            on  0.000000  experiments/778772\n",
            "594    preposition-object            on  0.000000  experiments/778772\n",
            "595      preposition-verb            on  0.000000  experiments/778772\n",
            "596   preposition-subject            of  0.000000  experiments/116285\n",
            "597    preposition-object            of  0.000000  experiments/116285\n",
            "598   preposition-subject            on  0.000000  experiments/100955\n",
            "599    preposition-object            on  0.000000  experiments/100955\n",
            "600      preposition-verb            on  0.000000  experiments/100955\n",
            "601   preposition-subject          with  0.829611  experiments/417938\n",
            "602    preposition-object          with  0.618905  experiments/417938\n",
            "603      preposition-verb          with  0.000000  experiments/417938\n",
            "604   preposition-subject     on top of  0.000000  experiments/288399\n",
            "605    preposition-object     on top of  0.000000  experiments/288399\n",
            "606      preposition-verb     on top of  0.000000  experiments/288399\n",
            "607   preposition-subject            of  0.000000  experiments/372339\n",
            "608    preposition-object            of  0.000000  experiments/372339\n",
            "609      preposition-verb            of  0.000000  experiments/372339\n",
            "610   preposition-subject            on  0.000000  experiments/178720\n",
            "611    preposition-object            on  0.000000  experiments/178720\n",
            "612      preposition-verb            on  0.000000  experiments/178720\n",
            "613   preposition-subject            at  0.000000  experiments/558725\n",
            "614    preposition-object            at  0.000000  experiments/558725\n",
            "615      preposition-verb            at  0.000000  experiments/558725\n",
            "616   preposition-subject            of  0.000000  experiments/477038\n",
            "617    preposition-object            of  0.000000  experiments/477038\n",
            "618      preposition-verb            of  0.000000  experiments/477038\n",
            "619   preposition-subject         up of  0.000000  experiments/120872\n",
            "620    preposition-object         up of  0.000000  experiments/120872\n",
            "621   preposition-subject         along  0.000000  experiments/509219\n",
            "622    preposition-object         along  0.000000  experiments/509219\n",
            "623      preposition-verb         along  0.000000  experiments/509219\n",
            "624   preposition-subject            on  0.000000   experiments/29791\n",
            "625    preposition-object            on  0.000000   experiments/29791\n",
            "626      preposition-verb            on  0.000000   experiments/29791\n",
            "627   preposition-subject            on  0.000000  experiments/265185\n",
            "628    preposition-object            on  0.000000  experiments/265185\n",
            "629      preposition-verb            on  0.000000  experiments/265185\n",
            "630   preposition-subject            of  0.000000  experiments/337623\n",
            "631    preposition-object            of  0.000000  experiments/337623\n",
            "632      preposition-verb            of  0.000000  experiments/337623\n",
            "633   preposition-subject     on top of  0.000000  experiments/394398\n",
            "634    preposition-object     on top of  0.000000  experiments/394398\n",
            "635   preposition-subject            to  0.000000  experiments/665817\n",
            "636    preposition-object            to  0.000000  experiments/665817\n",
            "637      preposition-verb            to  0.000000  experiments/665817\n",
            "638   preposition-subject            on  0.000000  experiments/777486\n",
            "639    preposition-object            on  0.000000  experiments/777486\n",
            "640      preposition-verb            on  0.000000  experiments/777486\n",
            "641   preposition-subject      close to  0.000000  experiments/239012\n",
            "642    preposition-object      close to  0.000000  experiments/239012\n",
            "643      preposition-verb      close to  0.000000  experiments/239012\n",
            "644   preposition-subject         along  0.000250  experiments/585034\n",
            "645    preposition-object         along  0.000000  experiments/585034\n",
            "646      preposition-verb         along  0.003690  experiments/585034\n",
            "647   preposition-subject            at  0.000000  experiments/693738\n",
            "648    preposition-object            at  0.000000  experiments/693738\n",
            "649      preposition-verb            at  0.000000  experiments/693738\n",
            "650   preposition-subject            in  0.001465  experiments/749538\n",
            "651    preposition-object            in  0.000955  experiments/749538\n",
            "652      preposition-verb            in  0.000000  experiments/749538\n",
            "653   preposition-subject          with  0.002391  experiments/309101\n",
            "654    preposition-object          with  0.016563  experiments/309101\n",
            "655      preposition-verb          with  0.000000  experiments/309101\n",
            "656   preposition-subject          with  0.075890   experiments/56421\n",
            "657    preposition-object          with  0.000000   experiments/56421\n",
            "658      preposition-verb          with  0.000000   experiments/56421\n",
            "659   preposition-subject            in  0.000000   experiments/45540\n",
            "660    preposition-object            in  0.000000   experiments/45540\n",
            "661      preposition-verb            in  0.000000   experiments/45540\n",
            "662   preposition-subject        within  0.000000   experiments/42590\n",
            "663    preposition-object        within  0.000000   experiments/42590\n",
            "664      preposition-verb        within  0.000000   experiments/42590\n",
            "665   preposition-subject            on  0.000000  experiments/284639\n",
            "666    preposition-object            on  0.000000  experiments/284639\n",
            "667      preposition-verb            on  0.000000  experiments/284639\n",
            "668   preposition-subject            of  0.000000  experiments/741043\n",
            "669    preposition-object            of  0.000000  experiments/741043\n",
            "670   preposition-subject            on  0.000000  experiments/625601\n",
            "671    preposition-object            on  0.000000  experiments/625601\n",
            "672      preposition-verb            on  0.000000  experiments/625601\n",
            "673   preposition-subject            on  0.014806  experiments/437962\n",
            "674    preposition-object            on  0.000000  experiments/437962\n",
            "675   preposition-subject          with  0.707013  experiments/415940\n",
            "676    preposition-object          with  0.722619  experiments/415940\n",
            "677      preposition-verb          with  0.000000  experiments/415940\n",
            "678   preposition-subject            in  0.000516  experiments/276146\n",
            "679    preposition-object            in  0.000000  experiments/276146\n",
            "680      preposition-verb            in  0.000000  experiments/276146\n",
            "681   preposition-subject          down  0.170141  experiments/713999\n",
            "682    preposition-object          down  0.017595  experiments/713999\n",
            "683      preposition-verb          down  0.000000  experiments/713999\n",
            "684   preposition-subject          over  0.013825  experiments/398202\n",
            "685    preposition-object          over  0.000000  experiments/398202\n",
            "686      preposition-verb          over  0.000000  experiments/398202\n",
            "687   preposition-subject            in  0.000000  experiments/695469\n",
            "688    preposition-object            in  0.000000  experiments/695469\n",
            "689      preposition-verb            in  0.000000  experiments/695469\n",
            "690   preposition-subject            in  0.269618   experiments/18752\n",
            "691    preposition-object            in  0.000000   experiments/18752\n",
            "692   preposition-subject            in  0.000000  experiments/748284\n",
            "693    preposition-object            in  0.000000  experiments/748284\n",
            "694   preposition-subject            on  0.000000  experiments/317596\n",
            "695    preposition-object            on  0.000000  experiments/317596\n",
            "696   preposition-subject            in  0.000000  experiments/292316\n",
            "697    preposition-object            in  0.000000  experiments/292316\n",
            "698   preposition-subject            by  0.006316  experiments/279284\n",
            "699    preposition-object            by  0.181818  experiments/279284\n",
            "700      preposition-verb            by  0.005563  experiments/279284\n",
            "701   preposition-subject            on  0.000000  experiments/634909\n",
            "702    preposition-object            on  0.000000  experiments/634909\n",
            "703      preposition-verb            on  0.000000  experiments/634909\n",
            "704   preposition-subject            on  0.127750  experiments/365451\n",
            "705    preposition-object            on  0.000000  experiments/365451\n",
            "706   preposition-subject          with  0.107790  experiments/298387\n",
            "707    preposition-object          with  0.875977  experiments/298387\n",
            "708   preposition-subject            on  0.025710  experiments/803576\n",
            "709    preposition-object            on  0.000000  experiments/803576\n",
            "710      preposition-verb            on  0.057292  experiments/803576\n",
            "711   preposition-subject            in  0.000000  experiments/352767\n",
            "712    preposition-object            in  0.000000  experiments/352767\n",
            "713   preposition-subject       next to  0.000000   experiments/88998\n",
            "714    preposition-object       next to  0.000000   experiments/88998\n",
            "715      preposition-verb       next to  0.000000   experiments/88998\n",
            "716   preposition-subject          with  0.013184  experiments/140717\n",
            "717    preposition-object          with  0.061008  experiments/140717\n",
            "718   preposition-subject          with  0.054054   experiments/13501\n",
            "719    preposition-object          with  0.015469   experiments/13501\n",
            "720   preposition-subject          with  0.000000  experiments/682370\n",
            "721    preposition-object          with  0.000000  experiments/682370\n",
            "722   preposition-subject          down  0.024467   experiments/51030\n",
            "723    preposition-object          down  0.010192   experiments/51030\n",
            "724      preposition-verb          down  0.000000   experiments/51030\n",
            "725   preposition-subject     on top of  0.000000  experiments/731486\n",
            "726    preposition-object     on top of  0.000000  experiments/731486\n",
            "727      preposition-verb     on top of  0.000000  experiments/731486\n",
            "728   preposition-subject            on  0.078296  experiments/634677\n",
            "729    preposition-object            on  0.072004  experiments/634677\n",
            "730      preposition-verb            on  0.000000  experiments/634677\n",
            "731   preposition-subject            to  0.001475  experiments/432253\n",
            "732    preposition-object            to  0.001476  experiments/432253\n",
            "733      preposition-verb            to  0.000000  experiments/432253\n",
            "734   preposition-subject            in  0.000000   experiments/85466\n",
            "735    preposition-object            in  0.000000   experiments/85466\n",
            "736      preposition-verb            in  0.000000   experiments/85466\n",
            "737   preposition-subject            on  0.000000  experiments/325695\n",
            "738    preposition-object            on  0.000000  experiments/325695\n",
            "739      preposition-verb            on  0.000000  experiments/325695\n",
            "740   preposition-subject            to  0.311189  experiments/305658\n",
            "741    preposition-object            to  0.000000  experiments/305658\n",
            "742      preposition-verb            to  0.000000  experiments/305658\n",
            "743   preposition-subject          onto  0.411447  experiments/752894\n",
            "744    preposition-object          onto  0.437778  experiments/752894\n",
            "745      preposition-verb          onto  0.000000  experiments/752894\n",
            "746   preposition-subject            in  0.000000  experiments/470426\n",
            "747    preposition-object            in  0.000000  experiments/470426\n",
            "748      preposition-verb            in  0.000000  experiments/470426\n",
            "749   preposition-subject         while  0.000000  experiments/459634\n",
            "750    preposition-object         while  0.000000  experiments/459634\n",
            "751      preposition-verb         while  0.000000  experiments/459634\n",
            "752   preposition-subject          with  0.033859   experiments/67819\n",
            "753    preposition-object          with  0.142254   experiments/67819\n",
            "754      preposition-verb          with  0.775194   experiments/67819\n",
            "755   preposition-subject       next to  0.000000  experiments/162131\n",
            "756    preposition-object       next to  0.000000  experiments/162131\n",
            "757      preposition-verb       next to  0.000000  experiments/162131\n",
            "758   preposition-subject          with  0.298140   experiments/80454\n",
            "759    preposition-object          with  0.010381   experiments/80454\n",
            "760      preposition-verb          with  0.000000   experiments/80454\n",
            "761   preposition-subject       next to  0.029787   experiments/99535\n",
            "762    preposition-object       next to  0.005897   experiments/99535\n",
            "763      preposition-verb       next to  0.000000   experiments/99535\n",
            "764   preposition-subject          with  0.000000  experiments/546939\n",
            "765    preposition-object          with  0.000000  experiments/546939\n",
            "766   preposition-subject          from  0.222350  experiments/541489\n",
            "767    preposition-object          from  0.000000  experiments/541489\n",
            "768      preposition-verb          from  0.000000  experiments/541489\n",
            "769   preposition-subject            at  0.000000  experiments/801498\n",
            "770    preposition-object            at  0.000000  experiments/801498\n",
            "771      preposition-verb            at  0.000000  experiments/801498\n",
            "772   preposition-subject            on  0.000000  experiments/799127\n",
            "773    preposition-object            on  0.000000  experiments/799127\n",
            "774      preposition-verb            on  0.000000  experiments/799127\n",
            "775   preposition-subject            in  0.006865  experiments/403531\n",
            "776    preposition-object            in  0.000000  experiments/403531\n",
            "777   preposition-subject       full of  0.000495  experiments/185421\n",
            "778    preposition-object       full of  0.000512  experiments/185421\n",
            "779      preposition-verb       full of  0.000000  experiments/185421\n",
            "780   preposition-subject            on  0.470718  experiments/192480\n",
            "781    preposition-object            on  0.000000  experiments/192480\n",
            "782   preposition-subject            of  0.044397  experiments/805861\n",
            "783    preposition-object            of  0.000000  experiments/805861\n",
            "784      preposition-verb            of  0.000000  experiments/805861\n",
            "785   preposition-subject            of  0.000000   experiments/10005\n",
            "786    preposition-object            of  0.000000   experiments/10005\n",
            "787   preposition-subject         under  0.000000  experiments/488802\n",
            "788    preposition-object         under  0.000000  experiments/488802\n",
            "789      preposition-verb         under  0.000000  experiments/488802\n",
            "790   preposition-subject       Outside  0.000000  experiments/734572\n",
            "791    preposition-object       Outside  0.267776  experiments/734572\n",
            "792      preposition-verb       Outside  0.000000  experiments/734572\n",
            "793   preposition-subject            of  0.000000  experiments/286374\n",
            "794    preposition-object            of  0.000000  experiments/286374\n",
            "795      preposition-verb            of  0.000000  experiments/286374\n",
            "796   preposition-subject            on  0.072215  experiments/249426\n",
            "797    preposition-object            on  0.000000  experiments/249426\n",
            "798      preposition-verb            on  0.000000  experiments/249426\n",
            "799   preposition-subject          into  0.075472  experiments/108635\n",
            "800    preposition-object          into  0.014205  experiments/108635\n",
            "801      preposition-verb          into  0.018868  experiments/108635\n",
            "802   preposition-subject          with  0.690851  experiments/197951\n",
            "803    preposition-object          with  0.061311  experiments/197951\n",
            "804   preposition-subject          with  0.058349  experiments/161071\n",
            "805    preposition-object          with  0.000000  experiments/161071\n",
            "806      preposition-verb          with  0.000000  experiments/161071\n",
            "807   preposition-subject            on  0.000000  experiments/820227\n",
            "808    preposition-object            on  0.000000  experiments/820227\n",
            "809   preposition-subject            on  0.004817  experiments/395448\n",
            "810    preposition-object            on  0.000000  experiments/395448\n",
            "811      preposition-verb            on  0.000000  experiments/395448\n",
            "812   preposition-subject            of  0.464235  experiments/781957\n",
            "813    preposition-object            of  0.217226  experiments/781957\n",
            "814      preposition-verb            of  0.000000  experiments/781957\n",
            "815   preposition-subject          down  0.083815  experiments/514767\n",
            "816    preposition-object          down  0.000000  experiments/514767\n",
            "817      preposition-verb          down  0.312255  experiments/514767\n",
            "818   preposition-subject            on  0.546135   experiments/64120\n",
            "819    preposition-object            on  0.097197   experiments/64120\n",
            "820      preposition-verb            on  0.010582   experiments/64120\n",
            "821   preposition-subject            in  0.164365   experiments/99243\n",
            "822    preposition-object            in  0.000000   experiments/99243\n",
            "823      preposition-verb            in  0.000000   experiments/99243\n",
            "824   preposition-subject          with  0.523902  experiments/437504\n",
            "825    preposition-object          with  0.059759  experiments/437504\n",
            "826      preposition-verb          with  0.000000  experiments/437504\n",
            "827   preposition-subject       against  0.004205  experiments/750387\n",
            "828    preposition-object       against  0.000000  experiments/750387\n",
            "829      preposition-verb       against  0.000000  experiments/750387\n",
            "830   preposition-subject            of  0.000000  experiments/793665\n",
            "831    preposition-object            of  0.000000  experiments/793665\n",
            "832   preposition-subject            on  0.633442  experiments/390681\n",
            "833    preposition-object            on  0.017040  experiments/390681\n",
            "834      preposition-verb            on  0.065812  experiments/390681\n",
            "835   preposition-subject          down  0.000000  experiments/553339\n",
            "836    preposition-object          down  0.000000  experiments/553339\n",
            "837      preposition-verb          down  0.000000  experiments/553339\n",
            "838   preposition-subject            in  0.000000   experiments/15540\n",
            "839    preposition-object            in  0.000000   experiments/15540\n",
            "840      preposition-verb            in  0.000000   experiments/15540\n",
            "841   preposition-subject          with  0.000000  experiments/225142\n",
            "842    preposition-object          with  0.000000  experiments/225142\n",
            "843      preposition-verb          with  0.000000  experiments/225142\n",
            "844   preposition-subject            on  0.000000  experiments/740758\n",
            "845    preposition-object            on  0.000000  experiments/740758\n",
            "846      preposition-verb            on  0.000000  experiments/740758\n",
            "847   preposition-subject        around  0.297704  experiments/660325\n",
            "848    preposition-object        around  0.000000  experiments/660325\n",
            "849      preposition-verb        around  0.000000  experiments/660325\n",
            "850   preposition-subject            in  0.000000  experiments/582201\n",
            "851    preposition-object            in  0.000000  experiments/582201\n",
            "852      preposition-verb            in  0.000000  experiments/582201\n",
            "853   preposition-subject     on top of  0.000000  experiments/734512\n",
            "854    preposition-object     on top of  0.000000  experiments/734512\n",
            "855      preposition-verb     on top of  0.000000  experiments/734512\n",
            "856   preposition-subject            at  0.000000    experiments/5674\n",
            "857    preposition-object            at  0.000000    experiments/5674\n",
            "858      preposition-verb            at  0.000000    experiments/5674\n",
            "859   preposition-subject            on  0.000000   experiments/80962\n",
            "860    preposition-object            on  0.000000   experiments/80962\n",
            "861   preposition-subject     on top of  0.000000  experiments/649150\n",
            "862    preposition-object     on top of  0.000000  experiments/649150\n",
            "863      preposition-verb     on top of  0.000000  experiments/649150\n",
            "864   preposition-subject          over  0.000000  experiments/184586\n",
            "865    preposition-object          over  0.000000  experiments/184586\n",
            "866      preposition-verb          over  0.000000  experiments/184586\n",
            "867   preposition-subject          with  0.000000  experiments/663372\n",
            "868    preposition-object          with  0.002232  experiments/663372\n",
            "869      preposition-verb          with  0.000000  experiments/663372\n",
            "870   preposition-subject            in  0.383854  experiments/231024\n",
            "871    preposition-object            in  0.000000  experiments/231024\n",
            "872      preposition-verb            in  0.000678  experiments/231024\n",
            "873   preposition-subject        behind  0.516616  experiments/546308\n",
            "874    preposition-object        behind  0.113242  experiments/546308\n",
            "875      preposition-verb        behind  0.257703  experiments/546308\n",
            "876   preposition-subject            in  0.000000  experiments/206616\n",
            "877    preposition-object            in  0.000000  experiments/206616\n",
            "878      preposition-verb            in  0.000000  experiments/206616\n",
            "879   preposition-subject          with  0.003241  experiments/415508\n",
            "880    preposition-object          with  0.003174  experiments/415508\n",
            "881   preposition-subject            of  0.000000  experiments/764204\n",
            "882    preposition-object            of  0.000000  experiments/764204\n",
            "883      preposition-verb            of  0.000000  experiments/764204\n",
            "884   preposition-subject            on  0.000000  experiments/781669\n",
            "885    preposition-object            on  0.015575  experiments/781669\n",
            "886      preposition-verb            on  0.000000  experiments/781669\n",
            "887   preposition-subject            in  0.340081   experiments/82115\n",
            "888    preposition-object            in  0.011905   experiments/82115\n",
            "889      preposition-verb            in  0.336634   experiments/82115\n",
            "890   preposition-subject     on top of  0.000000  experiments/450330\n",
            "891    preposition-object     on top of  0.000000  experiments/450330\n",
            "892      preposition-verb     on top of  0.000000  experiments/450330\n",
            "893   preposition-subject            of  0.153846  experiments/806682\n",
            "894    preposition-object            of  0.076923  experiments/806682\n",
            "895   preposition-subject        inside  0.001983  experiments/815639\n",
            "896    preposition-object        inside  0.005900  experiments/815639\n",
            "897      preposition-verb        inside  0.085106  experiments/815639\n",
            "898   preposition-subject            in  0.000000   experiments/60919\n",
            "899    preposition-object            in  0.000000   experiments/60919\n",
            "900      preposition-verb            in  0.000000   experiments/60919\n",
            "901   preposition-subject          onto  0.000000   experiments/83431\n",
            "902    preposition-object          onto  0.000000   experiments/83431\n",
            "903      preposition-verb          onto  0.000000   experiments/83431\n",
            "904   preposition-subject            in  0.000000  experiments/618295\n",
            "905    preposition-object            in  0.000000  experiments/618295\n",
            "906      preposition-verb            in  0.000000  experiments/618295\n",
            "907   preposition-subject            at  0.000000  experiments/615829\n",
            "908    preposition-object            at  0.000000  experiments/615829\n",
            "909      preposition-verb            at  0.000000  experiments/615829\n",
            "910   preposition-subject            of  0.000000  experiments/130665\n",
            "911    preposition-object            of  0.000000  experiments/130665\n",
            "912   preposition-subject            in  0.000000  experiments/692974\n",
            "913    preposition-object            in  0.000000  experiments/692974\n",
            "914      preposition-verb            in  0.000000  experiments/692974\n",
            "915   preposition-subject          with  0.593886  experiments/281190\n",
            "916    preposition-object          with  0.110024  experiments/281190\n",
            "917      preposition-verb          with  0.594121  experiments/281190\n",
            "918   preposition-subject          with  0.581367  experiments/608249\n",
            "919    preposition-object          with  0.282895  experiments/608249\n",
            "920      preposition-verb          with  0.000000  experiments/608249\n",
            "921   preposition-subject       next to  0.000000   experiments/19206\n",
            "922    preposition-object       next to  0.000000   experiments/19206\n",
            "923      preposition-verb       next to  0.000000   experiments/19206\n",
            "924   preposition-subject       through  0.138026  experiments/496655\n",
            "925    preposition-object       through  0.000000  experiments/496655\n",
            "926      preposition-verb       through  0.536585  experiments/496655\n",
            "927   preposition-subject     on top of  0.000000  experiments/545480\n",
            "928    preposition-object     on top of  0.000000  experiments/545480\n",
            "929      preposition-verb     on top of  0.000000  experiments/545480\n",
            "930   preposition-subject            on  0.297530  experiments/727177\n",
            "931    preposition-object            on  0.002137  experiments/727177\n",
            "932      preposition-verb            on  0.084324  experiments/727177\n",
            "933   preposition-subject          into  0.076693  experiments/803862\n",
            "934    preposition-object          into  0.016234  experiments/803862\n",
            "935      preposition-verb          into  0.319171  experiments/803862\n",
            "936   preposition-subject          with  0.000000  experiments/537310\n",
            "937    preposition-object          with  0.000000  experiments/537310\n",
            "938      preposition-verb          with  0.000000  experiments/537310\n",
            "939   preposition-subject            on  0.598447   experiments/24613\n",
            "940    preposition-object            on  0.030717   experiments/24613\n",
            "941      preposition-verb            on  0.000000   experiments/24613\n",
            "942   preposition-subject            on  0.000000  experiments/439617\n",
            "943    preposition-object            on  0.000000  experiments/439617\n",
            "944      preposition-verb            on  0.000000  experiments/439617\n",
            "945   preposition-subject            on  0.000000  experiments/689812\n",
            "946    preposition-object            on  0.000000  experiments/689812\n",
            "947      preposition-verb            on  0.000000  experiments/689812\n",
            "948   preposition-subject         under  0.064655  experiments/365403\n",
            "949    preposition-object         under  0.008896  experiments/365403\n",
            "950   preposition-subject            on  0.000409   experiments/66816\n",
            "951    preposition-object            on  0.000000   experiments/66816\n",
            "952      preposition-verb            on  0.000000   experiments/66816\n",
            "953   preposition-subject          down  0.081571  experiments/701236\n",
            "954    preposition-object          down  0.000000  experiments/701236\n",
            "955      preposition-verb          down  0.500000  experiments/701236\n",
            "956   preposition-subject            on  0.000000  experiments/107862\n",
            "957    preposition-object            on  0.000000  experiments/107862\n",
            "958      preposition-verb            on  0.000000  experiments/107862\n",
            "959   preposition-subject            of  0.000000  experiments/800471\n",
            "960    preposition-object            of  0.000000  experiments/800471\n",
            "961   preposition-subject          with  0.000000   experiments/54217\n",
            "962    preposition-object          with  0.000000   experiments/54217\n",
            "963      preposition-verb          with  0.000000   experiments/54217\n",
            "964   preposition-subject          down  0.000000  experiments/254804\n",
            "965    preposition-object          down  0.000000  experiments/254804\n",
            "966      preposition-verb          down  0.000000  experiments/254804\n",
            "967   preposition-subject            on  0.000000  experiments/437658\n",
            "968    preposition-object            on  0.000000  experiments/437658\n",
            "969      preposition-verb            on  0.000000  experiments/437658\n",
            "970   preposition-subject            on  0.000000  experiments/311115\n",
            "971    preposition-object            on  0.015381  experiments/311115\n",
            "972   preposition-subject          with  0.520900  experiments/437279\n",
            "973    preposition-object          with  0.084990  experiments/437279\n",
            "974      preposition-verb          with  0.168303  experiments/437279\n",
            "975   preposition-subject          with  0.256000   experiments/27196\n",
            "976    preposition-object          with  0.000000   experiments/27196\n",
            "977      preposition-verb          with  0.000000   experiments/27196\n",
            "978   preposition-subject            of  0.000000  experiments/611788\n",
            "979    preposition-object            of  0.000000  experiments/611788\n",
            "980      preposition-verb            of  0.000000  experiments/611788\n",
            "981   preposition-subject   in front of  0.000000  experiments/508887\n",
            "982    preposition-object   in front of  0.000000  experiments/508887\n",
            "983      preposition-verb   in front of  0.000000  experiments/508887\n",
            "984   preposition-subject            of  0.000000   experiments/36258\n",
            "985    preposition-object            of  0.000000   experiments/36258\n",
            "986      preposition-verb            of  0.000000   experiments/36258\n",
            "987   preposition-subject         up of  0.000000  experiments/590883\n",
            "988    preposition-object         up of  0.000000  experiments/590883\n",
            "989   preposition-subject            of  0.308893    experiments/7322\n",
            "990    preposition-object            of  0.163854    experiments/7322\n",
            "991      preposition-verb            of  0.000000    experiments/7322\n",
            "992   preposition-subject       holding  0.003044  experiments/689338\n",
            "993    preposition-object       holding  0.000000  experiments/689338\n",
            "994   preposition-subject            on  0.000000  experiments/279064\n",
            "995    preposition-object            on  0.000000  experiments/279064\n",
            "996      preposition-verb            on  0.000000  experiments/279064\n",
            "997   preposition-subject          from  0.000000  experiments/325661\n",
            "998    preposition-object          from  0.000000  experiments/325661\n",
            "999      preposition-verb          from  0.000000  experiments/325661\n",
            "1000  preposition-subject       against  0.189138  experiments/799695\n",
            "1001   preposition-object       against  0.003110  experiments/799695\n",
            "1002     preposition-verb       against  0.000000  experiments/799695\n",
            "1003  preposition-subject            of  0.672131   experiments/19511\n",
            "1004   preposition-object            of  0.000000   experiments/19511\n",
            "1005     preposition-verb            of  0.000000   experiments/19511\n",
            "1006  preposition-subject            on  0.000000    experiments/9067\n",
            "1007   preposition-object            on  0.000000    experiments/9067\n",
            "1008     preposition-verb            on  0.000000    experiments/9067\n",
            "1009  preposition-subject          with  0.614068  experiments/263827\n",
            "1010   preposition-object          with  0.347098  experiments/263827\n",
            "1011  preposition-subject            on  0.000000  experiments/620109\n",
            "1012   preposition-object            on  0.000000  experiments/620109\n",
            "1013     preposition-verb            on  0.000000  experiments/620109\n",
            "1014  preposition-subject     on top of  0.000000  experiments/582555\n",
            "1015   preposition-object     on top of  0.000000  experiments/582555\n",
            "1016     preposition-verb     on top of  0.000000  experiments/582555\n",
            "1017  preposition-subject            on  0.158940  experiments/388446\n",
            "1018   preposition-object            on  0.000000  experiments/388446\n",
            "1019     preposition-verb            on  0.200000  experiments/388446\n",
            "1020  preposition-subject            in  0.567804  experiments/354119\n",
            "1021   preposition-object            in  0.025028  experiments/354119\n",
            "1022     preposition-verb            in  0.000000  experiments/354119\n",
            "1023  preposition-subject          with  0.000000  experiments/495052\n",
            "1024   preposition-object          with  0.000000  experiments/495052\n",
            "1025     preposition-verb          with  0.000000  experiments/495052\n",
            "1026  preposition-subject            on  0.000000  experiments/476134\n",
            "1027   preposition-object            on  0.000000  experiments/476134\n",
            "1028     preposition-verb            on  0.000000  experiments/476134\n",
            "1029  preposition-subject            on  0.000000  experiments/284494\n",
            "1030   preposition-object            on  0.000000  experiments/284494\n",
            "1031     preposition-verb            on  0.000000  experiments/284494\n",
            "1032  preposition-subject          with  0.000000  experiments/592313\n",
            "1033   preposition-object          with  0.166584  experiments/592313\n",
            "1034     preposition-verb          with  0.000000  experiments/592313\n",
            "1035  preposition-subject       next to  0.000000  experiments/571741\n",
            "1036   preposition-object       next to  0.000000  experiments/571741\n",
            "1037     preposition-verb       next to  0.000000  experiments/571741\n",
            "1038  preposition-subject            in  0.339833  experiments/132569\n",
            "1039   preposition-object            in  0.000000  experiments/132569\n",
            "1040  preposition-subject            of  0.000000  experiments/139974\n",
            "1041   preposition-object            of  0.000000  experiments/139974\n",
            "1042  preposition-subject          with  0.540426  experiments/199225\n",
            "1043   preposition-object          with  0.248219  experiments/199225\n",
            "1044     preposition-verb          with  0.250000  experiments/199225\n",
            "1045  preposition-subject          with  0.000000  experiments/336796\n",
            "1046   preposition-object          with  0.000000  experiments/336796\n",
            "1047     preposition-verb          with  0.000000  experiments/336796\n",
            "1048  preposition-subject            of  0.000000  experiments/621647\n",
            "1049   preposition-object            of  0.000000  experiments/621647\n",
            "1050  preposition-subject            in  0.103100  experiments/612871\n",
            "1051   preposition-object            in  0.104651  experiments/612871\n",
            "1052     preposition-verb            in  0.000000  experiments/612871\n",
            "1053  preposition-subject            in  0.022102  experiments/217501\n",
            "1054   preposition-object            in  0.003968  experiments/217501\n",
            "1055     preposition-verb            in  0.000000  experiments/217501\n",
            "1056  preposition-subject     inside of  0.000000  experiments/646821\n",
            "1057   preposition-object     inside of  0.000000  experiments/646821\n",
            "1058     preposition-verb     inside of  0.000000  experiments/646821\n",
            "1059  preposition-subject          with  0.781746  experiments/364032\n",
            "1060   preposition-object          with  0.102527  experiments/364032\n",
            "1061  preposition-subject            in  0.000000  experiments/307729\n",
            "1062   preposition-object            in  0.000000  experiments/307729\n",
            "1063     preposition-verb            in  0.000000  experiments/307729\n",
            "1064  preposition-subject            in  0.000000  experiments/188356\n",
            "1065   preposition-object            in  0.000000  experiments/188356\n",
            "1066  preposition-subject     on top of  0.000000  experiments/133732\n",
            "1067   preposition-object     on top of  0.000000  experiments/133732\n",
            "1068     preposition-verb     on top of  0.000000  experiments/133732\n",
            "1069  preposition-subject            by  0.397767  experiments/463944\n",
            "1070   preposition-object            by  0.305367  experiments/463944\n",
            "1071     preposition-verb            by  0.000000  experiments/463944\n",
            "1072  preposition-subject            in  0.900240  experiments/282935\n",
            "1073   preposition-object            in  0.000000  experiments/282935\n",
            "1074     preposition-verb            in  0.000000  experiments/282935\n",
            "1075  preposition-subject            on  0.090532  experiments/270332\n",
            "1076   preposition-object            on  0.265892  experiments/270332\n",
            "1077     preposition-verb            on  0.467244  experiments/270332\n",
            "1078  preposition-subject   in front of  0.000000  experiments/608927\n",
            "1079   preposition-object   in front of  0.000000  experiments/608927\n",
            "1080     preposition-verb   in front of  0.000000  experiments/608927\n",
            "1081  preposition-subject            in  0.000000  experiments/769951\n",
            "1082   preposition-object            in  0.000000  experiments/769951\n",
            "1083     preposition-verb            in  0.000000  experiments/769951\n",
            "1084  preposition-subject            by  0.000000  experiments/655278\n",
            "1085   preposition-object            by  0.000000  experiments/655278\n",
            "1086     preposition-verb            by  0.000000  experiments/655278\n",
            "1087  preposition-subject            in  0.000000  experiments/382456\n",
            "1088   preposition-object            in  0.000000  experiments/382456\n",
            "1089     preposition-verb            in  0.000000  experiments/382456\n",
            "1090  preposition-subject            in  0.000000  experiments/537248\n",
            "1091   preposition-object            in  0.022901  experiments/537248\n",
            "1092  preposition-subject            of  0.015738  experiments/172204\n",
            "1093   preposition-object            of  0.031599  experiments/172204\n",
            "1094  preposition-subject          with  0.331492  experiments/146221\n",
            "1095   preposition-object          with  0.000000  experiments/146221\n",
            "1096  preposition-subject            of  0.000000  experiments/645671\n",
            "1097   preposition-object            of  0.000000  experiments/645671\n",
            "1098  preposition-subject          with  0.039766  experiments/135679\n",
            "1099   preposition-object          with  0.000000  experiments/135679\n",
            "1100  preposition-subject          down  0.297297   experiments/17781\n",
            "1101   preposition-object          down  0.153285   experiments/17781\n",
            "1102     preposition-verb          down  0.036133   experiments/17781\n",
            "1103  preposition-subject          near  0.000000  experiments/621004\n",
            "1104   preposition-object          near  0.000000  experiments/621004\n",
            "1105     preposition-verb          near  0.000000  experiments/621004\n",
            "1106  preposition-subject          with  0.000557  experiments/127936\n",
            "1107   preposition-object          with  0.004425  experiments/127936\n",
            "1108     preposition-verb          with  0.009901  experiments/127936\n",
            "1109  preposition-subject            on  0.000000   experiments/64555\n",
            "1110   preposition-object            on  0.000000   experiments/64555\n",
            "1111     preposition-verb            on  0.000000   experiments/64555\n",
            "1112  preposition-subject       through  0.034771  experiments/649919\n",
            "1113   preposition-object       through  0.000000  experiments/649919\n",
            "1114     preposition-verb       through  0.000000  experiments/649919\n",
            "1115  preposition-subject          with  0.078326  experiments/289053\n",
            "1116   preposition-object          with  0.171053  experiments/289053\n",
            "1117  preposition-subject           for  0.000000  experiments/258341\n",
            "1118   preposition-object           for  0.000000  experiments/258341\n",
            "1119     preposition-verb           for  0.000000  experiments/258341\n",
            "1120  preposition-subject          from  0.085106  experiments/295528\n",
            "1121   preposition-object          from  0.000000  experiments/295528\n",
            "1122     preposition-verb          from  0.000000  experiments/295528\n",
            "1123  preposition-subject       next to  0.000000  experiments/171485\n",
            "1124   preposition-object       next to  0.000000  experiments/171485\n",
            "1125     preposition-verb       next to  0.000000  experiments/171485\n",
            "1126  preposition-subject          with  0.309851  experiments/240960\n",
            "1127   preposition-object          with  0.033113  experiments/240960\n",
            "1128     preposition-verb          with  0.000000  experiments/240960\n",
            "1129  preposition-subject            by  0.000000   experiments/12332\n",
            "1130   preposition-object            by  0.000000   experiments/12332\n",
            "1131     preposition-verb            by  0.000000   experiments/12332\n",
            "1132  preposition-subject            of  0.000000  experiments/247623\n",
            "1133   preposition-object            of  0.000000  experiments/247623\n",
            "1134     preposition-verb            of  0.000000  experiments/247623\n",
            "1135  preposition-subject            on  0.000000  experiments/808901\n",
            "1136   preposition-object            on  0.000000  experiments/808901\n",
            "1137     preposition-verb            on  0.000000  experiments/808901\n",
            "1138  preposition-subject            in  0.000000  experiments/172017\n",
            "1139   preposition-object            in  0.000000  experiments/172017\n",
            "1140     preposition-verb            in  0.000000  experiments/172017\n",
            "1141  preposition-subject         while  0.008065  experiments/220908\n",
            "1142     preposition-verb         while  0.000000  experiments/220908\n",
            "1143  preposition-subject            of  0.000000  experiments/393304\n",
            "1144   preposition-object            of  0.000000  experiments/393304\n",
            "1145     preposition-verb            of  0.000000  experiments/393304\n",
            "1146  preposition-subject          into  0.648894  experiments/529121\n",
            "1147   preposition-object          into  0.000000  experiments/529121\n",
            "1148     preposition-verb          into  0.000000  experiments/529121\n",
            "1149  preposition-subject         under  0.107922  experiments/501774\n",
            "1150   preposition-object         under  0.463518  experiments/501774\n",
            "1151     preposition-verb         under  0.788739  experiments/501774\n",
            "1152  preposition-subject          with  0.624022  experiments/610637\n",
            "1153   preposition-object          with  0.689495  experiments/610637\n",
            "1154     preposition-verb          with  0.000000  experiments/610637\n",
            "1155  preposition-subject            on  0.000000  experiments/293778\n",
            "1156   preposition-object            on  0.000000  experiments/293778\n",
            "1157  preposition-subject          over  0.748382  experiments/213625\n",
            "1158   preposition-object          over  0.065840  experiments/213625\n",
            "1159     preposition-verb          over  0.435158  experiments/213625\n",
            "1160  preposition-subject            in  0.000000  experiments/365267\n",
            "1161   preposition-object            in  0.000000  experiments/365267\n",
            "1162  preposition-subject            on  0.049906  experiments/819038\n",
            "1163   preposition-object            on  0.000000  experiments/819038\n",
            "1164     preposition-verb            on  0.030752  experiments/819038\n",
            "1165  preposition-subject            in  0.211406  experiments/416688\n",
            "1166   preposition-object            in  0.039597  experiments/416688\n",
            "1167     preposition-verb            in  0.458333  experiments/416688\n",
            "1168  preposition-subject            of  0.000000   experiments/10939\n",
            "1169   preposition-object            of  0.000000   experiments/10939\n",
            "1170     preposition-verb            of  0.000000   experiments/10939\n",
            "1171  preposition-subject       next to  0.000000  experiments/218551\n",
            "1172   preposition-object       next to  0.000000  experiments/218551\n",
            "1173     preposition-verb       next to  0.000000  experiments/218551\n",
            "1174  preposition-subject    outside of  0.000000  experiments/443745\n",
            "1175   preposition-object    outside of  0.000000  experiments/443745\n",
            "1176     preposition-verb    outside of  0.000000  experiments/443745\n",
            "1177  preposition-subject       outside  0.000000  experiments/602995\n",
            "1178     preposition-verb       outside  0.000000  experiments/602995\n",
            "1179  preposition-subject          with  0.002441  experiments/364002\n",
            "1180   preposition-object          with  0.000000  experiments/364002\n",
            "1181     preposition-verb          with  0.000000  experiments/364002\n",
            "1182  preposition-subject            on  0.000000  experiments/678615\n",
            "1183   preposition-object            on  0.000000  experiments/678615\n",
            "1184     preposition-verb            on  0.000000  experiments/678615\n",
            "1185  preposition-subject            on  0.034161  experiments/144314\n",
            "1186   preposition-object            on  0.000000  experiments/144314\n",
            "1187  preposition-subject            in  0.693359   experiments/83356\n",
            "1188   preposition-object            in  0.405986   experiments/83356\n",
            "1189     preposition-verb            in  0.000000   experiments/83356\n",
            "1190  preposition-subject            in  0.000000  experiments/711331\n",
            "1191   preposition-object            in  0.000000  experiments/711331\n",
            "1192  preposition-subject       next to  0.000000   experiments/78248\n",
            "1193   preposition-object       next to  0.000000   experiments/78248\n",
            "1194  preposition-subject            of  0.000000  experiments/566190\n",
            "1195   preposition-object            of  0.000000  experiments/566190\n",
            "1196     preposition-verb            of  0.000000  experiments/566190\n",
            "1197  preposition-subject       next to  0.000000  experiments/575496\n",
            "1198   preposition-object       next to  0.000776  experiments/575496\n",
            "1199     preposition-verb       next to  0.000000  experiments/575496\n",
            "1200  preposition-subject            on  0.000000  experiments/320237\n",
            "1201   preposition-object            on  0.000000  experiments/320237\n",
            "1202     preposition-verb            on  0.000000  experiments/320237\n",
            "1203  preposition-subject          with  0.456668  experiments/589360\n",
            "1204   preposition-object          with  0.040605  experiments/589360\n",
            "1205  preposition-subject            in  0.000000  experiments/598587\n",
            "1206   preposition-object            in  0.000000  experiments/598587\n",
            "1207     preposition-verb            in  0.000000  experiments/598587\n",
            "1208  preposition-subject            on  0.000000  experiments/791839\n",
            "1209   preposition-object            on  0.000000  experiments/791839\n",
            "1210     preposition-verb            on  0.000000  experiments/791839\n",
            "1211  preposition-subject            in  0.000000  experiments/362158\n",
            "1212   preposition-object            in  0.000000  experiments/362158\n",
            "1213  preposition-subject            on  0.000794  experiments/824310\n",
            "1214   preposition-object            on  0.000000  experiments/824310\n",
            "1215     preposition-verb            on  0.000000  experiments/824310\n",
            "1216  preposition-subject          with  0.000000   experiments/23795\n",
            "1217   preposition-object          with  0.000000   experiments/23795\n",
            "1218     preposition-verb          with  0.000000   experiments/23795\n",
            "1219  preposition-subject       outside  0.000000  experiments/142944\n",
            "1220   preposition-object       outside  0.000000  experiments/142944\n",
            "1221     preposition-verb       outside  0.000000  experiments/142944\n",
            "1222  preposition-subject            by  0.000000  experiments/201854\n",
            "1223   preposition-object            by  0.000000  experiments/201854\n",
            "1224     preposition-verb            by  0.000000  experiments/201854\n",
            "1225  preposition-subject          with  0.665073  experiments/545818\n",
            "1226   preposition-object          with  0.544220  experiments/545818\n",
            "1227  preposition-subject       next to  0.000000  experiments/306502\n",
            "1228   preposition-object       next to  0.000000  experiments/306502\n",
            "1229     preposition-verb       next to  0.000000  experiments/306502\n",
            "1230  preposition-subject          over  0.597192  experiments/788243\n",
            "1231   preposition-object          over  0.295755  experiments/788243\n",
            "1232     preposition-verb          over  0.573961  experiments/788243\n",
            "1233  preposition-subject            of  0.172464  experiments/576134\n",
            "1234   preposition-object            of  0.100562  experiments/576134\n",
            "1235  preposition-subject            on  0.000000  experiments/151599\n",
            "1236   preposition-object            on  0.000000  experiments/151599\n",
            "1237     preposition-verb            on  0.000000  experiments/151599\n",
            "1238  preposition-subject            on  0.000000  experiments/361401\n",
            "1239   preposition-object            on  0.000000  experiments/361401\n",
            "1240     preposition-verb            on  0.000000  experiments/361401\n",
            "1241  preposition-subject         along  0.003860  experiments/791706\n",
            "1242   preposition-object         along  0.007924  experiments/791706\n",
            "1243     preposition-verb         along  0.002527  experiments/791706\n",
            "1244  preposition-subject            at  0.000000  experiments/513603\n",
            "1245   preposition-object            at  0.000000  experiments/513603\n",
            "1246     preposition-verb            at  0.000000  experiments/513603\n",
            "1247  preposition-subject            in  0.017123  experiments/229653\n",
            "1248   preposition-object            in  0.000000  experiments/229653\n",
            "1249     preposition-verb            in  0.023810  experiments/229653\n",
            "1250  preposition-subject            in  0.205329  experiments/218247\n",
            "1251   preposition-object            in  0.124556  experiments/218247\n",
            "1252     preposition-verb            in  0.000000  experiments/218247\n",
            "1253  preposition-subject            in  0.000000  experiments/164776\n",
            "1254   preposition-object            in  0.000000  experiments/164776\n",
            "1255     preposition-verb            in  0.000000  experiments/164776\n",
            "1256  preposition-subject            at  0.007181  experiments/596266\n",
            "1257   preposition-object            at  0.000000  experiments/596266\n",
            "1258     preposition-verb            at  0.000000  experiments/596266\n",
            "1259  preposition-subject            on  0.041229  experiments/717890\n",
            "1260   preposition-object            on  0.098891  experiments/717890\n",
            "1261     preposition-verb            on  0.168743  experiments/717890\n",
            "1262  preposition-subject          with  0.000000   experiments/82346\n",
            "1263   preposition-object          with  0.000000   experiments/82346\n",
            "1264     preposition-verb          with  0.000000   experiments/82346\n",
            "1265  preposition-subject            of  0.000000  experiments/509678\n",
            "1266   preposition-object            of  0.000000  experiments/509678\n",
            "1267  preposition-subject            on  0.022738  experiments/267482\n",
            "1268   preposition-object            on  0.007727  experiments/267482\n",
            "1269     preposition-verb            on  0.000000  experiments/267482\n",
            "1270  preposition-subject       next to  0.000000  experiments/402565\n",
            "1271   preposition-object       next to  0.000000  experiments/402565\n",
            "1272     preposition-verb       next to  0.000000  experiments/402565\n",
            "1273  preposition-subject            OF  0.000000  experiments/696481\n",
            "1274   preposition-object            OF  0.000000  experiments/696481\n",
            "1275  preposition-subject       through  0.086486  experiments/470217\n",
            "1276   preposition-object       through  0.000000  experiments/470217\n",
            "1277     preposition-verb       through  0.000000  experiments/470217\n",
            "1278  preposition-subject          near  0.033356  experiments/755087\n",
            "1279   preposition-object          near  0.046283  experiments/755087\n",
            "1280     preposition-verb          near  0.000000  experiments/755087\n",
            "1281  preposition-subject            in  0.000000   experiments/43485\n",
            "1282   preposition-object            in  0.000000   experiments/43485\n",
            "1283     preposition-verb            in  0.000000   experiments/43485\n",
            "1284  preposition-subject            of  0.614056  experiments/287235\n",
            "1285   preposition-object            of  0.089732  experiments/287235\n",
            "1286     preposition-verb            of  0.000000  experiments/287235\n",
            "1287  preposition-subject            of  0.000000  experiments/632761\n",
            "1288   preposition-object            of  0.000000  experiments/632761\n",
            "1289     preposition-verb            of  0.000000  experiments/632761\n",
            "1290  preposition-subject          down  0.000000  experiments/393045\n",
            "1291   preposition-object          down  0.000000  experiments/393045\n",
            "1292     preposition-verb          down  0.000000  experiments/393045\n",
            "1293  preposition-subject        behind  0.063158  experiments/539197\n",
            "1294   preposition-object        behind  0.022157  experiments/539197\n",
            "1295     preposition-verb        behind  0.000000  experiments/539197\n",
            "1296  preposition-subject            at  0.000000  experiments/402485\n",
            "1297   preposition-object            at  0.000000  experiments/402485\n",
            "1298     preposition-verb            at  0.000000  experiments/402485\n",
            "1299  preposition-subject            in  0.000000  experiments/782138\n",
            "1300   preposition-object            in  0.000000  experiments/782138\n",
            "1301     preposition-verb            in  0.000000  experiments/782138\n",
            "1302  preposition-subject            on  0.000000  experiments/483268\n",
            "1303   preposition-object            on  0.000000  experiments/483268\n",
            "1304     preposition-verb            on  0.000000  experiments/483268\n",
            "1305  preposition-subject            at  0.012987  experiments/140808\n",
            "1306   preposition-object            at  0.000000  experiments/140808\n",
            "1307     preposition-verb            at  0.000000  experiments/140808\n",
            "1308  preposition-subject            on  0.134615  experiments/564124\n",
            "1309   preposition-object            on  0.017814  experiments/564124\n",
            "1310     preposition-verb            on  0.000000  experiments/564124\n",
            "1311  preposition-subject            on  0.271368    experiments/1325\n",
            "1312   preposition-object            on  0.000000    experiments/1325\n",
            "1313     preposition-verb            on  0.000000    experiments/1325\n",
            "1314  preposition-subject          with  0.025544  experiments/300166\n",
            "1315   preposition-object          with  0.074783  experiments/300166\n",
            "1316     preposition-verb          with  0.025346  experiments/300166\n",
            "1317  preposition-subject            of  0.200000  experiments/694632\n",
            "1318   preposition-object            of  0.000000  experiments/694632\n",
            "1319  preposition-subject         while  0.434410  experiments/574673\n",
            "1320   preposition-object         while  0.000000  experiments/574673\n",
            "1321     preposition-verb         while  0.049292  experiments/574673\n",
            "1322  preposition-subject       back to  0.000000   experiments/94048\n",
            "1323   preposition-object       back to  0.000000   experiments/94048\n",
            "1324     preposition-verb       back to  0.000000   experiments/94048\n",
            "1325  preposition-subject    up and out  0.000000  experiments/581006\n",
            "1326   preposition-object    up and out  0.000000  experiments/581006\n",
            "1327     preposition-verb    up and out  0.000000  experiments/581006\n",
            "1328  preposition-subject            on  0.928521  experiments/580374\n",
            "1329   preposition-object            on  0.000610  experiments/580374\n",
            "1330  preposition-subject            in  0.000000  experiments/253972\n",
            "1331   preposition-object            in  0.000000  experiments/253972\n",
            "1332  preposition-subject          with  0.000000  experiments/645137\n",
            "1333   preposition-object          with  0.000000  experiments/645137\n",
            "1334     preposition-verb          with  0.000000  experiments/645137\n",
            "1335  preposition-subject            of  0.000000  experiments/689721\n",
            "1336   preposition-object            of  0.000000  experiments/689721\n",
            "1337  preposition-subject            of  0.000000  experiments/539502\n",
            "1338   preposition-object            of  0.000000  experiments/539502\n",
            "1339     preposition-verb            of  0.000000  experiments/539502\n",
            "1340  preposition-subject          with  0.701252   experiments/27550\n",
            "1341   preposition-object          with  0.000000   experiments/27550\n",
            "1342  preposition-subject            in  0.000000  experiments/116758\n",
            "1343   preposition-object            in  0.000000  experiments/116758\n",
            "1344     preposition-verb            in  0.000000  experiments/116758\n",
            "1345  preposition-subject       next to  0.000000  experiments/450341\n",
            "1346   preposition-object       next to  0.000000  experiments/450341\n",
            "1347     preposition-verb       next to  0.000000  experiments/450341\n",
            "1348  preposition-subject            on  0.000000  experiments/308156\n",
            "1349     preposition-verb            on  0.000000  experiments/308156\n",
            "1350  preposition-subject            in  0.000000  experiments/278736\n",
            "1351   preposition-object            in  0.000000  experiments/278736\n",
            "1352     preposition-verb            in  0.000000  experiments/278736\n",
            "1353  preposition-subject       covered  0.001138   experiments/14367\n",
            "1354   preposition-object       covered  0.000000   experiments/14367\n",
            "1355     preposition-verb       covered  0.000000   experiments/14367\n",
            "1356  preposition-subject            in  0.094563  experiments/743185\n",
            "1357   preposition-object            in  0.006401  experiments/743185\n",
            "1358  preposition-subject            of  0.000000  experiments/176014\n",
            "1359   preposition-object            of  0.000000  experiments/176014\n",
            "1360     preposition-verb            of  0.000000  experiments/176014\n",
            "1361  preposition-subject          with  0.000000  experiments/287034\n",
            "1362   preposition-object          with  0.000000  experiments/287034\n",
            "1363     preposition-verb          with  0.000000  experiments/287034\n",
            "1364  preposition-subject          with  0.051749  experiments/607811\n",
            "1365   preposition-object          with  0.050000  experiments/607811\n",
            "1366  preposition-subject            on  0.000000  experiments/423073\n",
            "1367   preposition-object            on  0.000000  experiments/423073\n",
            "1368  preposition-subject            of  0.000000  experiments/705508\n",
            "1369   preposition-object            of  0.000000  experiments/705508\n",
            "1370     preposition-verb            of  0.000000  experiments/705508\n",
            "1371  preposition-subject            on  0.136723  experiments/272978\n",
            "1372   preposition-object            on  0.000000  experiments/272978\n",
            "1373     preposition-verb            on  0.000000  experiments/272978\n",
            "1374  preposition-subject          down  0.000000  experiments/504873\n",
            "1375   preposition-object          down  0.000000  experiments/504873\n",
            "1376     preposition-verb          down  0.000000  experiments/504873\n",
            "1377  preposition-subject            in  0.336670  experiments/310705\n",
            "1378   preposition-object            in  0.039786  experiments/310705\n",
            "1379     preposition-verb            in  0.000725  experiments/310705\n",
            "1380  preposition-subject            of  0.944872  experiments/633196\n",
            "1381   preposition-object            of  0.209916  experiments/633196\n",
            "1382  preposition-subject       between  0.834646  experiments/515298\n",
            "1383   preposition-object       between  0.000000  experiments/515298\n",
            "1384     preposition-verb       between  0.000000  experiments/515298\n",
            "1385  preposition-subject        beside  0.000000  experiments/466579\n",
            "1386   preposition-object        beside  0.000000  experiments/466579\n",
            "1387     preposition-verb        beside  0.000000  experiments/466579\n",
            "1388  preposition-subject            up  0.000000  experiments/555277\n",
            "1389   preposition-object            up  0.000000  experiments/555277\n",
            "1390     preposition-verb            up  0.000000  experiments/555277\n",
            "1391  preposition-subject            on  0.000000   experiments/41273\n",
            "1392   preposition-object            on  0.000000   experiments/41273\n",
            "1393     preposition-verb            on  0.000000   experiments/41273\n",
            "1394  preposition-subject          with  0.145299  experiments/531963\n",
            "1395   preposition-object          with  0.003720  experiments/531963\n",
            "1396  preposition-subject            to  0.000000  experiments/544394\n",
            "1397   preposition-object            to  0.000000  experiments/544394\n",
            "1398     preposition-verb            to  0.000000  experiments/544394\n",
            "1399  preposition-subject            on  0.396582   experiments/59063\n",
            "1400   preposition-object            on  0.031579   experiments/59063\n",
            "1401  preposition-subject            in  0.000000  experiments/608865\n",
            "1402   preposition-object            in  0.000000  experiments/608865\n",
            "1403     preposition-verb            in  0.000000  experiments/608865\n",
            "1404  preposition-subject       next to  0.000000   experiments/95355\n",
            "1405   preposition-object       next to  0.000000   experiments/95355\n",
            "1406  preposition-subject            of  0.000000  experiments/661916\n",
            "1407   preposition-object            of  0.000000  experiments/661916\n",
            "1408  preposition-subject       wearing  0.000000  experiments/466173\n",
            "1409   preposition-object       wearing  0.000000  experiments/466173\n",
            "1410     preposition-verb       wearing  0.000000  experiments/466173\n",
            "1411  preposition-subject   in front of  0.000000  experiments/775122\n",
            "1412   preposition-object   in front of  0.000000  experiments/775122\n",
            "1413     preposition-verb   in front of  0.000000  experiments/775122\n",
            "1414  preposition-subject       outside  0.070148  experiments/327795\n",
            "1415     preposition-verb       outside  0.926719  experiments/327795\n",
            "1416  preposition-subject            by  0.000000  experiments/298797\n",
            "1417     preposition-verb            by  0.000000  experiments/298797\n",
            "1418  preposition-subject            by  0.179878  experiments/815339\n",
            "1419   preposition-object            by  0.001757  experiments/815339\n",
            "1420     preposition-verb            by  0.135632  experiments/815339\n",
            "1421  preposition-subject            on  0.000000  experiments/311491\n",
            "1422   preposition-object            on  0.000000  experiments/311491\n",
            "1423     preposition-verb            on  0.000000  experiments/311491\n",
            "1424  preposition-subject            to  0.000000  experiments/160532\n",
            "1425   preposition-object            to  0.000000  experiments/160532\n",
            "1426     preposition-verb            to  0.000000  experiments/160532\n",
            "1427  preposition-subject            of  0.000000  experiments/326549\n",
            "1428   preposition-object            of  0.000000  experiments/326549\n",
            "1429     preposition-verb            of  0.000000  experiments/326549\n",
            "1430  preposition-subject            on  0.028022  experiments/816701\n",
            "1431   preposition-object            on  0.000000  experiments/816701\n",
            "1432     preposition-verb            on  0.082792  experiments/816701\n",
            "1433  preposition-subject            in  0.026611  experiments/799262\n",
            "1434   preposition-object            in  0.009174  experiments/799262\n",
            "1435  preposition-subject        out of  0.000000  experiments/740941\n",
            "1436   preposition-object        out of  0.000000  experiments/740941\n",
            "1437     preposition-verb        out of  0.000000  experiments/740941\n",
            "1438  preposition-subject          atop  0.000000   experiments/86285\n",
            "1439   preposition-object          atop  0.001223   experiments/86285\n",
            "1440     preposition-verb          atop  0.044444   experiments/86285\n",
            "1441  preposition-subject     down into  0.000000  experiments/644252\n",
            "1442   preposition-object     down into  0.000000  experiments/644252\n",
            "1443     preposition-verb     down into  0.000000  experiments/644252\n",
            "1444  preposition-subject            on  0.000000  experiments/752139\n",
            "1445   preposition-object            on  0.000000  experiments/752139\n",
            "1446     preposition-verb            on  0.000000  experiments/752139\n",
            "1447  preposition-subject            of  0.000000  experiments/662529\n",
            "1448   preposition-object            of  0.000000  experiments/662529\n",
            "1449     preposition-verb            of  0.000000  experiments/662529\n",
            "1450  preposition-subject            up  0.000000  experiments/257350\n",
            "1451   preposition-object            up  0.000000  experiments/257350\n",
            "1452     preposition-verb            up  0.000000  experiments/257350\n",
            "1453  preposition-subject          with  0.438830   experiments/34506\n",
            "1454   preposition-object          with  0.000000   experiments/34506\n",
            "1455     preposition-verb          with  0.000000   experiments/34506\n",
            "1456  preposition-subject            on  0.005825  experiments/535791\n",
            "1457   preposition-object            on  0.016023  experiments/535791\n",
            "1458  preposition-subject            of  0.000000  experiments/187614\n",
            "1459   preposition-object            of  0.000000  experiments/187614\n",
            "1460  preposition-subject            in  0.000979  experiments/282314\n",
            "1461   preposition-object            in  0.002530  experiments/282314\n",
            "1462     preposition-verb            in  0.000000  experiments/282314\n",
            "1463  preposition-subject          with  0.296961   experiments/39963\n",
            "1464   preposition-object          with  0.006378   experiments/39963\n",
            "1465     preposition-verb          with  0.000000   experiments/39963\n",
            "1466  preposition-subject            at  0.000000  experiments/289076\n",
            "1467   preposition-object            at  0.000000  experiments/289076\n",
            "1468     preposition-verb            at  0.000000  experiments/289076\n",
            "1469  preposition-subject          with  0.371398  experiments/296788\n",
            "1470   preposition-object          with  0.097028  experiments/296788\n",
            "1471     preposition-verb          with  0.000000  experiments/296788\n",
            "1472  preposition-subject            in  0.012847  experiments/709076\n",
            "1473   preposition-object            in  0.012403  experiments/709076\n",
            "1474     preposition-verb            in  0.000000  experiments/709076\n",
            "1475  preposition-subject            in  0.169316   experiments/43237\n",
            "1476   preposition-object            in  0.000000   experiments/43237\n",
            "1477     preposition-verb            in  0.000000   experiments/43237\n",
            "1478  preposition-subject            at  0.020154  experiments/665330\n",
            "1479   preposition-object            at  0.033195  experiments/665330\n",
            "1480     preposition-verb            at  0.275044  experiments/665330\n",
            "1481  preposition-subject            in  0.026123  experiments/719016\n",
            "1482   preposition-object            in  0.000000  experiments/719016\n",
            "1483     preposition-verb            in  0.093333  experiments/719016\n",
            "1484  preposition-subject            on  0.000000  experiments/787777\n",
            "1485   preposition-object            on  0.000000  experiments/787777\n",
            "1486     preposition-verb            on  0.000000  experiments/787777\n",
            "1487  preposition-subject          down  0.001147  experiments/603981\n",
            "1488   preposition-object          down  0.001100  experiments/603981\n",
            "1489     preposition-verb          down  0.000000  experiments/603981\n",
            "1490  preposition-subject            in  0.000000   experiments/52927\n",
            "1491   preposition-object            in  0.000000   experiments/52927\n",
            "1492     preposition-verb            in  0.000000   experiments/52927\n",
            "1493  preposition-subject            on  0.000000  experiments/573568\n",
            "1494   preposition-object            on  0.000000  experiments/573568\n",
            "1495     preposition-verb            on  0.000000  experiments/573568\n",
            "1496  preposition-subject            in  0.000000  experiments/788548\n",
            "1497   preposition-object            in  0.000000  experiments/788548\n",
            "1498  preposition-subject          with  0.472776  experiments/725274\n",
            "1499   preposition-object          with  0.559748  experiments/725274\n",
            "1500  preposition-subject          with  0.000000   experiments/17147\n",
            "1501   preposition-object          with  0.000000   experiments/17147\n",
            "1502     preposition-verb          with  0.000000   experiments/17147\n",
            "1503  preposition-subject          with  0.000000   experiments/36020\n",
            "1504   preposition-object          with  0.000000   experiments/36020\n",
            "1505  preposition-subject            on  0.596779  experiments/656016\n",
            "1506   preposition-object            on  0.000000  experiments/656016\n",
            "1507  preposition-subject            in  0.000000  experiments/645206\n",
            "1508   preposition-object            in  0.000000  experiments/645206\n",
            "1509     preposition-verb            in  0.000000  experiments/645206\n",
            "1510  preposition-subject       against  0.000000  experiments/124333\n",
            "1511   preposition-object       against  0.000000  experiments/124333\n",
            "1512  preposition-subject            on  0.104980  experiments/389458\n",
            "1513   preposition-object            on  0.024045  experiments/389458\n",
            "1514     preposition-verb            on  0.000000  experiments/389458\n",
            "1515  preposition-subject            on  0.000000   experiments/73459\n",
            "1516   preposition-object            on  0.000000   experiments/73459\n",
            "1517     preposition-verb            on  0.000000   experiments/73459\n",
            "1518  preposition-subject       besides  0.000000  experiments/753713\n",
            "1519   preposition-object       besides  0.000000  experiments/753713\n",
            "1520     preposition-verb       besides  0.000000  experiments/753713\n",
            "1521  preposition-subject            of  0.000000  experiments/255371\n",
            "1522   preposition-object            of  0.000000  experiments/255371\n",
            "1523     preposition-verb            of  0.000000  experiments/255371\n",
            "1524  preposition-subject            on  0.000000  experiments/428116\n",
            "1525   preposition-object            on  0.000000  experiments/428116\n",
            "1526     preposition-verb            on  0.000000  experiments/428116\n",
            "1527  preposition-subject            on  0.263514  experiments/234555\n",
            "1528   preposition-object            on  0.000000  experiments/234555\n",
            "1529  preposition-subject       next to  0.000000  experiments/384810\n",
            "1530   preposition-object       next to  0.000000  experiments/384810\n",
            "1531     preposition-verb       next to  0.000000  experiments/384810\n",
            "1532  preposition-subject        beside  0.005357  experiments/213978\n",
            "1533   preposition-object        beside  0.000000  experiments/213978\n",
            "1534     preposition-verb        beside  0.000000  experiments/213978\n",
            "1535  preposition-subject          over  0.000000  experiments/107446\n",
            "1536   preposition-object          over  0.000000  experiments/107446\n",
            "1537     preposition-verb          over  0.000000  experiments/107446\n",
            "1538  preposition-subject          with  0.542463  experiments/192564\n",
            "1539   preposition-object          with  0.442458  experiments/192564\n",
            "1540  preposition-subject            at  0.106137  experiments/377135\n",
            "1541   preposition-object            at  0.000000  experiments/377135\n",
            "1542     preposition-verb            at  0.000000  experiments/377135\n",
            "1543  preposition-subject            in  0.000000  experiments/595468\n",
            "1544   preposition-object            in  0.000000  experiments/595468\n",
            "1545     preposition-verb            in  0.000000  experiments/595468\n",
            "1546  preposition-subject            of  0.000000  experiments/209760\n",
            "1547   preposition-object            of  0.000000  experiments/209760\n",
            "1548     preposition-verb            of  0.000000  experiments/209760\n",
            "1549  preposition-subject            in  0.000000  experiments/349476\n",
            "1550   preposition-object            in  0.000000  experiments/349476\n",
            "1551     preposition-verb            in  0.000000  experiments/349476\n",
            "1552  preposition-subject          with  0.071466  experiments/482599\n",
            "1553   preposition-object          with  0.660189  experiments/482599\n",
            "1554  preposition-subject       through  0.282528  experiments/454968\n",
            "1555   preposition-object       through  0.012431  experiments/454968\n",
            "1556     preposition-verb       through  0.263158  experiments/454968\n",
            "1557  preposition-subject            on  0.000000  experiments/100624\n",
            "1558   preposition-object            on  0.000000  experiments/100624\n",
            "1559     preposition-verb            on  0.000000  experiments/100624\n",
            "1560  preposition-subject            of  0.595735  experiments/373588\n",
            "1561   preposition-object            of  0.427478  experiments/373588\n",
            "1562  preposition-subject            of  0.000000  experiments/620312\n",
            "1563   preposition-object            of  0.000000  experiments/620312\n",
            "1564     preposition-verb            of  0.000000  experiments/620312\n",
            "1565  preposition-subject            on  0.000000  experiments/797135\n",
            "1566   preposition-object            on  0.000000  experiments/797135\n",
            "1567     preposition-verb            on  0.000000  experiments/797135\n",
            "1568  preposition-subject            on  0.000000  experiments/498313\n",
            "1569   preposition-object            on  0.000000  experiments/498313\n",
            "1570     preposition-verb            on  0.000000  experiments/498313\n",
            "1571  preposition-subject            of  0.000000  experiments/659583\n",
            "1572   preposition-object            of  0.000000  experiments/659583\n",
            "1573  preposition-subject         along  0.000000  experiments/492074\n",
            "1574   preposition-object         along  0.000000  experiments/492074\n",
            "1575     preposition-verb         along  0.000000  experiments/492074\n",
            "1576  preposition-subject       outside  0.031884  experiments/290348\n",
            "1577     preposition-verb       outside  0.000000  experiments/290348\n",
            "1578  preposition-subject        out of  0.000000  experiments/739339\n",
            "1579   preposition-object        out of  0.000000  experiments/739339\n",
            "1580     preposition-verb        out of  0.000000  experiments/739339\n",
            "1581  preposition-subject          with  0.103675  experiments/511408\n",
            "1582   preposition-object          with  0.000000  experiments/511408\n",
            "1583  preposition-subject            on  0.000000  experiments/610344\n",
            "1584   preposition-object            on  0.000000  experiments/610344\n",
            "1585     preposition-verb            on  0.000000  experiments/610344\n",
            "1586  preposition-subject          with  0.000000  experiments/305425\n",
            "1587   preposition-object          with  0.000000  experiments/305425\n",
            "1588     preposition-verb          with  0.000000  experiments/305425\n",
            "1589  preposition-subject            of  0.000000  experiments/686694\n",
            "1590   preposition-object            of  0.000000  experiments/686694\n",
            "1591     preposition-verb            of  0.000000  experiments/686694\n",
            "1592  preposition-subject            in  0.102923  experiments/395335\n",
            "1593   preposition-object            in  0.117098  experiments/395335\n",
            "1594  preposition-subject            on  0.000000  experiments/719257\n",
            "1595   preposition-object            on  0.000000  experiments/719257\n",
            "1596     preposition-verb            on  0.000000  experiments/719257\n",
            "1597  preposition-subject            of  0.000000  experiments/419421\n",
            "1598   preposition-object            of  0.000000  experiments/419421\n",
            "1599     preposition-verb            of  0.000000  experiments/419421\n",
            "1600  preposition-subject          down  0.000000  experiments/378089\n",
            "1601   preposition-object          down  0.000000  experiments/378089\n",
            "1602     preposition-verb          down  0.000000  experiments/378089\n",
            "1603  preposition-subject   in front of  0.000000    experiments/8549\n",
            "1604   preposition-object   in front of  0.000000    experiments/8549\n",
            "1605     preposition-verb   in front of  0.000000    experiments/8549\n",
            "1606  preposition-subject   in front of  0.000000      experiments/38\n",
            "1607   preposition-object   in front of  0.000000      experiments/38\n",
            "1608     preposition-verb   in front of  0.000000      experiments/38\n",
            "1609  preposition-subject            in  0.000000   experiments/13237\n",
            "1610   preposition-object            in  0.000000   experiments/13237\n",
            "1611     preposition-verb            in  0.000000   experiments/13237\n",
            "1612  preposition-subject         under  0.000000  experiments/176678\n",
            "1613   preposition-object         under  0.018206  experiments/176678\n",
            "1614     preposition-verb         under  0.082405  experiments/176678\n",
            "1615  preposition-subject            at  0.000000  experiments/626099\n",
            "1616   preposition-object            at  0.000000  experiments/626099\n",
            "1617     preposition-verb            at  0.000000  experiments/626099\n",
            "1618  preposition-subject          down  0.010710  experiments/352188\n",
            "1619   preposition-object          down  0.012496  experiments/352188\n",
            "1620     preposition-verb          down  0.000000  experiments/352188\n",
            "1621  preposition-subject            of  0.000000  experiments/332399\n",
            "1622   preposition-object            of  0.000000  experiments/332399\n",
            "1623     preposition-verb            of  0.000000  experiments/332399\n",
            "1624  preposition-subject          down  0.193916  experiments/440173\n",
            "1625   preposition-object          down  0.000000  experiments/440173\n",
            "1626     preposition-verb          down  0.000000  experiments/440173\n",
            "1627  preposition-subject            in  0.190344  experiments/414476\n",
            "1628   preposition-object            in  0.000000  experiments/414476\n",
            "1629     preposition-verb            in  0.689655  experiments/414476\n",
            "1630  preposition-subject            on  0.158946  experiments/145510\n",
            "1631   preposition-object            on  0.128174  experiments/145510\n",
            "1632     preposition-verb            on  0.000000  experiments/145510\n",
            "1633  preposition-subject            on  0.278008  experiments/394870\n",
            "1634   preposition-object            on  0.000000  experiments/394870\n",
            "1635  preposition-subject   in front of  0.000000  experiments/255823\n",
            "1636   preposition-object   in front of  0.000000  experiments/255823\n",
            "1637  preposition-subject            at  0.105123  experiments/692651\n",
            "1638   preposition-object            at  0.002016  experiments/692651\n",
            "1639  preposition-subject            of  0.000249  experiments/407554\n",
            "1640   preposition-object            of  0.000000  experiments/407554\n",
            "1641     preposition-verb            of  0.000000  experiments/407554\n",
            "1642  preposition-subject          with  0.442025  experiments/304719\n",
            "1643     preposition-verb          with  0.000000  experiments/304719\n",
            "1644  preposition-subject          from  0.099211  experiments/803162\n",
            "1645   preposition-object          from  0.048828  experiments/803162\n",
            "1646     preposition-verb          from  0.153153  experiments/803162\n",
            "1647  preposition-subject            at  0.000000  experiments/407968\n",
            "1648   preposition-object            at  0.000000  experiments/407968\n",
            "1649     preposition-verb            at  0.000000  experiments/407968\n",
            "1650  preposition-subject     on top of  0.000000  experiments/715892\n",
            "1651   preposition-object     on top of  0.000000  experiments/715892\n",
            "1652     preposition-verb     on top of  0.000000  experiments/715892\n",
            "1653  preposition-subject            of  0.000000  experiments/611423\n",
            "1654   preposition-object            of  0.580597  experiments/611423\n",
            "1655  preposition-subject            by  0.000247  experiments/211164\n",
            "1656   preposition-object            by  0.000000  experiments/211164\n",
            "1657     preposition-verb            by  0.000000  experiments/211164\n",
            "1658  preposition-subject            in  0.075075  experiments/778557\n",
            "1659   preposition-object            in  0.000000  experiments/778557\n",
            "1660     preposition-verb            in  0.000000  experiments/778557\n",
            "1661  preposition-subject            in  0.000000   experiments/37280\n",
            "1662   preposition-object            in  0.000000   experiments/37280\n",
            "1663     preposition-verb            in  0.000000   experiments/37280\n",
            "1664  preposition-subject        behind  0.553398  experiments/242575\n",
            "1665   preposition-object        behind  0.000000  experiments/242575\n",
            "1666     preposition-verb        behind  0.003378  experiments/242575\n",
            "1667  preposition-subject          from  0.194857  experiments/523940\n",
            "1668   preposition-object          from  0.233730  experiments/523940\n",
            "1669     preposition-verb          from  0.124742  experiments/523940\n",
            "1670  preposition-subject          near  0.038938  experiments/155431\n",
            "1671   preposition-object          near  0.000000  experiments/155431\n",
            "1672     preposition-verb          near  0.000000  experiments/155431\n",
            "1673  preposition-subject     on top of  0.000000  experiments/768418\n",
            "1674   preposition-object     on top of  0.000000  experiments/768418\n",
            "1675     preposition-verb     on top of  0.000000  experiments/768418\n",
            "1676  preposition-subject    outside of  0.000000  experiments/542240\n",
            "1677   preposition-object    outside of  0.000000  experiments/542240\n",
            "1678     preposition-verb    outside of  0.000000  experiments/542240\n",
            "1679  preposition-subject       next to  0.126869  experiments/349421\n",
            "1680   preposition-object       next to  0.000762  experiments/349421\n",
            "1681  preposition-subject          with  0.625261  experiments/714871\n",
            "1682   preposition-object          with  0.000000  experiments/714871\n",
            "1683  preposition-subject       next to  0.000000  experiments/503042\n",
            "1684   preposition-object       next to  0.000000  experiments/503042\n",
            "1685  preposition-subject            on  0.037261  experiments/801288\n",
            "1686   preposition-object            on  0.093431  experiments/801288\n",
            "1687     preposition-verb            on  0.003906  experiments/801288\n",
            "1688  preposition-subject            on  0.000000  experiments/543524\n",
            "1689   preposition-object            on  0.000000  experiments/543524\n",
            "1690     preposition-verb            on  0.000000  experiments/543524\n",
            "1691  preposition-subject          with  0.019963  experiments/827279\n",
            "1692   preposition-object          with  0.000000  experiments/827279\n",
            "1693     preposition-verb          with  0.000000  experiments/827279\n",
            "1694  preposition-subject            in  0.274101  experiments/227854\n",
            "1695   preposition-object            in  0.079512  experiments/227854\n",
            "1696     preposition-verb            in  0.000000  experiments/227854\n",
            "1697  preposition-subject            in  0.016593  experiments/223038\n",
            "1698   preposition-object            in  0.075269  experiments/223038\n",
            "1699     preposition-verb            in  0.300000  experiments/223038\n",
            "1700  preposition-subject            in  0.120133  experiments/598468\n",
            "1701   preposition-object            in  0.270699  experiments/598468\n",
            "1702     preposition-verb            in  0.000000  experiments/598468\n",
            "1703  preposition-subject            of  0.034542   experiments/39766\n",
            "1704   preposition-object            of  0.014663   experiments/39766\n",
            "1705  preposition-subject            in  0.000000   experiments/60175\n",
            "1706   preposition-object            in  0.000000   experiments/60175\n",
            "1707     preposition-verb            in  0.000000   experiments/60175\n",
            "1708  preposition-subject            in  0.000000  experiments/136225\n",
            "1709   preposition-object            in  0.000000  experiments/136225\n",
            "1710     preposition-verb            in  0.000000  experiments/136225\n",
            "1711  preposition-subject            of  0.000000  experiments/323730\n",
            "1712   preposition-object            of  0.000000  experiments/323730\n",
            "1713     preposition-verb            of  0.000000  experiments/323730\n",
            "1714  preposition-subject           for  0.021898  experiments/577931\n",
            "1715   preposition-object           for  0.002197  experiments/577931\n",
            "1716  preposition-subject            in  0.000000   experiments/20004\n",
            "1717   preposition-object            in  0.000000   experiments/20004\n",
            "1718     preposition-verb            in  0.000000   experiments/20004\n",
            "1719  preposition-subject            in  0.000000  experiments/528643\n",
            "1720   preposition-object            in  0.000000  experiments/528643\n",
            "1721     preposition-verb            in  0.000000  experiments/528643\n",
            "1722  preposition-subject            on  0.000514  experiments/725201\n",
            "1723   preposition-object            on  0.000000  experiments/725201\n",
            "1724     preposition-verb            on  0.001368  experiments/725201\n",
            "1725  preposition-subject       next to  0.000000  experiments/227630\n",
            "1726   preposition-object       next to  0.000000  experiments/227630\n",
            "1727     preposition-verb       next to  0.000000  experiments/227630\n",
            "1728  preposition-subject            in  0.000000  experiments/735358\n",
            "1729   preposition-object            in  0.000000  experiments/735358\n",
            "1730     preposition-verb            in  0.000000  experiments/735358\n",
            "1731  preposition-subject          with  0.000000  experiments/429802\n",
            "1732   preposition-object          with  0.000000  experiments/429802\n",
            "1733     preposition-verb          with  0.000000  experiments/429802\n",
            "1734  preposition-subject            to  0.000000  experiments/173930\n",
            "1735   preposition-object            to  0.000000  experiments/173930\n",
            "1736     preposition-verb            to  0.000000  experiments/173930\n",
            "1737  preposition-subject            on  0.000000  experiments/818010\n",
            "1738   preposition-object            on  0.000000  experiments/818010\n",
            "1739     preposition-verb            on  0.000000  experiments/818010\n",
            "1740  preposition-subject            on  0.012346  experiments/450172\n",
            "1741   preposition-object            on  0.000343  experiments/450172\n",
            "1742  preposition-subject   in front of  0.000000  experiments/573455\n",
            "1743   preposition-object   in front of  0.000000  experiments/573455\n",
            "1744     preposition-verb   in front of  0.000000  experiments/573455\n",
            "1745  preposition-subject            on  0.025733  experiments/667345\n",
            "1746   preposition-object            on  0.028698  experiments/667345\n",
            "1747     preposition-verb            on  0.000000  experiments/667345\n",
            "1748  preposition-subject          with  0.544318  experiments/531182\n",
            "1749   preposition-object          with  0.061265  experiments/531182\n",
            "1750     preposition-verb          with  0.000000  experiments/531182\n",
            "1751  preposition-subject          with  0.014160  experiments/722949\n",
            "1752   preposition-object          with  0.153846  experiments/722949\n",
            "1753  preposition-subject     on top of  0.000000  experiments/453825\n",
            "1754   preposition-object     on top of  0.000000  experiments/453825\n",
            "1755     preposition-verb     on top of  0.000000  experiments/453825\n",
            "1756  preposition-subject        behind  0.686374  experiments/699847\n",
            "1757     preposition-verb        behind  0.030956  experiments/699847\n",
            "1758  preposition-subject          with  0.012044  experiments/169084\n",
            "1759   preposition-object          with  0.000000  experiments/169084\n",
            "1760     preposition-verb          with  0.026490  experiments/169084\n",
            "1761  preposition-subject            AT  0.000000  experiments/188562\n",
            "1762   preposition-object            AT  0.000000  experiments/188562\n",
            "1763     preposition-verb            AT  0.000000  experiments/188562\n",
            "1764  preposition-subject       next to  0.000000  experiments/247965\n",
            "1765   preposition-object       next to  0.000000  experiments/247965\n",
            "1766     preposition-verb       next to  0.000000  experiments/247965\n",
            "1767  preposition-subject          with  0.391699  experiments/633589\n",
            "1768   preposition-object          with  0.417081  experiments/633589\n",
            "1769  preposition-subject          with  0.000000  experiments/131154\n",
            "1770   preposition-object          with  0.000000  experiments/131154\n",
            "1771  preposition-subject          down  0.131836  experiments/130600\n",
            "1772   preposition-object          down  0.140741  experiments/130600\n",
            "1773     preposition-verb          down  0.796491  experiments/130600\n",
            "1774  preposition-subject            on  0.000000  experiments/798155\n",
            "1775   preposition-object            on  0.000000  experiments/798155\n",
            "1776     preposition-verb            on  0.000000  experiments/798155\n",
            "1777  preposition-subject       next to  0.000000  experiments/570051\n",
            "1778   preposition-object       next to  0.000000  experiments/570051\n",
            "1779     preposition-verb       next to  0.000000  experiments/570051\n",
            "1780  preposition-subject            on  0.000000  experiments/350417\n",
            "1781   preposition-object            on  0.000000  experiments/350417\n",
            "1782     preposition-verb            on  0.000000  experiments/350417\n",
            "1783  preposition-subject          with  0.006734  experiments/709415\n",
            "1784   preposition-object          with  0.000537  experiments/709415\n",
            "1785  preposition-subject            of  0.000000  experiments/729764\n",
            "1786   preposition-object            of  0.000000  experiments/729764\n",
            "1787     preposition-verb            of  0.000000  experiments/729764\n",
            "1788  preposition-subject        beyond  0.000000  experiments/224926\n",
            "1789   preposition-object        beyond  0.000000  experiments/224926\n",
            "1790     preposition-verb        beyond  0.000000  experiments/224926\n",
            "1791  preposition-subject            of  0.064341  experiments/557845\n",
            "1792   preposition-object            of  0.000000  experiments/557845\n",
            "1793     preposition-verb            of  0.000000  experiments/557845\n",
            "1794  preposition-subject            at  0.000000  experiments/426665\n",
            "1795   preposition-object            at  0.000000  experiments/426665\n",
            "1796     preposition-verb            at  0.000000  experiments/426665\n",
            "1797  preposition-subject         under  0.000000  experiments/206262\n",
            "1798   preposition-object         under  0.000000  experiments/206262\n",
            "1799     preposition-verb         under  0.000000  experiments/206262\n",
            "1800  preposition-subject            in  0.000000  experiments/132897\n",
            "1801   preposition-object            in  0.000000  experiments/132897\n",
            "1802  preposition-subject          with  0.000000  experiments/148629\n",
            "1803   preposition-object          with  0.000000  experiments/148629\n",
            "1804     preposition-verb          with  0.000000  experiments/148629\n",
            "1805  preposition-subject            in  0.000000  experiments/715682\n",
            "1806   preposition-object            in  0.003804  experiments/715682\n",
            "1807     preposition-verb            in  0.000000  experiments/715682\n",
            "1808  preposition-subject            on  0.000000  experiments/791053\n",
            "1809   preposition-object            on  0.000000  experiments/791053\n",
            "1810     preposition-verb            on  0.000000  experiments/791053\n",
            "1811  preposition-subject            on  0.000000  experiments/398299\n",
            "1812   preposition-object            on  0.000000  experiments/398299\n",
            "1813     preposition-verb            on  0.287002  experiments/398299\n",
            "1814  preposition-subject          with  0.282895  experiments/500286\n",
            "1815   preposition-object          with  0.077044  experiments/500286\n",
            "1816  preposition-subject          with  0.313531  experiments/494244\n",
            "1817   preposition-object          with  0.000000  experiments/494244\n",
            "1818     preposition-verb          with  0.000000  experiments/494244\n",
            "1819  preposition-subject            on  0.397590  experiments/616431\n",
            "1820   preposition-object            on  0.084307  experiments/616431\n",
            "1821     preposition-verb            on  0.277592  experiments/616431\n",
            "1822  preposition-subject       outside  0.289524  experiments/665224\n",
            "1823     preposition-verb       outside  0.000000  experiments/665224\n",
            "1824  preposition-subject            of  0.000000  experiments/513486\n",
            "1825   preposition-object            of  0.000000  experiments/513486\n",
            "1826  preposition-subject          with  0.429787  experiments/294385\n",
            "1827   preposition-object          with  0.131098  experiments/294385\n",
            "1828     preposition-verb          with  0.000000  experiments/294385\n",
            "1829  preposition-subject            on  0.000000  experiments/249901\n",
            "1830   preposition-object            on  0.000000  experiments/249901\n",
            "1831     preposition-verb            on  0.000000  experiments/249901\n",
            "1832  preposition-subject           for  0.089844   experiments/98634\n",
            "1833   preposition-object           for  0.000000   experiments/98634\n",
            "1834     preposition-verb           for  0.245925   experiments/98634\n",
            "1835  preposition-subject         while  0.000000  experiments/767190\n",
            "1836     preposition-verb         while  0.000000  experiments/767190\n",
            "1837  preposition-subject         up of  0.000000  experiments/193068\n",
            "1838   preposition-object         up of  0.000000  experiments/193068\n",
            "1839     preposition-verb         up of  0.000000  experiments/193068\n",
            "1840  preposition-subject         up to  0.007427  experiments/723727\n",
            "1841   preposition-object         up to  0.000000  experiments/723727\n",
            "1842     preposition-verb         up to  0.000000  experiments/723727\n",
            "1843  preposition-subject            on  0.000000  experiments/563439\n",
            "1844   preposition-object            on  0.000000  experiments/563439\n",
            "1845     preposition-verb            on  0.000000  experiments/563439\n",
            "1846  preposition-subject            at  0.000000  experiments/190401\n",
            "1847   preposition-object            at  0.000000  experiments/190401\n",
            "1848     preposition-verb            at  0.000000  experiments/190401\n",
            "1849  preposition-subject          down  0.485391  experiments/259502\n",
            "1850   preposition-object          down  0.238501  experiments/259502\n",
            "1851     preposition-verb          down  0.000000  experiments/259502\n",
            "1852  preposition-subject            in  0.027991  experiments/485029\n",
            "1853   preposition-object            in  0.052730  experiments/485029\n",
            "1854     preposition-verb            in  0.456731  experiments/485029\n",
            "1855  preposition-subject          over  0.111392  experiments/660255\n",
            "1856   preposition-object          over  0.000000  experiments/660255\n",
            "1857     preposition-verb          over  0.706173  experiments/660255\n",
            "1858  preposition-subject            of  0.000000  experiments/340269\n",
            "1859   preposition-object            of  0.000000  experiments/340269\n",
            "1860  preposition-subject            in  0.000000  experiments/326498\n",
            "1861   preposition-object            in  0.000000  experiments/326498\n",
            "1862  preposition-subject            of  0.000000  experiments/639155\n",
            "1863   preposition-object            of  0.000000  experiments/639155\n",
            "1864     preposition-verb            of  0.000000  experiments/639155\n",
            "1865  preposition-subject            on  0.000000   experiments/38778\n",
            "1866   preposition-object            on  0.000000   experiments/38778\n",
            "1867     preposition-verb            on  0.000000   experiments/38778\n",
            "1868  preposition-subject            on  0.000000  experiments/425856\n",
            "1869   preposition-object            on  0.000000  experiments/425856\n",
            "1870     preposition-verb            on  0.000000  experiments/425856\n",
            "1871  preposition-subject            on  0.000000  experiments/652126\n",
            "1872   preposition-object            on  0.000000  experiments/652126\n",
            "1873     preposition-verb            on  0.000000  experiments/652126\n",
            "1874  preposition-subject            of  0.000000  experiments/547055\n",
            "1875   preposition-object            of  0.000000  experiments/547055\n",
            "1876     preposition-verb            of  0.000000  experiments/547055\n",
            "1877  preposition-subject            in  0.001222  experiments/234715\n",
            "1878   preposition-object            in  0.003928  experiments/234715\n",
            "1879     preposition-verb            in  0.333333  experiments/234715\n",
            "1880  preposition-subject          near  0.000000  experiments/156949\n",
            "1881   preposition-object          near  0.000000  experiments/156949\n",
            "1882     preposition-verb          near  0.000000  experiments/156949\n",
            "1883  preposition-subject            in  0.001953  experiments/611936\n",
            "1884   preposition-object            in  0.000000  experiments/611936\n",
            "1885     preposition-verb            in  0.000000  experiments/611936\n",
            "1886  preposition-subject       next to  0.000000  experiments/392934\n",
            "1887   preposition-object       next to  0.000000  experiments/392934\n",
            "1888     preposition-verb       next to  0.000000  experiments/392934\n",
            "1889  preposition-subject          with  0.643939  experiments/407939\n",
            "1890   preposition-object          with  0.218241  experiments/407939\n",
            "1891     preposition-verb          with  0.731959  experiments/407939\n",
            "1892  preposition-subject            on  0.040062  experiments/417710\n",
            "1893   preposition-object            on  0.009407  experiments/417710\n",
            "1894     preposition-verb            on  0.000000  experiments/417710\n",
            "1895  preposition-subject          down  0.051121  experiments/688278\n",
            "1896   preposition-object          down  0.000000  experiments/688278\n",
            "1897     preposition-verb          down  0.535088  experiments/688278\n",
            "1898  preposition-subject            of  0.000000  experiments/734398\n",
            "1899   preposition-object            of  0.000000  experiments/734398\n",
            "1900     preposition-verb            of  0.000000  experiments/734398\n",
            "1901  preposition-subject            in  0.010816  experiments/478392\n",
            "1902   preposition-object            in  0.000000  experiments/478392\n",
            "1903     preposition-verb            in  0.000000  experiments/478392\n",
            "1904  preposition-subject            in  0.304299  experiments/243158\n",
            "1905   preposition-object            in  0.068883  experiments/243158\n",
            "1906     preposition-verb            in  0.085691  experiments/243158\n",
            "1907  preposition-subject       next to  0.000000  experiments/747548\n",
            "1908   preposition-object       next to  0.000000  experiments/747548\n",
            "1909     preposition-verb       next to  0.000000  experiments/747548\n",
            "1910  preposition-subject     inside of  0.000000  experiments/161493\n",
            "1911   preposition-object     inside of  0.000000  experiments/161493\n",
            "1912     preposition-verb     inside of  0.000000  experiments/161493\n",
            "1913  preposition-subject         up to  0.006550  experiments/524956\n",
            "1914   preposition-object         up to  0.001261  experiments/524956\n",
            "1915     preposition-verb         up to  0.003205  experiments/524956\n",
            "1916  preposition-subject            at  0.000000  experiments/359268\n",
            "1917   preposition-object            at  0.000000  experiments/359268\n",
            "1918     preposition-verb            at  0.000000  experiments/359268\n",
            "1919  preposition-subject           for  0.000000   experiments/38420\n",
            "1920   preposition-object           for  0.000000   experiments/38420\n",
            "1921     preposition-verb           for  0.000000   experiments/38420\n",
            "1922  preposition-subject            in  0.000000  experiments/702110\n",
            "1923   preposition-object            in  0.000000  experiments/702110\n",
            "1924     preposition-verb            in  0.000000  experiments/702110\n",
            "1925  preposition-subject            in  0.000000  experiments/189316\n",
            "1926   preposition-object            in  0.000000  experiments/189316\n",
            "1927  preposition-subject         among  0.511273   experiments/60836\n",
            "1928   preposition-object         among  0.000000   experiments/60836\n",
            "1929     preposition-verb         among  0.000000   experiments/60836\n",
            "1930  preposition-subject          with  0.320531   experiments/93954\n",
            "1931   preposition-object          with  0.016074   experiments/93954\n",
            "1932  preposition-subject            in  0.000000  experiments/234641\n",
            "1933   preposition-object            in  0.000000  experiments/234641\n",
            "1934     preposition-verb            in  0.000000  experiments/234641\n",
            "1935  preposition-subject          from  0.376943  experiments/228566\n",
            "1936   preposition-object          from  0.026012  experiments/228566\n",
            "1937     preposition-verb          from  0.000000  experiments/228566\n",
            "1938  preposition-subject            in  0.133142  experiments/183788\n",
            "1939   preposition-object            in  0.062905  experiments/183788\n",
            "1940     preposition-verb            in  0.013423  experiments/183788\n",
            "1941  preposition-subject            at  0.769392  experiments/401427\n",
            "1942   preposition-object            at  0.171527  experiments/401427\n",
            "1943     preposition-verb            at  0.321041  experiments/401427\n",
            "1944  preposition-subject            on  0.000000  experiments/471463\n",
            "1945   preposition-object            on  0.000000  experiments/471463\n",
            "1946     preposition-verb            on  0.000000  experiments/471463\n",
            "1947  preposition-subject          with  0.009413  experiments/567762\n",
            "1948   preposition-object          with  0.000000  experiments/567762\n",
            "1949     preposition-verb          with  0.012539  experiments/567762\n",
            "1950  preposition-subject            on  0.000000  experiments/535457\n",
            "1951   preposition-object            on  0.000000  experiments/535457\n",
            "1952     preposition-verb            on  0.000000  experiments/535457\n",
            "1953  preposition-subject            by  0.153226  experiments/824085\n",
            "1954     preposition-verb            by  0.218391  experiments/824085\n",
            "1955  preposition-subject          with  0.016316  experiments/720600\n",
            "1956   preposition-object          with  0.000000  experiments/720600\n",
            "1957  preposition-subject          from  0.000693   experiments/50852\n",
            "1958   preposition-object          from  0.000000   experiments/50852\n",
            "1959     preposition-verb          from  0.005348   experiments/50852\n",
            "1960  preposition-subject            on  0.000000  experiments/747311\n",
            "1961   preposition-object            on  0.000000  experiments/747311\n",
            "1962     preposition-verb            on  0.000000  experiments/747311\n",
            "1963  preposition-subject            on  0.000000  experiments/324242\n",
            "1964   preposition-object            on  0.000000  experiments/324242\n",
            "1965     preposition-verb            on  0.000000  experiments/324242\n",
            "1966  preposition-subject          with  0.074652  experiments/814499\n",
            "1967   preposition-object          with  0.011364  experiments/814499\n",
            "1968  preposition-subject       wearing  0.036036  experiments/188588\n",
            "1969   preposition-object       wearing  0.579310  experiments/188588\n",
            "1970  preposition-subject       next to  0.000000  experiments/770011\n",
            "1971   preposition-object       next to  0.000000  experiments/770011\n",
            "1972  preposition-subject            on  0.000000  experiments/115364\n",
            "1973   preposition-object            on  0.000000  experiments/115364\n",
            "1974     preposition-verb            on  0.000000  experiments/115364\n",
            "1975  preposition-subject            in  0.000000  experiments/478001\n",
            "1976   preposition-object            in  0.031683  experiments/478001\n",
            "1977     preposition-verb            in  0.338889  experiments/478001\n",
            "1978  preposition-subject            at  0.175545  experiments/251576\n",
            "1979   preposition-object            at  0.363815  experiments/251576\n",
            "1980     preposition-verb            at  0.589396  experiments/251576\n",
            "1981  preposition-subject            in  0.000000  experiments/261966\n",
            "1982   preposition-object            in  0.000000  experiments/261966\n",
            "1983     preposition-verb            in  0.000000  experiments/261966\n",
            "1984  preposition-subject            on  0.000000   experiments/95123\n",
            "1985   preposition-object            on  0.000000   experiments/95123\n",
            "1986     preposition-verb            on  0.000000   experiments/95123\n",
            "1987  preposition-subject            in  0.020792  experiments/242598\n",
            "1988   preposition-object            in  0.008547  experiments/242598\n",
            "1989     preposition-verb            in  0.000000  experiments/242598\n",
            "1990  preposition-subject          with  0.900768  experiments/409612\n",
            "1991   preposition-object          with  0.000000  experiments/409612\n",
            "1992     preposition-verb          with  0.000000  experiments/409612\n",
            "1993  preposition-subject       next to  0.000000  experiments/789491\n",
            "1994   preposition-object       next to  0.000000  experiments/789491\n",
            "1995  preposition-subject        behind  0.000000  experiments/563453\n",
            "1996   preposition-object        behind  0.000000  experiments/563453\n",
            "1997     preposition-verb        behind  0.000000  experiments/563453\n",
            "1998  preposition-subject            of  0.000000  experiments/215555\n",
            "1999   preposition-object            of  0.000000  experiments/215555\n",
            "2000  preposition-subject            on  0.054753  experiments/602679\n",
            "2001   preposition-object            on  0.000000  experiments/602679\n",
            "2002     preposition-verb            on  0.021340  experiments/602679\n",
            "2003  preposition-subject            on  0.003224  experiments/579003\n",
            "2004   preposition-object            on  0.000000  experiments/579003\n",
            "2005     preposition-verb            on  0.000000  experiments/579003\n",
            "2006  preposition-subject       through  0.000000  experiments/267014\n",
            "2007   preposition-object       through  0.000000  experiments/267014\n",
            "2008     preposition-verb       through  0.000000  experiments/267014\n",
            "2009  preposition-subject            in  0.000000  experiments/552311\n",
            "2010   preposition-object            in  0.000000  experiments/552311\n",
            "2011     preposition-verb            in  0.000000  experiments/552311\n",
            "2012  preposition-subject          with  0.154321  experiments/212178\n",
            "2013   preposition-object          with  0.009021  experiments/212178\n",
            "2014     preposition-verb          with  0.000000  experiments/212178\n",
            "2015  preposition-subject            in  0.457684   experiments/32880\n",
            "2016   preposition-object            in  0.000000   experiments/32880\n",
            "2017     preposition-verb            in  0.008219   experiments/32880\n",
            "2018  preposition-subject         in to  0.000000  experiments/339568\n",
            "2019   preposition-object         in to  0.000000  experiments/339568\n",
            "2020     preposition-verb         in to  0.000000  experiments/339568\n",
            "2021  preposition-subject       next to  0.048414  experiments/250476\n",
            "2022   preposition-object       next to  0.000000  experiments/250476\n",
            "2023  preposition-subject          with  0.542886  experiments/342799\n",
            "2024   preposition-object          with  0.524869  experiments/342799\n",
            "2025     preposition-verb          with  0.000000  experiments/342799\n",
            "2026  preposition-subject            in  0.000000  experiments/206712\n",
            "2027   preposition-object            in  0.000000  experiments/206712\n",
            "2028  preposition-subject         up of  0.000000  experiments/245799\n",
            "2029   preposition-object         up of  0.000000  experiments/245799\n",
            "2030  preposition-subject            of  0.000000  experiments/591640\n",
            "2031   preposition-object            of  0.000000  experiments/591640\n",
            "2032     preposition-verb            of  0.000000  experiments/591640\n",
            "2033  preposition-subject           out  0.186047  experiments/494322\n",
            "2034   preposition-object           out  0.015592  experiments/494322\n",
            "2035     preposition-verb           out  0.000000  experiments/494322\n",
            "2036  preposition-subject          down  0.003817  experiments/222702\n",
            "2037   preposition-object          down  0.000000  experiments/222702\n",
            "2038     preposition-verb          down  0.014815  experiments/222702\n",
            "2039  preposition-subject            of  0.000000  experiments/287516\n",
            "2040   preposition-object            of  0.000000  experiments/287516\n",
            "2041     preposition-verb            of  0.000000  experiments/287516\n",
            "2042  preposition-subject          with  0.079451  experiments/429293\n",
            "2043   preposition-object          with  0.323758  experiments/429293\n",
            "2044     preposition-verb          with  0.000000  experiments/429293\n",
            "2045  preposition-subject       next to  0.000000  experiments/678661\n",
            "2046   preposition-object       next to  0.000000  experiments/678661\n",
            "2047     preposition-verb       next to  0.000000  experiments/678661\n",
            "2048  preposition-subject            on  0.003418  experiments/339136\n",
            "2049   preposition-object            on  0.002371  experiments/339136\n",
            "2050     preposition-verb            on  0.000000  experiments/339136\n",
            "2051  preposition-subject            in  0.000000  experiments/798679\n",
            "2052   preposition-object            in  0.000000  experiments/798679\n",
            "2053     preposition-verb            in  0.000000  experiments/798679\n",
            "2054  preposition-subject          with  0.591553  experiments/279207\n",
            "2055   preposition-object          with  0.146368  experiments/279207\n",
            "2056     preposition-verb          with  0.000000  experiments/279207\n",
            "2057  preposition-subject          over  0.343374  experiments/509591\n",
            "2058   preposition-object          over  0.000000  experiments/509591\n",
            "2059     preposition-verb          over  0.000000  experiments/509591\n",
            "2060  preposition-subject            in  0.022290  experiments/293642\n",
            "2061   preposition-object            in  0.000000  experiments/293642\n",
            "2062     preposition-verb            in  0.000000  experiments/293642\n",
            "2063  preposition-subject   in front of  0.000000   experiments/23904\n",
            "2064   preposition-object   in front of  0.000000   experiments/23904\n",
            "2065  preposition-subject          with  0.000000   experiments/38283\n",
            "2066   preposition-object          with  0.000000   experiments/38283\n",
            "2067  preposition-subject          into  0.029304  experiments/639852\n",
            "2068   preposition-object          into  0.041710  experiments/639852\n",
            "2069     preposition-verb          into  0.000000  experiments/639852\n",
            "2070  preposition-subject          down  0.268716  experiments/194112\n",
            "2071   preposition-object          down  0.000000  experiments/194112\n",
            "2072     preposition-verb          down  0.813761  experiments/194112\n",
            "2073  preposition-subject          down  0.017186  experiments/314069\n",
            "2074   preposition-object          down  0.006460  experiments/314069\n",
            "2075     preposition-verb          down  0.000000  experiments/314069\n",
            "2076  preposition-subject            on  0.776427  experiments/231620\n",
            "2077   preposition-object            on  0.000000  experiments/231620\n",
            "2078     preposition-verb            on  0.113850  experiments/231620\n",
            "2079  preposition-subject        beside  0.046606  experiments/420180\n",
            "2080   preposition-object        beside  0.327273  experiments/420180\n",
            "2081     preposition-verb        beside  0.000000  experiments/420180\n",
            "2082  preposition-subject            on  0.000000   experiments/33583\n",
            "2083   preposition-object            on  0.000000   experiments/33583\n",
            "2084     preposition-verb            on  0.000000   experiments/33583\n",
            "2085  preposition-subject            on  0.204871   experiments/87908\n",
            "2086   preposition-object            on  0.000000   experiments/87908\n",
            "2087     preposition-verb            on  0.000000   experiments/87908\n",
            "2088  preposition-subject            in  0.000000  experiments/227538\n",
            "2089   preposition-object            in  0.000000  experiments/227538\n",
            "2090     preposition-verb            in  0.000000  experiments/227538\n",
            "2091  preposition-subject            in  0.000000  experiments/568856\n",
            "2092   preposition-object            in  0.000000  experiments/568856\n",
            "2093     preposition-verb            in  0.000000  experiments/568856\n",
            "2094  preposition-subject            in  0.679688  experiments/649953\n",
            "2095   preposition-object            in  0.553846  experiments/649953\n",
            "2096     preposition-verb            in  0.003951  experiments/649953\n",
            "2097  preposition-subject            of  0.000000  experiments/312278\n",
            "2098   preposition-object            of  0.000000  experiments/312278\n",
            "2099     preposition-verb            of  0.000000  experiments/312278\n",
            "2100  preposition-subject          with  0.639472  experiments/750576\n",
            "2101   preposition-object          with  0.013344  experiments/750576\n",
            "2102  preposition-subject            as  0.002441  experiments/391852\n",
            "2103     preposition-verb            as  0.021322  experiments/391852\n",
            "2104  preposition-subject            on  0.000000  experiments/397842\n",
            "2105   preposition-object            on  0.000000  experiments/397842\n",
            "2106     preposition-verb            on  0.000000  experiments/397842\n",
            "2107  preposition-subject          with  0.022612  experiments/246250\n",
            "2108   preposition-object          with  0.029982  experiments/246250\n",
            "2109     preposition-verb          with  0.000000  experiments/246250\n",
            "2110  preposition-subject            in  0.000000   experiments/23541\n",
            "2111   preposition-object            in  0.000000   experiments/23541\n",
            "2112     preposition-verb            in  0.000000   experiments/23541\n",
            "2113  preposition-subject          with  0.201439  experiments/550039\n",
            "2114   preposition-object          with  0.050000  experiments/550039\n",
            "2115     preposition-verb          with  0.000000  experiments/550039\n",
            "2116  preposition-subject            at  0.277098  experiments/552994\n",
            "2117   preposition-object            at  0.227740  experiments/552994\n",
            "2118     preposition-verb            at  0.310519  experiments/552994\n",
            "2119  preposition-subject            on  0.000977  experiments/810053\n",
            "2120   preposition-object            on  0.000977  experiments/810053\n",
            "2121     preposition-verb            on  0.000000  experiments/810053\n",
            "2122  preposition-subject          down  0.000000  experiments/272448\n",
            "2123   preposition-object          down  0.026061  experiments/272448\n",
            "2124     preposition-verb          down  0.069824  experiments/272448\n",
            "2125  preposition-subject            on  0.138837  experiments/501698\n",
            "2126   preposition-object            on  0.000000  experiments/501698\n",
            "2127  preposition-subject       towards  0.082474  experiments/323140\n",
            "2128   preposition-object       towards  0.004162  experiments/323140\n",
            "2129     preposition-verb       towards  0.448454  experiments/323140\n",
            "2130  preposition-subject     inside of  0.000000  experiments/636156\n",
            "2131   preposition-object     inside of  0.000000  experiments/636156\n",
            "2132     preposition-verb     inside of  0.000000  experiments/636156\n",
            "2133  preposition-subject       next to  0.000000  experiments/263254\n",
            "2134   preposition-object       next to  0.000000  experiments/263254\n",
            "2135     preposition-verb       next to  0.000000  experiments/263254\n",
            "2136  preposition-subject            at  0.000000  experiments/436501\n",
            "2137   preposition-object            at  0.000000  experiments/436501\n",
            "2138     preposition-verb            at  0.000000  experiments/436501\n",
            "2139  preposition-subject            in  0.000000  experiments/525539\n",
            "2140   preposition-object            in  0.000000  experiments/525539\n",
            "2141     preposition-verb            in  0.000000  experiments/525539\n",
            "2142  preposition-subject            on  0.022200  experiments/738417\n",
            "2143   preposition-object            on  0.000000  experiments/738417\n",
            "2144     preposition-verb            on  0.215909  experiments/738417\n",
            "2145  preposition-subject          over  0.573864  experiments/411511\n",
            "2146   preposition-object          over  0.607301  experiments/411511\n",
            "2147     preposition-verb          over  0.028803  experiments/411511\n",
            "2148  preposition-subject            by  0.038462  experiments/167746\n",
            "2149   preposition-object            by  0.623693  experiments/167746\n",
            "2150     preposition-verb            by  0.450226  experiments/167746\n",
            "2151  preposition-subject          with  0.000000  experiments/272660\n",
            "2152   preposition-object          with  0.000000  experiments/272660\n",
            "2153  preposition-subject     on top of  0.000000  experiments/516656\n",
            "2154   preposition-object     on top of  0.000000  experiments/516656\n",
            "2155     preposition-verb     on top of  0.000000  experiments/516656\n",
            "2156  preposition-subject            on  0.000000  experiments/658601\n",
            "2157   preposition-object            on  0.000000  experiments/658601\n",
            "2158     preposition-verb            on  0.000000  experiments/658601\n",
            "2159  preposition-subject            of  0.000000  experiments/769749\n",
            "2160   preposition-object            of  0.000000  experiments/769749\n",
            "2161  preposition-subject            in  0.229736  experiments/233105\n",
            "2162   preposition-object            in  0.000000  experiments/233105\n",
            "2163  preposition-subject          near  0.000000  experiments/297873\n",
            "2164   preposition-object          near  0.000000  experiments/297873\n",
            "2165     preposition-verb          near  0.000000  experiments/297873\n",
            "2166  preposition-subject       next to  0.000000  experiments/801527\n",
            "2167   preposition-object       next to  0.000000  experiments/801527\n",
            "2168     preposition-verb       next to  0.000000  experiments/801527\n",
            "2169  preposition-subject            on  0.000000  experiments/374829\n",
            "2170   preposition-object            on  0.000000  experiments/374829\n",
            "2171     preposition-verb            on  0.000000  experiments/374829\n",
            "2172  preposition-subject            on  0.051074  experiments/405704\n",
            "2173   preposition-object            on  0.000000  experiments/405704\n",
            "2174     preposition-verb            on  0.000000  experiments/405704\n",
            "2175  preposition-subject          with  0.148148  experiments/564737\n",
            "2176   preposition-object          with  0.044747  experiments/564737\n",
            "2177  preposition-subject          with  0.907715  experiments/159840\n",
            "2178   preposition-object          with  0.001614  experiments/159840\n",
            "2179     preposition-verb          with  0.000000  experiments/159840\n",
            "2180  preposition-subject            on  0.000000  experiments/765614\n",
            "2181   preposition-object            on  0.000000  experiments/765614\n",
            "2182     preposition-verb            on  0.000000  experiments/765614\n",
            "2183  preposition-subject       next to  0.010638  experiments/490106\n",
            "2184   preposition-object       next to  0.009719  experiments/490106\n",
            "2185     preposition-verb       next to  0.444444  experiments/490106\n",
            "2186  preposition-subject          with  0.332026  experiments/676750\n",
            "2187   preposition-object          with  0.229044  experiments/676750\n",
            "2188     preposition-verb          with  0.000733  experiments/676750\n",
            "2189  preposition-subject        across  0.364754  experiments/785752\n",
            "2190   preposition-object        across  0.000000  experiments/785752\n",
            "2191     preposition-verb        across  0.043453  experiments/785752\n",
            "2192  preposition-subject            in  0.000000   experiments/46459\n",
            "2193   preposition-object            in  0.000000   experiments/46459\n",
            "2194     preposition-verb            in  0.000000   experiments/46459\n",
            "2195  preposition-subject            in  0.044053  experiments/430504\n",
            "2196   preposition-object            in  0.009766  experiments/430504\n",
            "2197     preposition-verb            in  0.042463  experiments/430504\n",
            "2198  preposition-subject            on  0.005665  experiments/802973\n",
            "2199   preposition-object            on  0.000000  experiments/802973\n",
            "2200     preposition-verb            on  0.008142  experiments/802973\n",
            "2201  preposition-subject          with  0.676215  experiments/206637\n",
            "2202   preposition-object          with  0.361782  experiments/206637\n",
            "2203  preposition-subject            of  0.000000  experiments/328872\n",
            "2204   preposition-object            of  0.000000  experiments/328872\n",
            "2205     preposition-verb            of  0.000000  experiments/328872\n",
            "2206  preposition-subject          over  0.806136  experiments/411352\n",
            "2207   preposition-object          over  0.266125  experiments/411352\n",
            "2208     preposition-verb          over  0.684328  experiments/411352\n",
            "2209  preposition-subject            of  0.211650   experiments/94105\n",
            "2210   preposition-object            of  0.072727   experiments/94105\n",
            "2211     preposition-verb            of  0.007246   experiments/94105\n",
            "2212  preposition-subject            of  0.000000   experiments/29607\n",
            "2213   preposition-object            of  0.295956   experiments/29607\n",
            "2214  preposition-subject            of  0.000000  experiments/117355\n",
            "2215   preposition-object            of  0.000000  experiments/117355\n",
            "2216     preposition-verb            of  0.000000  experiments/117355\n",
            "2217  preposition-subject   in front of  0.000000  experiments/211288\n",
            "2218   preposition-object   in front of  0.000000  experiments/211288\n",
            "2219  preposition-subject            of  0.000000  experiments/605802\n",
            "2220   preposition-object            of  0.000000  experiments/605802\n",
            "2221  preposition-subject   in front of  0.000000  experiments/170164\n",
            "2222   preposition-object   in front of  0.000000  experiments/170164\n",
            "2223     preposition-verb   in front of  0.000000  experiments/170164\n",
            "2224  preposition-subject            in  0.000000  experiments/138575\n",
            "2225   preposition-object            in  0.000000  experiments/138575\n",
            "2226     preposition-verb            in  0.000000  experiments/138575\n",
            "2227  preposition-subject            on  0.000000  experiments/564699\n",
            "2228   preposition-object            on  0.000000  experiments/564699\n",
            "2229  preposition-subject            on  0.054726  experiments/628203\n",
            "2230   preposition-object            on  0.000000  experiments/628203\n",
            "2231     preposition-verb            on  0.041667  experiments/628203\n",
            "2232  preposition-subject            in  0.900288  experiments/360287\n",
            "2233   preposition-object            in  0.000000  experiments/360287\n",
            "2234     preposition-verb            in  0.000000  experiments/360287\n",
            "2235  preposition-subject          over  0.012072   experiments/35576\n",
            "2236   preposition-object          over  0.000000   experiments/35576\n",
            "2237     preposition-verb          over  0.055703   experiments/35576\n",
            "2238  preposition-subject            of  0.000000  experiments/219684\n",
            "2239   preposition-object            of  0.000000  experiments/219684\n",
            "2240  preposition-subject          with  0.102278   experiments/61129\n",
            "2241   preposition-object          with  0.498721   experiments/61129\n",
            "2242  preposition-subject     on top of  0.000000  experiments/266609\n",
            "2243   preposition-object     on top of  0.000000  experiments/266609\n",
            "2244     preposition-verb     on top of  0.000000  experiments/266609\n",
            "2245  preposition-subject          with  0.000000  experiments/322778\n",
            "2246   preposition-object          with  0.000000  experiments/322778\n",
            "2247     preposition-verb          with  0.000000  experiments/322778\n",
            "2248  preposition-subject            on  0.004551  experiments/820217\n",
            "2249   preposition-object            on  0.000000  experiments/820217\n",
            "2250     preposition-verb            on  0.000000  experiments/820217\n",
            "2251  preposition-subject            on  0.000000  experiments/140676\n",
            "2252   preposition-object            on  0.000000  experiments/140676\n",
            "2253     preposition-verb            on  0.000000  experiments/140676\n",
            "2254  preposition-subject            of  0.000000  experiments/228193\n",
            "2255   preposition-object            of  0.000000  experiments/228193\n",
            "2256     preposition-verb            of  0.000000  experiments/228193\n",
            "2257  preposition-subject            at  0.000000  experiments/488807\n",
            "2258   preposition-object            at  0.000000  experiments/488807\n",
            "2259     preposition-verb            at  0.000000  experiments/488807\n",
            "2260  preposition-subject            in  0.007812  experiments/118988\n",
            "2261   preposition-object            in  0.000000  experiments/118988\n",
            "2262  preposition-subject            on  0.000000  experiments/654347\n",
            "2263   preposition-object            on  0.000000  experiments/654347\n",
            "2264  preposition-subject       next to  0.000000  experiments/828277\n",
            "2265   preposition-object       next to  0.000000  experiments/828277\n",
            "2266  preposition-subject          with  0.000000  experiments/675402\n",
            "2267   preposition-object          with  0.048887  experiments/675402\n",
            "2268  preposition-subject          with  0.647934  experiments/651863\n",
            "2269   preposition-object          with  0.399319  experiments/651863\n",
            "2270  preposition-subject            in  0.903459  experiments/283119\n",
            "2271   preposition-object            in  0.000000  experiments/283119\n",
            "2272     preposition-verb            in  0.885726  experiments/283119\n",
            "2273  preposition-subject          with  0.360306  experiments/265970\n",
            "2274   preposition-object          with  0.099237  experiments/265970\n",
            "2275     preposition-verb          with  0.000883  experiments/265970\n",
            "2276  preposition-subject        out of  0.000000  experiments/195057\n",
            "2277   preposition-object        out of  0.000000  experiments/195057\n",
            "2278     preposition-verb        out of  0.000000  experiments/195057\n",
            "2279  preposition-subject   in front of  0.000000  experiments/542340\n",
            "2280   preposition-object   in front of  0.000000  experiments/542340\n",
            "2281  preposition-subject            at  0.000000  experiments/665564\n",
            "2282   preposition-object            at  0.000000  experiments/665564\n",
            "2283     preposition-verb            at  0.000000  experiments/665564\n",
            "2284  preposition-subject            on  0.000000  experiments/494423\n",
            "2285   preposition-object            on  0.000000  experiments/494423\n",
            "2286     preposition-verb            on  0.000000  experiments/494423\n",
            "2287  preposition-subject          with  0.602097  experiments/225113\n",
            "2288   preposition-object          with  0.000000  experiments/225113\n",
            "2289     preposition-verb          with  0.003565  experiments/225113\n",
            "2290  preposition-subject          with  0.221541  experiments/513031\n",
            "2291   preposition-object          with  0.082845  experiments/513031\n",
            "2292     preposition-verb          with  0.000000  experiments/513031\n",
            "2293  preposition-subject            in  0.049710  experiments/540733\n",
            "2294   preposition-object            in  0.007050  experiments/540733\n",
            "2295     preposition-verb            in  0.074257  experiments/540733\n",
            "2296  preposition-subject            of  0.000000  experiments/767906\n",
            "2297   preposition-object            of  0.000000  experiments/767906\n",
            "2298  preposition-subject          with  0.000000  experiments/520854\n",
            "2299   preposition-object          with  0.333333  experiments/520854\n",
            "2300     preposition-verb          with  0.135238  experiments/520854\n",
            "2301  preposition-subject            in  0.000000  experiments/719216\n",
            "2302   preposition-object            in  0.000000  experiments/719216\n",
            "2303     preposition-verb            in  0.000000  experiments/719216\n",
            "2304  preposition-subject            in  0.000000  experiments/496936\n",
            "2305   preposition-object            in  0.000000  experiments/496936\n",
            "2306     preposition-verb            in  0.000000  experiments/496936\n",
            "2307  preposition-subject        behind  0.365741  experiments/752693\n",
            "2308   preposition-object        behind  0.056000  experiments/752693\n",
            "2309     preposition-verb        behind  0.000000  experiments/752693\n",
            "2310  preposition-subject            on  0.003063  experiments/759437\n",
            "2311   preposition-object            on  0.000000  experiments/759437\n",
            "2312     preposition-verb            on  0.000000  experiments/759437\n",
            "2313  preposition-subject            by  0.108504  experiments/203464\n",
            "2314   preposition-object            by  0.000000  experiments/203464\n",
            "2315     preposition-verb            by  0.000000  experiments/203464\n",
            "2316  preposition-subject            up  0.000000  experiments/487760\n",
            "2317   preposition-object            up  0.006313  experiments/487760\n",
            "2318     preposition-verb            up  0.158621  experiments/487760\n",
            "2319  preposition-subject            on  0.000000  experiments/382774\n",
            "2320   preposition-object            on  0.000000  experiments/382774\n",
            "2321  preposition-subject            on  0.000000  experiments/806273\n",
            "2322   preposition-object            on  0.000000  experiments/806273\n",
            "2323  preposition-subject            in  0.000000  experiments/720723\n",
            "2324   preposition-object            in  0.000000  experiments/720723\n",
            "2325     preposition-verb            in  0.000000  experiments/720723\n",
            "2326  preposition-subject          over  0.000000  experiments/626581\n",
            "2327   preposition-object          over  0.000000  experiments/626581\n",
            "2328     preposition-verb          over  0.000000  experiments/626581\n",
            "2329  preposition-subject            in  0.530572  experiments/247735\n",
            "2330   preposition-object            in  0.035780  experiments/247735\n",
            "2331     preposition-verb            in  0.048334  experiments/247735\n",
            "2332  preposition-subject            in  0.000000  experiments/462931\n",
            "2333   preposition-object            in  0.000000  experiments/462931\n",
            "2334  preposition-subject            on  0.002694  experiments/587270\n",
            "2335   preposition-object            on  0.000000  experiments/587270\n",
            "2336  preposition-subject            in  0.054212  experiments/228284\n",
            "2337   preposition-object            in  0.068091  experiments/228284\n",
            "2338     preposition-verb            in  0.039216  experiments/228284\n",
            "2339  preposition-subject          with  0.000000  experiments/482284\n",
            "2340   preposition-object          with  0.000000  experiments/482284\n",
            "2341  preposition-subject            on  0.154685  experiments/650804\n",
            "2342   preposition-object            on  0.000000  experiments/650804\n",
            "2343     preposition-verb            on  0.000000  experiments/650804\n",
            "2344  preposition-subject           for  0.007524  experiments/734640\n",
            "2345   preposition-object           for  0.016807  experiments/734640\n",
            "2346     preposition-verb           for  0.000000  experiments/734640\n",
            "2347  preposition-subject            by  0.002448  experiments/806757\n",
            "2348   preposition-object            by  0.002197  experiments/806757\n",
            "2349     preposition-verb            by  0.000000  experiments/806757\n",
            "2350  preposition-subject            at  0.000000  experiments/574262\n",
            "2351   preposition-object            at  0.000000  experiments/574262\n",
            "2352     preposition-verb            at  0.000000  experiments/574262\n",
            "2353  preposition-subject            of  0.082875  experiments/133650\n",
            "2354   preposition-object            of  0.022635  experiments/133650\n",
            "2355  preposition-subject            of  0.000000  experiments/272486\n",
            "2356   preposition-object            of  0.000000  experiments/272486\n",
            "2357     preposition-verb            of  0.000000  experiments/272486\n",
            "2358  preposition-subject            of  0.000000  experiments/453753\n",
            "2359   preposition-object            of  0.000000  experiments/453753\n",
            "2360     preposition-verb            of  0.000000  experiments/453753\n",
            "2361  preposition-subject          over  0.000000  experiments/369699\n",
            "2362   preposition-object          over  0.000000  experiments/369699\n",
            "2363     preposition-verb          over  0.000000  experiments/369699\n",
            "2364  preposition-subject            on  0.010545  experiments/384800\n",
            "2365   preposition-object            on  0.000000  experiments/384800\n",
            "2366     preposition-verb            on  0.000000  experiments/384800\n",
            "2367  preposition-subject          with  0.075929  experiments/313029\n",
            "2368   preposition-object          with  0.057015  experiments/313029\n",
            "2369     preposition-verb          with  0.000000  experiments/313029\n",
            "2370  preposition-subject            in  0.418999  experiments/821135\n",
            "2371   preposition-object            in  0.000000  experiments/821135\n",
            "2372     preposition-verb            in  0.233533  experiments/821135\n",
            "2373  preposition-subject            on  0.159486   experiments/36184\n",
            "2374   preposition-object            on  0.064729   experiments/36184\n",
            "2375     preposition-verb            on  0.000000   experiments/36184\n",
            "2376  preposition-subject            of  0.000000  experiments/123415\n",
            "2377   preposition-object            of  0.103413  experiments/123415\n",
            "2378     preposition-verb            of  0.514056  experiments/123415\n",
            "2379  preposition-subject          from  0.079938  experiments/591054\n",
            "2380   preposition-object          from  0.000000  experiments/591054\n",
            "2381     preposition-verb          from  0.000000  experiments/591054\n",
            "2382  preposition-subject       next to  0.000447  experiments/648155\n",
            "2383   preposition-object       next to  0.000759  experiments/648155\n",
            "2384     preposition-verb       next to  0.000000  experiments/648155\n",
            "2385  preposition-subject            in  0.000000  experiments/675990\n",
            "2386   preposition-object            in  0.000000  experiments/675990\n",
            "2387     preposition-verb            in  0.000000  experiments/675990\n",
            "2388  preposition-subject          with  0.247199  experiments/333395\n",
            "2389   preposition-object          with  0.127236  experiments/333395\n",
            "2390     preposition-verb          with  0.460641  experiments/333395\n",
            "2391  preposition-subject            of  0.000000  experiments/416931\n",
            "2392   preposition-object            of  0.000000  experiments/416931\n",
            "2393  preposition-subject            on  0.000938  experiments/752060\n",
            "2394   preposition-object            on  0.000000  experiments/752060\n",
            "2395  preposition-subject            in  0.008907  experiments/615698\n",
            "2396   preposition-object            in  0.000000  experiments/615698\n"
          ]
        },
        {
          "output_type": "stream",
          "name": "stderr",
          "text": [
            "\n"
          ]
        }
      ]
    },
    {
      "cell_type": "markdown",
      "source": [
        "#Aggregate statistics"
      ],
      "metadata": {
        "id": "zHHPobmy16wh"
      }
    },
    {
      "cell_type": "code",
      "source": [
        "stats_df.to_csv('stats_output.csv', index=False)"
      ],
      "metadata": {
        "id": "Ol6-vRsa5GVz"
      },
      "execution_count": null,
      "outputs": []
    },
    {
      "cell_type": "code",
      "source": [
        "stats_df = pd.read_csv('stats_output.csv')"
      ],
      "metadata": {
        "id": "FI5dWZZJNUy9"
      },
      "execution_count": null,
      "outputs": []
    },
    {
      "cell_type": "code",
      "source": [
        "stats_df['preposition'] = stats_df['preposition'].str.lower()"
      ],
      "metadata": {
        "id": "OHS96mJt_xp2"
      },
      "execution_count": null,
      "outputs": []
    },
    {
      "cell_type": "code",
      "source": [
        "preposition_counts = stats_df['preposition'].value_counts()\n",
        "\n",
        "# Convert the Series to a DataFrame for better tabular presentation\n",
        "preposition_counts_df = preposition_counts.reset_index()\n",
        "preposition_counts_df.columns = ['Preposition', 'Count']\n",
        "\n",
        "print(preposition_counts_df)"
      ],
      "metadata": {
        "colab": {
          "base_uri": "https://localhost:8080/"
        },
        "id": "RINkclI66ZMo",
        "outputId": "058aa6b0-a563-4fd3-c1a3-16a883098967"
      },
      "execution_count": null,
      "outputs": [
        {
          "output_type": "stream",
          "name": "stdout",
          "text": [
            "     Preposition  Count\n",
            "0             on    496\n",
            "1             in    409\n",
            "2           with    334\n",
            "3             of    290\n",
            "4             at    113\n",
            "..           ...    ...\n",
            "56        across      3\n",
            "57         about      2\n",
            "58          like      2\n",
            "59  side by side      2\n",
            "60            as      2\n",
            "\n",
            "[61 rows x 2 columns]\n"
          ]
        }
      ]
    },
    {
      "cell_type": "code",
      "source": [
        "overall_std = preposition_counts_df['Count'].std()\n",
        "print(f\"Overall Standard Deviation: {overall_std:.2f}\")"
      ],
      "metadata": {
        "colab": {
          "base_uri": "https://localhost:8080/"
        },
        "id": "DuMFs9tvebZ7",
        "outputId": "d5b1f3c5-3227-4a3d-c701-01febdef6077"
      },
      "execution_count": null,
      "outputs": [
        {
          "output_type": "stream",
          "name": "stdout",
          "text": [
            "Overall Standard Deviation: 96.41\n"
          ]
        }
      ]
    },
    {
      "cell_type": "code",
      "source": [
        "# Calculate the mean IoU across all pairs, ignoring prepositions\n",
        "mean_iou_all = stats_df['iou'].mean()\n",
        "rounded_mean_iou_percentage = round(mean_iou_all * 100, 4)\n",
        "print(\"Mean IoU across all pairs:\", rounded_mean_iou_percentage, \"%\")"
      ],
      "metadata": {
        "colab": {
          "base_uri": "https://localhost:8080/"
        },
        "id": "S6rHmYh9-ncT",
        "outputId": "360a70e8-1ebd-495f-f27b-89de44a94bf2"
      },
      "execution_count": null,
      "outputs": [
        {
          "output_type": "stream",
          "name": "stdout",
          "text": [
            "Mean IoU across all pairs: 6.088 %\n"
          ]
        }
      ]
    },
    {
      "cell_type": "code",
      "source": [
        "# Calculate the mean IoU for each type of pair, ignoring prepositions\n",
        "mean_iou_by_pair = stats_df.groupby('pair').agg(mean_iou=('iou', 'mean'))\n",
        "\n",
        "# Convert to percentage and round to two decimal places\n",
        "mean_iou_by_pair['mean_iou'] = (mean_iou_by_pair['mean_iou'] * 100).round(4)\n",
        "\n",
        "# Sort from largest to smallest mean IoU\n",
        "mean_iou_by_pair = mean_iou_by_pair.sort_values('mean_iou', ascending=False)\n",
        "\n",
        "# Print the DataFrame\n",
        "print(\"Mean IoU by Pair (in %):\")\n",
        "print(mean_iou_by_pair)"
      ],
      "metadata": {
        "colab": {
          "base_uri": "https://localhost:8080/"
        },
        "id": "Yn_9Cs6f-qga",
        "outputId": "1369ebba-1349-4fed-d92d-f6920bf899e8"
      },
      "execution_count": null,
      "outputs": [
        {
          "output_type": "stream",
          "name": "stdout",
          "text": [
            "Mean IoU by Pair (in %):\n",
            "                     mean_iou\n",
            "pair                         \n",
            "preposition-subject    9.5919\n",
            "preposition-verb       4.3271\n",
            "preposition-object     3.9066\n"
          ]
        }
      ]
    },
    {
      "cell_type": "code",
      "source": [
        "import pandas as pd\n",
        "\n",
        "# Adjust display settings to show full DataFrame without truncation\n",
        "pd.set_option('display.max_rows', None)\n",
        "pd.set_option('display.max_columns', None)\n",
        "pd.set_option('display.width', None)\n",
        "pd.set_option('display.max_colwidth', None)\n",
        "\n",
        "# Calculate the mean IoU and count for each preposition\n",
        "mean_iou_by_preposition = stats_df.groupby('preposition').agg(\n",
        "    mean_iou=('iou', 'mean'),\n",
        "    count=('iou', 'count')\n",
        ")\n",
        "\n",
        "# Convert mean IoU to percentage and round to four decimal places\n",
        "mean_iou_by_preposition['mean_iou'] = (mean_iou_by_preposition['mean_iou'] * 100).round(4)\n",
        "\n",
        "# Sort from largest to smallest by mean IoU\n",
        "mean_iou_by_preposition = mean_iou_by_preposition.sort_values('mean_iou', ascending=False)\n",
        "\n",
        "# Display only the first 10 entries\n",
        "mean_iou_by_preposition = mean_iou_by_preposition.head(30)\n",
        "\n",
        "# Print the DataFrame\n",
        "print(\"Mean IoU by Preposition (in %), including counts:\")\n",
        "print(mean_iou_by_preposition)"
      ],
      "metadata": {
        "colab": {
          "base_uri": "https://localhost:8080/"
        },
        "id": "6F0bOZb_BPXU",
        "outputId": "388eef33-54ae-419e-9e9c-74e6c7ad704a"
      },
      "execution_count": null,
      "outputs": [
        {
          "output_type": "stream",
          "name": "stdout",
          "text": [
            "Mean IoU by Preposition (in %), including counts:\n",
            "             mean_iou  count\n",
            "preposition                 \n",
            "between       27.8215      3\n",
            "above         25.1762      6\n",
            "during        24.2776      3\n",
            "over          19.2372     36\n",
            "towards       17.8363      3\n",
            "under         15.2187     17\n",
            "with          14.4681    334\n",
            "across        13.6069      3\n",
            "behind        12.1306     22\n",
            "through       11.5124     21\n",
            "outside       11.3289     14\n",
            "wearing       10.9702     12\n",
            "among         10.2255      5\n",
            "onto           9.4358      9\n",
            "around         9.1239      9\n",
            "into           8.2703     15\n",
            "down           8.0870     75\n",
            "by             6.7752     46\n",
            "out            6.7213      3\n",
            "from           6.3497     26\n",
            "in             5.9013    409\n",
            "at             4.5406    113\n",
            "beside         4.2137      9\n",
            "while          4.1735     12\n",
            "of             4.1144    290\n",
            "holding        3.5702      4\n",
            "up to          3.4914      9\n",
            "on             3.3460    496\n",
            "against        2.4557      8\n",
            "inside         2.4206      6\n"
          ]
        }
      ]
    },
    {
      "cell_type": "code",
      "source": [
        "import pandas as pd\n",
        "\n",
        "# Adjust display settings to show full DataFrame without truncation\n",
        "pd.set_option('display.max_rows', None)\n",
        "pd.set_option('display.max_columns', None)\n",
        "pd.set_option('display.width', None)\n",
        "pd.set_option('display.max_colwidth', None)\n",
        "\n",
        "# Calculate the mean IoU and count for each type of pair and each preposition\n",
        "mean_iou_by_pair_and_preposition = stats_df.groupby(['pair', 'preposition']).agg(\n",
        "    mean_iou=('iou', 'mean'),\n",
        "    preposition_count=('iou', 'count')\n",
        ")\n",
        "\n",
        "# Convert mean IoU to percentage and round to four decimal places\n",
        "mean_iou_by_pair_and_preposition['mean_iou'] = (mean_iou_by_pair_and_preposition['mean_iou'] * 100).round(4)\n",
        "\n",
        "# Sort within each 'pair' group from largest to smallest by mean IoU\n",
        "mean_iou_by_pair_and_preposition = mean_iou_by_pair_and_preposition.sort_values(['pair', 'mean_iou'], ascending=[True, False])\n",
        "\n",
        "# Use groupby on 'pair' and apply a lambda to take the top 10 prepositions for each pair\n",
        "# Reset the index to keep the 'pair' and 'preposition' columns\n",
        "top_10_per_pair = mean_iou_by_pair_and_preposition.groupby('pair', group_keys=False).apply(lambda x: x.head(10)).reset_index()\n",
        "\n",
        "# Print the DataFrame\n",
        "print(\"Mean IoU by Pair and Preposition (in %), including preposition counts:\")\n",
        "print(top_10_per_pair)"
      ],
      "metadata": {
        "colab": {
          "base_uri": "https://localhost:8080/"
        },
        "id": "MOouWGVeB-wA",
        "outputId": "68eb5241-4d31-45cf-b809-0f2f7f3710ba"
      },
      "execution_count": null,
      "outputs": [
        {
          "output_type": "stream",
          "name": "stdout",
          "text": [
            "Mean IoU by Pair and Preposition (in %), including preposition counts:\n",
            "                   pair preposition  mean_iou  preposition_count\n",
            "0    preposition-object      during   30.8208                  1\n",
            "1    preposition-object     wearing   15.1107                  5\n",
            "2    preposition-object        onto   14.5926                  3\n",
            "3    preposition-object     outside   13.3888                  2\n",
            "4    preposition-object        with   11.4602                130\n",
            "5    preposition-object      beside   10.9091                  3\n",
            "6    preposition-object       under   10.8165                  6\n",
            "7    preposition-object        over   10.2918                 12\n",
            "8    preposition-object          by    8.5471                 14\n",
            "9    preposition-object       above    8.3502                  2\n",
            "10  preposition-subject     between   83.4646                  1\n",
            "11  preposition-subject      across   36.4754                  1\n",
            "12  preposition-subject       above   34.7092                  2\n",
            "13  preposition-subject      behind   27.3161                  8\n",
            "14  preposition-subject        over   26.7186                 12\n",
            "15  preposition-subject       among   25.5637                  2\n",
            "16  preposition-subject      around   24.5671                  3\n",
            "17  preposition-subject        with   22.7065                131\n",
            "18  preposition-subject         out   18.6047                  1\n",
            "19  preposition-subject        into   16.6073                  5\n",
            "20     preposition-verb     towards   44.8454                  1\n",
            "21     preposition-verb      during   39.5664                  1\n",
            "22     preposition-verb       above   32.4691                  2\n",
            "23     preposition-verb       under   21.9644                  5\n",
            "24     preposition-verb        over   20.7011                 12\n",
            "25     preposition-verb     through   17.2450                  7\n",
            "26     preposition-verb     outside   15.4453                  6\n",
            "27     preposition-verb        down   13.0589                 25\n",
            "28     preposition-verb        into    6.7608                  5\n",
            "29     preposition-verb          in    6.0654                115\n"
          ]
        }
      ]
    },
    {
      "cell_type": "code",
      "source": [
        "top_10_per_pair.to_csv('top_10_per_pair.csv', index=False)"
      ],
      "metadata": {
        "id": "Y7dWElGrNgPJ"
      },
      "execution_count": null,
      "outputs": []
    }
  ],
  "metadata": {
    "accelerator": "GPU",
    "colab": {
      "gpuType": "T4",
      "provenance": [],
      "collapsed_sections": [
        "xqnhnUc3e2LP"
      ]
    },
    "kernelspec": {
      "display_name": "Python 3",
      "name": "python3"
    },
    "language_info": {
      "codemirror_mode": {
        "name": "ipython",
        "version": 3
      },
      "file_extension": ".py",
      "mimetype": "text/x-python",
      "name": "python",
      "nbconvert_exporter": "python",
      "pygments_lexer": "ipython3",
      "version": "3.8.17"
    },
    "widgets": {
      "application/vnd.jupyter.widget-state+json": {
        "54d24e06cdd3464587a908143576da1b": {
          "model_module": "@jupyter-widgets/controls",
          "model_name": "HBoxModel",
          "model_module_version": "1.5.0",
          "state": {
            "_dom_classes": [],
            "_model_module": "@jupyter-widgets/controls",
            "_model_module_version": "1.5.0",
            "_model_name": "HBoxModel",
            "_view_count": null,
            "_view_module": "@jupyter-widgets/controls",
            "_view_module_version": "1.5.0",
            "_view_name": "HBoxView",
            "box_style": "",
            "children": [
              "IPY_MODEL_58c18298b25047ce88a45b18eccacf45",
              "IPY_MODEL_1cd3fd570c9d4316999c3a80f68f8e90",
              "IPY_MODEL_576b3bb29aad40cd84577a03f9f3e862"
            ],
            "layout": "IPY_MODEL_171050641c6647699afef90c75c7a0e9"
          }
        },
        "58c18298b25047ce88a45b18eccacf45": {
          "model_module": "@jupyter-widgets/controls",
          "model_name": "HTMLModel",
          "model_module_version": "1.5.0",
          "state": {
            "_dom_classes": [],
            "_model_module": "@jupyter-widgets/controls",
            "_model_module_version": "1.5.0",
            "_model_name": "HTMLModel",
            "_view_count": null,
            "_view_module": "@jupyter-widgets/controls",
            "_view_module_version": "1.5.0",
            "_view_name": "HTMLView",
            "description": "",
            "description_tooltip": null,
            "layout": "IPY_MODEL_61dd51d23219481f99368c0af9d3a8ff",
            "placeholder": "​",
            "style": "IPY_MODEL_c5986c762f0e47d893f7e9b999a196a9",
            "value": "model_index.json: 100%"
          }
        },
        "1cd3fd570c9d4316999c3a80f68f8e90": {
          "model_module": "@jupyter-widgets/controls",
          "model_name": "FloatProgressModel",
          "model_module_version": "1.5.0",
          "state": {
            "_dom_classes": [],
            "_model_module": "@jupyter-widgets/controls",
            "_model_module_version": "1.5.0",
            "_model_name": "FloatProgressModel",
            "_view_count": null,
            "_view_module": "@jupyter-widgets/controls",
            "_view_module_version": "1.5.0",
            "_view_name": "ProgressView",
            "bar_style": "success",
            "description": "",
            "description_tooltip": null,
            "layout": "IPY_MODEL_22a510fe6368469c9025a927d83a79b8",
            "max": 543,
            "min": 0,
            "orientation": "horizontal",
            "style": "IPY_MODEL_4cbbf882ee844fe99277f47382767130",
            "value": 543
          }
        },
        "576b3bb29aad40cd84577a03f9f3e862": {
          "model_module": "@jupyter-widgets/controls",
          "model_name": "HTMLModel",
          "model_module_version": "1.5.0",
          "state": {
            "_dom_classes": [],
            "_model_module": "@jupyter-widgets/controls",
            "_model_module_version": "1.5.0",
            "_model_name": "HTMLModel",
            "_view_count": null,
            "_view_module": "@jupyter-widgets/controls",
            "_view_module_version": "1.5.0",
            "_view_name": "HTMLView",
            "description": "",
            "description_tooltip": null,
            "layout": "IPY_MODEL_ba7175922bdb4e0c85fa11ebe2d05c98",
            "placeholder": "​",
            "style": "IPY_MODEL_1c6e3ae303fc4432b2e31ebbbd638213",
            "value": " 543/543 [00:00&lt;00:00, 15.9kB/s]"
          }
        },
        "171050641c6647699afef90c75c7a0e9": {
          "model_module": "@jupyter-widgets/base",
          "model_name": "LayoutModel",
          "model_module_version": "1.2.0",
          "state": {
            "_model_module": "@jupyter-widgets/base",
            "_model_module_version": "1.2.0",
            "_model_name": "LayoutModel",
            "_view_count": null,
            "_view_module": "@jupyter-widgets/base",
            "_view_module_version": "1.2.0",
            "_view_name": "LayoutView",
            "align_content": null,
            "align_items": null,
            "align_self": null,
            "border": null,
            "bottom": null,
            "display": null,
            "flex": null,
            "flex_flow": null,
            "grid_area": null,
            "grid_auto_columns": null,
            "grid_auto_flow": null,
            "grid_auto_rows": null,
            "grid_column": null,
            "grid_gap": null,
            "grid_row": null,
            "grid_template_areas": null,
            "grid_template_columns": null,
            "grid_template_rows": null,
            "height": null,
            "justify_content": null,
            "justify_items": null,
            "left": null,
            "margin": null,
            "max_height": null,
            "max_width": null,
            "min_height": null,
            "min_width": null,
            "object_fit": null,
            "object_position": null,
            "order": null,
            "overflow": null,
            "overflow_x": null,
            "overflow_y": null,
            "padding": null,
            "right": null,
            "top": null,
            "visibility": null,
            "width": null
          }
        },
        "61dd51d23219481f99368c0af9d3a8ff": {
          "model_module": "@jupyter-widgets/base",
          "model_name": "LayoutModel",
          "model_module_version": "1.2.0",
          "state": {
            "_model_module": "@jupyter-widgets/base",
            "_model_module_version": "1.2.0",
            "_model_name": "LayoutModel",
            "_view_count": null,
            "_view_module": "@jupyter-widgets/base",
            "_view_module_version": "1.2.0",
            "_view_name": "LayoutView",
            "align_content": null,
            "align_items": null,
            "align_self": null,
            "border": null,
            "bottom": null,
            "display": null,
            "flex": null,
            "flex_flow": null,
            "grid_area": null,
            "grid_auto_columns": null,
            "grid_auto_flow": null,
            "grid_auto_rows": null,
            "grid_column": null,
            "grid_gap": null,
            "grid_row": null,
            "grid_template_areas": null,
            "grid_template_columns": null,
            "grid_template_rows": null,
            "height": null,
            "justify_content": null,
            "justify_items": null,
            "left": null,
            "margin": null,
            "max_height": null,
            "max_width": null,
            "min_height": null,
            "min_width": null,
            "object_fit": null,
            "object_position": null,
            "order": null,
            "overflow": null,
            "overflow_x": null,
            "overflow_y": null,
            "padding": null,
            "right": null,
            "top": null,
            "visibility": null,
            "width": null
          }
        },
        "c5986c762f0e47d893f7e9b999a196a9": {
          "model_module": "@jupyter-widgets/controls",
          "model_name": "DescriptionStyleModel",
          "model_module_version": "1.5.0",
          "state": {
            "_model_module": "@jupyter-widgets/controls",
            "_model_module_version": "1.5.0",
            "_model_name": "DescriptionStyleModel",
            "_view_count": null,
            "_view_module": "@jupyter-widgets/base",
            "_view_module_version": "1.2.0",
            "_view_name": "StyleView",
            "description_width": ""
          }
        },
        "22a510fe6368469c9025a927d83a79b8": {
          "model_module": "@jupyter-widgets/base",
          "model_name": "LayoutModel",
          "model_module_version": "1.2.0",
          "state": {
            "_model_module": "@jupyter-widgets/base",
            "_model_module_version": "1.2.0",
            "_model_name": "LayoutModel",
            "_view_count": null,
            "_view_module": "@jupyter-widgets/base",
            "_view_module_version": "1.2.0",
            "_view_name": "LayoutView",
            "align_content": null,
            "align_items": null,
            "align_self": null,
            "border": null,
            "bottom": null,
            "display": null,
            "flex": null,
            "flex_flow": null,
            "grid_area": null,
            "grid_auto_columns": null,
            "grid_auto_flow": null,
            "grid_auto_rows": null,
            "grid_column": null,
            "grid_gap": null,
            "grid_row": null,
            "grid_template_areas": null,
            "grid_template_columns": null,
            "grid_template_rows": null,
            "height": null,
            "justify_content": null,
            "justify_items": null,
            "left": null,
            "margin": null,
            "max_height": null,
            "max_width": null,
            "min_height": null,
            "min_width": null,
            "object_fit": null,
            "object_position": null,
            "order": null,
            "overflow": null,
            "overflow_x": null,
            "overflow_y": null,
            "padding": null,
            "right": null,
            "top": null,
            "visibility": null,
            "width": null
          }
        },
        "4cbbf882ee844fe99277f47382767130": {
          "model_module": "@jupyter-widgets/controls",
          "model_name": "ProgressStyleModel",
          "model_module_version": "1.5.0",
          "state": {
            "_model_module": "@jupyter-widgets/controls",
            "_model_module_version": "1.5.0",
            "_model_name": "ProgressStyleModel",
            "_view_count": null,
            "_view_module": "@jupyter-widgets/base",
            "_view_module_version": "1.2.0",
            "_view_name": "StyleView",
            "bar_color": null,
            "description_width": ""
          }
        },
        "ba7175922bdb4e0c85fa11ebe2d05c98": {
          "model_module": "@jupyter-widgets/base",
          "model_name": "LayoutModel",
          "model_module_version": "1.2.0",
          "state": {
            "_model_module": "@jupyter-widgets/base",
            "_model_module_version": "1.2.0",
            "_model_name": "LayoutModel",
            "_view_count": null,
            "_view_module": "@jupyter-widgets/base",
            "_view_module_version": "1.2.0",
            "_view_name": "LayoutView",
            "align_content": null,
            "align_items": null,
            "align_self": null,
            "border": null,
            "bottom": null,
            "display": null,
            "flex": null,
            "flex_flow": null,
            "grid_area": null,
            "grid_auto_columns": null,
            "grid_auto_flow": null,
            "grid_auto_rows": null,
            "grid_column": null,
            "grid_gap": null,
            "grid_row": null,
            "grid_template_areas": null,
            "grid_template_columns": null,
            "grid_template_rows": null,
            "height": null,
            "justify_content": null,
            "justify_items": null,
            "left": null,
            "margin": null,
            "max_height": null,
            "max_width": null,
            "min_height": null,
            "min_width": null,
            "object_fit": null,
            "object_position": null,
            "order": null,
            "overflow": null,
            "overflow_x": null,
            "overflow_y": null,
            "padding": null,
            "right": null,
            "top": null,
            "visibility": null,
            "width": null
          }
        },
        "1c6e3ae303fc4432b2e31ebbbd638213": {
          "model_module": "@jupyter-widgets/controls",
          "model_name": "DescriptionStyleModel",
          "model_module_version": "1.5.0",
          "state": {
            "_model_module": "@jupyter-widgets/controls",
            "_model_module_version": "1.5.0",
            "_model_name": "DescriptionStyleModel",
            "_view_count": null,
            "_view_module": "@jupyter-widgets/base",
            "_view_module_version": "1.2.0",
            "_view_name": "StyleView",
            "description_width": ""
          }
        },
        "dad18bf28a5e4a0e8d0258f9010ffde8": {
          "model_module": "@jupyter-widgets/controls",
          "model_name": "HBoxModel",
          "model_module_version": "1.5.0",
          "state": {
            "_dom_classes": [],
            "_model_module": "@jupyter-widgets/controls",
            "_model_module_version": "1.5.0",
            "_model_name": "HBoxModel",
            "_view_count": null,
            "_view_module": "@jupyter-widgets/controls",
            "_view_module_version": "1.5.0",
            "_view_name": "HBoxView",
            "box_style": "",
            "children": [
              "IPY_MODEL_f305022b933244658a2d47acba3ab6bc",
              "IPY_MODEL_82e849293ebc4049aab9909dfee1dc8d",
              "IPY_MODEL_06a3f09d0c91409db82f77842f1eb125"
            ],
            "layout": "IPY_MODEL_1e3b9acbaadb43309b6c49a6034542c9"
          }
        },
        "f305022b933244658a2d47acba3ab6bc": {
          "model_module": "@jupyter-widgets/controls",
          "model_name": "HTMLModel",
          "model_module_version": "1.5.0",
          "state": {
            "_dom_classes": [],
            "_model_module": "@jupyter-widgets/controls",
            "_model_module_version": "1.5.0",
            "_model_name": "HTMLModel",
            "_view_count": null,
            "_view_module": "@jupyter-widgets/controls",
            "_view_module_version": "1.5.0",
            "_view_name": "HTMLView",
            "description": "",
            "description_tooltip": null,
            "layout": "IPY_MODEL_d0523e307a3e42b4bd2e73dc45af3fb9",
            "placeholder": "​",
            "style": "IPY_MODEL_15926a9d09314557b465a6c3dddc7594",
            "value": "Fetching 13 files: 100%"
          }
        },
        "82e849293ebc4049aab9909dfee1dc8d": {
          "model_module": "@jupyter-widgets/controls",
          "model_name": "FloatProgressModel",
          "model_module_version": "1.5.0",
          "state": {
            "_dom_classes": [],
            "_model_module": "@jupyter-widgets/controls",
            "_model_module_version": "1.5.0",
            "_model_name": "FloatProgressModel",
            "_view_count": null,
            "_view_module": "@jupyter-widgets/controls",
            "_view_module_version": "1.5.0",
            "_view_name": "ProgressView",
            "bar_style": "success",
            "description": "",
            "description_tooltip": null,
            "layout": "IPY_MODEL_f775b304248e4c7baffd2277470bd082",
            "max": 13,
            "min": 0,
            "orientation": "horizontal",
            "style": "IPY_MODEL_74877a01e6ab45408b9c5f7183f82c98",
            "value": 13
          }
        },
        "06a3f09d0c91409db82f77842f1eb125": {
          "model_module": "@jupyter-widgets/controls",
          "model_name": "HTMLModel",
          "model_module_version": "1.5.0",
          "state": {
            "_dom_classes": [],
            "_model_module": "@jupyter-widgets/controls",
            "_model_module_version": "1.5.0",
            "_model_name": "HTMLModel",
            "_view_count": null,
            "_view_module": "@jupyter-widgets/controls",
            "_view_module_version": "1.5.0",
            "_view_name": "HTMLView",
            "description": "",
            "description_tooltip": null,
            "layout": "IPY_MODEL_33fe87eb36c4438a932303e79b829c82",
            "placeholder": "​",
            "style": "IPY_MODEL_204f469aa01b4f088769505a1b6fd2f9",
            "value": " 13/13 [00:45&lt;00:00,  4.18s/it]"
          }
        },
        "1e3b9acbaadb43309b6c49a6034542c9": {
          "model_module": "@jupyter-widgets/base",
          "model_name": "LayoutModel",
          "model_module_version": "1.2.0",
          "state": {
            "_model_module": "@jupyter-widgets/base",
            "_model_module_version": "1.2.0",
            "_model_name": "LayoutModel",
            "_view_count": null,
            "_view_module": "@jupyter-widgets/base",
            "_view_module_version": "1.2.0",
            "_view_name": "LayoutView",
            "align_content": null,
            "align_items": null,
            "align_self": null,
            "border": null,
            "bottom": null,
            "display": null,
            "flex": null,
            "flex_flow": null,
            "grid_area": null,
            "grid_auto_columns": null,
            "grid_auto_flow": null,
            "grid_auto_rows": null,
            "grid_column": null,
            "grid_gap": null,
            "grid_row": null,
            "grid_template_areas": null,
            "grid_template_columns": null,
            "grid_template_rows": null,
            "height": null,
            "justify_content": null,
            "justify_items": null,
            "left": null,
            "margin": null,
            "max_height": null,
            "max_width": null,
            "min_height": null,
            "min_width": null,
            "object_fit": null,
            "object_position": null,
            "order": null,
            "overflow": null,
            "overflow_x": null,
            "overflow_y": null,
            "padding": null,
            "right": null,
            "top": null,
            "visibility": null,
            "width": null
          }
        },
        "d0523e307a3e42b4bd2e73dc45af3fb9": {
          "model_module": "@jupyter-widgets/base",
          "model_name": "LayoutModel",
          "model_module_version": "1.2.0",
          "state": {
            "_model_module": "@jupyter-widgets/base",
            "_model_module_version": "1.2.0",
            "_model_name": "LayoutModel",
            "_view_count": null,
            "_view_module": "@jupyter-widgets/base",
            "_view_module_version": "1.2.0",
            "_view_name": "LayoutView",
            "align_content": null,
            "align_items": null,
            "align_self": null,
            "border": null,
            "bottom": null,
            "display": null,
            "flex": null,
            "flex_flow": null,
            "grid_area": null,
            "grid_auto_columns": null,
            "grid_auto_flow": null,
            "grid_auto_rows": null,
            "grid_column": null,
            "grid_gap": null,
            "grid_row": null,
            "grid_template_areas": null,
            "grid_template_columns": null,
            "grid_template_rows": null,
            "height": null,
            "justify_content": null,
            "justify_items": null,
            "left": null,
            "margin": null,
            "max_height": null,
            "max_width": null,
            "min_height": null,
            "min_width": null,
            "object_fit": null,
            "object_position": null,
            "order": null,
            "overflow": null,
            "overflow_x": null,
            "overflow_y": null,
            "padding": null,
            "right": null,
            "top": null,
            "visibility": null,
            "width": null
          }
        },
        "15926a9d09314557b465a6c3dddc7594": {
          "model_module": "@jupyter-widgets/controls",
          "model_name": "DescriptionStyleModel",
          "model_module_version": "1.5.0",
          "state": {
            "_model_module": "@jupyter-widgets/controls",
            "_model_module_version": "1.5.0",
            "_model_name": "DescriptionStyleModel",
            "_view_count": null,
            "_view_module": "@jupyter-widgets/base",
            "_view_module_version": "1.2.0",
            "_view_name": "StyleView",
            "description_width": ""
          }
        },
        "f775b304248e4c7baffd2277470bd082": {
          "model_module": "@jupyter-widgets/base",
          "model_name": "LayoutModel",
          "model_module_version": "1.2.0",
          "state": {
            "_model_module": "@jupyter-widgets/base",
            "_model_module_version": "1.2.0",
            "_model_name": "LayoutModel",
            "_view_count": null,
            "_view_module": "@jupyter-widgets/base",
            "_view_module_version": "1.2.0",
            "_view_name": "LayoutView",
            "align_content": null,
            "align_items": null,
            "align_self": null,
            "border": null,
            "bottom": null,
            "display": null,
            "flex": null,
            "flex_flow": null,
            "grid_area": null,
            "grid_auto_columns": null,
            "grid_auto_flow": null,
            "grid_auto_rows": null,
            "grid_column": null,
            "grid_gap": null,
            "grid_row": null,
            "grid_template_areas": null,
            "grid_template_columns": null,
            "grid_template_rows": null,
            "height": null,
            "justify_content": null,
            "justify_items": null,
            "left": null,
            "margin": null,
            "max_height": null,
            "max_width": null,
            "min_height": null,
            "min_width": null,
            "object_fit": null,
            "object_position": null,
            "order": null,
            "overflow": null,
            "overflow_x": null,
            "overflow_y": null,
            "padding": null,
            "right": null,
            "top": null,
            "visibility": null,
            "width": null
          }
        },
        "74877a01e6ab45408b9c5f7183f82c98": {
          "model_module": "@jupyter-widgets/controls",
          "model_name": "ProgressStyleModel",
          "model_module_version": "1.5.0",
          "state": {
            "_model_module": "@jupyter-widgets/controls",
            "_model_module_version": "1.5.0",
            "_model_name": "ProgressStyleModel",
            "_view_count": null,
            "_view_module": "@jupyter-widgets/base",
            "_view_module_version": "1.2.0",
            "_view_name": "StyleView",
            "bar_color": null,
            "description_width": ""
          }
        },
        "33fe87eb36c4438a932303e79b829c82": {
          "model_module": "@jupyter-widgets/base",
          "model_name": "LayoutModel",
          "model_module_version": "1.2.0",
          "state": {
            "_model_module": "@jupyter-widgets/base",
            "_model_module_version": "1.2.0",
            "_model_name": "LayoutModel",
            "_view_count": null,
            "_view_module": "@jupyter-widgets/base",
            "_view_module_version": "1.2.0",
            "_view_name": "LayoutView",
            "align_content": null,
            "align_items": null,
            "align_self": null,
            "border": null,
            "bottom": null,
            "display": null,
            "flex": null,
            "flex_flow": null,
            "grid_area": null,
            "grid_auto_columns": null,
            "grid_auto_flow": null,
            "grid_auto_rows": null,
            "grid_column": null,
            "grid_gap": null,
            "grid_row": null,
            "grid_template_areas": null,
            "grid_template_columns": null,
            "grid_template_rows": null,
            "height": null,
            "justify_content": null,
            "justify_items": null,
            "left": null,
            "margin": null,
            "max_height": null,
            "max_width": null,
            "min_height": null,
            "min_width": null,
            "object_fit": null,
            "object_position": null,
            "order": null,
            "overflow": null,
            "overflow_x": null,
            "overflow_y": null,
            "padding": null,
            "right": null,
            "top": null,
            "visibility": null,
            "width": null
          }
        },
        "204f469aa01b4f088769505a1b6fd2f9": {
          "model_module": "@jupyter-widgets/controls",
          "model_name": "DescriptionStyleModel",
          "model_module_version": "1.5.0",
          "state": {
            "_model_module": "@jupyter-widgets/controls",
            "_model_module_version": "1.5.0",
            "_model_name": "DescriptionStyleModel",
            "_view_count": null,
            "_view_module": "@jupyter-widgets/base",
            "_view_module_version": "1.2.0",
            "_view_name": "StyleView",
            "description_width": ""
          }
        },
        "32a9bb7b639746acb58c37ae25b799a6": {
          "model_module": "@jupyter-widgets/controls",
          "model_name": "HBoxModel",
          "model_module_version": "1.5.0",
          "state": {
            "_dom_classes": [],
            "_model_module": "@jupyter-widgets/controls",
            "_model_module_version": "1.5.0",
            "_model_name": "HBoxModel",
            "_view_count": null,
            "_view_module": "@jupyter-widgets/controls",
            "_view_module_version": "1.5.0",
            "_view_name": "HBoxView",
            "box_style": "",
            "children": [
              "IPY_MODEL_a3c6227ca6e243a99182b2c225500b41",
              "IPY_MODEL_3b6c15d0631543b9a54846c03b022d6e",
              "IPY_MODEL_a83bc987bde44f4da8b20935f92dc485"
            ],
            "layout": "IPY_MODEL_45da796ba2254c7a98c8569d8c08689f"
          }
        },
        "a3c6227ca6e243a99182b2c225500b41": {
          "model_module": "@jupyter-widgets/controls",
          "model_name": "HTMLModel",
          "model_module_version": "1.5.0",
          "state": {
            "_dom_classes": [],
            "_model_module": "@jupyter-widgets/controls",
            "_model_module_version": "1.5.0",
            "_model_name": "HTMLModel",
            "_view_count": null,
            "_view_module": "@jupyter-widgets/controls",
            "_view_module_version": "1.5.0",
            "_view_name": "HTMLView",
            "description": "",
            "description_tooltip": null,
            "layout": "IPY_MODEL_7ee44b9eb3444cab9e9d3ed4413a1ade",
            "placeholder": "​",
            "style": "IPY_MODEL_8b2b14790f3041da9c663267dd58b070",
            "value": "scheduler/scheduler_config.json: 100%"
          }
        },
        "3b6c15d0631543b9a54846c03b022d6e": {
          "model_module": "@jupyter-widgets/controls",
          "model_name": "FloatProgressModel",
          "model_module_version": "1.5.0",
          "state": {
            "_dom_classes": [],
            "_model_module": "@jupyter-widgets/controls",
            "_model_module_version": "1.5.0",
            "_model_name": "FloatProgressModel",
            "_view_count": null,
            "_view_module": "@jupyter-widgets/controls",
            "_view_module_version": "1.5.0",
            "_view_name": "ProgressView",
            "bar_style": "success",
            "description": "",
            "description_tooltip": null,
            "layout": "IPY_MODEL_129e049c75b14c728bb275eb6ce7a441",
            "max": 346,
            "min": 0,
            "orientation": "horizontal",
            "style": "IPY_MODEL_4301c7c5ce9a440198aefed3cbf16350",
            "value": 346
          }
        },
        "a83bc987bde44f4da8b20935f92dc485": {
          "model_module": "@jupyter-widgets/controls",
          "model_name": "HTMLModel",
          "model_module_version": "1.5.0",
          "state": {
            "_dom_classes": [],
            "_model_module": "@jupyter-widgets/controls",
            "_model_module_version": "1.5.0",
            "_model_name": "HTMLModel",
            "_view_count": null,
            "_view_module": "@jupyter-widgets/controls",
            "_view_module_version": "1.5.0",
            "_view_name": "HTMLView",
            "description": "",
            "description_tooltip": null,
            "layout": "IPY_MODEL_f4048cdd5ce948a495023cb7a94b09a2",
            "placeholder": "​",
            "style": "IPY_MODEL_c802d4cb060e47bc8a10143b257a96fb",
            "value": " 346/346 [00:00&lt;00:00, 2.73kB/s]"
          }
        },
        "45da796ba2254c7a98c8569d8c08689f": {
          "model_module": "@jupyter-widgets/base",
          "model_name": "LayoutModel",
          "model_module_version": "1.2.0",
          "state": {
            "_model_module": "@jupyter-widgets/base",
            "_model_module_version": "1.2.0",
            "_model_name": "LayoutModel",
            "_view_count": null,
            "_view_module": "@jupyter-widgets/base",
            "_view_module_version": "1.2.0",
            "_view_name": "LayoutView",
            "align_content": null,
            "align_items": null,
            "align_self": null,
            "border": null,
            "bottom": null,
            "display": null,
            "flex": null,
            "flex_flow": null,
            "grid_area": null,
            "grid_auto_columns": null,
            "grid_auto_flow": null,
            "grid_auto_rows": null,
            "grid_column": null,
            "grid_gap": null,
            "grid_row": null,
            "grid_template_areas": null,
            "grid_template_columns": null,
            "grid_template_rows": null,
            "height": null,
            "justify_content": null,
            "justify_items": null,
            "left": null,
            "margin": null,
            "max_height": null,
            "max_width": null,
            "min_height": null,
            "min_width": null,
            "object_fit": null,
            "object_position": null,
            "order": null,
            "overflow": null,
            "overflow_x": null,
            "overflow_y": null,
            "padding": null,
            "right": null,
            "top": null,
            "visibility": null,
            "width": null
          }
        },
        "7ee44b9eb3444cab9e9d3ed4413a1ade": {
          "model_module": "@jupyter-widgets/base",
          "model_name": "LayoutModel",
          "model_module_version": "1.2.0",
          "state": {
            "_model_module": "@jupyter-widgets/base",
            "_model_module_version": "1.2.0",
            "_model_name": "LayoutModel",
            "_view_count": null,
            "_view_module": "@jupyter-widgets/base",
            "_view_module_version": "1.2.0",
            "_view_name": "LayoutView",
            "align_content": null,
            "align_items": null,
            "align_self": null,
            "border": null,
            "bottom": null,
            "display": null,
            "flex": null,
            "flex_flow": null,
            "grid_area": null,
            "grid_auto_columns": null,
            "grid_auto_flow": null,
            "grid_auto_rows": null,
            "grid_column": null,
            "grid_gap": null,
            "grid_row": null,
            "grid_template_areas": null,
            "grid_template_columns": null,
            "grid_template_rows": null,
            "height": null,
            "justify_content": null,
            "justify_items": null,
            "left": null,
            "margin": null,
            "max_height": null,
            "max_width": null,
            "min_height": null,
            "min_width": null,
            "object_fit": null,
            "object_position": null,
            "order": null,
            "overflow": null,
            "overflow_x": null,
            "overflow_y": null,
            "padding": null,
            "right": null,
            "top": null,
            "visibility": null,
            "width": null
          }
        },
        "8b2b14790f3041da9c663267dd58b070": {
          "model_module": "@jupyter-widgets/controls",
          "model_name": "DescriptionStyleModel",
          "model_module_version": "1.5.0",
          "state": {
            "_model_module": "@jupyter-widgets/controls",
            "_model_module_version": "1.5.0",
            "_model_name": "DescriptionStyleModel",
            "_view_count": null,
            "_view_module": "@jupyter-widgets/base",
            "_view_module_version": "1.2.0",
            "_view_name": "StyleView",
            "description_width": ""
          }
        },
        "129e049c75b14c728bb275eb6ce7a441": {
          "model_module": "@jupyter-widgets/base",
          "model_name": "LayoutModel",
          "model_module_version": "1.2.0",
          "state": {
            "_model_module": "@jupyter-widgets/base",
            "_model_module_version": "1.2.0",
            "_model_name": "LayoutModel",
            "_view_count": null,
            "_view_module": "@jupyter-widgets/base",
            "_view_module_version": "1.2.0",
            "_view_name": "LayoutView",
            "align_content": null,
            "align_items": null,
            "align_self": null,
            "border": null,
            "bottom": null,
            "display": null,
            "flex": null,
            "flex_flow": null,
            "grid_area": null,
            "grid_auto_columns": null,
            "grid_auto_flow": null,
            "grid_auto_rows": null,
            "grid_column": null,
            "grid_gap": null,
            "grid_row": null,
            "grid_template_areas": null,
            "grid_template_columns": null,
            "grid_template_rows": null,
            "height": null,
            "justify_content": null,
            "justify_items": null,
            "left": null,
            "margin": null,
            "max_height": null,
            "max_width": null,
            "min_height": null,
            "min_width": null,
            "object_fit": null,
            "object_position": null,
            "order": null,
            "overflow": null,
            "overflow_x": null,
            "overflow_y": null,
            "padding": null,
            "right": null,
            "top": null,
            "visibility": null,
            "width": null
          }
        },
        "4301c7c5ce9a440198aefed3cbf16350": {
          "model_module": "@jupyter-widgets/controls",
          "model_name": "ProgressStyleModel",
          "model_module_version": "1.5.0",
          "state": {
            "_model_module": "@jupyter-widgets/controls",
            "_model_module_version": "1.5.0",
            "_model_name": "ProgressStyleModel",
            "_view_count": null,
            "_view_module": "@jupyter-widgets/base",
            "_view_module_version": "1.2.0",
            "_view_name": "StyleView",
            "bar_color": null,
            "description_width": ""
          }
        },
        "f4048cdd5ce948a495023cb7a94b09a2": {
          "model_module": "@jupyter-widgets/base",
          "model_name": "LayoutModel",
          "model_module_version": "1.2.0",
          "state": {
            "_model_module": "@jupyter-widgets/base",
            "_model_module_version": "1.2.0",
            "_model_name": "LayoutModel",
            "_view_count": null,
            "_view_module": "@jupyter-widgets/base",
            "_view_module_version": "1.2.0",
            "_view_name": "LayoutView",
            "align_content": null,
            "align_items": null,
            "align_self": null,
            "border": null,
            "bottom": null,
            "display": null,
            "flex": null,
            "flex_flow": null,
            "grid_area": null,
            "grid_auto_columns": null,
            "grid_auto_flow": null,
            "grid_auto_rows": null,
            "grid_column": null,
            "grid_gap": null,
            "grid_row": null,
            "grid_template_areas": null,
            "grid_template_columns": null,
            "grid_template_rows": null,
            "height": null,
            "justify_content": null,
            "justify_items": null,
            "left": null,
            "margin": null,
            "max_height": null,
            "max_width": null,
            "min_height": null,
            "min_width": null,
            "object_fit": null,
            "object_position": null,
            "order": null,
            "overflow": null,
            "overflow_x": null,
            "overflow_y": null,
            "padding": null,
            "right": null,
            "top": null,
            "visibility": null,
            "width": null
          }
        },
        "c802d4cb060e47bc8a10143b257a96fb": {
          "model_module": "@jupyter-widgets/controls",
          "model_name": "DescriptionStyleModel",
          "model_module_version": "1.5.0",
          "state": {
            "_model_module": "@jupyter-widgets/controls",
            "_model_module_version": "1.5.0",
            "_model_name": "DescriptionStyleModel",
            "_view_count": null,
            "_view_module": "@jupyter-widgets/base",
            "_view_module_version": "1.2.0",
            "_view_name": "StyleView",
            "description_width": ""
          }
        },
        "709ec58d94974dd58a2f1ed6e54b11b0": {
          "model_module": "@jupyter-widgets/controls",
          "model_name": "HBoxModel",
          "model_module_version": "1.5.0",
          "state": {
            "_dom_classes": [],
            "_model_module": "@jupyter-widgets/controls",
            "_model_module_version": "1.5.0",
            "_model_name": "HBoxModel",
            "_view_count": null,
            "_view_module": "@jupyter-widgets/controls",
            "_view_module_version": "1.5.0",
            "_view_name": "HBoxView",
            "box_style": "",
            "children": [
              "IPY_MODEL_084b6ca17ee84b3b8b512e1e1f71a1b4",
              "IPY_MODEL_5fd4259e5da9421084d194a189f2d196",
              "IPY_MODEL_5c531e444127454eb4af9f346c7a786f"
            ],
            "layout": "IPY_MODEL_50741842e6d04b0387ef124de76528bd"
          }
        },
        "084b6ca17ee84b3b8b512e1e1f71a1b4": {
          "model_module": "@jupyter-widgets/controls",
          "model_name": "HTMLModel",
          "model_module_version": "1.5.0",
          "state": {
            "_dom_classes": [],
            "_model_module": "@jupyter-widgets/controls",
            "_model_module_version": "1.5.0",
            "_model_name": "HTMLModel",
            "_view_count": null,
            "_view_module": "@jupyter-widgets/controls",
            "_view_module_version": "1.5.0",
            "_view_name": "HTMLView",
            "description": "",
            "description_tooltip": null,
            "layout": "IPY_MODEL_788ba92690c24be9905da6a3c1c2aa45",
            "placeholder": "​",
            "style": "IPY_MODEL_c57f6a255c20479f83a997331473f852",
            "value": "text_encoder/config.json: 100%"
          }
        },
        "5fd4259e5da9421084d194a189f2d196": {
          "model_module": "@jupyter-widgets/controls",
          "model_name": "FloatProgressModel",
          "model_module_version": "1.5.0",
          "state": {
            "_dom_classes": [],
            "_model_module": "@jupyter-widgets/controls",
            "_model_module_version": "1.5.0",
            "_model_name": "FloatProgressModel",
            "_view_count": null,
            "_view_module": "@jupyter-widgets/controls",
            "_view_module_version": "1.5.0",
            "_view_name": "ProgressView",
            "bar_style": "success",
            "description": "",
            "description_tooltip": null,
            "layout": "IPY_MODEL_0d87da56c8364065b158f08e021d35ac",
            "max": 613,
            "min": 0,
            "orientation": "horizontal",
            "style": "IPY_MODEL_062e7882e2de4b11b2dee0af28065783",
            "value": 613
          }
        },
        "5c531e444127454eb4af9f346c7a786f": {
          "model_module": "@jupyter-widgets/controls",
          "model_name": "HTMLModel",
          "model_module_version": "1.5.0",
          "state": {
            "_dom_classes": [],
            "_model_module": "@jupyter-widgets/controls",
            "_model_module_version": "1.5.0",
            "_model_name": "HTMLModel",
            "_view_count": null,
            "_view_module": "@jupyter-widgets/controls",
            "_view_module_version": "1.5.0",
            "_view_name": "HTMLView",
            "description": "",
            "description_tooltip": null,
            "layout": "IPY_MODEL_b1201154ff8c4074a94db99f6ae7468f",
            "placeholder": "​",
            "style": "IPY_MODEL_31addc554ff845268f84569fb66f5bc3",
            "value": " 613/613 [00:00&lt;00:00, 5.08kB/s]"
          }
        },
        "50741842e6d04b0387ef124de76528bd": {
          "model_module": "@jupyter-widgets/base",
          "model_name": "LayoutModel",
          "model_module_version": "1.2.0",
          "state": {
            "_model_module": "@jupyter-widgets/base",
            "_model_module_version": "1.2.0",
            "_model_name": "LayoutModel",
            "_view_count": null,
            "_view_module": "@jupyter-widgets/base",
            "_view_module_version": "1.2.0",
            "_view_name": "LayoutView",
            "align_content": null,
            "align_items": null,
            "align_self": null,
            "border": null,
            "bottom": null,
            "display": null,
            "flex": null,
            "flex_flow": null,
            "grid_area": null,
            "grid_auto_columns": null,
            "grid_auto_flow": null,
            "grid_auto_rows": null,
            "grid_column": null,
            "grid_gap": null,
            "grid_row": null,
            "grid_template_areas": null,
            "grid_template_columns": null,
            "grid_template_rows": null,
            "height": null,
            "justify_content": null,
            "justify_items": null,
            "left": null,
            "margin": null,
            "max_height": null,
            "max_width": null,
            "min_height": null,
            "min_width": null,
            "object_fit": null,
            "object_position": null,
            "order": null,
            "overflow": null,
            "overflow_x": null,
            "overflow_y": null,
            "padding": null,
            "right": null,
            "top": null,
            "visibility": null,
            "width": null
          }
        },
        "788ba92690c24be9905da6a3c1c2aa45": {
          "model_module": "@jupyter-widgets/base",
          "model_name": "LayoutModel",
          "model_module_version": "1.2.0",
          "state": {
            "_model_module": "@jupyter-widgets/base",
            "_model_module_version": "1.2.0",
            "_model_name": "LayoutModel",
            "_view_count": null,
            "_view_module": "@jupyter-widgets/base",
            "_view_module_version": "1.2.0",
            "_view_name": "LayoutView",
            "align_content": null,
            "align_items": null,
            "align_self": null,
            "border": null,
            "bottom": null,
            "display": null,
            "flex": null,
            "flex_flow": null,
            "grid_area": null,
            "grid_auto_columns": null,
            "grid_auto_flow": null,
            "grid_auto_rows": null,
            "grid_column": null,
            "grid_gap": null,
            "grid_row": null,
            "grid_template_areas": null,
            "grid_template_columns": null,
            "grid_template_rows": null,
            "height": null,
            "justify_content": null,
            "justify_items": null,
            "left": null,
            "margin": null,
            "max_height": null,
            "max_width": null,
            "min_height": null,
            "min_width": null,
            "object_fit": null,
            "object_position": null,
            "order": null,
            "overflow": null,
            "overflow_x": null,
            "overflow_y": null,
            "padding": null,
            "right": null,
            "top": null,
            "visibility": null,
            "width": null
          }
        },
        "c57f6a255c20479f83a997331473f852": {
          "model_module": "@jupyter-widgets/controls",
          "model_name": "DescriptionStyleModel",
          "model_module_version": "1.5.0",
          "state": {
            "_model_module": "@jupyter-widgets/controls",
            "_model_module_version": "1.5.0",
            "_model_name": "DescriptionStyleModel",
            "_view_count": null,
            "_view_module": "@jupyter-widgets/base",
            "_view_module_version": "1.2.0",
            "_view_name": "StyleView",
            "description_width": ""
          }
        },
        "0d87da56c8364065b158f08e021d35ac": {
          "model_module": "@jupyter-widgets/base",
          "model_name": "LayoutModel",
          "model_module_version": "1.2.0",
          "state": {
            "_model_module": "@jupyter-widgets/base",
            "_model_module_version": "1.2.0",
            "_model_name": "LayoutModel",
            "_view_count": null,
            "_view_module": "@jupyter-widgets/base",
            "_view_module_version": "1.2.0",
            "_view_name": "LayoutView",
            "align_content": null,
            "align_items": null,
            "align_self": null,
            "border": null,
            "bottom": null,
            "display": null,
            "flex": null,
            "flex_flow": null,
            "grid_area": null,
            "grid_auto_columns": null,
            "grid_auto_flow": null,
            "grid_auto_rows": null,
            "grid_column": null,
            "grid_gap": null,
            "grid_row": null,
            "grid_template_areas": null,
            "grid_template_columns": null,
            "grid_template_rows": null,
            "height": null,
            "justify_content": null,
            "justify_items": null,
            "left": null,
            "margin": null,
            "max_height": null,
            "max_width": null,
            "min_height": null,
            "min_width": null,
            "object_fit": null,
            "object_position": null,
            "order": null,
            "overflow": null,
            "overflow_x": null,
            "overflow_y": null,
            "padding": null,
            "right": null,
            "top": null,
            "visibility": null,
            "width": null
          }
        },
        "062e7882e2de4b11b2dee0af28065783": {
          "model_module": "@jupyter-widgets/controls",
          "model_name": "ProgressStyleModel",
          "model_module_version": "1.5.0",
          "state": {
            "_model_module": "@jupyter-widgets/controls",
            "_model_module_version": "1.5.0",
            "_model_name": "ProgressStyleModel",
            "_view_count": null,
            "_view_module": "@jupyter-widgets/base",
            "_view_module_version": "1.2.0",
            "_view_name": "StyleView",
            "bar_color": null,
            "description_width": ""
          }
        },
        "b1201154ff8c4074a94db99f6ae7468f": {
          "model_module": "@jupyter-widgets/base",
          "model_name": "LayoutModel",
          "model_module_version": "1.2.0",
          "state": {
            "_model_module": "@jupyter-widgets/base",
            "_model_module_version": "1.2.0",
            "_model_name": "LayoutModel",
            "_view_count": null,
            "_view_module": "@jupyter-widgets/base",
            "_view_module_version": "1.2.0",
            "_view_name": "LayoutView",
            "align_content": null,
            "align_items": null,
            "align_self": null,
            "border": null,
            "bottom": null,
            "display": null,
            "flex": null,
            "flex_flow": null,
            "grid_area": null,
            "grid_auto_columns": null,
            "grid_auto_flow": null,
            "grid_auto_rows": null,
            "grid_column": null,
            "grid_gap": null,
            "grid_row": null,
            "grid_template_areas": null,
            "grid_template_columns": null,
            "grid_template_rows": null,
            "height": null,
            "justify_content": null,
            "justify_items": null,
            "left": null,
            "margin": null,
            "max_height": null,
            "max_width": null,
            "min_height": null,
            "min_width": null,
            "object_fit": null,
            "object_position": null,
            "order": null,
            "overflow": null,
            "overflow_x": null,
            "overflow_y": null,
            "padding": null,
            "right": null,
            "top": null,
            "visibility": null,
            "width": null
          }
        },
        "31addc554ff845268f84569fb66f5bc3": {
          "model_module": "@jupyter-widgets/controls",
          "model_name": "DescriptionStyleModel",
          "model_module_version": "1.5.0",
          "state": {
            "_model_module": "@jupyter-widgets/controls",
            "_model_module_version": "1.5.0",
            "_model_name": "DescriptionStyleModel",
            "_view_count": null,
            "_view_module": "@jupyter-widgets/base",
            "_view_module_version": "1.2.0",
            "_view_name": "StyleView",
            "description_width": ""
          }
        },
        "99200a04a31c4429ad53dee073d998f4": {
          "model_module": "@jupyter-widgets/controls",
          "model_name": "HBoxModel",
          "model_module_version": "1.5.0",
          "state": {
            "_dom_classes": [],
            "_model_module": "@jupyter-widgets/controls",
            "_model_module_version": "1.5.0",
            "_model_name": "HBoxModel",
            "_view_count": null,
            "_view_module": "@jupyter-widgets/controls",
            "_view_module_version": "1.5.0",
            "_view_name": "HBoxView",
            "box_style": "",
            "children": [
              "IPY_MODEL_2055e2bcfdc847bdaaa63c95e5775495",
              "IPY_MODEL_04e4c93551644aac8123c8a972f9d1cf",
              "IPY_MODEL_d4dc282bca0a49c3b2664afd26f0266e"
            ],
            "layout": "IPY_MODEL_0d9e08b9443442e79075e49dfc4c164c"
          }
        },
        "2055e2bcfdc847bdaaa63c95e5775495": {
          "model_module": "@jupyter-widgets/controls",
          "model_name": "HTMLModel",
          "model_module_version": "1.5.0",
          "state": {
            "_dom_classes": [],
            "_model_module": "@jupyter-widgets/controls",
            "_model_module_version": "1.5.0",
            "_model_name": "HTMLModel",
            "_view_count": null,
            "_view_module": "@jupyter-widgets/controls",
            "_view_module_version": "1.5.0",
            "_view_name": "HTMLView",
            "description": "",
            "description_tooltip": null,
            "layout": "IPY_MODEL_3d64edaa370c4a4ab8226077508f7c24",
            "placeholder": "​",
            "style": "IPY_MODEL_881ecfc28c2e467da5536b7a393f8b3e",
            "value": "tokenizer/tokenizer_config.json: 100%"
          }
        },
        "04e4c93551644aac8123c8a972f9d1cf": {
          "model_module": "@jupyter-widgets/controls",
          "model_name": "FloatProgressModel",
          "model_module_version": "1.5.0",
          "state": {
            "_dom_classes": [],
            "_model_module": "@jupyter-widgets/controls",
            "_model_module_version": "1.5.0",
            "_model_name": "FloatProgressModel",
            "_view_count": null,
            "_view_module": "@jupyter-widgets/controls",
            "_view_module_version": "1.5.0",
            "_view_name": "ProgressView",
            "bar_style": "success",
            "description": "",
            "description_tooltip": null,
            "layout": "IPY_MODEL_e6c32d17a4d34033b09c363522fddb3c",
            "max": 807,
            "min": 0,
            "orientation": "horizontal",
            "style": "IPY_MODEL_611f89e29147473c9a75c1dbe395126a",
            "value": 807
          }
        },
        "d4dc282bca0a49c3b2664afd26f0266e": {
          "model_module": "@jupyter-widgets/controls",
          "model_name": "HTMLModel",
          "model_module_version": "1.5.0",
          "state": {
            "_dom_classes": [],
            "_model_module": "@jupyter-widgets/controls",
            "_model_module_version": "1.5.0",
            "_model_name": "HTMLModel",
            "_view_count": null,
            "_view_module": "@jupyter-widgets/controls",
            "_view_module_version": "1.5.0",
            "_view_name": "HTMLView",
            "description": "",
            "description_tooltip": null,
            "layout": "IPY_MODEL_07c879598e544ccd887197a7bcef7974",
            "placeholder": "​",
            "style": "IPY_MODEL_e0b55caf60fe470ba468e0a5e6a65ae2",
            "value": " 807/807 [00:00&lt;00:00, 6.12kB/s]"
          }
        },
        "0d9e08b9443442e79075e49dfc4c164c": {
          "model_module": "@jupyter-widgets/base",
          "model_name": "LayoutModel",
          "model_module_version": "1.2.0",
          "state": {
            "_model_module": "@jupyter-widgets/base",
            "_model_module_version": "1.2.0",
            "_model_name": "LayoutModel",
            "_view_count": null,
            "_view_module": "@jupyter-widgets/base",
            "_view_module_version": "1.2.0",
            "_view_name": "LayoutView",
            "align_content": null,
            "align_items": null,
            "align_self": null,
            "border": null,
            "bottom": null,
            "display": null,
            "flex": null,
            "flex_flow": null,
            "grid_area": null,
            "grid_auto_columns": null,
            "grid_auto_flow": null,
            "grid_auto_rows": null,
            "grid_column": null,
            "grid_gap": null,
            "grid_row": null,
            "grid_template_areas": null,
            "grid_template_columns": null,
            "grid_template_rows": null,
            "height": null,
            "justify_content": null,
            "justify_items": null,
            "left": null,
            "margin": null,
            "max_height": null,
            "max_width": null,
            "min_height": null,
            "min_width": null,
            "object_fit": null,
            "object_position": null,
            "order": null,
            "overflow": null,
            "overflow_x": null,
            "overflow_y": null,
            "padding": null,
            "right": null,
            "top": null,
            "visibility": null,
            "width": null
          }
        },
        "3d64edaa370c4a4ab8226077508f7c24": {
          "model_module": "@jupyter-widgets/base",
          "model_name": "LayoutModel",
          "model_module_version": "1.2.0",
          "state": {
            "_model_module": "@jupyter-widgets/base",
            "_model_module_version": "1.2.0",
            "_model_name": "LayoutModel",
            "_view_count": null,
            "_view_module": "@jupyter-widgets/base",
            "_view_module_version": "1.2.0",
            "_view_name": "LayoutView",
            "align_content": null,
            "align_items": null,
            "align_self": null,
            "border": null,
            "bottom": null,
            "display": null,
            "flex": null,
            "flex_flow": null,
            "grid_area": null,
            "grid_auto_columns": null,
            "grid_auto_flow": null,
            "grid_auto_rows": null,
            "grid_column": null,
            "grid_gap": null,
            "grid_row": null,
            "grid_template_areas": null,
            "grid_template_columns": null,
            "grid_template_rows": null,
            "height": null,
            "justify_content": null,
            "justify_items": null,
            "left": null,
            "margin": null,
            "max_height": null,
            "max_width": null,
            "min_height": null,
            "min_width": null,
            "object_fit": null,
            "object_position": null,
            "order": null,
            "overflow": null,
            "overflow_x": null,
            "overflow_y": null,
            "padding": null,
            "right": null,
            "top": null,
            "visibility": null,
            "width": null
          }
        },
        "881ecfc28c2e467da5536b7a393f8b3e": {
          "model_module": "@jupyter-widgets/controls",
          "model_name": "DescriptionStyleModel",
          "model_module_version": "1.5.0",
          "state": {
            "_model_module": "@jupyter-widgets/controls",
            "_model_module_version": "1.5.0",
            "_model_name": "DescriptionStyleModel",
            "_view_count": null,
            "_view_module": "@jupyter-widgets/base",
            "_view_module_version": "1.2.0",
            "_view_name": "StyleView",
            "description_width": ""
          }
        },
        "e6c32d17a4d34033b09c363522fddb3c": {
          "model_module": "@jupyter-widgets/base",
          "model_name": "LayoutModel",
          "model_module_version": "1.2.0",
          "state": {
            "_model_module": "@jupyter-widgets/base",
            "_model_module_version": "1.2.0",
            "_model_name": "LayoutModel",
            "_view_count": null,
            "_view_module": "@jupyter-widgets/base",
            "_view_module_version": "1.2.0",
            "_view_name": "LayoutView",
            "align_content": null,
            "align_items": null,
            "align_self": null,
            "border": null,
            "bottom": null,
            "display": null,
            "flex": null,
            "flex_flow": null,
            "grid_area": null,
            "grid_auto_columns": null,
            "grid_auto_flow": null,
            "grid_auto_rows": null,
            "grid_column": null,
            "grid_gap": null,
            "grid_row": null,
            "grid_template_areas": null,
            "grid_template_columns": null,
            "grid_template_rows": null,
            "height": null,
            "justify_content": null,
            "justify_items": null,
            "left": null,
            "margin": null,
            "max_height": null,
            "max_width": null,
            "min_height": null,
            "min_width": null,
            "object_fit": null,
            "object_position": null,
            "order": null,
            "overflow": null,
            "overflow_x": null,
            "overflow_y": null,
            "padding": null,
            "right": null,
            "top": null,
            "visibility": null,
            "width": null
          }
        },
        "611f89e29147473c9a75c1dbe395126a": {
          "model_module": "@jupyter-widgets/controls",
          "model_name": "ProgressStyleModel",
          "model_module_version": "1.5.0",
          "state": {
            "_model_module": "@jupyter-widgets/controls",
            "_model_module_version": "1.5.0",
            "_model_name": "ProgressStyleModel",
            "_view_count": null,
            "_view_module": "@jupyter-widgets/base",
            "_view_module_version": "1.2.0",
            "_view_name": "StyleView",
            "bar_color": null,
            "description_width": ""
          }
        },
        "07c879598e544ccd887197a7bcef7974": {
          "model_module": "@jupyter-widgets/base",
          "model_name": "LayoutModel",
          "model_module_version": "1.2.0",
          "state": {
            "_model_module": "@jupyter-widgets/base",
            "_model_module_version": "1.2.0",
            "_model_name": "LayoutModel",
            "_view_count": null,
            "_view_module": "@jupyter-widgets/base",
            "_view_module_version": "1.2.0",
            "_view_name": "LayoutView",
            "align_content": null,
            "align_items": null,
            "align_self": null,
            "border": null,
            "bottom": null,
            "display": null,
            "flex": null,
            "flex_flow": null,
            "grid_area": null,
            "grid_auto_columns": null,
            "grid_auto_flow": null,
            "grid_auto_rows": null,
            "grid_column": null,
            "grid_gap": null,
            "grid_row": null,
            "grid_template_areas": null,
            "grid_template_columns": null,
            "grid_template_rows": null,
            "height": null,
            "justify_content": null,
            "justify_items": null,
            "left": null,
            "margin": null,
            "max_height": null,
            "max_width": null,
            "min_height": null,
            "min_width": null,
            "object_fit": null,
            "object_position": null,
            "order": null,
            "overflow": null,
            "overflow_x": null,
            "overflow_y": null,
            "padding": null,
            "right": null,
            "top": null,
            "visibility": null,
            "width": null
          }
        },
        "e0b55caf60fe470ba468e0a5e6a65ae2": {
          "model_module": "@jupyter-widgets/controls",
          "model_name": "DescriptionStyleModel",
          "model_module_version": "1.5.0",
          "state": {
            "_model_module": "@jupyter-widgets/controls",
            "_model_module_version": "1.5.0",
            "_model_name": "DescriptionStyleModel",
            "_view_count": null,
            "_view_module": "@jupyter-widgets/base",
            "_view_module_version": "1.2.0",
            "_view_name": "StyleView",
            "description_width": ""
          }
        },
        "c1c3d57660164ffcbab46f10215bbd7c": {
          "model_module": "@jupyter-widgets/controls",
          "model_name": "HBoxModel",
          "model_module_version": "1.5.0",
          "state": {
            "_dom_classes": [],
            "_model_module": "@jupyter-widgets/controls",
            "_model_module_version": "1.5.0",
            "_model_name": "HBoxModel",
            "_view_count": null,
            "_view_module": "@jupyter-widgets/controls",
            "_view_module_version": "1.5.0",
            "_view_name": "HBoxView",
            "box_style": "",
            "children": [
              "IPY_MODEL_4398a7544bed414f84edf3221093860d",
              "IPY_MODEL_85a5806e0c484be5a6ec492e57b17c9b",
              "IPY_MODEL_66d17d167d1b4f5d8616e2968b3a7bb1"
            ],
            "layout": "IPY_MODEL_6277ac593c7a405c8d23f4e1f1a32778"
          }
        },
        "4398a7544bed414f84edf3221093860d": {
          "model_module": "@jupyter-widgets/controls",
          "model_name": "HTMLModel",
          "model_module_version": "1.5.0",
          "state": {
            "_dom_classes": [],
            "_model_module": "@jupyter-widgets/controls",
            "_model_module_version": "1.5.0",
            "_model_name": "HTMLModel",
            "_view_count": null,
            "_view_module": "@jupyter-widgets/controls",
            "_view_module_version": "1.5.0",
            "_view_name": "HTMLView",
            "description": "",
            "description_tooltip": null,
            "layout": "IPY_MODEL_4d88665651d04a0c894511c967dffb38",
            "placeholder": "​",
            "style": "IPY_MODEL_536a196e9cd14198ada9c2fdc936688f",
            "value": "tokenizer/merges.txt: 100%"
          }
        },
        "85a5806e0c484be5a6ec492e57b17c9b": {
          "model_module": "@jupyter-widgets/controls",
          "model_name": "FloatProgressModel",
          "model_module_version": "1.5.0",
          "state": {
            "_dom_classes": [],
            "_model_module": "@jupyter-widgets/controls",
            "_model_module_version": "1.5.0",
            "_model_name": "FloatProgressModel",
            "_view_count": null,
            "_view_module": "@jupyter-widgets/controls",
            "_view_module_version": "1.5.0",
            "_view_name": "ProgressView",
            "bar_style": "success",
            "description": "",
            "description_tooltip": null,
            "layout": "IPY_MODEL_350963daae324014816ce93d4e10f0b0",
            "max": 524619,
            "min": 0,
            "orientation": "horizontal",
            "style": "IPY_MODEL_70226e60c4f942e181d3254ba53e7ecc",
            "value": 524619
          }
        },
        "66d17d167d1b4f5d8616e2968b3a7bb1": {
          "model_module": "@jupyter-widgets/controls",
          "model_name": "HTMLModel",
          "model_module_version": "1.5.0",
          "state": {
            "_dom_classes": [],
            "_model_module": "@jupyter-widgets/controls",
            "_model_module_version": "1.5.0",
            "_model_name": "HTMLModel",
            "_view_count": null,
            "_view_module": "@jupyter-widgets/controls",
            "_view_module_version": "1.5.0",
            "_view_name": "HTMLView",
            "description": "",
            "description_tooltip": null,
            "layout": "IPY_MODEL_7be670d641d445b78309e63bae3df1af",
            "placeholder": "​",
            "style": "IPY_MODEL_0b58300bb90a4fc9929b8d71dc7d3c7f",
            "value": " 525k/525k [00:00&lt;00:00, 2.68MB/s]"
          }
        },
        "6277ac593c7a405c8d23f4e1f1a32778": {
          "model_module": "@jupyter-widgets/base",
          "model_name": "LayoutModel",
          "model_module_version": "1.2.0",
          "state": {
            "_model_module": "@jupyter-widgets/base",
            "_model_module_version": "1.2.0",
            "_model_name": "LayoutModel",
            "_view_count": null,
            "_view_module": "@jupyter-widgets/base",
            "_view_module_version": "1.2.0",
            "_view_name": "LayoutView",
            "align_content": null,
            "align_items": null,
            "align_self": null,
            "border": null,
            "bottom": null,
            "display": null,
            "flex": null,
            "flex_flow": null,
            "grid_area": null,
            "grid_auto_columns": null,
            "grid_auto_flow": null,
            "grid_auto_rows": null,
            "grid_column": null,
            "grid_gap": null,
            "grid_row": null,
            "grid_template_areas": null,
            "grid_template_columns": null,
            "grid_template_rows": null,
            "height": null,
            "justify_content": null,
            "justify_items": null,
            "left": null,
            "margin": null,
            "max_height": null,
            "max_width": null,
            "min_height": null,
            "min_width": null,
            "object_fit": null,
            "object_position": null,
            "order": null,
            "overflow": null,
            "overflow_x": null,
            "overflow_y": null,
            "padding": null,
            "right": null,
            "top": null,
            "visibility": null,
            "width": null
          }
        },
        "4d88665651d04a0c894511c967dffb38": {
          "model_module": "@jupyter-widgets/base",
          "model_name": "LayoutModel",
          "model_module_version": "1.2.0",
          "state": {
            "_model_module": "@jupyter-widgets/base",
            "_model_module_version": "1.2.0",
            "_model_name": "LayoutModel",
            "_view_count": null,
            "_view_module": "@jupyter-widgets/base",
            "_view_module_version": "1.2.0",
            "_view_name": "LayoutView",
            "align_content": null,
            "align_items": null,
            "align_self": null,
            "border": null,
            "bottom": null,
            "display": null,
            "flex": null,
            "flex_flow": null,
            "grid_area": null,
            "grid_auto_columns": null,
            "grid_auto_flow": null,
            "grid_auto_rows": null,
            "grid_column": null,
            "grid_gap": null,
            "grid_row": null,
            "grid_template_areas": null,
            "grid_template_columns": null,
            "grid_template_rows": null,
            "height": null,
            "justify_content": null,
            "justify_items": null,
            "left": null,
            "margin": null,
            "max_height": null,
            "max_width": null,
            "min_height": null,
            "min_width": null,
            "object_fit": null,
            "object_position": null,
            "order": null,
            "overflow": null,
            "overflow_x": null,
            "overflow_y": null,
            "padding": null,
            "right": null,
            "top": null,
            "visibility": null,
            "width": null
          }
        },
        "536a196e9cd14198ada9c2fdc936688f": {
          "model_module": "@jupyter-widgets/controls",
          "model_name": "DescriptionStyleModel",
          "model_module_version": "1.5.0",
          "state": {
            "_model_module": "@jupyter-widgets/controls",
            "_model_module_version": "1.5.0",
            "_model_name": "DescriptionStyleModel",
            "_view_count": null,
            "_view_module": "@jupyter-widgets/base",
            "_view_module_version": "1.2.0",
            "_view_name": "StyleView",
            "description_width": ""
          }
        },
        "350963daae324014816ce93d4e10f0b0": {
          "model_module": "@jupyter-widgets/base",
          "model_name": "LayoutModel",
          "model_module_version": "1.2.0",
          "state": {
            "_model_module": "@jupyter-widgets/base",
            "_model_module_version": "1.2.0",
            "_model_name": "LayoutModel",
            "_view_count": null,
            "_view_module": "@jupyter-widgets/base",
            "_view_module_version": "1.2.0",
            "_view_name": "LayoutView",
            "align_content": null,
            "align_items": null,
            "align_self": null,
            "border": null,
            "bottom": null,
            "display": null,
            "flex": null,
            "flex_flow": null,
            "grid_area": null,
            "grid_auto_columns": null,
            "grid_auto_flow": null,
            "grid_auto_rows": null,
            "grid_column": null,
            "grid_gap": null,
            "grid_row": null,
            "grid_template_areas": null,
            "grid_template_columns": null,
            "grid_template_rows": null,
            "height": null,
            "justify_content": null,
            "justify_items": null,
            "left": null,
            "margin": null,
            "max_height": null,
            "max_width": null,
            "min_height": null,
            "min_width": null,
            "object_fit": null,
            "object_position": null,
            "order": null,
            "overflow": null,
            "overflow_x": null,
            "overflow_y": null,
            "padding": null,
            "right": null,
            "top": null,
            "visibility": null,
            "width": null
          }
        },
        "70226e60c4f942e181d3254ba53e7ecc": {
          "model_module": "@jupyter-widgets/controls",
          "model_name": "ProgressStyleModel",
          "model_module_version": "1.5.0",
          "state": {
            "_model_module": "@jupyter-widgets/controls",
            "_model_module_version": "1.5.0",
            "_model_name": "ProgressStyleModel",
            "_view_count": null,
            "_view_module": "@jupyter-widgets/base",
            "_view_module_version": "1.2.0",
            "_view_name": "StyleView",
            "bar_color": null,
            "description_width": ""
          }
        },
        "7be670d641d445b78309e63bae3df1af": {
          "model_module": "@jupyter-widgets/base",
          "model_name": "LayoutModel",
          "model_module_version": "1.2.0",
          "state": {
            "_model_module": "@jupyter-widgets/base",
            "_model_module_version": "1.2.0",
            "_model_name": "LayoutModel",
            "_view_count": null,
            "_view_module": "@jupyter-widgets/base",
            "_view_module_version": "1.2.0",
            "_view_name": "LayoutView",
            "align_content": null,
            "align_items": null,
            "align_self": null,
            "border": null,
            "bottom": null,
            "display": null,
            "flex": null,
            "flex_flow": null,
            "grid_area": null,
            "grid_auto_columns": null,
            "grid_auto_flow": null,
            "grid_auto_rows": null,
            "grid_column": null,
            "grid_gap": null,
            "grid_row": null,
            "grid_template_areas": null,
            "grid_template_columns": null,
            "grid_template_rows": null,
            "height": null,
            "justify_content": null,
            "justify_items": null,
            "left": null,
            "margin": null,
            "max_height": null,
            "max_width": null,
            "min_height": null,
            "min_width": null,
            "object_fit": null,
            "object_position": null,
            "order": null,
            "overflow": null,
            "overflow_x": null,
            "overflow_y": null,
            "padding": null,
            "right": null,
            "top": null,
            "visibility": null,
            "width": null
          }
        },
        "0b58300bb90a4fc9929b8d71dc7d3c7f": {
          "model_module": "@jupyter-widgets/controls",
          "model_name": "DescriptionStyleModel",
          "model_module_version": "1.5.0",
          "state": {
            "_model_module": "@jupyter-widgets/controls",
            "_model_module_version": "1.5.0",
            "_model_name": "DescriptionStyleModel",
            "_view_count": null,
            "_view_module": "@jupyter-widgets/base",
            "_view_module_version": "1.2.0",
            "_view_name": "StyleView",
            "description_width": ""
          }
        },
        "ead8cc46a88d4441a184af6f1f21b2d5": {
          "model_module": "@jupyter-widgets/controls",
          "model_name": "HBoxModel",
          "model_module_version": "1.5.0",
          "state": {
            "_dom_classes": [],
            "_model_module": "@jupyter-widgets/controls",
            "_model_module_version": "1.5.0",
            "_model_name": "HBoxModel",
            "_view_count": null,
            "_view_module": "@jupyter-widgets/controls",
            "_view_module_version": "1.5.0",
            "_view_name": "HBoxView",
            "box_style": "",
            "children": [
              "IPY_MODEL_b85e850ccc584529a9e720a6dc183c10",
              "IPY_MODEL_f2c137839b7f4ac88d491f8f341a071a",
              "IPY_MODEL_c0371794f0a649418a9c26ae8540beb5"
            ],
            "layout": "IPY_MODEL_c8880a25bb77401788199ade8de9521a"
          }
        },
        "b85e850ccc584529a9e720a6dc183c10": {
          "model_module": "@jupyter-widgets/controls",
          "model_name": "HTMLModel",
          "model_module_version": "1.5.0",
          "state": {
            "_dom_classes": [],
            "_model_module": "@jupyter-widgets/controls",
            "_model_module_version": "1.5.0",
            "_model_name": "HTMLModel",
            "_view_count": null,
            "_view_module": "@jupyter-widgets/controls",
            "_view_module_version": "1.5.0",
            "_view_name": "HTMLView",
            "description": "",
            "description_tooltip": null,
            "layout": "IPY_MODEL_b40eaab55e6b4631845dd0a3dd8b3ad6",
            "placeholder": "​",
            "style": "IPY_MODEL_228cb96b7a60437a88d08f1bc6b0a5a2",
            "value": "tokenizer/vocab.json: 100%"
          }
        },
        "f2c137839b7f4ac88d491f8f341a071a": {
          "model_module": "@jupyter-widgets/controls",
          "model_name": "FloatProgressModel",
          "model_module_version": "1.5.0",
          "state": {
            "_dom_classes": [],
            "_model_module": "@jupyter-widgets/controls",
            "_model_module_version": "1.5.0",
            "_model_name": "FloatProgressModel",
            "_view_count": null,
            "_view_module": "@jupyter-widgets/controls",
            "_view_module_version": "1.5.0",
            "_view_name": "ProgressView",
            "bar_style": "success",
            "description": "",
            "description_tooltip": null,
            "layout": "IPY_MODEL_b4af8320f4b64199ab0618e889aea2b7",
            "max": 1059962,
            "min": 0,
            "orientation": "horizontal",
            "style": "IPY_MODEL_c73654c81b604ce0bbb38854611d5927",
            "value": 1059962
          }
        },
        "c0371794f0a649418a9c26ae8540beb5": {
          "model_module": "@jupyter-widgets/controls",
          "model_name": "HTMLModel",
          "model_module_version": "1.5.0",
          "state": {
            "_dom_classes": [],
            "_model_module": "@jupyter-widgets/controls",
            "_model_module_version": "1.5.0",
            "_model_name": "HTMLModel",
            "_view_count": null,
            "_view_module": "@jupyter-widgets/controls",
            "_view_module_version": "1.5.0",
            "_view_name": "HTMLView",
            "description": "",
            "description_tooltip": null,
            "layout": "IPY_MODEL_17ef7e713fe54bf7b57fc598ea62664f",
            "placeholder": "​",
            "style": "IPY_MODEL_157cbe7470be483096dfb868db98850a",
            "value": " 1.06M/1.06M [00:00&lt;00:00, 5.20MB/s]"
          }
        },
        "c8880a25bb77401788199ade8de9521a": {
          "model_module": "@jupyter-widgets/base",
          "model_name": "LayoutModel",
          "model_module_version": "1.2.0",
          "state": {
            "_model_module": "@jupyter-widgets/base",
            "_model_module_version": "1.2.0",
            "_model_name": "LayoutModel",
            "_view_count": null,
            "_view_module": "@jupyter-widgets/base",
            "_view_module_version": "1.2.0",
            "_view_name": "LayoutView",
            "align_content": null,
            "align_items": null,
            "align_self": null,
            "border": null,
            "bottom": null,
            "display": null,
            "flex": null,
            "flex_flow": null,
            "grid_area": null,
            "grid_auto_columns": null,
            "grid_auto_flow": null,
            "grid_auto_rows": null,
            "grid_column": null,
            "grid_gap": null,
            "grid_row": null,
            "grid_template_areas": null,
            "grid_template_columns": null,
            "grid_template_rows": null,
            "height": null,
            "justify_content": null,
            "justify_items": null,
            "left": null,
            "margin": null,
            "max_height": null,
            "max_width": null,
            "min_height": null,
            "min_width": null,
            "object_fit": null,
            "object_position": null,
            "order": null,
            "overflow": null,
            "overflow_x": null,
            "overflow_y": null,
            "padding": null,
            "right": null,
            "top": null,
            "visibility": null,
            "width": null
          }
        },
        "b40eaab55e6b4631845dd0a3dd8b3ad6": {
          "model_module": "@jupyter-widgets/base",
          "model_name": "LayoutModel",
          "model_module_version": "1.2.0",
          "state": {
            "_model_module": "@jupyter-widgets/base",
            "_model_module_version": "1.2.0",
            "_model_name": "LayoutModel",
            "_view_count": null,
            "_view_module": "@jupyter-widgets/base",
            "_view_module_version": "1.2.0",
            "_view_name": "LayoutView",
            "align_content": null,
            "align_items": null,
            "align_self": null,
            "border": null,
            "bottom": null,
            "display": null,
            "flex": null,
            "flex_flow": null,
            "grid_area": null,
            "grid_auto_columns": null,
            "grid_auto_flow": null,
            "grid_auto_rows": null,
            "grid_column": null,
            "grid_gap": null,
            "grid_row": null,
            "grid_template_areas": null,
            "grid_template_columns": null,
            "grid_template_rows": null,
            "height": null,
            "justify_content": null,
            "justify_items": null,
            "left": null,
            "margin": null,
            "max_height": null,
            "max_width": null,
            "min_height": null,
            "min_width": null,
            "object_fit": null,
            "object_position": null,
            "order": null,
            "overflow": null,
            "overflow_x": null,
            "overflow_y": null,
            "padding": null,
            "right": null,
            "top": null,
            "visibility": null,
            "width": null
          }
        },
        "228cb96b7a60437a88d08f1bc6b0a5a2": {
          "model_module": "@jupyter-widgets/controls",
          "model_name": "DescriptionStyleModel",
          "model_module_version": "1.5.0",
          "state": {
            "_model_module": "@jupyter-widgets/controls",
            "_model_module_version": "1.5.0",
            "_model_name": "DescriptionStyleModel",
            "_view_count": null,
            "_view_module": "@jupyter-widgets/base",
            "_view_module_version": "1.2.0",
            "_view_name": "StyleView",
            "description_width": ""
          }
        },
        "b4af8320f4b64199ab0618e889aea2b7": {
          "model_module": "@jupyter-widgets/base",
          "model_name": "LayoutModel",
          "model_module_version": "1.2.0",
          "state": {
            "_model_module": "@jupyter-widgets/base",
            "_model_module_version": "1.2.0",
            "_model_name": "LayoutModel",
            "_view_count": null,
            "_view_module": "@jupyter-widgets/base",
            "_view_module_version": "1.2.0",
            "_view_name": "LayoutView",
            "align_content": null,
            "align_items": null,
            "align_self": null,
            "border": null,
            "bottom": null,
            "display": null,
            "flex": null,
            "flex_flow": null,
            "grid_area": null,
            "grid_auto_columns": null,
            "grid_auto_flow": null,
            "grid_auto_rows": null,
            "grid_column": null,
            "grid_gap": null,
            "grid_row": null,
            "grid_template_areas": null,
            "grid_template_columns": null,
            "grid_template_rows": null,
            "height": null,
            "justify_content": null,
            "justify_items": null,
            "left": null,
            "margin": null,
            "max_height": null,
            "max_width": null,
            "min_height": null,
            "min_width": null,
            "object_fit": null,
            "object_position": null,
            "order": null,
            "overflow": null,
            "overflow_x": null,
            "overflow_y": null,
            "padding": null,
            "right": null,
            "top": null,
            "visibility": null,
            "width": null
          }
        },
        "c73654c81b604ce0bbb38854611d5927": {
          "model_module": "@jupyter-widgets/controls",
          "model_name": "ProgressStyleModel",
          "model_module_version": "1.5.0",
          "state": {
            "_model_module": "@jupyter-widgets/controls",
            "_model_module_version": "1.5.0",
            "_model_name": "ProgressStyleModel",
            "_view_count": null,
            "_view_module": "@jupyter-widgets/base",
            "_view_module_version": "1.2.0",
            "_view_name": "StyleView",
            "bar_color": null,
            "description_width": ""
          }
        },
        "17ef7e713fe54bf7b57fc598ea62664f": {
          "model_module": "@jupyter-widgets/base",
          "model_name": "LayoutModel",
          "model_module_version": "1.2.0",
          "state": {
            "_model_module": "@jupyter-widgets/base",
            "_model_module_version": "1.2.0",
            "_model_name": "LayoutModel",
            "_view_count": null,
            "_view_module": "@jupyter-widgets/base",
            "_view_module_version": "1.2.0",
            "_view_name": "LayoutView",
            "align_content": null,
            "align_items": null,
            "align_self": null,
            "border": null,
            "bottom": null,
            "display": null,
            "flex": null,
            "flex_flow": null,
            "grid_area": null,
            "grid_auto_columns": null,
            "grid_auto_flow": null,
            "grid_auto_rows": null,
            "grid_column": null,
            "grid_gap": null,
            "grid_row": null,
            "grid_template_areas": null,
            "grid_template_columns": null,
            "grid_template_rows": null,
            "height": null,
            "justify_content": null,
            "justify_items": null,
            "left": null,
            "margin": null,
            "max_height": null,
            "max_width": null,
            "min_height": null,
            "min_width": null,
            "object_fit": null,
            "object_position": null,
            "order": null,
            "overflow": null,
            "overflow_x": null,
            "overflow_y": null,
            "padding": null,
            "right": null,
            "top": null,
            "visibility": null,
            "width": null
          }
        },
        "157cbe7470be483096dfb868db98850a": {
          "model_module": "@jupyter-widgets/controls",
          "model_name": "DescriptionStyleModel",
          "model_module_version": "1.5.0",
          "state": {
            "_model_module": "@jupyter-widgets/controls",
            "_model_module_version": "1.5.0",
            "_model_name": "DescriptionStyleModel",
            "_view_count": null,
            "_view_module": "@jupyter-widgets/base",
            "_view_module_version": "1.2.0",
            "_view_name": "StyleView",
            "description_width": ""
          }
        },
        "a927217dd88b4723a159c5e101ce2ff6": {
          "model_module": "@jupyter-widgets/controls",
          "model_name": "HBoxModel",
          "model_module_version": "1.5.0",
          "state": {
            "_dom_classes": [],
            "_model_module": "@jupyter-widgets/controls",
            "_model_module_version": "1.5.0",
            "_model_name": "HBoxModel",
            "_view_count": null,
            "_view_module": "@jupyter-widgets/controls",
            "_view_module_version": "1.5.0",
            "_view_name": "HBoxView",
            "box_style": "",
            "children": [
              "IPY_MODEL_c9b0aace925d4ce5a90102af1a8dc0b4",
              "IPY_MODEL_215d46fb27114e3f8bd548af8e16d78b",
              "IPY_MODEL_b87bb73646d644cdbbfad50aa1e9a325"
            ],
            "layout": "IPY_MODEL_135c66f1daf04cf99ff7ecc72e49d198"
          }
        },
        "c9b0aace925d4ce5a90102af1a8dc0b4": {
          "model_module": "@jupyter-widgets/controls",
          "model_name": "HTMLModel",
          "model_module_version": "1.5.0",
          "state": {
            "_dom_classes": [],
            "_model_module": "@jupyter-widgets/controls",
            "_model_module_version": "1.5.0",
            "_model_name": "HTMLModel",
            "_view_count": null,
            "_view_module": "@jupyter-widgets/controls",
            "_view_module_version": "1.5.0",
            "_view_name": "HTMLView",
            "description": "",
            "description_tooltip": null,
            "layout": "IPY_MODEL_22460b90655b4f4aa750bed3d17622b4",
            "placeholder": "​",
            "style": "IPY_MODEL_c6616c951fa54b97b16d4198db5e4e41",
            "value": "tokenizer/special_tokens_map.json: 100%"
          }
        },
        "215d46fb27114e3f8bd548af8e16d78b": {
          "model_module": "@jupyter-widgets/controls",
          "model_name": "FloatProgressModel",
          "model_module_version": "1.5.0",
          "state": {
            "_dom_classes": [],
            "_model_module": "@jupyter-widgets/controls",
            "_model_module_version": "1.5.0",
            "_model_name": "FloatProgressModel",
            "_view_count": null,
            "_view_module": "@jupyter-widgets/controls",
            "_view_module_version": "1.5.0",
            "_view_name": "ProgressView",
            "bar_style": "success",
            "description": "",
            "description_tooltip": null,
            "layout": "IPY_MODEL_73e8efa6e2ae4f479d61fefb9e0a3a30",
            "max": 460,
            "min": 0,
            "orientation": "horizontal",
            "style": "IPY_MODEL_0053bdb62841433b940ba728db6961a6",
            "value": 460
          }
        },
        "b87bb73646d644cdbbfad50aa1e9a325": {
          "model_module": "@jupyter-widgets/controls",
          "model_name": "HTMLModel",
          "model_module_version": "1.5.0",
          "state": {
            "_dom_classes": [],
            "_model_module": "@jupyter-widgets/controls",
            "_model_module_version": "1.5.0",
            "_model_name": "HTMLModel",
            "_view_count": null,
            "_view_module": "@jupyter-widgets/controls",
            "_view_module_version": "1.5.0",
            "_view_name": "HTMLView",
            "description": "",
            "description_tooltip": null,
            "layout": "IPY_MODEL_92b30869e0164cd09613131df767adca",
            "placeholder": "​",
            "style": "IPY_MODEL_9d1766e8f5724384bef861f75e4f26b7",
            "value": " 460/460 [00:00&lt;00:00, 3.75kB/s]"
          }
        },
        "135c66f1daf04cf99ff7ecc72e49d198": {
          "model_module": "@jupyter-widgets/base",
          "model_name": "LayoutModel",
          "model_module_version": "1.2.0",
          "state": {
            "_model_module": "@jupyter-widgets/base",
            "_model_module_version": "1.2.0",
            "_model_name": "LayoutModel",
            "_view_count": null,
            "_view_module": "@jupyter-widgets/base",
            "_view_module_version": "1.2.0",
            "_view_name": "LayoutView",
            "align_content": null,
            "align_items": null,
            "align_self": null,
            "border": null,
            "bottom": null,
            "display": null,
            "flex": null,
            "flex_flow": null,
            "grid_area": null,
            "grid_auto_columns": null,
            "grid_auto_flow": null,
            "grid_auto_rows": null,
            "grid_column": null,
            "grid_gap": null,
            "grid_row": null,
            "grid_template_areas": null,
            "grid_template_columns": null,
            "grid_template_rows": null,
            "height": null,
            "justify_content": null,
            "justify_items": null,
            "left": null,
            "margin": null,
            "max_height": null,
            "max_width": null,
            "min_height": null,
            "min_width": null,
            "object_fit": null,
            "object_position": null,
            "order": null,
            "overflow": null,
            "overflow_x": null,
            "overflow_y": null,
            "padding": null,
            "right": null,
            "top": null,
            "visibility": null,
            "width": null
          }
        },
        "22460b90655b4f4aa750bed3d17622b4": {
          "model_module": "@jupyter-widgets/base",
          "model_name": "LayoutModel",
          "model_module_version": "1.2.0",
          "state": {
            "_model_module": "@jupyter-widgets/base",
            "_model_module_version": "1.2.0",
            "_model_name": "LayoutModel",
            "_view_count": null,
            "_view_module": "@jupyter-widgets/base",
            "_view_module_version": "1.2.0",
            "_view_name": "LayoutView",
            "align_content": null,
            "align_items": null,
            "align_self": null,
            "border": null,
            "bottom": null,
            "display": null,
            "flex": null,
            "flex_flow": null,
            "grid_area": null,
            "grid_auto_columns": null,
            "grid_auto_flow": null,
            "grid_auto_rows": null,
            "grid_column": null,
            "grid_gap": null,
            "grid_row": null,
            "grid_template_areas": null,
            "grid_template_columns": null,
            "grid_template_rows": null,
            "height": null,
            "justify_content": null,
            "justify_items": null,
            "left": null,
            "margin": null,
            "max_height": null,
            "max_width": null,
            "min_height": null,
            "min_width": null,
            "object_fit": null,
            "object_position": null,
            "order": null,
            "overflow": null,
            "overflow_x": null,
            "overflow_y": null,
            "padding": null,
            "right": null,
            "top": null,
            "visibility": null,
            "width": null
          }
        },
        "c6616c951fa54b97b16d4198db5e4e41": {
          "model_module": "@jupyter-widgets/controls",
          "model_name": "DescriptionStyleModel",
          "model_module_version": "1.5.0",
          "state": {
            "_model_module": "@jupyter-widgets/controls",
            "_model_module_version": "1.5.0",
            "_model_name": "DescriptionStyleModel",
            "_view_count": null,
            "_view_module": "@jupyter-widgets/base",
            "_view_module_version": "1.2.0",
            "_view_name": "StyleView",
            "description_width": ""
          }
        },
        "73e8efa6e2ae4f479d61fefb9e0a3a30": {
          "model_module": "@jupyter-widgets/base",
          "model_name": "LayoutModel",
          "model_module_version": "1.2.0",
          "state": {
            "_model_module": "@jupyter-widgets/base",
            "_model_module_version": "1.2.0",
            "_model_name": "LayoutModel",
            "_view_count": null,
            "_view_module": "@jupyter-widgets/base",
            "_view_module_version": "1.2.0",
            "_view_name": "LayoutView",
            "align_content": null,
            "align_items": null,
            "align_self": null,
            "border": null,
            "bottom": null,
            "display": null,
            "flex": null,
            "flex_flow": null,
            "grid_area": null,
            "grid_auto_columns": null,
            "grid_auto_flow": null,
            "grid_auto_rows": null,
            "grid_column": null,
            "grid_gap": null,
            "grid_row": null,
            "grid_template_areas": null,
            "grid_template_columns": null,
            "grid_template_rows": null,
            "height": null,
            "justify_content": null,
            "justify_items": null,
            "left": null,
            "margin": null,
            "max_height": null,
            "max_width": null,
            "min_height": null,
            "min_width": null,
            "object_fit": null,
            "object_position": null,
            "order": null,
            "overflow": null,
            "overflow_x": null,
            "overflow_y": null,
            "padding": null,
            "right": null,
            "top": null,
            "visibility": null,
            "width": null
          }
        },
        "0053bdb62841433b940ba728db6961a6": {
          "model_module": "@jupyter-widgets/controls",
          "model_name": "ProgressStyleModel",
          "model_module_version": "1.5.0",
          "state": {
            "_model_module": "@jupyter-widgets/controls",
            "_model_module_version": "1.5.0",
            "_model_name": "ProgressStyleModel",
            "_view_count": null,
            "_view_module": "@jupyter-widgets/base",
            "_view_module_version": "1.2.0",
            "_view_name": "StyleView",
            "bar_color": null,
            "description_width": ""
          }
        },
        "92b30869e0164cd09613131df767adca": {
          "model_module": "@jupyter-widgets/base",
          "model_name": "LayoutModel",
          "model_module_version": "1.2.0",
          "state": {
            "_model_module": "@jupyter-widgets/base",
            "_model_module_version": "1.2.0",
            "_model_name": "LayoutModel",
            "_view_count": null,
            "_view_module": "@jupyter-widgets/base",
            "_view_module_version": "1.2.0",
            "_view_name": "LayoutView",
            "align_content": null,
            "align_items": null,
            "align_self": null,
            "border": null,
            "bottom": null,
            "display": null,
            "flex": null,
            "flex_flow": null,
            "grid_area": null,
            "grid_auto_columns": null,
            "grid_auto_flow": null,
            "grid_auto_rows": null,
            "grid_column": null,
            "grid_gap": null,
            "grid_row": null,
            "grid_template_areas": null,
            "grid_template_columns": null,
            "grid_template_rows": null,
            "height": null,
            "justify_content": null,
            "justify_items": null,
            "left": null,
            "margin": null,
            "max_height": null,
            "max_width": null,
            "min_height": null,
            "min_width": null,
            "object_fit": null,
            "object_position": null,
            "order": null,
            "overflow": null,
            "overflow_x": null,
            "overflow_y": null,
            "padding": null,
            "right": null,
            "top": null,
            "visibility": null,
            "width": null
          }
        },
        "9d1766e8f5724384bef861f75e4f26b7": {
          "model_module": "@jupyter-widgets/controls",
          "model_name": "DescriptionStyleModel",
          "model_module_version": "1.5.0",
          "state": {
            "_model_module": "@jupyter-widgets/controls",
            "_model_module_version": "1.5.0",
            "_model_name": "DescriptionStyleModel",
            "_view_count": null,
            "_view_module": "@jupyter-widgets/base",
            "_view_module_version": "1.2.0",
            "_view_name": "StyleView",
            "description_width": ""
          }
        },
        "cee8e832856b4ee786bc9528a7bc5f13": {
          "model_module": "@jupyter-widgets/controls",
          "model_name": "HBoxModel",
          "model_module_version": "1.5.0",
          "state": {
            "_dom_classes": [],
            "_model_module": "@jupyter-widgets/controls",
            "_model_module_version": "1.5.0",
            "_model_name": "HBoxModel",
            "_view_count": null,
            "_view_module": "@jupyter-widgets/controls",
            "_view_module_version": "1.5.0",
            "_view_name": "HBoxView",
            "box_style": "",
            "children": [
              "IPY_MODEL_6ba6257cb8324a30835da2624a38ecf8",
              "IPY_MODEL_517d350e2db74d68a4aa51ce5dae9d59",
              "IPY_MODEL_74f990a6372a4108820242c91cdddc0a"
            ],
            "layout": "IPY_MODEL_508ce1e63294478484b625405fcdc857"
          }
        },
        "6ba6257cb8324a30835da2624a38ecf8": {
          "model_module": "@jupyter-widgets/controls",
          "model_name": "HTMLModel",
          "model_module_version": "1.5.0",
          "state": {
            "_dom_classes": [],
            "_model_module": "@jupyter-widgets/controls",
            "_model_module_version": "1.5.0",
            "_model_name": "HTMLModel",
            "_view_count": null,
            "_view_module": "@jupyter-widgets/controls",
            "_view_module_version": "1.5.0",
            "_view_name": "HTMLView",
            "description": "",
            "description_tooltip": null,
            "layout": "IPY_MODEL_05682c04a6e04d7baab5b2ef102c1507",
            "placeholder": "​",
            "style": "IPY_MODEL_2b5c004855c341e595a9a1ae15884e4a",
            "value": "(…)ature_extractor/preprocessor_config.json: 100%"
          }
        },
        "517d350e2db74d68a4aa51ce5dae9d59": {
          "model_module": "@jupyter-widgets/controls",
          "model_name": "FloatProgressModel",
          "model_module_version": "1.5.0",
          "state": {
            "_dom_classes": [],
            "_model_module": "@jupyter-widgets/controls",
            "_model_module_version": "1.5.0",
            "_model_name": "FloatProgressModel",
            "_view_count": null,
            "_view_module": "@jupyter-widgets/controls",
            "_view_module_version": "1.5.0",
            "_view_name": "ProgressView",
            "bar_style": "success",
            "description": "",
            "description_tooltip": null,
            "layout": "IPY_MODEL_19ac85597c38460bbb4531e070a50e0e",
            "max": 342,
            "min": 0,
            "orientation": "horizontal",
            "style": "IPY_MODEL_8d7870012db244448ead46fb3efbe833",
            "value": 342
          }
        },
        "74f990a6372a4108820242c91cdddc0a": {
          "model_module": "@jupyter-widgets/controls",
          "model_name": "HTMLModel",
          "model_module_version": "1.5.0",
          "state": {
            "_dom_classes": [],
            "_model_module": "@jupyter-widgets/controls",
            "_model_module_version": "1.5.0",
            "_model_name": "HTMLModel",
            "_view_count": null,
            "_view_module": "@jupyter-widgets/controls",
            "_view_module_version": "1.5.0",
            "_view_name": "HTMLView",
            "description": "",
            "description_tooltip": null,
            "layout": "IPY_MODEL_6960501c8f4546d795d6c3e1d0639de9",
            "placeholder": "​",
            "style": "IPY_MODEL_10708442984a465796e0d558286a418b",
            "value": " 342/342 [00:00&lt;00:00, 4.64kB/s]"
          }
        },
        "508ce1e63294478484b625405fcdc857": {
          "model_module": "@jupyter-widgets/base",
          "model_name": "LayoutModel",
          "model_module_version": "1.2.0",
          "state": {
            "_model_module": "@jupyter-widgets/base",
            "_model_module_version": "1.2.0",
            "_model_name": "LayoutModel",
            "_view_count": null,
            "_view_module": "@jupyter-widgets/base",
            "_view_module_version": "1.2.0",
            "_view_name": "LayoutView",
            "align_content": null,
            "align_items": null,
            "align_self": null,
            "border": null,
            "bottom": null,
            "display": null,
            "flex": null,
            "flex_flow": null,
            "grid_area": null,
            "grid_auto_columns": null,
            "grid_auto_flow": null,
            "grid_auto_rows": null,
            "grid_column": null,
            "grid_gap": null,
            "grid_row": null,
            "grid_template_areas": null,
            "grid_template_columns": null,
            "grid_template_rows": null,
            "height": null,
            "justify_content": null,
            "justify_items": null,
            "left": null,
            "margin": null,
            "max_height": null,
            "max_width": null,
            "min_height": null,
            "min_width": null,
            "object_fit": null,
            "object_position": null,
            "order": null,
            "overflow": null,
            "overflow_x": null,
            "overflow_y": null,
            "padding": null,
            "right": null,
            "top": null,
            "visibility": null,
            "width": null
          }
        },
        "05682c04a6e04d7baab5b2ef102c1507": {
          "model_module": "@jupyter-widgets/base",
          "model_name": "LayoutModel",
          "model_module_version": "1.2.0",
          "state": {
            "_model_module": "@jupyter-widgets/base",
            "_model_module_version": "1.2.0",
            "_model_name": "LayoutModel",
            "_view_count": null,
            "_view_module": "@jupyter-widgets/base",
            "_view_module_version": "1.2.0",
            "_view_name": "LayoutView",
            "align_content": null,
            "align_items": null,
            "align_self": null,
            "border": null,
            "bottom": null,
            "display": null,
            "flex": null,
            "flex_flow": null,
            "grid_area": null,
            "grid_auto_columns": null,
            "grid_auto_flow": null,
            "grid_auto_rows": null,
            "grid_column": null,
            "grid_gap": null,
            "grid_row": null,
            "grid_template_areas": null,
            "grid_template_columns": null,
            "grid_template_rows": null,
            "height": null,
            "justify_content": null,
            "justify_items": null,
            "left": null,
            "margin": null,
            "max_height": null,
            "max_width": null,
            "min_height": null,
            "min_width": null,
            "object_fit": null,
            "object_position": null,
            "order": null,
            "overflow": null,
            "overflow_x": null,
            "overflow_y": null,
            "padding": null,
            "right": null,
            "top": null,
            "visibility": null,
            "width": null
          }
        },
        "2b5c004855c341e595a9a1ae15884e4a": {
          "model_module": "@jupyter-widgets/controls",
          "model_name": "DescriptionStyleModel",
          "model_module_version": "1.5.0",
          "state": {
            "_model_module": "@jupyter-widgets/controls",
            "_model_module_version": "1.5.0",
            "_model_name": "DescriptionStyleModel",
            "_view_count": null,
            "_view_module": "@jupyter-widgets/base",
            "_view_module_version": "1.2.0",
            "_view_name": "StyleView",
            "description_width": ""
          }
        },
        "19ac85597c38460bbb4531e070a50e0e": {
          "model_module": "@jupyter-widgets/base",
          "model_name": "LayoutModel",
          "model_module_version": "1.2.0",
          "state": {
            "_model_module": "@jupyter-widgets/base",
            "_model_module_version": "1.2.0",
            "_model_name": "LayoutModel",
            "_view_count": null,
            "_view_module": "@jupyter-widgets/base",
            "_view_module_version": "1.2.0",
            "_view_name": "LayoutView",
            "align_content": null,
            "align_items": null,
            "align_self": null,
            "border": null,
            "bottom": null,
            "display": null,
            "flex": null,
            "flex_flow": null,
            "grid_area": null,
            "grid_auto_columns": null,
            "grid_auto_flow": null,
            "grid_auto_rows": null,
            "grid_column": null,
            "grid_gap": null,
            "grid_row": null,
            "grid_template_areas": null,
            "grid_template_columns": null,
            "grid_template_rows": null,
            "height": null,
            "justify_content": null,
            "justify_items": null,
            "left": null,
            "margin": null,
            "max_height": null,
            "max_width": null,
            "min_height": null,
            "min_width": null,
            "object_fit": null,
            "object_position": null,
            "order": null,
            "overflow": null,
            "overflow_x": null,
            "overflow_y": null,
            "padding": null,
            "right": null,
            "top": null,
            "visibility": null,
            "width": null
          }
        },
        "8d7870012db244448ead46fb3efbe833": {
          "model_module": "@jupyter-widgets/controls",
          "model_name": "ProgressStyleModel",
          "model_module_version": "1.5.0",
          "state": {
            "_model_module": "@jupyter-widgets/controls",
            "_model_module_version": "1.5.0",
            "_model_name": "ProgressStyleModel",
            "_view_count": null,
            "_view_module": "@jupyter-widgets/base",
            "_view_module_version": "1.2.0",
            "_view_name": "StyleView",
            "bar_color": null,
            "description_width": ""
          }
        },
        "6960501c8f4546d795d6c3e1d0639de9": {
          "model_module": "@jupyter-widgets/base",
          "model_name": "LayoutModel",
          "model_module_version": "1.2.0",
          "state": {
            "_model_module": "@jupyter-widgets/base",
            "_model_module_version": "1.2.0",
            "_model_name": "LayoutModel",
            "_view_count": null,
            "_view_module": "@jupyter-widgets/base",
            "_view_module_version": "1.2.0",
            "_view_name": "LayoutView",
            "align_content": null,
            "align_items": null,
            "align_self": null,
            "border": null,
            "bottom": null,
            "display": null,
            "flex": null,
            "flex_flow": null,
            "grid_area": null,
            "grid_auto_columns": null,
            "grid_auto_flow": null,
            "grid_auto_rows": null,
            "grid_column": null,
            "grid_gap": null,
            "grid_row": null,
            "grid_template_areas": null,
            "grid_template_columns": null,
            "grid_template_rows": null,
            "height": null,
            "justify_content": null,
            "justify_items": null,
            "left": null,
            "margin": null,
            "max_height": null,
            "max_width": null,
            "min_height": null,
            "min_width": null,
            "object_fit": null,
            "object_position": null,
            "order": null,
            "overflow": null,
            "overflow_x": null,
            "overflow_y": null,
            "padding": null,
            "right": null,
            "top": null,
            "visibility": null,
            "width": null
          }
        },
        "10708442984a465796e0d558286a418b": {
          "model_module": "@jupyter-widgets/controls",
          "model_name": "DescriptionStyleModel",
          "model_module_version": "1.5.0",
          "state": {
            "_model_module": "@jupyter-widgets/controls",
            "_model_module_version": "1.5.0",
            "_model_name": "DescriptionStyleModel",
            "_view_count": null,
            "_view_module": "@jupyter-widgets/base",
            "_view_module_version": "1.2.0",
            "_view_name": "StyleView",
            "description_width": ""
          }
        },
        "89e3ffcc4d1a433ab51949d4b45e5e60": {
          "model_module": "@jupyter-widgets/controls",
          "model_name": "HBoxModel",
          "model_module_version": "1.5.0",
          "state": {
            "_dom_classes": [],
            "_model_module": "@jupyter-widgets/controls",
            "_model_module_version": "1.5.0",
            "_model_name": "HBoxModel",
            "_view_count": null,
            "_view_module": "@jupyter-widgets/controls",
            "_view_module_version": "1.5.0",
            "_view_name": "HBoxView",
            "box_style": "",
            "children": [
              "IPY_MODEL_15ea1f8b03444fb5857b3eb1520ede1c",
              "IPY_MODEL_b8589d921f7d4dffb7b81a448534dbb7",
              "IPY_MODEL_b421f1d840a94d85a1920b8f7082c314"
            ],
            "layout": "IPY_MODEL_4f82eae95f32476f8d56c8d6c30cae4a"
          }
        },
        "15ea1f8b03444fb5857b3eb1520ede1c": {
          "model_module": "@jupyter-widgets/controls",
          "model_name": "HTMLModel",
          "model_module_version": "1.5.0",
          "state": {
            "_dom_classes": [],
            "_model_module": "@jupyter-widgets/controls",
            "_model_module_version": "1.5.0",
            "_model_name": "HTMLModel",
            "_view_count": null,
            "_view_module": "@jupyter-widgets/controls",
            "_view_module_version": "1.5.0",
            "_view_name": "HTMLView",
            "description": "",
            "description_tooltip": null,
            "layout": "IPY_MODEL_8df51ba86976417aa53210484e0f07d9",
            "placeholder": "​",
            "style": "IPY_MODEL_9abf9744ab6a4d33b5854bfbf0a87387",
            "value": "unet/config.json: 100%"
          }
        },
        "b8589d921f7d4dffb7b81a448534dbb7": {
          "model_module": "@jupyter-widgets/controls",
          "model_name": "FloatProgressModel",
          "model_module_version": "1.5.0",
          "state": {
            "_dom_classes": [],
            "_model_module": "@jupyter-widgets/controls",
            "_model_module_version": "1.5.0",
            "_model_name": "FloatProgressModel",
            "_view_count": null,
            "_view_module": "@jupyter-widgets/controls",
            "_view_module_version": "1.5.0",
            "_view_name": "ProgressView",
            "bar_style": "success",
            "description": "",
            "description_tooltip": null,
            "layout": "IPY_MODEL_8573c8656b4844bd83e5e6a09040ef81",
            "max": 911,
            "min": 0,
            "orientation": "horizontal",
            "style": "IPY_MODEL_dc97f723215d4c2ea3e72b679ef2e9cd",
            "value": 911
          }
        },
        "b421f1d840a94d85a1920b8f7082c314": {
          "model_module": "@jupyter-widgets/controls",
          "model_name": "HTMLModel",
          "model_module_version": "1.5.0",
          "state": {
            "_dom_classes": [],
            "_model_module": "@jupyter-widgets/controls",
            "_model_module_version": "1.5.0",
            "_model_name": "HTMLModel",
            "_view_count": null,
            "_view_module": "@jupyter-widgets/controls",
            "_view_module_version": "1.5.0",
            "_view_name": "HTMLView",
            "description": "",
            "description_tooltip": null,
            "layout": "IPY_MODEL_57945860ec154fe597b3801f7bc0c60e",
            "placeholder": "​",
            "style": "IPY_MODEL_9507590b77ce4a22b40f046d71fa5671",
            "value": " 911/911 [00:00&lt;00:00, 10.4kB/s]"
          }
        },
        "4f82eae95f32476f8d56c8d6c30cae4a": {
          "model_module": "@jupyter-widgets/base",
          "model_name": "LayoutModel",
          "model_module_version": "1.2.0",
          "state": {
            "_model_module": "@jupyter-widgets/base",
            "_model_module_version": "1.2.0",
            "_model_name": "LayoutModel",
            "_view_count": null,
            "_view_module": "@jupyter-widgets/base",
            "_view_module_version": "1.2.0",
            "_view_name": "LayoutView",
            "align_content": null,
            "align_items": null,
            "align_self": null,
            "border": null,
            "bottom": null,
            "display": null,
            "flex": null,
            "flex_flow": null,
            "grid_area": null,
            "grid_auto_columns": null,
            "grid_auto_flow": null,
            "grid_auto_rows": null,
            "grid_column": null,
            "grid_gap": null,
            "grid_row": null,
            "grid_template_areas": null,
            "grid_template_columns": null,
            "grid_template_rows": null,
            "height": null,
            "justify_content": null,
            "justify_items": null,
            "left": null,
            "margin": null,
            "max_height": null,
            "max_width": null,
            "min_height": null,
            "min_width": null,
            "object_fit": null,
            "object_position": null,
            "order": null,
            "overflow": null,
            "overflow_x": null,
            "overflow_y": null,
            "padding": null,
            "right": null,
            "top": null,
            "visibility": null,
            "width": null
          }
        },
        "8df51ba86976417aa53210484e0f07d9": {
          "model_module": "@jupyter-widgets/base",
          "model_name": "LayoutModel",
          "model_module_version": "1.2.0",
          "state": {
            "_model_module": "@jupyter-widgets/base",
            "_model_module_version": "1.2.0",
            "_model_name": "LayoutModel",
            "_view_count": null,
            "_view_module": "@jupyter-widgets/base",
            "_view_module_version": "1.2.0",
            "_view_name": "LayoutView",
            "align_content": null,
            "align_items": null,
            "align_self": null,
            "border": null,
            "bottom": null,
            "display": null,
            "flex": null,
            "flex_flow": null,
            "grid_area": null,
            "grid_auto_columns": null,
            "grid_auto_flow": null,
            "grid_auto_rows": null,
            "grid_column": null,
            "grid_gap": null,
            "grid_row": null,
            "grid_template_areas": null,
            "grid_template_columns": null,
            "grid_template_rows": null,
            "height": null,
            "justify_content": null,
            "justify_items": null,
            "left": null,
            "margin": null,
            "max_height": null,
            "max_width": null,
            "min_height": null,
            "min_width": null,
            "object_fit": null,
            "object_position": null,
            "order": null,
            "overflow": null,
            "overflow_x": null,
            "overflow_y": null,
            "padding": null,
            "right": null,
            "top": null,
            "visibility": null,
            "width": null
          }
        },
        "9abf9744ab6a4d33b5854bfbf0a87387": {
          "model_module": "@jupyter-widgets/controls",
          "model_name": "DescriptionStyleModel",
          "model_module_version": "1.5.0",
          "state": {
            "_model_module": "@jupyter-widgets/controls",
            "_model_module_version": "1.5.0",
            "_model_name": "DescriptionStyleModel",
            "_view_count": null,
            "_view_module": "@jupyter-widgets/base",
            "_view_module_version": "1.2.0",
            "_view_name": "StyleView",
            "description_width": ""
          }
        },
        "8573c8656b4844bd83e5e6a09040ef81": {
          "model_module": "@jupyter-widgets/base",
          "model_name": "LayoutModel",
          "model_module_version": "1.2.0",
          "state": {
            "_model_module": "@jupyter-widgets/base",
            "_model_module_version": "1.2.0",
            "_model_name": "LayoutModel",
            "_view_count": null,
            "_view_module": "@jupyter-widgets/base",
            "_view_module_version": "1.2.0",
            "_view_name": "LayoutView",
            "align_content": null,
            "align_items": null,
            "align_self": null,
            "border": null,
            "bottom": null,
            "display": null,
            "flex": null,
            "flex_flow": null,
            "grid_area": null,
            "grid_auto_columns": null,
            "grid_auto_flow": null,
            "grid_auto_rows": null,
            "grid_column": null,
            "grid_gap": null,
            "grid_row": null,
            "grid_template_areas": null,
            "grid_template_columns": null,
            "grid_template_rows": null,
            "height": null,
            "justify_content": null,
            "justify_items": null,
            "left": null,
            "margin": null,
            "max_height": null,
            "max_width": null,
            "min_height": null,
            "min_width": null,
            "object_fit": null,
            "object_position": null,
            "order": null,
            "overflow": null,
            "overflow_x": null,
            "overflow_y": null,
            "padding": null,
            "right": null,
            "top": null,
            "visibility": null,
            "width": null
          }
        },
        "dc97f723215d4c2ea3e72b679ef2e9cd": {
          "model_module": "@jupyter-widgets/controls",
          "model_name": "ProgressStyleModel",
          "model_module_version": "1.5.0",
          "state": {
            "_model_module": "@jupyter-widgets/controls",
            "_model_module_version": "1.5.0",
            "_model_name": "ProgressStyleModel",
            "_view_count": null,
            "_view_module": "@jupyter-widgets/base",
            "_view_module_version": "1.2.0",
            "_view_name": "StyleView",
            "bar_color": null,
            "description_width": ""
          }
        },
        "57945860ec154fe597b3801f7bc0c60e": {
          "model_module": "@jupyter-widgets/base",
          "model_name": "LayoutModel",
          "model_module_version": "1.2.0",
          "state": {
            "_model_module": "@jupyter-widgets/base",
            "_model_module_version": "1.2.0",
            "_model_name": "LayoutModel",
            "_view_count": null,
            "_view_module": "@jupyter-widgets/base",
            "_view_module_version": "1.2.0",
            "_view_name": "LayoutView",
            "align_content": null,
            "align_items": null,
            "align_self": null,
            "border": null,
            "bottom": null,
            "display": null,
            "flex": null,
            "flex_flow": null,
            "grid_area": null,
            "grid_auto_columns": null,
            "grid_auto_flow": null,
            "grid_auto_rows": null,
            "grid_column": null,
            "grid_gap": null,
            "grid_row": null,
            "grid_template_areas": null,
            "grid_template_columns": null,
            "grid_template_rows": null,
            "height": null,
            "justify_content": null,
            "justify_items": null,
            "left": null,
            "margin": null,
            "max_height": null,
            "max_width": null,
            "min_height": null,
            "min_width": null,
            "object_fit": null,
            "object_position": null,
            "order": null,
            "overflow": null,
            "overflow_x": null,
            "overflow_y": null,
            "padding": null,
            "right": null,
            "top": null,
            "visibility": null,
            "width": null
          }
        },
        "9507590b77ce4a22b40f046d71fa5671": {
          "model_module": "@jupyter-widgets/controls",
          "model_name": "DescriptionStyleModel",
          "model_module_version": "1.5.0",
          "state": {
            "_model_module": "@jupyter-widgets/controls",
            "_model_module_version": "1.5.0",
            "_model_name": "DescriptionStyleModel",
            "_view_count": null,
            "_view_module": "@jupyter-widgets/base",
            "_view_module_version": "1.2.0",
            "_view_name": "StyleView",
            "description_width": ""
          }
        },
        "67e70626e28449cfb3d47512dec74e50": {
          "model_module": "@jupyter-widgets/controls",
          "model_name": "HBoxModel",
          "model_module_version": "1.5.0",
          "state": {
            "_dom_classes": [],
            "_model_module": "@jupyter-widgets/controls",
            "_model_module_version": "1.5.0",
            "_model_name": "HBoxModel",
            "_view_count": null,
            "_view_module": "@jupyter-widgets/controls",
            "_view_module_version": "1.5.0",
            "_view_name": "HBoxView",
            "box_style": "",
            "children": [
              "IPY_MODEL_6abadad6b6cd485ab8b0fea89c122360",
              "IPY_MODEL_7efecf71fab843e8a217f5b222390958",
              "IPY_MODEL_51fa36e221994cc38c4fd5928dd04ccc"
            ],
            "layout": "IPY_MODEL_cb828f6489ce495db8c39af470670633"
          }
        },
        "6abadad6b6cd485ab8b0fea89c122360": {
          "model_module": "@jupyter-widgets/controls",
          "model_name": "HTMLModel",
          "model_module_version": "1.5.0",
          "state": {
            "_dom_classes": [],
            "_model_module": "@jupyter-widgets/controls",
            "_model_module_version": "1.5.0",
            "_model_name": "HTMLModel",
            "_view_count": null,
            "_view_module": "@jupyter-widgets/controls",
            "_view_module_version": "1.5.0",
            "_view_name": "HTMLView",
            "description": "",
            "description_tooltip": null,
            "layout": "IPY_MODEL_3ffa9c64bdae42ccbb1d17cd10607bfd",
            "placeholder": "​",
            "style": "IPY_MODEL_9977fe8be2c3406287f7b4485babcce4",
            "value": "vae/config.json: 100%"
          }
        },
        "7efecf71fab843e8a217f5b222390958": {
          "model_module": "@jupyter-widgets/controls",
          "model_name": "FloatProgressModel",
          "model_module_version": "1.5.0",
          "state": {
            "_dom_classes": [],
            "_model_module": "@jupyter-widgets/controls",
            "_model_module_version": "1.5.0",
            "_model_name": "FloatProgressModel",
            "_view_count": null,
            "_view_module": "@jupyter-widgets/controls",
            "_view_module_version": "1.5.0",
            "_view_name": "ProgressView",
            "bar_style": "success",
            "description": "",
            "description_tooltip": null,
            "layout": "IPY_MODEL_b17435a9e9ce4b57b413b60f4688ea78",
            "max": 553,
            "min": 0,
            "orientation": "horizontal",
            "style": "IPY_MODEL_0e7faf26dcaa4a2ca360210bb1891346",
            "value": 553
          }
        },
        "51fa36e221994cc38c4fd5928dd04ccc": {
          "model_module": "@jupyter-widgets/controls",
          "model_name": "HTMLModel",
          "model_module_version": "1.5.0",
          "state": {
            "_dom_classes": [],
            "_model_module": "@jupyter-widgets/controls",
            "_model_module_version": "1.5.0",
            "_model_name": "HTMLModel",
            "_view_count": null,
            "_view_module": "@jupyter-widgets/controls",
            "_view_module_version": "1.5.0",
            "_view_name": "HTMLView",
            "description": "",
            "description_tooltip": null,
            "layout": "IPY_MODEL_2e6390014c1e48c7bca40899783a59de",
            "placeholder": "​",
            "style": "IPY_MODEL_859f7e848d054f73a2cd01eb1c0cc3c9",
            "value": " 553/553 [00:00&lt;00:00, 8.17kB/s]"
          }
        },
        "cb828f6489ce495db8c39af470670633": {
          "model_module": "@jupyter-widgets/base",
          "model_name": "LayoutModel",
          "model_module_version": "1.2.0",
          "state": {
            "_model_module": "@jupyter-widgets/base",
            "_model_module_version": "1.2.0",
            "_model_name": "LayoutModel",
            "_view_count": null,
            "_view_module": "@jupyter-widgets/base",
            "_view_module_version": "1.2.0",
            "_view_name": "LayoutView",
            "align_content": null,
            "align_items": null,
            "align_self": null,
            "border": null,
            "bottom": null,
            "display": null,
            "flex": null,
            "flex_flow": null,
            "grid_area": null,
            "grid_auto_columns": null,
            "grid_auto_flow": null,
            "grid_auto_rows": null,
            "grid_column": null,
            "grid_gap": null,
            "grid_row": null,
            "grid_template_areas": null,
            "grid_template_columns": null,
            "grid_template_rows": null,
            "height": null,
            "justify_content": null,
            "justify_items": null,
            "left": null,
            "margin": null,
            "max_height": null,
            "max_width": null,
            "min_height": null,
            "min_width": null,
            "object_fit": null,
            "object_position": null,
            "order": null,
            "overflow": null,
            "overflow_x": null,
            "overflow_y": null,
            "padding": null,
            "right": null,
            "top": null,
            "visibility": null,
            "width": null
          }
        },
        "3ffa9c64bdae42ccbb1d17cd10607bfd": {
          "model_module": "@jupyter-widgets/base",
          "model_name": "LayoutModel",
          "model_module_version": "1.2.0",
          "state": {
            "_model_module": "@jupyter-widgets/base",
            "_model_module_version": "1.2.0",
            "_model_name": "LayoutModel",
            "_view_count": null,
            "_view_module": "@jupyter-widgets/base",
            "_view_module_version": "1.2.0",
            "_view_name": "LayoutView",
            "align_content": null,
            "align_items": null,
            "align_self": null,
            "border": null,
            "bottom": null,
            "display": null,
            "flex": null,
            "flex_flow": null,
            "grid_area": null,
            "grid_auto_columns": null,
            "grid_auto_flow": null,
            "grid_auto_rows": null,
            "grid_column": null,
            "grid_gap": null,
            "grid_row": null,
            "grid_template_areas": null,
            "grid_template_columns": null,
            "grid_template_rows": null,
            "height": null,
            "justify_content": null,
            "justify_items": null,
            "left": null,
            "margin": null,
            "max_height": null,
            "max_width": null,
            "min_height": null,
            "min_width": null,
            "object_fit": null,
            "object_position": null,
            "order": null,
            "overflow": null,
            "overflow_x": null,
            "overflow_y": null,
            "padding": null,
            "right": null,
            "top": null,
            "visibility": null,
            "width": null
          }
        },
        "9977fe8be2c3406287f7b4485babcce4": {
          "model_module": "@jupyter-widgets/controls",
          "model_name": "DescriptionStyleModel",
          "model_module_version": "1.5.0",
          "state": {
            "_model_module": "@jupyter-widgets/controls",
            "_model_module_version": "1.5.0",
            "_model_name": "DescriptionStyleModel",
            "_view_count": null,
            "_view_module": "@jupyter-widgets/base",
            "_view_module_version": "1.2.0",
            "_view_name": "StyleView",
            "description_width": ""
          }
        },
        "b17435a9e9ce4b57b413b60f4688ea78": {
          "model_module": "@jupyter-widgets/base",
          "model_name": "LayoutModel",
          "model_module_version": "1.2.0",
          "state": {
            "_model_module": "@jupyter-widgets/base",
            "_model_module_version": "1.2.0",
            "_model_name": "LayoutModel",
            "_view_count": null,
            "_view_module": "@jupyter-widgets/base",
            "_view_module_version": "1.2.0",
            "_view_name": "LayoutView",
            "align_content": null,
            "align_items": null,
            "align_self": null,
            "border": null,
            "bottom": null,
            "display": null,
            "flex": null,
            "flex_flow": null,
            "grid_area": null,
            "grid_auto_columns": null,
            "grid_auto_flow": null,
            "grid_auto_rows": null,
            "grid_column": null,
            "grid_gap": null,
            "grid_row": null,
            "grid_template_areas": null,
            "grid_template_columns": null,
            "grid_template_rows": null,
            "height": null,
            "justify_content": null,
            "justify_items": null,
            "left": null,
            "margin": null,
            "max_height": null,
            "max_width": null,
            "min_height": null,
            "min_width": null,
            "object_fit": null,
            "object_position": null,
            "order": null,
            "overflow": null,
            "overflow_x": null,
            "overflow_y": null,
            "padding": null,
            "right": null,
            "top": null,
            "visibility": null,
            "width": null
          }
        },
        "0e7faf26dcaa4a2ca360210bb1891346": {
          "model_module": "@jupyter-widgets/controls",
          "model_name": "ProgressStyleModel",
          "model_module_version": "1.5.0",
          "state": {
            "_model_module": "@jupyter-widgets/controls",
            "_model_module_version": "1.5.0",
            "_model_name": "ProgressStyleModel",
            "_view_count": null,
            "_view_module": "@jupyter-widgets/base",
            "_view_module_version": "1.2.0",
            "_view_name": "StyleView",
            "bar_color": null,
            "description_width": ""
          }
        },
        "2e6390014c1e48c7bca40899783a59de": {
          "model_module": "@jupyter-widgets/base",
          "model_name": "LayoutModel",
          "model_module_version": "1.2.0",
          "state": {
            "_model_module": "@jupyter-widgets/base",
            "_model_module_version": "1.2.0",
            "_model_name": "LayoutModel",
            "_view_count": null,
            "_view_module": "@jupyter-widgets/base",
            "_view_module_version": "1.2.0",
            "_view_name": "LayoutView",
            "align_content": null,
            "align_items": null,
            "align_self": null,
            "border": null,
            "bottom": null,
            "display": null,
            "flex": null,
            "flex_flow": null,
            "grid_area": null,
            "grid_auto_columns": null,
            "grid_auto_flow": null,
            "grid_auto_rows": null,
            "grid_column": null,
            "grid_gap": null,
            "grid_row": null,
            "grid_template_areas": null,
            "grid_template_columns": null,
            "grid_template_rows": null,
            "height": null,
            "justify_content": null,
            "justify_items": null,
            "left": null,
            "margin": null,
            "max_height": null,
            "max_width": null,
            "min_height": null,
            "min_width": null,
            "object_fit": null,
            "object_position": null,
            "order": null,
            "overflow": null,
            "overflow_x": null,
            "overflow_y": null,
            "padding": null,
            "right": null,
            "top": null,
            "visibility": null,
            "width": null
          }
        },
        "859f7e848d054f73a2cd01eb1c0cc3c9": {
          "model_module": "@jupyter-widgets/controls",
          "model_name": "DescriptionStyleModel",
          "model_module_version": "1.5.0",
          "state": {
            "_model_module": "@jupyter-widgets/controls",
            "_model_module_version": "1.5.0",
            "_model_name": "DescriptionStyleModel",
            "_view_count": null,
            "_view_module": "@jupyter-widgets/base",
            "_view_module_version": "1.2.0",
            "_view_name": "StyleView",
            "description_width": ""
          }
        },
        "f04baf3538234991ae5574db44f84377": {
          "model_module": "@jupyter-widgets/controls",
          "model_name": "HBoxModel",
          "model_module_version": "1.5.0",
          "state": {
            "_dom_classes": [],
            "_model_module": "@jupyter-widgets/controls",
            "_model_module_version": "1.5.0",
            "_model_name": "HBoxModel",
            "_view_count": null,
            "_view_module": "@jupyter-widgets/controls",
            "_view_module_version": "1.5.0",
            "_view_name": "HBoxView",
            "box_style": "",
            "children": [
              "IPY_MODEL_c4d9c97e6ed041c3aef7d087ce471583",
              "IPY_MODEL_fb40c2ab8ebb481f94c30d073feea428",
              "IPY_MODEL_81a7f6ed07934a2da7d22d93c761007c"
            ],
            "layout": "IPY_MODEL_f5108109f6d7478888697060793a76b8"
          }
        },
        "c4d9c97e6ed041c3aef7d087ce471583": {
          "model_module": "@jupyter-widgets/controls",
          "model_name": "HTMLModel",
          "model_module_version": "1.5.0",
          "state": {
            "_dom_classes": [],
            "_model_module": "@jupyter-widgets/controls",
            "_model_module_version": "1.5.0",
            "_model_name": "HTMLModel",
            "_view_count": null,
            "_view_module": "@jupyter-widgets/controls",
            "_view_module_version": "1.5.0",
            "_view_name": "HTMLView",
            "description": "",
            "description_tooltip": null,
            "layout": "IPY_MODEL_5372608fd25b46c0acdba642b0dc4097",
            "placeholder": "​",
            "style": "IPY_MODEL_e1984cf9392d471c8146d5fa405efeab",
            "value": "model.safetensors: 100%"
          }
        },
        "fb40c2ab8ebb481f94c30d073feea428": {
          "model_module": "@jupyter-widgets/controls",
          "model_name": "FloatProgressModel",
          "model_module_version": "1.5.0",
          "state": {
            "_dom_classes": [],
            "_model_module": "@jupyter-widgets/controls",
            "_model_module_version": "1.5.0",
            "_model_name": "FloatProgressModel",
            "_view_count": null,
            "_view_module": "@jupyter-widgets/controls",
            "_view_module_version": "1.5.0",
            "_view_name": "ProgressView",
            "bar_style": "success",
            "description": "",
            "description_tooltip": null,
            "layout": "IPY_MODEL_818ae922c1274685a249f62bd83f1925",
            "max": 1361597018,
            "min": 0,
            "orientation": "horizontal",
            "style": "IPY_MODEL_a79bb4689c6a427a8001b04ba7e76db6",
            "value": 1361597018
          }
        },
        "81a7f6ed07934a2da7d22d93c761007c": {
          "model_module": "@jupyter-widgets/controls",
          "model_name": "HTMLModel",
          "model_module_version": "1.5.0",
          "state": {
            "_dom_classes": [],
            "_model_module": "@jupyter-widgets/controls",
            "_model_module_version": "1.5.0",
            "_model_name": "HTMLModel",
            "_view_count": null,
            "_view_module": "@jupyter-widgets/controls",
            "_view_module_version": "1.5.0",
            "_view_name": "HTMLView",
            "description": "",
            "description_tooltip": null,
            "layout": "IPY_MODEL_a029bad5e16d44c1bfa3b87c4d7f3daa",
            "placeholder": "​",
            "style": "IPY_MODEL_a3cdb84e3bea483d9f2f06523b10ecdd",
            "value": " 1.36G/1.36G [00:19&lt;00:00, 92.8MB/s]"
          }
        },
        "f5108109f6d7478888697060793a76b8": {
          "model_module": "@jupyter-widgets/base",
          "model_name": "LayoutModel",
          "model_module_version": "1.2.0",
          "state": {
            "_model_module": "@jupyter-widgets/base",
            "_model_module_version": "1.2.0",
            "_model_name": "LayoutModel",
            "_view_count": null,
            "_view_module": "@jupyter-widgets/base",
            "_view_module_version": "1.2.0",
            "_view_name": "LayoutView",
            "align_content": null,
            "align_items": null,
            "align_self": null,
            "border": null,
            "bottom": null,
            "display": null,
            "flex": null,
            "flex_flow": null,
            "grid_area": null,
            "grid_auto_columns": null,
            "grid_auto_flow": null,
            "grid_auto_rows": null,
            "grid_column": null,
            "grid_gap": null,
            "grid_row": null,
            "grid_template_areas": null,
            "grid_template_columns": null,
            "grid_template_rows": null,
            "height": null,
            "justify_content": null,
            "justify_items": null,
            "left": null,
            "margin": null,
            "max_height": null,
            "max_width": null,
            "min_height": null,
            "min_width": null,
            "object_fit": null,
            "object_position": null,
            "order": null,
            "overflow": null,
            "overflow_x": null,
            "overflow_y": null,
            "padding": null,
            "right": null,
            "top": null,
            "visibility": null,
            "width": null
          }
        },
        "5372608fd25b46c0acdba642b0dc4097": {
          "model_module": "@jupyter-widgets/base",
          "model_name": "LayoutModel",
          "model_module_version": "1.2.0",
          "state": {
            "_model_module": "@jupyter-widgets/base",
            "_model_module_version": "1.2.0",
            "_model_name": "LayoutModel",
            "_view_count": null,
            "_view_module": "@jupyter-widgets/base",
            "_view_module_version": "1.2.0",
            "_view_name": "LayoutView",
            "align_content": null,
            "align_items": null,
            "align_self": null,
            "border": null,
            "bottom": null,
            "display": null,
            "flex": null,
            "flex_flow": null,
            "grid_area": null,
            "grid_auto_columns": null,
            "grid_auto_flow": null,
            "grid_auto_rows": null,
            "grid_column": null,
            "grid_gap": null,
            "grid_row": null,
            "grid_template_areas": null,
            "grid_template_columns": null,
            "grid_template_rows": null,
            "height": null,
            "justify_content": null,
            "justify_items": null,
            "left": null,
            "margin": null,
            "max_height": null,
            "max_width": null,
            "min_height": null,
            "min_width": null,
            "object_fit": null,
            "object_position": null,
            "order": null,
            "overflow": null,
            "overflow_x": null,
            "overflow_y": null,
            "padding": null,
            "right": null,
            "top": null,
            "visibility": null,
            "width": null
          }
        },
        "e1984cf9392d471c8146d5fa405efeab": {
          "model_module": "@jupyter-widgets/controls",
          "model_name": "DescriptionStyleModel",
          "model_module_version": "1.5.0",
          "state": {
            "_model_module": "@jupyter-widgets/controls",
            "_model_module_version": "1.5.0",
            "_model_name": "DescriptionStyleModel",
            "_view_count": null,
            "_view_module": "@jupyter-widgets/base",
            "_view_module_version": "1.2.0",
            "_view_name": "StyleView",
            "description_width": ""
          }
        },
        "818ae922c1274685a249f62bd83f1925": {
          "model_module": "@jupyter-widgets/base",
          "model_name": "LayoutModel",
          "model_module_version": "1.2.0",
          "state": {
            "_model_module": "@jupyter-widgets/base",
            "_model_module_version": "1.2.0",
            "_model_name": "LayoutModel",
            "_view_count": null,
            "_view_module": "@jupyter-widgets/base",
            "_view_module_version": "1.2.0",
            "_view_name": "LayoutView",
            "align_content": null,
            "align_items": null,
            "align_self": null,
            "border": null,
            "bottom": null,
            "display": null,
            "flex": null,
            "flex_flow": null,
            "grid_area": null,
            "grid_auto_columns": null,
            "grid_auto_flow": null,
            "grid_auto_rows": null,
            "grid_column": null,
            "grid_gap": null,
            "grid_row": null,
            "grid_template_areas": null,
            "grid_template_columns": null,
            "grid_template_rows": null,
            "height": null,
            "justify_content": null,
            "justify_items": null,
            "left": null,
            "margin": null,
            "max_height": null,
            "max_width": null,
            "min_height": null,
            "min_width": null,
            "object_fit": null,
            "object_position": null,
            "order": null,
            "overflow": null,
            "overflow_x": null,
            "overflow_y": null,
            "padding": null,
            "right": null,
            "top": null,
            "visibility": null,
            "width": null
          }
        },
        "a79bb4689c6a427a8001b04ba7e76db6": {
          "model_module": "@jupyter-widgets/controls",
          "model_name": "ProgressStyleModel",
          "model_module_version": "1.5.0",
          "state": {
            "_model_module": "@jupyter-widgets/controls",
            "_model_module_version": "1.5.0",
            "_model_name": "ProgressStyleModel",
            "_view_count": null,
            "_view_module": "@jupyter-widgets/base",
            "_view_module_version": "1.2.0",
            "_view_name": "StyleView",
            "bar_color": null,
            "description_width": ""
          }
        },
        "a029bad5e16d44c1bfa3b87c4d7f3daa": {
          "model_module": "@jupyter-widgets/base",
          "model_name": "LayoutModel",
          "model_module_version": "1.2.0",
          "state": {
            "_model_module": "@jupyter-widgets/base",
            "_model_module_version": "1.2.0",
            "_model_name": "LayoutModel",
            "_view_count": null,
            "_view_module": "@jupyter-widgets/base",
            "_view_module_version": "1.2.0",
            "_view_name": "LayoutView",
            "align_content": null,
            "align_items": null,
            "align_self": null,
            "border": null,
            "bottom": null,
            "display": null,
            "flex": null,
            "flex_flow": null,
            "grid_area": null,
            "grid_auto_columns": null,
            "grid_auto_flow": null,
            "grid_auto_rows": null,
            "grid_column": null,
            "grid_gap": null,
            "grid_row": null,
            "grid_template_areas": null,
            "grid_template_columns": null,
            "grid_template_rows": null,
            "height": null,
            "justify_content": null,
            "justify_items": null,
            "left": null,
            "margin": null,
            "max_height": null,
            "max_width": null,
            "min_height": null,
            "min_width": null,
            "object_fit": null,
            "object_position": null,
            "order": null,
            "overflow": null,
            "overflow_x": null,
            "overflow_y": null,
            "padding": null,
            "right": null,
            "top": null,
            "visibility": null,
            "width": null
          }
        },
        "a3cdb84e3bea483d9f2f06523b10ecdd": {
          "model_module": "@jupyter-widgets/controls",
          "model_name": "DescriptionStyleModel",
          "model_module_version": "1.5.0",
          "state": {
            "_model_module": "@jupyter-widgets/controls",
            "_model_module_version": "1.5.0",
            "_model_name": "DescriptionStyleModel",
            "_view_count": null,
            "_view_module": "@jupyter-widgets/base",
            "_view_module_version": "1.2.0",
            "_view_name": "StyleView",
            "description_width": ""
          }
        },
        "8bf187e3993e45c6b84824581c6ef3f5": {
          "model_module": "@jupyter-widgets/controls",
          "model_name": "HBoxModel",
          "model_module_version": "1.5.0",
          "state": {
            "_dom_classes": [],
            "_model_module": "@jupyter-widgets/controls",
            "_model_module_version": "1.5.0",
            "_model_name": "HBoxModel",
            "_view_count": null,
            "_view_module": "@jupyter-widgets/controls",
            "_view_module_version": "1.5.0",
            "_view_name": "HBoxView",
            "box_style": "",
            "children": [
              "IPY_MODEL_6067528319834cdbbf847e6d7ec53f6c",
              "IPY_MODEL_687ecf6673044cc2a5ff83ee08469054",
              "IPY_MODEL_5226cbd5b77e4d6b863c732577b02a87"
            ],
            "layout": "IPY_MODEL_9a6215cb32084ac695e8bfc81cdef2bb"
          }
        },
        "6067528319834cdbbf847e6d7ec53f6c": {
          "model_module": "@jupyter-widgets/controls",
          "model_name": "HTMLModel",
          "model_module_version": "1.5.0",
          "state": {
            "_dom_classes": [],
            "_model_module": "@jupyter-widgets/controls",
            "_model_module_version": "1.5.0",
            "_model_name": "HTMLModel",
            "_view_count": null,
            "_view_module": "@jupyter-widgets/controls",
            "_view_module_version": "1.5.0",
            "_view_name": "HTMLView",
            "description": "",
            "description_tooltip": null,
            "layout": "IPY_MODEL_8f13342217ba42d1a7c234fabdc93b27",
            "placeholder": "​",
            "style": "IPY_MODEL_2400523b15c84939829a83a463a4dc81",
            "value": "diffusion_pytorch_model.safetensors: 100%"
          }
        },
        "687ecf6673044cc2a5ff83ee08469054": {
          "model_module": "@jupyter-widgets/controls",
          "model_name": "FloatProgressModel",
          "model_module_version": "1.5.0",
          "state": {
            "_dom_classes": [],
            "_model_module": "@jupyter-widgets/controls",
            "_model_module_version": "1.5.0",
            "_model_name": "FloatProgressModel",
            "_view_count": null,
            "_view_module": "@jupyter-widgets/controls",
            "_view_module_version": "1.5.0",
            "_view_name": "ProgressView",
            "bar_style": "success",
            "description": "",
            "description_tooltip": null,
            "layout": "IPY_MODEL_3da752e081204c8abfc2d31e4f9a7c59",
            "max": 334643276,
            "min": 0,
            "orientation": "horizontal",
            "style": "IPY_MODEL_9f9780e6389c4395adf5f04a767c683c",
            "value": 334643276
          }
        },
        "5226cbd5b77e4d6b863c732577b02a87": {
          "model_module": "@jupyter-widgets/controls",
          "model_name": "HTMLModel",
          "model_module_version": "1.5.0",
          "state": {
            "_dom_classes": [],
            "_model_module": "@jupyter-widgets/controls",
            "_model_module_version": "1.5.0",
            "_model_name": "HTMLModel",
            "_view_count": null,
            "_view_module": "@jupyter-widgets/controls",
            "_view_module_version": "1.5.0",
            "_view_name": "HTMLView",
            "description": "",
            "description_tooltip": null,
            "layout": "IPY_MODEL_a30d1c67cc20417083d4b435ba5b8d6b",
            "placeholder": "​",
            "style": "IPY_MODEL_2926a64e03574e3e9d2f5e1a98d403ed",
            "value": " 335M/335M [00:07&lt;00:00, 23.0MB/s]"
          }
        },
        "9a6215cb32084ac695e8bfc81cdef2bb": {
          "model_module": "@jupyter-widgets/base",
          "model_name": "LayoutModel",
          "model_module_version": "1.2.0",
          "state": {
            "_model_module": "@jupyter-widgets/base",
            "_model_module_version": "1.2.0",
            "_model_name": "LayoutModel",
            "_view_count": null,
            "_view_module": "@jupyter-widgets/base",
            "_view_module_version": "1.2.0",
            "_view_name": "LayoutView",
            "align_content": null,
            "align_items": null,
            "align_self": null,
            "border": null,
            "bottom": null,
            "display": null,
            "flex": null,
            "flex_flow": null,
            "grid_area": null,
            "grid_auto_columns": null,
            "grid_auto_flow": null,
            "grid_auto_rows": null,
            "grid_column": null,
            "grid_gap": null,
            "grid_row": null,
            "grid_template_areas": null,
            "grid_template_columns": null,
            "grid_template_rows": null,
            "height": null,
            "justify_content": null,
            "justify_items": null,
            "left": null,
            "margin": null,
            "max_height": null,
            "max_width": null,
            "min_height": null,
            "min_width": null,
            "object_fit": null,
            "object_position": null,
            "order": null,
            "overflow": null,
            "overflow_x": null,
            "overflow_y": null,
            "padding": null,
            "right": null,
            "top": null,
            "visibility": null,
            "width": null
          }
        },
        "8f13342217ba42d1a7c234fabdc93b27": {
          "model_module": "@jupyter-widgets/base",
          "model_name": "LayoutModel",
          "model_module_version": "1.2.0",
          "state": {
            "_model_module": "@jupyter-widgets/base",
            "_model_module_version": "1.2.0",
            "_model_name": "LayoutModel",
            "_view_count": null,
            "_view_module": "@jupyter-widgets/base",
            "_view_module_version": "1.2.0",
            "_view_name": "LayoutView",
            "align_content": null,
            "align_items": null,
            "align_self": null,
            "border": null,
            "bottom": null,
            "display": null,
            "flex": null,
            "flex_flow": null,
            "grid_area": null,
            "grid_auto_columns": null,
            "grid_auto_flow": null,
            "grid_auto_rows": null,
            "grid_column": null,
            "grid_gap": null,
            "grid_row": null,
            "grid_template_areas": null,
            "grid_template_columns": null,
            "grid_template_rows": null,
            "height": null,
            "justify_content": null,
            "justify_items": null,
            "left": null,
            "margin": null,
            "max_height": null,
            "max_width": null,
            "min_height": null,
            "min_width": null,
            "object_fit": null,
            "object_position": null,
            "order": null,
            "overflow": null,
            "overflow_x": null,
            "overflow_y": null,
            "padding": null,
            "right": null,
            "top": null,
            "visibility": null,
            "width": null
          }
        },
        "2400523b15c84939829a83a463a4dc81": {
          "model_module": "@jupyter-widgets/controls",
          "model_name": "DescriptionStyleModel",
          "model_module_version": "1.5.0",
          "state": {
            "_model_module": "@jupyter-widgets/controls",
            "_model_module_version": "1.5.0",
            "_model_name": "DescriptionStyleModel",
            "_view_count": null,
            "_view_module": "@jupyter-widgets/base",
            "_view_module_version": "1.2.0",
            "_view_name": "StyleView",
            "description_width": ""
          }
        },
        "3da752e081204c8abfc2d31e4f9a7c59": {
          "model_module": "@jupyter-widgets/base",
          "model_name": "LayoutModel",
          "model_module_version": "1.2.0",
          "state": {
            "_model_module": "@jupyter-widgets/base",
            "_model_module_version": "1.2.0",
            "_model_name": "LayoutModel",
            "_view_count": null,
            "_view_module": "@jupyter-widgets/base",
            "_view_module_version": "1.2.0",
            "_view_name": "LayoutView",
            "align_content": null,
            "align_items": null,
            "align_self": null,
            "border": null,
            "bottom": null,
            "display": null,
            "flex": null,
            "flex_flow": null,
            "grid_area": null,
            "grid_auto_columns": null,
            "grid_auto_flow": null,
            "grid_auto_rows": null,
            "grid_column": null,
            "grid_gap": null,
            "grid_row": null,
            "grid_template_areas": null,
            "grid_template_columns": null,
            "grid_template_rows": null,
            "height": null,
            "justify_content": null,
            "justify_items": null,
            "left": null,
            "margin": null,
            "max_height": null,
            "max_width": null,
            "min_height": null,
            "min_width": null,
            "object_fit": null,
            "object_position": null,
            "order": null,
            "overflow": null,
            "overflow_x": null,
            "overflow_y": null,
            "padding": null,
            "right": null,
            "top": null,
            "visibility": null,
            "width": null
          }
        },
        "9f9780e6389c4395adf5f04a767c683c": {
          "model_module": "@jupyter-widgets/controls",
          "model_name": "ProgressStyleModel",
          "model_module_version": "1.5.0",
          "state": {
            "_model_module": "@jupyter-widgets/controls",
            "_model_module_version": "1.5.0",
            "_model_name": "ProgressStyleModel",
            "_view_count": null,
            "_view_module": "@jupyter-widgets/base",
            "_view_module_version": "1.2.0",
            "_view_name": "StyleView",
            "bar_color": null,
            "description_width": ""
          }
        },
        "a30d1c67cc20417083d4b435ba5b8d6b": {
          "model_module": "@jupyter-widgets/base",
          "model_name": "LayoutModel",
          "model_module_version": "1.2.0",
          "state": {
            "_model_module": "@jupyter-widgets/base",
            "_model_module_version": "1.2.0",
            "_model_name": "LayoutModel",
            "_view_count": null,
            "_view_module": "@jupyter-widgets/base",
            "_view_module_version": "1.2.0",
            "_view_name": "LayoutView",
            "align_content": null,
            "align_items": null,
            "align_self": null,
            "border": null,
            "bottom": null,
            "display": null,
            "flex": null,
            "flex_flow": null,
            "grid_area": null,
            "grid_auto_columns": null,
            "grid_auto_flow": null,
            "grid_auto_rows": null,
            "grid_column": null,
            "grid_gap": null,
            "grid_row": null,
            "grid_template_areas": null,
            "grid_template_columns": null,
            "grid_template_rows": null,
            "height": null,
            "justify_content": null,
            "justify_items": null,
            "left": null,
            "margin": null,
            "max_height": null,
            "max_width": null,
            "min_height": null,
            "min_width": null,
            "object_fit": null,
            "object_position": null,
            "order": null,
            "overflow": null,
            "overflow_x": null,
            "overflow_y": null,
            "padding": null,
            "right": null,
            "top": null,
            "visibility": null,
            "width": null
          }
        },
        "2926a64e03574e3e9d2f5e1a98d403ed": {
          "model_module": "@jupyter-widgets/controls",
          "model_name": "DescriptionStyleModel",
          "model_module_version": "1.5.0",
          "state": {
            "_model_module": "@jupyter-widgets/controls",
            "_model_module_version": "1.5.0",
            "_model_name": "DescriptionStyleModel",
            "_view_count": null,
            "_view_module": "@jupyter-widgets/base",
            "_view_module_version": "1.2.0",
            "_view_name": "StyleView",
            "description_width": ""
          }
        },
        "4d33f6ed41cd49ad928f0b63bcaf2170": {
          "model_module": "@jupyter-widgets/controls",
          "model_name": "HBoxModel",
          "model_module_version": "1.5.0",
          "state": {
            "_dom_classes": [],
            "_model_module": "@jupyter-widgets/controls",
            "_model_module_version": "1.5.0",
            "_model_name": "HBoxModel",
            "_view_count": null,
            "_view_module": "@jupyter-widgets/controls",
            "_view_module_version": "1.5.0",
            "_view_name": "HBoxView",
            "box_style": "",
            "children": [
              "IPY_MODEL_bd1259c648434191a395676500927b52",
              "IPY_MODEL_f03ba00798604184a627d6c5ebeaa7ae",
              "IPY_MODEL_1b071d913631449e90e6b235a63e62fe"
            ],
            "layout": "IPY_MODEL_6604f832da0b4a5589d41d3d840ddf47"
          }
        },
        "bd1259c648434191a395676500927b52": {
          "model_module": "@jupyter-widgets/controls",
          "model_name": "HTMLModel",
          "model_module_version": "1.5.0",
          "state": {
            "_dom_classes": [],
            "_model_module": "@jupyter-widgets/controls",
            "_model_module_version": "1.5.0",
            "_model_name": "HTMLModel",
            "_view_count": null,
            "_view_module": "@jupyter-widgets/controls",
            "_view_module_version": "1.5.0",
            "_view_name": "HTMLView",
            "description": "",
            "description_tooltip": null,
            "layout": "IPY_MODEL_15ca773dd1504cb6ade83e24b39895bb",
            "placeholder": "​",
            "style": "IPY_MODEL_84e9948d45a546818c80fa13e475a204",
            "value": "diffusion_pytorch_model.safetensors: 100%"
          }
        },
        "f03ba00798604184a627d6c5ebeaa7ae": {
          "model_module": "@jupyter-widgets/controls",
          "model_name": "FloatProgressModel",
          "model_module_version": "1.5.0",
          "state": {
            "_dom_classes": [],
            "_model_module": "@jupyter-widgets/controls",
            "_model_module_version": "1.5.0",
            "_model_name": "FloatProgressModel",
            "_view_count": null,
            "_view_module": "@jupyter-widgets/controls",
            "_view_module_version": "1.5.0",
            "_view_name": "ProgressView",
            "bar_style": "success",
            "description": "",
            "description_tooltip": null,
            "layout": "IPY_MODEL_3880479582544cb4a914e9dcdcf896a9",
            "max": 3463726498,
            "min": 0,
            "orientation": "horizontal",
            "style": "IPY_MODEL_696a0deb5c5b4396bb54d52b8016efc5",
            "value": 3463726498
          }
        },
        "1b071d913631449e90e6b235a63e62fe": {
          "model_module": "@jupyter-widgets/controls",
          "model_name": "HTMLModel",
          "model_module_version": "1.5.0",
          "state": {
            "_dom_classes": [],
            "_model_module": "@jupyter-widgets/controls",
            "_model_module_version": "1.5.0",
            "_model_name": "HTMLModel",
            "_view_count": null,
            "_view_module": "@jupyter-widgets/controls",
            "_view_module_version": "1.5.0",
            "_view_name": "HTMLView",
            "description": "",
            "description_tooltip": null,
            "layout": "IPY_MODEL_74b04dcf22744e7eab110b2d7a9bc930",
            "placeholder": "​",
            "style": "IPY_MODEL_64d8f06431d647748d6569c3432b0098",
            "value": " 3.46G/3.46G [00:43&lt;00:00, 140MB/s]"
          }
        },
        "6604f832da0b4a5589d41d3d840ddf47": {
          "model_module": "@jupyter-widgets/base",
          "model_name": "LayoutModel",
          "model_module_version": "1.2.0",
          "state": {
            "_model_module": "@jupyter-widgets/base",
            "_model_module_version": "1.2.0",
            "_model_name": "LayoutModel",
            "_view_count": null,
            "_view_module": "@jupyter-widgets/base",
            "_view_module_version": "1.2.0",
            "_view_name": "LayoutView",
            "align_content": null,
            "align_items": null,
            "align_self": null,
            "border": null,
            "bottom": null,
            "display": null,
            "flex": null,
            "flex_flow": null,
            "grid_area": null,
            "grid_auto_columns": null,
            "grid_auto_flow": null,
            "grid_auto_rows": null,
            "grid_column": null,
            "grid_gap": null,
            "grid_row": null,
            "grid_template_areas": null,
            "grid_template_columns": null,
            "grid_template_rows": null,
            "height": null,
            "justify_content": null,
            "justify_items": null,
            "left": null,
            "margin": null,
            "max_height": null,
            "max_width": null,
            "min_height": null,
            "min_width": null,
            "object_fit": null,
            "object_position": null,
            "order": null,
            "overflow": null,
            "overflow_x": null,
            "overflow_y": null,
            "padding": null,
            "right": null,
            "top": null,
            "visibility": null,
            "width": null
          }
        },
        "15ca773dd1504cb6ade83e24b39895bb": {
          "model_module": "@jupyter-widgets/base",
          "model_name": "LayoutModel",
          "model_module_version": "1.2.0",
          "state": {
            "_model_module": "@jupyter-widgets/base",
            "_model_module_version": "1.2.0",
            "_model_name": "LayoutModel",
            "_view_count": null,
            "_view_module": "@jupyter-widgets/base",
            "_view_module_version": "1.2.0",
            "_view_name": "LayoutView",
            "align_content": null,
            "align_items": null,
            "align_self": null,
            "border": null,
            "bottom": null,
            "display": null,
            "flex": null,
            "flex_flow": null,
            "grid_area": null,
            "grid_auto_columns": null,
            "grid_auto_flow": null,
            "grid_auto_rows": null,
            "grid_column": null,
            "grid_gap": null,
            "grid_row": null,
            "grid_template_areas": null,
            "grid_template_columns": null,
            "grid_template_rows": null,
            "height": null,
            "justify_content": null,
            "justify_items": null,
            "left": null,
            "margin": null,
            "max_height": null,
            "max_width": null,
            "min_height": null,
            "min_width": null,
            "object_fit": null,
            "object_position": null,
            "order": null,
            "overflow": null,
            "overflow_x": null,
            "overflow_y": null,
            "padding": null,
            "right": null,
            "top": null,
            "visibility": null,
            "width": null
          }
        },
        "84e9948d45a546818c80fa13e475a204": {
          "model_module": "@jupyter-widgets/controls",
          "model_name": "DescriptionStyleModel",
          "model_module_version": "1.5.0",
          "state": {
            "_model_module": "@jupyter-widgets/controls",
            "_model_module_version": "1.5.0",
            "_model_name": "DescriptionStyleModel",
            "_view_count": null,
            "_view_module": "@jupyter-widgets/base",
            "_view_module_version": "1.2.0",
            "_view_name": "StyleView",
            "description_width": ""
          }
        },
        "3880479582544cb4a914e9dcdcf896a9": {
          "model_module": "@jupyter-widgets/base",
          "model_name": "LayoutModel",
          "model_module_version": "1.2.0",
          "state": {
            "_model_module": "@jupyter-widgets/base",
            "_model_module_version": "1.2.0",
            "_model_name": "LayoutModel",
            "_view_count": null,
            "_view_module": "@jupyter-widgets/base",
            "_view_module_version": "1.2.0",
            "_view_name": "LayoutView",
            "align_content": null,
            "align_items": null,
            "align_self": null,
            "border": null,
            "bottom": null,
            "display": null,
            "flex": null,
            "flex_flow": null,
            "grid_area": null,
            "grid_auto_columns": null,
            "grid_auto_flow": null,
            "grid_auto_rows": null,
            "grid_column": null,
            "grid_gap": null,
            "grid_row": null,
            "grid_template_areas": null,
            "grid_template_columns": null,
            "grid_template_rows": null,
            "height": null,
            "justify_content": null,
            "justify_items": null,
            "left": null,
            "margin": null,
            "max_height": null,
            "max_width": null,
            "min_height": null,
            "min_width": null,
            "object_fit": null,
            "object_position": null,
            "order": null,
            "overflow": null,
            "overflow_x": null,
            "overflow_y": null,
            "padding": null,
            "right": null,
            "top": null,
            "visibility": null,
            "width": null
          }
        },
        "696a0deb5c5b4396bb54d52b8016efc5": {
          "model_module": "@jupyter-widgets/controls",
          "model_name": "ProgressStyleModel",
          "model_module_version": "1.5.0",
          "state": {
            "_model_module": "@jupyter-widgets/controls",
            "_model_module_version": "1.5.0",
            "_model_name": "ProgressStyleModel",
            "_view_count": null,
            "_view_module": "@jupyter-widgets/base",
            "_view_module_version": "1.2.0",
            "_view_name": "StyleView",
            "bar_color": null,
            "description_width": ""
          }
        },
        "74b04dcf22744e7eab110b2d7a9bc930": {
          "model_module": "@jupyter-widgets/base",
          "model_name": "LayoutModel",
          "model_module_version": "1.2.0",
          "state": {
            "_model_module": "@jupyter-widgets/base",
            "_model_module_version": "1.2.0",
            "_model_name": "LayoutModel",
            "_view_count": null,
            "_view_module": "@jupyter-widgets/base",
            "_view_module_version": "1.2.0",
            "_view_name": "LayoutView",
            "align_content": null,
            "align_items": null,
            "align_self": null,
            "border": null,
            "bottom": null,
            "display": null,
            "flex": null,
            "flex_flow": null,
            "grid_area": null,
            "grid_auto_columns": null,
            "grid_auto_flow": null,
            "grid_auto_rows": null,
            "grid_column": null,
            "grid_gap": null,
            "grid_row": null,
            "grid_template_areas": null,
            "grid_template_columns": null,
            "grid_template_rows": null,
            "height": null,
            "justify_content": null,
            "justify_items": null,
            "left": null,
            "margin": null,
            "max_height": null,
            "max_width": null,
            "min_height": null,
            "min_width": null,
            "object_fit": null,
            "object_position": null,
            "order": null,
            "overflow": null,
            "overflow_x": null,
            "overflow_y": null,
            "padding": null,
            "right": null,
            "top": null,
            "visibility": null,
            "width": null
          }
        },
        "64d8f06431d647748d6569c3432b0098": {
          "model_module": "@jupyter-widgets/controls",
          "model_name": "DescriptionStyleModel",
          "model_module_version": "1.5.0",
          "state": {
            "_model_module": "@jupyter-widgets/controls",
            "_model_module_version": "1.5.0",
            "_model_name": "DescriptionStyleModel",
            "_view_count": null,
            "_view_module": "@jupyter-widgets/base",
            "_view_module_version": "1.2.0",
            "_view_name": "StyleView",
            "description_width": ""
          }
        },
        "403b84b9dcfc426f9e9d0316acecf6da": {
          "model_module": "@jupyter-widgets/controls",
          "model_name": "HBoxModel",
          "model_module_version": "1.5.0",
          "state": {
            "_dom_classes": [],
            "_model_module": "@jupyter-widgets/controls",
            "_model_module_version": "1.5.0",
            "_model_name": "HBoxModel",
            "_view_count": null,
            "_view_module": "@jupyter-widgets/controls",
            "_view_module_version": "1.5.0",
            "_view_name": "HBoxView",
            "box_style": "",
            "children": [
              "IPY_MODEL_123faad28a414a8cb5034d6bb3544413",
              "IPY_MODEL_729ed7c6f1e1419b986c09a643eecb5a",
              "IPY_MODEL_24d11a58ab404eb3ae1d93e48727f5f4"
            ],
            "layout": "IPY_MODEL_189bf32ae9ce4c38ac47a348dc90f869"
          }
        },
        "123faad28a414a8cb5034d6bb3544413": {
          "model_module": "@jupyter-widgets/controls",
          "model_name": "HTMLModel",
          "model_module_version": "1.5.0",
          "state": {
            "_dom_classes": [],
            "_model_module": "@jupyter-widgets/controls",
            "_model_module_version": "1.5.0",
            "_model_name": "HTMLModel",
            "_view_count": null,
            "_view_module": "@jupyter-widgets/controls",
            "_view_module_version": "1.5.0",
            "_view_name": "HTMLView",
            "description": "",
            "description_tooltip": null,
            "layout": "IPY_MODEL_a1e600f5674d4328b1290a689abf106f",
            "placeholder": "​",
            "style": "IPY_MODEL_62e2b815c37445cca3a5a6c8388a91d6",
            "value": "Loading pipeline components...: 100%"
          }
        },
        "729ed7c6f1e1419b986c09a643eecb5a": {
          "model_module": "@jupyter-widgets/controls",
          "model_name": "FloatProgressModel",
          "model_module_version": "1.5.0",
          "state": {
            "_dom_classes": [],
            "_model_module": "@jupyter-widgets/controls",
            "_model_module_version": "1.5.0",
            "_model_name": "FloatProgressModel",
            "_view_count": null,
            "_view_module": "@jupyter-widgets/controls",
            "_view_module_version": "1.5.0",
            "_view_name": "ProgressView",
            "bar_style": "success",
            "description": "",
            "description_tooltip": null,
            "layout": "IPY_MODEL_4de4280cb5bd4a889588fbe2995261ef",
            "max": 6,
            "min": 0,
            "orientation": "horizontal",
            "style": "IPY_MODEL_c5e0da96b815440a9dccfa786cff242d",
            "value": 6
          }
        },
        "24d11a58ab404eb3ae1d93e48727f5f4": {
          "model_module": "@jupyter-widgets/controls",
          "model_name": "HTMLModel",
          "model_module_version": "1.5.0",
          "state": {
            "_dom_classes": [],
            "_model_module": "@jupyter-widgets/controls",
            "_model_module_version": "1.5.0",
            "_model_name": "HTMLModel",
            "_view_count": null,
            "_view_module": "@jupyter-widgets/controls",
            "_view_module_version": "1.5.0",
            "_view_name": "HTMLView",
            "description": "",
            "description_tooltip": null,
            "layout": "IPY_MODEL_b71c174d548049b588379db6f8f1db7b",
            "placeholder": "​",
            "style": "IPY_MODEL_7f903f5e09134feba23005ec5c739573",
            "value": " 6/6 [00:01&lt;00:00,  3.02it/s]"
          }
        },
        "189bf32ae9ce4c38ac47a348dc90f869": {
          "model_module": "@jupyter-widgets/base",
          "model_name": "LayoutModel",
          "model_module_version": "1.2.0",
          "state": {
            "_model_module": "@jupyter-widgets/base",
            "_model_module_version": "1.2.0",
            "_model_name": "LayoutModel",
            "_view_count": null,
            "_view_module": "@jupyter-widgets/base",
            "_view_module_version": "1.2.0",
            "_view_name": "LayoutView",
            "align_content": null,
            "align_items": null,
            "align_self": null,
            "border": null,
            "bottom": null,
            "display": null,
            "flex": null,
            "flex_flow": null,
            "grid_area": null,
            "grid_auto_columns": null,
            "grid_auto_flow": null,
            "grid_auto_rows": null,
            "grid_column": null,
            "grid_gap": null,
            "grid_row": null,
            "grid_template_areas": null,
            "grid_template_columns": null,
            "grid_template_rows": null,
            "height": null,
            "justify_content": null,
            "justify_items": null,
            "left": null,
            "margin": null,
            "max_height": null,
            "max_width": null,
            "min_height": null,
            "min_width": null,
            "object_fit": null,
            "object_position": null,
            "order": null,
            "overflow": null,
            "overflow_x": null,
            "overflow_y": null,
            "padding": null,
            "right": null,
            "top": null,
            "visibility": null,
            "width": null
          }
        },
        "a1e600f5674d4328b1290a689abf106f": {
          "model_module": "@jupyter-widgets/base",
          "model_name": "LayoutModel",
          "model_module_version": "1.2.0",
          "state": {
            "_model_module": "@jupyter-widgets/base",
            "_model_module_version": "1.2.0",
            "_model_name": "LayoutModel",
            "_view_count": null,
            "_view_module": "@jupyter-widgets/base",
            "_view_module_version": "1.2.0",
            "_view_name": "LayoutView",
            "align_content": null,
            "align_items": null,
            "align_self": null,
            "border": null,
            "bottom": null,
            "display": null,
            "flex": null,
            "flex_flow": null,
            "grid_area": null,
            "grid_auto_columns": null,
            "grid_auto_flow": null,
            "grid_auto_rows": null,
            "grid_column": null,
            "grid_gap": null,
            "grid_row": null,
            "grid_template_areas": null,
            "grid_template_columns": null,
            "grid_template_rows": null,
            "height": null,
            "justify_content": null,
            "justify_items": null,
            "left": null,
            "margin": null,
            "max_height": null,
            "max_width": null,
            "min_height": null,
            "min_width": null,
            "object_fit": null,
            "object_position": null,
            "order": null,
            "overflow": null,
            "overflow_x": null,
            "overflow_y": null,
            "padding": null,
            "right": null,
            "top": null,
            "visibility": null,
            "width": null
          }
        },
        "62e2b815c37445cca3a5a6c8388a91d6": {
          "model_module": "@jupyter-widgets/controls",
          "model_name": "DescriptionStyleModel",
          "model_module_version": "1.5.0",
          "state": {
            "_model_module": "@jupyter-widgets/controls",
            "_model_module_version": "1.5.0",
            "_model_name": "DescriptionStyleModel",
            "_view_count": null,
            "_view_module": "@jupyter-widgets/base",
            "_view_module_version": "1.2.0",
            "_view_name": "StyleView",
            "description_width": ""
          }
        },
        "4de4280cb5bd4a889588fbe2995261ef": {
          "model_module": "@jupyter-widgets/base",
          "model_name": "LayoutModel",
          "model_module_version": "1.2.0",
          "state": {
            "_model_module": "@jupyter-widgets/base",
            "_model_module_version": "1.2.0",
            "_model_name": "LayoutModel",
            "_view_count": null,
            "_view_module": "@jupyter-widgets/base",
            "_view_module_version": "1.2.0",
            "_view_name": "LayoutView",
            "align_content": null,
            "align_items": null,
            "align_self": null,
            "border": null,
            "bottom": null,
            "display": null,
            "flex": null,
            "flex_flow": null,
            "grid_area": null,
            "grid_auto_columns": null,
            "grid_auto_flow": null,
            "grid_auto_rows": null,
            "grid_column": null,
            "grid_gap": null,
            "grid_row": null,
            "grid_template_areas": null,
            "grid_template_columns": null,
            "grid_template_rows": null,
            "height": null,
            "justify_content": null,
            "justify_items": null,
            "left": null,
            "margin": null,
            "max_height": null,
            "max_width": null,
            "min_height": null,
            "min_width": null,
            "object_fit": null,
            "object_position": null,
            "order": null,
            "overflow": null,
            "overflow_x": null,
            "overflow_y": null,
            "padding": null,
            "right": null,
            "top": null,
            "visibility": null,
            "width": null
          }
        },
        "c5e0da96b815440a9dccfa786cff242d": {
          "model_module": "@jupyter-widgets/controls",
          "model_name": "ProgressStyleModel",
          "model_module_version": "1.5.0",
          "state": {
            "_model_module": "@jupyter-widgets/controls",
            "_model_module_version": "1.5.0",
            "_model_name": "ProgressStyleModel",
            "_view_count": null,
            "_view_module": "@jupyter-widgets/base",
            "_view_module_version": "1.2.0",
            "_view_name": "StyleView",
            "bar_color": null,
            "description_width": ""
          }
        },
        "b71c174d548049b588379db6f8f1db7b": {
          "model_module": "@jupyter-widgets/base",
          "model_name": "LayoutModel",
          "model_module_version": "1.2.0",
          "state": {
            "_model_module": "@jupyter-widgets/base",
            "_model_module_version": "1.2.0",
            "_model_name": "LayoutModel",
            "_view_count": null,
            "_view_module": "@jupyter-widgets/base",
            "_view_module_version": "1.2.0",
            "_view_name": "LayoutView",
            "align_content": null,
            "align_items": null,
            "align_self": null,
            "border": null,
            "bottom": null,
            "display": null,
            "flex": null,
            "flex_flow": null,
            "grid_area": null,
            "grid_auto_columns": null,
            "grid_auto_flow": null,
            "grid_auto_rows": null,
            "grid_column": null,
            "grid_gap": null,
            "grid_row": null,
            "grid_template_areas": null,
            "grid_template_columns": null,
            "grid_template_rows": null,
            "height": null,
            "justify_content": null,
            "justify_items": null,
            "left": null,
            "margin": null,
            "max_height": null,
            "max_width": null,
            "min_height": null,
            "min_width": null,
            "object_fit": null,
            "object_position": null,
            "order": null,
            "overflow": null,
            "overflow_x": null,
            "overflow_y": null,
            "padding": null,
            "right": null,
            "top": null,
            "visibility": null,
            "width": null
          }
        },
        "7f903f5e09134feba23005ec5c739573": {
          "model_module": "@jupyter-widgets/controls",
          "model_name": "DescriptionStyleModel",
          "model_module_version": "1.5.0",
          "state": {
            "_model_module": "@jupyter-widgets/controls",
            "_model_module_version": "1.5.0",
            "_model_name": "DescriptionStyleModel",
            "_view_count": null,
            "_view_module": "@jupyter-widgets/base",
            "_view_module_version": "1.2.0",
            "_view_name": "StyleView",
            "description_width": ""
          }
        }
      }
    }
  },
  "nbformat": 4,
  "nbformat_minor": 0
}